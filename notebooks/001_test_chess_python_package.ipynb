{
 "cells": [
  {
   "cell_type": "code",
   "execution_count": 1,
   "id": "703c7f5e-a79f-4ed6-a26e-970aabc44070",
   "metadata": {},
   "outputs": [],
   "source": [
    "import chess"
   ]
  },
  {
   "cell_type": "code",
   "execution_count": 16,
   "id": "1f310ca3-d535-4f48-b21d-19dda508ce12",
   "metadata": {},
   "outputs": [
    {
     "data": {
      "text/plain": [
       "True"
      ]
     },
     "execution_count": 16,
     "metadata": {},
     "output_type": "execute_result"
    }
   ],
   "source": [
    "board = chess.Board()\n",
    "\n",
    "board.push_san(\"e4\")\n",
    "board.push_san(\"e5\")\n",
    "board.push_san(\"Qh5\")\n",
    "board.push_san(\"Nc6\")\n",
    "board.push_san(\"Bc4\")\n",
    "board.push_san(\"Nf6\")\n",
    "board.push_san(\"Qxf7\")\n",
    "\n",
    "board.is_checkmate()"
   ]
  },
  {
   "cell_type": "code",
   "execution_count": 17,
   "id": "61aa5e8e-fa79-4db9-8739-6e7e75656ef5",
   "metadata": {},
   "outputs": [
    {
     "data": {
      "text/plain": [
       "[Move.from_uci('e2e4'),\n",
       " Move.from_uci('e7e5'),\n",
       " Move.from_uci('d1h5'),\n",
       " Move.from_uci('b8c6'),\n",
       " Move.from_uci('f1c4'),\n",
       " Move.from_uci('g8f6'),\n",
       " Move.from_uci('h5f7')]"
      ]
     },
     "execution_count": 17,
     "metadata": {},
     "output_type": "execute_result"
    }
   ],
   "source": [
    "board.move_stack"
   ]
  },
  {
   "cell_type": "code",
   "execution_count": 7,
   "id": "90406164-fc72-4e8c-afcd-6729d6f14390",
   "metadata": {},
   "outputs": [],
   "source": [
    "fen_example = 'rnbqkbnr/pppppppp/8/8/8/8/PPPPPPPP/RNBQKBNR w KQkq - 0 1'"
   ]
  },
  {
   "cell_type": "code",
   "execution_count": 21,
   "id": "13eeb9de-b81b-4471-9be5-7ed16bee6747",
   "metadata": {},
   "outputs": [],
   "source": [
    "# chess.Board(fen_example)"
   ]
  },
  {
   "cell_type": "code",
   "execution_count": null,
   "id": "e33fee3e-bcef-4d36-b774-425fa6fa86df",
   "metadata": {},
   "outputs": [],
   "source": []
  }
 ],
 "metadata": {
  "kernelspec": {
   "display_name": "Python 3 (ipykernel)",
   "language": "python",
   "name": "python3"
  },
  "language_info": {
   "codemirror_mode": {
    "name": "ipython",
    "version": 3
   },
   "file_extension": ".py",
   "mimetype": "text/x-python",
   "name": "python",
   "nbconvert_exporter": "python",
   "pygments_lexer": "ipython3",
   "version": "3.8.12"
  }
 },
 "nbformat": 4,
 "nbformat_minor": 5
}

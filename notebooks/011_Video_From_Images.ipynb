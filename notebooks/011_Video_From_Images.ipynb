{
 "cells": [
  {
   "cell_type": "markdown",
   "id": "af346d8c-acb2-4eb6-b53f-9500e6fa8419",
   "metadata": {},
   "source": [
    "# Image Files -> MP4"
   ]
  },
  {
   "cell_type": "code",
   "execution_count": 1,
   "id": "dc8bb127-c60f-4405-8380-29e5d612e387",
   "metadata": {},
   "outputs": [],
   "source": [
    "import pandas as pd\n",
    "import os\n",
    "from glob import glob\n",
    "import cv2\n",
    "import subprocess\n",
    "from tqdm import tqdm\n",
    "import matplotlib.pylab as plt"
   ]
  },
  {
   "cell_type": "code",
   "execution_count": 2,
   "id": "506bcccb-72e4-4dc3-9ac1-4fabf5008fea",
   "metadata": {},
   "outputs": [],
   "source": [
    "mydir = '/home/robmulla/Repos/chessboard-vision/data/processed/u-6gXgzNM6s/irl'\n",
    "jpgs = glob(mydir + '/*.jpg')\n",
    "\n",
    "df = pd.DataFrame(jpgs, columns=['fn'])\n",
    "df['frame'] = df['fn'].str.split('/').str[-1].str.split('_').str[-1].str.strip('.jpg')\n",
    "df['frame'] = df['frame'].astype('int')\n",
    "df = df.sort_values('frame').reset_index(drop=True)\n",
    "fns = df['fn'].values.tolist()"
   ]
  },
  {
   "cell_type": "code",
   "execution_count": 3,
   "id": "6f6152e8-d557-42e1-b295-87b00255fb6e",
   "metadata": {},
   "outputs": [],
   "source": [
    "video_name = 'out.mp4'\n",
    "img = cv2.imread(fns[0])\n",
    "width = img.shape[1]\n",
    "height = img.shape[0]"
   ]
  },
  {
   "cell_type": "code",
   "execution_count": 4,
   "id": "8e69f1ed-cf0d-4356-9883-c419338bf31f",
   "metadata": {},
   "outputs": [
    {
     "name": "stderr",
     "output_type": "stream",
     "text": [
      "100%|███████████████████████████████████████████████████| 17063/17063 [00:51<00:00, 333.06it/s]\n",
      "ffmpeg version 4.2.4-1ubuntu0.1 Copyright (c) 2000-2020 the FFmpeg developers\n",
      "  built with gcc 9 (Ubuntu 9.3.0-10ubuntu2)\n",
      "  configuration: --prefix=/usr --extra-version=1ubuntu0.1 --toolchain=hardened --libdir=/usr/lib/x86_64-linux-gnu --incdir=/usr/include/x86_64-linux-gnu --arch=amd64 --enable-gpl --disable-stripping --enable-avresample --disable-filter=resample --enable-avisynth --enable-gnutls --enable-ladspa --enable-libaom --enable-libass --enable-libbluray --enable-libbs2b --enable-libcaca --enable-libcdio --enable-libcodec2 --enable-libflite --enable-libfontconfig --enable-libfreetype --enable-libfribidi --enable-libgme --enable-libgsm --enable-libjack --enable-libmp3lame --enable-libmysofa --enable-libopenjpeg --enable-libopenmpt --enable-libopus --enable-libpulse --enable-librsvg --enable-librubberband --enable-libshine --enable-libsnappy --enable-libsoxr --enable-libspeex --enable-libssh --enable-libtheora --enable-libtwolame --enable-libvidstab --enable-libvorbis --enable-libvpx --enable-libwavpack --enable-libwebp --enable-libx265 --enable-libxml2 --enable-libxvid --enable-libzmq --enable-libzvbi --enable-lv2 --enable-omx --enable-openal --enable-opencl --enable-opengl --enable-sdl2 --enable-libdc1394 --enable-libdrm --enable-libiec61883 --enable-nvenc --enable-chromaprint --enable-frei0r --enable-libx264 --enable-shared\n",
      "  libavutil      56. 31.100 / 56. 31.100\n",
      "  libavcodec     58. 54.100 / 58. 54.100\n",
      "  libavformat    58. 29.100 / 58. 29.100\n",
      "  libavdevice    58.  8.100 / 58.  8.100\n",
      "  libavfilter     7. 57.100 /  7. 57.100\n",
      "  libavresample   4.  0.  0 /  4.  0.  0\n",
      "  libswscale      5.  5.100 /  5.  5.100\n",
      "  libswresample   3.  5.100 /  3.  5.100\n",
      "  libpostproc    55.  5.100 / 55.  5.100\n",
      "Input #0, mov,mp4,m4a,3gp,3g2,mj2, from 'out.mp4':\n",
      "  Metadata:\n",
      "    major_brand     : isom\n",
      "    minor_version   : 512\n",
      "    compatible_brands: isomiso2mp41\n",
      "    encoder         : Lavf58.76.100\n",
      "  Duration: 00:09:28.77, start: 0.000000, bitrate: 1040 kb/s\n",
      "    Stream #0:0(und): Video: mpeg4 (Simple Profile) (mp4v / 0x7634706D), yuv420p, 580x298 [SAR 1:1 DAR 290:149], 1039 kb/s, 30 fps, 30 tbr, 15360 tbn, 30 tbc (default)\n",
      "    Metadata:\n",
      "      handler_name    : VideoHandler\n",
      "Stream mapping:\n",
      "  Stream #0:0 -> #0:0 (mpeg4 (native) -> h264 (libx264))\n",
      "Press [q] to stop, [?] for help\n",
      "[libx264 @ 0x56207d424b40] using SAR=1/1\n",
      "[libx264 @ 0x56207d424b40] using cpu capabilities: MMX2 SSE2Fast SSSE3 SSE4.2 AVX FMA3 BMI2 AVX2\n",
      "[libx264 @ 0x56207d424b40] profile High, level 3.0\n",
      "[libx264 @ 0x56207d424b40] 264 - core 155 r2917 0a84d98 - H.264/MPEG-4 AVC codec - Copyleft 2003-2018 - http://www.videolan.org/x264.html - options: cabac=1 ref=1 deblock=1:0:0 analyse=0x3:0x113 me=hex subme=2 psy=1 psy_rd=1.00:0.00 mixed_ref=0 me_range=16 chroma_me=1 trellis=0 8x8dct=1 cqm=0 deadzone=21,11 fast_pskip=1 chroma_qp_offset=0 threads=9 lookahead_threads=2 sliced_threads=0 nr=0 decimate=1 interlaced=0 bluray_compat=0 constrained_intra=0 bframes=3 b_pyramid=2 b_adapt=1 b_bias=0 direct=1 weightb=1 open_gop=0 weightp=1 keyint=250 keyint_min=25 scenecut=40 intra_refresh=0 rc_lookahead=10 rc=crf mbtree=1 crf=18.0 qcomp=0.60 qpmin=0 qpmax=69 qpstep=4 ip_ratio=1.40 aq=1:1.00\n",
      "Output #0, mp4, to 'compressed_out.mp4':\n",
      "  Metadata:\n",
      "    major_brand     : isom\n",
      "    minor_version   : 512\n",
      "    compatible_brands: isomiso2mp41\n",
      "    encoder         : Lavf58.29.100\n",
      "    Stream #0:0(und): Video: h264 (libx264) (avc1 / 0x31637661), yuv420p, 580x298 [SAR 1:1 DAR 290:149], q=-1--1, 30 fps, 15360 tbn, 30 tbc (default)\n",
      "    Metadata:\n",
      "      handler_name    : VideoHandler\n",
      "      encoder         : Lavc58.54.100 libx264\n",
      "    Side data:\n",
      "      cpb: bitrate max/min/avg: 0/0/0 buffer size: 0 vbv_delay: -1\n",
      "frame=17063 fps=1848 q=-1.0 Lsize=   29086kB time=00:09:28.66 bitrate= 419.0kbits/s speed=61.6x    \n",
      "video:28913kB audio:0kB subtitle:0kB other streams:0kB global headers:0kB muxing overhead: 0.597427%\n",
      "[libx264 @ 0x56207d424b40] frame I:69    Avg QP:16.77  size: 32066\n",
      "[libx264 @ 0x56207d424b40] frame P:8211  Avg QP:20.03  size:  3043\n",
      "[libx264 @ 0x56207d424b40] frame B:8783  Avg QP:23.46  size:   274\n",
      "[libx264 @ 0x56207d424b40] consecutive B-frames: 25.8% 13.8%  8.7% 51.7%\n",
      "[libx264 @ 0x56207d424b40] mb I  I16..4:  1.6%  7.5% 90.9%\n",
      "[libx264 @ 0x56207d424b40] mb P  I16..4:  0.4%  1.3%  0.7%  P16..4: 33.0%  6.0%  4.9%  0.0%  0.0%    skip:53.7%\n",
      "[libx264 @ 0x56207d424b40] mb B  I16..4:  0.1%  0.2%  0.0%  B16..8:  4.7%  1.2%  0.2%  direct: 1.6%  skip:92.0%  L0:38.6% L1:44.7% BI:16.7%\n",
      "[libx264 @ 0x56207d424b40] 8x8 transform intra:45.7% inter:53.1%\n",
      "[libx264 @ 0x56207d424b40] coded y,uvDC,uvAC intra: 78.9% 77.7% 38.8% inter: 10.8% 5.0% 0.4%\n",
      "[libx264 @ 0x56207d424b40] i16 v,h,dc,p: 18% 66% 12%  4%\n",
      "[libx264 @ 0x56207d424b40] i8 v,h,dc,ddl,ddr,vr,hd,vl,hu: 19% 31% 28%  3%  3%  3%  4%  3%  5%\n",
      "[libx264 @ 0x56207d424b40] i4 v,h,dc,ddl,ddr,vr,hd,vl,hu: 21% 32% 13%  5%  6%  6%  6%  6%  6%\n",
      "[libx264 @ 0x56207d424b40] i8c dc,h,v,p: 38% 35% 19%  8%\n",
      "[libx264 @ 0x56207d424b40] Weighted P-Frames: Y:0.5% UV:0.1%\n",
      "[libx264 @ 0x56207d424b40] kb/s:416.43\n"
     ]
    },
    {
     "data": {
      "text/plain": [
       "CompletedProcess(args=['ffmpeg', '-i', 'out.mp4', '-crf', '18', '-preset', 'veryfast', '-vcodec', 'libx264', 'compressed_out.mp4'], returncode=0)"
      ]
     },
     "execution_count": 4,
     "metadata": {},
     "output_type": "execute_result"
    }
   ],
   "source": [
    "fps = 30\n",
    "VIDEO_CODEC = \"mp4v\"\n",
    "video = cv2.VideoWriter(video_name, cv2.VideoWriter_fourcc(*VIDEO_CODEC), fps, (width, height))\n",
    "\n",
    "for fn in tqdm(fns):\n",
    "    video.write(cv2.imread(fn)) \n",
    "# Deallocating memories taken for window creation\n",
    "video_out = 'compressed_' + video_name\n",
    "video.release()  # releasing the video generated\n",
    "subprocess.run(\n",
    "    [\"ffmpeg\", \"-i\", video_name, \"-crf\", \"18\", \"-preset\", \"veryfast\", \"-vcodec\", \"libx264\", video_out]\n",
    ")\n"
   ]
  },
  {
   "cell_type": "code",
   "execution_count": null,
   "id": "0ef56fe3-1014-4d13-b837-482e1e9c536c",
   "metadata": {},
   "outputs": [],
   "source": []
  }
 ],
 "metadata": {
  "kernelspec": {
   "display_name": "Python 3 (ipykernel)",
   "language": "python",
   "name": "python3"
  },
  "language_info": {
   "codemirror_mode": {
    "name": "ipython",
    "version": 3
   },
   "file_extension": ".py",
   "mimetype": "text/x-python",
   "name": "python",
   "nbconvert_exporter": "python",
   "pygments_lexer": "ipython3",
   "version": "3.8.12"
  }
 },
 "nbformat": 4,
 "nbformat_minor": 5
}

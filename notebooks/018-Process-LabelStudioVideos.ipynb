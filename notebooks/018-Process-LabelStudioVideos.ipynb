{
 "cells": [
  {
   "cell_type": "markdown",
   "id": "8da544a3-1b90-4173-8ad1-ed2349c86a2e",
   "metadata": {},
   "source": [
    "# Process Videos with GT Board and IRL Board Labels\n",
    "1. Take in label studio labels.\n",
    "2. Run the processing script on these videos\n",
    "3. Check out the outputs and confirm."
   ]
  },
  {
   "cell_type": "code",
   "execution_count": 1,
   "id": "3fc0715d-af52-4696-b42f-c910150a979e",
   "metadata": {},
   "outputs": [],
   "source": [
    "import pandas as pd\n",
    "import numpy as np\n",
    "import matplotlib.pyplot as plt\n",
    "import json"
   ]
  },
  {
   "cell_type": "code",
   "execution_count": 2,
   "id": "051f845e-8448-4df5-b4e9-820a8fdc92fc",
   "metadata": {},
   "outputs": [],
   "source": [
    "%load_ext lab_black"
   ]
  },
  {
   "cell_type": "code",
   "execution_count": 3,
   "id": "16901cd0-9fa9-406e-b607-7a36bb367989",
   "metadata": {},
   "outputs": [],
   "source": [
    "def process_ls_labels(json_fn=\"result.json\"):\n",
    "    with open(json_fn) as f:\n",
    "        j = json.load(f)\n",
    "\n",
    "    annotations = pd.json_normalize(j[\"annotations\"])\n",
    "    imgs = pd.json_normalize(j[\"images\"])\n",
    "    results = annotations.merge(\n",
    "        imgs, left_on=[\"image_id\"], right_on=[\"id\"], how=\"left\", suffixes=(\"\", \"_image\")\n",
    "    )\n",
    "    cats = pd.json_normalize(j[\"categories\"])\n",
    "    results = results.merge(\n",
    "        cats,\n",
    "        left_on=[\"category_id\"],\n",
    "        right_on=[\"id\"],\n",
    "        how=\"left\",\n",
    "        suffixes=(\"\", \"_cat\"),\n",
    "    )\n",
    "    results[\"x\"] = results[\"bbox\"].str[0]\n",
    "    results[\"y\"] = results[\"bbox\"].str[1]\n",
    "    results[\"w\"] = results[\"bbox\"].str[2]\n",
    "    results[\"h\"] = results[\"bbox\"].str[3]\n",
    "    results[\"png\"] = results[\"file_name\"].str[-25:]\n",
    "    results[\"video_name\"] = results[\"file_name\"].str[-25:-14]\n",
    "    results = results.drop([0, 1]).reset_index(drop=True)\n",
    "    return results"
   ]
  },
  {
   "cell_type": "code",
   "execution_count": 4,
   "id": "f7b55e96-a92a-4695-b4e4-3f896468676d",
   "metadata": {},
   "outputs": [],
   "source": [
    "label = process_ls_labels()"
   ]
  },
  {
   "cell_type": "code",
   "execution_count": 5,
   "id": "96d31069-1f86-4ec9-8cec-f592f5a59ecd",
   "metadata": {},
   "outputs": [
    {
     "data": {
      "text/plain": [
       "6"
      ]
     },
     "execution_count": 5,
     "metadata": {},
     "output_type": "execute_result"
    }
   ],
   "source": [
    "label[\"video_name\"].nunique()"
   ]
  },
  {
   "cell_type": "markdown",
   "id": "f1c6ffd7-f644-4a9e-9d09-7f4cd7a2cf02",
   "metadata": {},
   "source": [
    "# Process These Videos using the labels"
   ]
  },
  {
   "cell_type": "code",
   "execution_count": 6,
   "id": "2a429417-99ee-46eb-9c64-d87a50ef8b76",
   "metadata": {},
   "outputs": [],
   "source": [
    "import sys\n",
    "\n",
    "sys.path.append(\"../src/\")\n",
    "from label_extract import VideoBoardExtractor"
   ]
  },
  {
   "cell_type": "code",
   "execution_count": 7,
   "id": "ee767696-bbca-41c7-9a01-89250dc1ee5d",
   "metadata": {},
   "outputs": [
    {
     "data": {
      "text/plain": [
       "Index(['id', 'image_id', 'category_id', 'segmentation', 'bbox', 'ignore',\n",
       "       'iscrowd', 'area', 'width', 'height', 'id_image', 'file_name', 'id_cat',\n",
       "       'name', 'x', 'y', 'w', 'h', 'png', 'video_name'],\n",
       "      dtype='object')"
      ]
     },
     "execution_count": 7,
     "metadata": {},
     "output_type": "execute_result"
    }
   ],
   "source": [
    "label.columns"
   ]
  },
  {
   "cell_type": "code",
   "execution_count": 9,
   "id": "71badc4f-a7ce-4c9d-9af6-6249838442d4",
   "metadata": {},
   "outputs": [
    {
     "name": "stderr",
     "output_type": "stream",
     "text": [
      "2022-06-02 23:50:44.416 | INFO     | label_extract:make_dirs:266 - Making storage directories\n",
      "2022-06-02 23:50:44.439 | INFO     | label_extract:__init__:130 - Created video extractor for ../data/CoffeeChess/-IIWWSnCuHA.mp4\n",
      "2022-06-02 23:50:44.440 | INFO     | label_extract:__init__:131 - IRL Board Location: [440, 880, 171, 963]\n",
      "2022-06-02 23:50:44.440 | INFO     | label_extract:__init__:132 - GT Board Location: [0, 431, 429, 852]\n",
      "2022-06-02 23:50:44.442 | INFO     | label_extract:load_videocap:135 - Loading video capture\n",
      "2022-06-02 23:50:44.466 | INFO     | label_extract:process_video:170 - Proccessing video capture\n"
     ]
    },
    {
     "name": "stdout",
     "output_type": "stream",
     "text": [
      "===== RUNNING FOR VIDEO -IIWWSnCuHA ===== \n",
      "\t Loading model '../tensorflow_chessbot/saved_models/frozen_graph.pb'\n",
      "\t Model restored.\n",
      "<VideoCapture 0x7f57381e7bb0>\n"
     ]
    },
    {
     "name": "stderr",
     "output_type": "stream",
     "text": [
      "  1%|          | 199/22732.0 [00:06<05:46, 65.07it/s]"
     ]
    },
    {
     "name": "stdout",
     "output_type": "stream",
     "text": [
      "Couldn't find chessboard in image\n",
      "Couldn't find chessboard in image\n",
      "Couldn't find chessboard in image\n",
      "Couldn't find chessboard in image\n",
      "Couldn't find chessboard in image\n",
      "Couldn't find chessboard in image\n",
      "Couldn't find chessboard in image\n",
      "Couldn't find chessboard in image\n",
      "Couldn't find chessboard in image\n",
      "Couldn't find chessboard in image\n",
      "Couldn't find chessboard in image\n",
      "Couldn't find chessboard in image\n",
      "Couldn't find chessboard in image\n",
      "Couldn't find chessboard in image\n",
      "Couldn't find chessboard in image\n",
      "Couldn't find chessboard in image\n",
      "Couldn't find chessboard in image\n",
      "Couldn't find chessboard in image\n",
      "Couldn't find chessboard in image\n",
      "Couldn't find chessboard in image\n",
      "Couldn't find chessboard in image\n",
      "Couldn't find chessboard in image\n",
      "Couldn't find chessboard in image\n",
      "Couldn't find chessboard in image\n"
     ]
    },
    {
     "name": "stderr",
     "output_type": "stream",
     "text": [
      "  1%|          | 225/22732.0 [00:06<04:03, 92.30it/s]"
     ]
    },
    {
     "name": "stdout",
     "output_type": "stream",
     "text": [
      "Couldn't find chessboard in image\n",
      "Couldn't find chessboard in image\n",
      "Couldn't find chessboard in image\n",
      "Couldn't find chessboard in image\n",
      "Couldn't find chessboard in image\n",
      "Couldn't find chessboard in image\n",
      "Couldn't find chessboard in image\n",
      "Couldn't find chessboard in image\n",
      "Couldn't find chessboard in image\n",
      "Couldn't find chessboard in image\n",
      "Couldn't find chessboard in image\n",
      "Couldn't find chessboard in image\n",
      "Couldn't find chessboard in image\n",
      "Couldn't find chessboard in image\n",
      "Couldn't find chessboard in image\n",
      "Couldn't find chessboard in image\n",
      "Couldn't find chessboard in image\n",
      "Couldn't find chessboard in image\n",
      "Couldn't find chessboard in image\n",
      "Couldn't find chessboard in image\n",
      "Couldn't find chessboard in image\n",
      "Couldn't find chessboard in image\n",
      "Couldn't find chessboard in image\n",
      "Couldn't find chessboard in image\n",
      "Couldn't find chessboard in image\n"
     ]
    },
    {
     "name": "stderr",
     "output_type": "stream",
     "text": [
      "  1%|          | 250/22732.0 [00:06<03:31, 106.08it/s]"
     ]
    },
    {
     "name": "stdout",
     "output_type": "stream",
     "text": [
      "Couldn't find chessboard in image\n",
      "Couldn't find chessboard in image\n",
      "Couldn't find chessboard in image\n",
      "Couldn't find chessboard in image\n",
      "Couldn't find chessboard in image\n",
      "Couldn't find chessboard in image\n",
      "Couldn't find chessboard in image\n",
      "Couldn't find chessboard in image\n",
      "Couldn't find chessboard in image\n",
      "Couldn't find chessboard in image\n",
      "Couldn't find chessboard in image\n",
      "Couldn't find chessboard in image\n",
      "Couldn't find chessboard in image\n",
      "Couldn't find chessboard in image\n",
      "Couldn't find chessboard in image\n",
      "Couldn't find chessboard in image\n",
      "Couldn't find chessboard in image\n",
      "Couldn't find chessboard in image\n",
      "Couldn't find chessboard in image\n",
      "Couldn't find chessboard in image\n",
      "Couldn't find chessboard in image\n",
      "Couldn't find chessboard in image\n",
      "Couldn't find chessboard in image\n",
      "Couldn't find chessboard in image\n",
      "Couldn't find chessboard in image\n"
     ]
    },
    {
     "name": "stderr",
     "output_type": "stream",
     "text": [
      "  1%|          | 274/22732.0 [00:06<03:20, 112.23it/s]"
     ]
    },
    {
     "name": "stdout",
     "output_type": "stream",
     "text": [
      "Couldn't find chessboard in image\n",
      "Couldn't find chessboard in image\n",
      "Couldn't find chessboard in image\n",
      "Couldn't find chessboard in image\n",
      "Couldn't find chessboard in image\n",
      "Couldn't find chessboard in image\n",
      "Couldn't find chessboard in image\n",
      "Couldn't find chessboard in image\n",
      "Couldn't find chessboard in image\n",
      "Couldn't find chessboard in image\n",
      "Couldn't find chessboard in image\n",
      "Couldn't find chessboard in image\n",
      "Couldn't find chessboard in image\n",
      "Couldn't find chessboard in image\n",
      "Couldn't find chessboard in image\n",
      "Couldn't find chessboard in image\n",
      "Couldn't find chessboard in image\n",
      "Couldn't find chessboard in image\n",
      "Couldn't find chessboard in image\n",
      "Couldn't find chessboard in image\n",
      "Couldn't find chessboard in image\n",
      "Couldn't find chessboard in image\n",
      "Couldn't find chessboard in image\n",
      "Couldn't find chessboard in image\n"
     ]
    },
    {
     "name": "stderr",
     "output_type": "stream",
     "text": [
      "  1%|▏         | 300/22732.0 [00:07<03:08, 118.91it/s]"
     ]
    },
    {
     "name": "stdout",
     "output_type": "stream",
     "text": [
      "Couldn't find chessboard in image\n",
      "Couldn't find chessboard in image\n",
      "Couldn't find chessboard in image\n",
      "Couldn't find chessboard in image\n",
      "Couldn't find chessboard in image\n",
      "Couldn't find chessboard in image\n",
      "Couldn't find chessboard in image\n",
      "Couldn't find chessboard in image\n",
      "Couldn't find chessboard in image\n",
      "Couldn't find chessboard in image\n",
      "Couldn't find chessboard in image\n",
      "Couldn't find chessboard in image\n",
      "Couldn't find chessboard in image\n",
      "Couldn't find chessboard in image\n",
      "Couldn't find chessboard in image\n",
      "Couldn't find chessboard in image\n",
      "Couldn't find chessboard in image\n",
      "Couldn't find chessboard in image\n",
      "Couldn't find chessboard in image\n",
      "Couldn't find chessboard in image\n",
      "Couldn't find chessboard in image\n",
      "Couldn't find chessboard in image\n",
      "Couldn't find chessboard in image\n",
      "Couldn't find chessboard in image\n",
      "Couldn't find chessboard in image\n"
     ]
    },
    {
     "name": "stderr",
     "output_type": "stream",
     "text": [
      "  1%|▏         | 326/22732.0 [00:07<03:03, 122.08it/s]"
     ]
    },
    {
     "name": "stdout",
     "output_type": "stream",
     "text": [
      "Couldn't find chessboard in image\n",
      "Couldn't find chessboard in image\n",
      "Couldn't find chessboard in image\n",
      "Couldn't find chessboard in image\n",
      "Couldn't find chessboard in image\n",
      "Couldn't find chessboard in image\n",
      "Couldn't find chessboard in image\n",
      "Couldn't find chessboard in image\n",
      "Couldn't find chessboard in image\n",
      "Couldn't find chessboard in image\n",
      "Couldn't find chessboard in image\n",
      "Couldn't find chessboard in image\n",
      "Couldn't find chessboard in image\n",
      "Couldn't find chessboard in image\n",
      "Couldn't find chessboard in image\n",
      "Couldn't find chessboard in image\n",
      "Couldn't find chessboard in image\n",
      "Couldn't find chessboard in image\n",
      "Couldn't find chessboard in image\n",
      "Couldn't find chessboard in image\n",
      "Couldn't find chessboard in image\n",
      "Couldn't find chessboard in image\n",
      "Couldn't find chessboard in image\n",
      "Couldn't find chessboard in image\n",
      "Couldn't find chessboard in image\n",
      "Couldn't find chessboard in image\n"
     ]
    },
    {
     "name": "stderr",
     "output_type": "stream",
     "text": [
      "  2%|▏         | 354/22732.0 [00:07<02:52, 129.36it/s]"
     ]
    },
    {
     "name": "stdout",
     "output_type": "stream",
     "text": [
      "Couldn't find chessboard in image\n",
      "Couldn't find chessboard in image\n",
      "Couldn't find chessboard in image\n",
      "Couldn't find chessboard in image\n",
      "Couldn't find chessboard in image\n",
      "Couldn't find chessboard in image\n",
      "Couldn't find chessboard in image\n",
      "Couldn't find chessboard in image\n",
      "Couldn't find chessboard in image\n",
      "Couldn't find chessboard in image\n",
      "Couldn't find chessboard in image\n",
      "Couldn't find chessboard in image\n",
      "Couldn't find chessboard in image\n",
      "Couldn't find chessboard in image\n",
      "Couldn't find chessboard in image\n",
      "Couldn't find chessboard in image\n",
      "Couldn't find chessboard in image\n",
      "Couldn't find chessboard in image\n",
      "Couldn't find chessboard in image\n",
      "Couldn't find chessboard in image\n",
      "Couldn't find chessboard in image\n",
      "Couldn't find chessboard in image\n",
      "Couldn't find chessboard in image\n",
      "Couldn't find chessboard in image\n",
      "Couldn't find chessboard in image\n",
      "Couldn't find chessboard in image\n",
      "Couldn't find chessboard in image\n",
      "Couldn't find chessboard in image\n"
     ]
    },
    {
     "name": "stderr",
     "output_type": "stream",
     "text": [
      "  2%|▏         | 387/22732.0 [00:07<02:35, 143.88it/s]"
     ]
    },
    {
     "name": "stdout",
     "output_type": "stream",
     "text": [
      "Couldn't find chessboard in image\n",
      "Couldn't find chessboard in image\n",
      "Couldn't find chessboard in image\n",
      "Couldn't find chessboard in image\n",
      "Couldn't find chessboard in image\n",
      "Couldn't find chessboard in image\n",
      "Couldn't find chessboard in image\n",
      "Couldn't find chessboard in image\n",
      "Couldn't find chessboard in image\n",
      "Couldn't find chessboard in image\n",
      "Couldn't find chessboard in image\n",
      "Couldn't find chessboard in image\n",
      "Couldn't find chessboard in image\n",
      "Couldn't find chessboard in image\n",
      "Couldn't find chessboard in image\n",
      "Couldn't find chessboard in image\n",
      "Couldn't find chessboard in image\n",
      "Couldn't find chessboard in image\n",
      "Couldn't find chessboard in image\n",
      "Couldn't find chessboard in image\n",
      "Couldn't find chessboard in image\n",
      "Couldn't find chessboard in image\n",
      "Couldn't find chessboard in image\n",
      "Couldn't find chessboard in image\n",
      "Couldn't find chessboard in image\n",
      "Couldn't find chessboard in image\n",
      "Couldn't find chessboard in image\n",
      "Couldn't find chessboard in image\n",
      "Couldn't find chessboard in image\n",
      "Couldn't find chessboard in image\n",
      "Couldn't find chessboard in image\n",
      "Couldn't find chessboard in image\n"
     ]
    },
    {
     "name": "stderr",
     "output_type": "stream",
     "text": [
      "  2%|▏         | 402/22732.0 [00:07<02:34, 144.84it/s]"
     ]
    },
    {
     "name": "stdout",
     "output_type": "stream",
     "text": [
      "Couldn't find chessboard in image\n",
      "Couldn't find chessboard in image\n",
      "Couldn't find chessboard in image\n",
      "Couldn't find chessboard in image\n",
      "Couldn't find chessboard in image\n",
      "Couldn't find chessboard in image\n",
      "Couldn't find chessboard in image\n",
      "Couldn't find chessboard in image\n",
      "Couldn't find chessboard in image\n",
      "Couldn't find chessboard in image\n",
      "Couldn't find chessboard in image\n",
      "Couldn't find chessboard in image\n",
      "Couldn't find chessboard in image\n",
      "Couldn't find chessboard in image\n",
      "Couldn't find chessboard in image\n",
      "Couldn't find chessboard in image\n",
      "Couldn't find chessboard in image\n",
      "Couldn't find chessboard in image\n",
      "Couldn't find chessboard in image\n",
      "Couldn't find chessboard in image\n",
      "Couldn't find chessboard in image\n",
      "Couldn't find chessboard in image\n",
      "Couldn't find chessboard in image\n",
      "Couldn't find chessboard in image\n",
      "Couldn't find chessboard in image\n",
      "Couldn't find chessboard in image\n",
      "Couldn't find chessboard in image\n",
      "Couldn't find chessboard in image\n",
      "Couldn't find chessboard in image\n"
     ]
    },
    {
     "name": "stderr",
     "output_type": "stream",
     "text": [
      "  2%|▏         | 432/22732.0 [00:08<02:39, 139.51it/s]"
     ]
    },
    {
     "name": "stdout",
     "output_type": "stream",
     "text": [
      "Couldn't find chessboard in image\n",
      "Couldn't find chessboard in image\n",
      "Couldn't find chessboard in image\n",
      "Couldn't find chessboard in image\n",
      "Couldn't find chessboard in image\n",
      "Couldn't find chessboard in image\n",
      "Couldn't find chessboard in image\n",
      "Couldn't find chessboard in image\n",
      "Couldn't find chessboard in image\n",
      "Couldn't find chessboard in image\n",
      "Couldn't find chessboard in image\n",
      "Couldn't find chessboard in image\n",
      "Couldn't find chessboard in image\n",
      "Couldn't find chessboard in image\n",
      "Couldn't find chessboard in image\n",
      "Couldn't find chessboard in image\n",
      "Couldn't find chessboard in image\n",
      "Couldn't find chessboard in image\n",
      "Couldn't find chessboard in image\n",
      "Couldn't find chessboard in image\n",
      "Couldn't find chessboard in image\n",
      "Couldn't find chessboard in image\n",
      "Couldn't find chessboard in image\n",
      "Couldn't find chessboard in image\n",
      "Couldn't find chessboard in image\n",
      "Couldn't find chessboard in image\n",
      "Couldn't find chessboard in image\n"
     ]
    },
    {
     "name": "stderr",
     "output_type": "stream",
     "text": [
      "  2%|▏         | 460/22732.0 [00:08<02:46, 133.73it/s]"
     ]
    },
    {
     "name": "stdout",
     "output_type": "stream",
     "text": [
      "Couldn't find chessboard in image\n",
      "Couldn't find chessboard in image\n",
      "Couldn't find chessboard in image\n",
      "Couldn't find chessboard in image\n",
      "Couldn't find chessboard in image\n",
      "Couldn't find chessboard in image\n",
      "Couldn't find chessboard in image\n",
      "Couldn't find chessboard in image\n",
      "Couldn't find chessboard in image\n",
      "Couldn't find chessboard in image\n",
      "Couldn't find chessboard in image\n",
      "Couldn't find chessboard in image\n",
      "Couldn't find chessboard in image\n",
      "Couldn't find chessboard in image\n",
      "Couldn't find chessboard in image\n",
      "Couldn't find chessboard in image\n",
      "Couldn't find chessboard in image\n",
      "Couldn't find chessboard in image\n",
      "Couldn't find chessboard in image\n",
      "Couldn't find chessboard in image\n",
      "Couldn't find chessboard in image\n",
      "Couldn't find chessboard in image\n",
      "Couldn't find chessboard in image\n",
      "Couldn't find chessboard in image\n",
      "Couldn't find chessboard in image\n",
      "Couldn't find chessboard in image\n"
     ]
    },
    {
     "name": "stderr",
     "output_type": "stream",
     "text": [
      "  2%|▏         | 488/22732.0 [00:08<02:51, 129.55it/s]"
     ]
    },
    {
     "name": "stdout",
     "output_type": "stream",
     "text": [
      "Couldn't find chessboard in image\n",
      "Couldn't find chessboard in image\n",
      "Couldn't find chessboard in image\n",
      "Couldn't find chessboard in image\n",
      "Couldn't find chessboard in image\n",
      "Couldn't find chessboard in image\n",
      "Couldn't find chessboard in image\n",
      "Couldn't find chessboard in image\n",
      "Couldn't find chessboard in image\n",
      "Couldn't find chessboard in image\n",
      "Couldn't find chessboard in image\n",
      "Couldn't find chessboard in image\n",
      "Couldn't find chessboard in image\n",
      "Couldn't find chessboard in image\n",
      "Couldn't find chessboard in image\n",
      "Couldn't find chessboard in image\n",
      "Couldn't find chessboard in image\n",
      "Couldn't find chessboard in image\n",
      "Couldn't find chessboard in image\n",
      "Couldn't find chessboard in image\n",
      "Couldn't find chessboard in image\n",
      "Couldn't find chessboard in image\n",
      "Couldn't find chessboard in image\n",
      "Couldn't find chessboard in image\n",
      "Couldn't find chessboard in image\n",
      "Couldn't find chessboard in image\n"
     ]
    },
    {
     "name": "stderr",
     "output_type": "stream",
     "text": [
      "  2%|▏         | 516/22732.0 [00:08<02:48, 131.80it/s]"
     ]
    },
    {
     "name": "stdout",
     "output_type": "stream",
     "text": [
      "Couldn't find chessboard in image\n",
      "Couldn't find chessboard in image\n",
      "Couldn't find chessboard in image\n",
      "Couldn't find chessboard in image\n",
      "Couldn't find chessboard in image\n",
      "Couldn't find chessboard in image\n",
      "Couldn't find chessboard in image\n",
      "Couldn't find chessboard in image\n",
      "Couldn't find chessboard in image\n",
      "Couldn't find chessboard in image\n",
      "Couldn't find chessboard in image\n",
      "Couldn't find chessboard in image\n",
      "Couldn't find chessboard in image\n",
      "Couldn't find chessboard in image\n",
      "Couldn't find chessboard in image\n",
      "Couldn't find chessboard in image\n",
      "Couldn't find chessboard in image\n",
      "Couldn't find chessboard in image\n",
      "Couldn't find chessboard in image\n",
      "Couldn't find chessboard in image\n",
      "Couldn't find chessboard in image\n",
      "Couldn't find chessboard in image\n",
      "Couldn't find chessboard in image\n",
      "Couldn't find chessboard in image\n",
      "Couldn't find chessboard in image\n",
      "Couldn't find chessboard in image\n",
      "Couldn't find chessboard in image\n"
     ]
    },
    {
     "name": "stderr",
     "output_type": "stream",
     "text": [
      "  2%|▏         | 544/22732.0 [00:08<02:50, 130.45it/s]"
     ]
    },
    {
     "name": "stdout",
     "output_type": "stream",
     "text": [
      "Couldn't find chessboard in image\n",
      "Couldn't find chessboard in image\n",
      "Couldn't find chessboard in image\n",
      "Couldn't find chessboard in image\n",
      "Couldn't find chessboard in image\n",
      "Couldn't find chessboard in image\n",
      "Couldn't find chessboard in image\n",
      "Couldn't find chessboard in image\n",
      "Couldn't find chessboard in image\n",
      "Couldn't find chessboard in image\n",
      "Couldn't find chessboard in image\n",
      "Couldn't find chessboard in image\n",
      "Couldn't find chessboard in image\n",
      "Couldn't find chessboard in image\n",
      "Couldn't find chessboard in image\n",
      "Couldn't find chessboard in image\n",
      "Couldn't find chessboard in image\n",
      "Couldn't find chessboard in image\n",
      "Couldn't find chessboard in image\n",
      "Couldn't find chessboard in image\n",
      "Couldn't find chessboard in image\n",
      "Couldn't find chessboard in image\n",
      "Couldn't find chessboard in image\n",
      "Couldn't find chessboard in image\n",
      "Couldn't find chessboard in image\n",
      "Couldn't find chessboard in image\n"
     ]
    },
    {
     "name": "stderr",
     "output_type": "stream",
     "text": [
      "  3%|▎         | 572/22732.0 [00:09<02:48, 131.32it/s]"
     ]
    },
    {
     "name": "stdout",
     "output_type": "stream",
     "text": [
      "Couldn't find chessboard in image\n",
      "Couldn't find chessboard in image\n",
      "Couldn't find chessboard in image\n",
      "Couldn't find chessboard in image\n",
      "Couldn't find chessboard in image\n",
      "Couldn't find chessboard in image\n",
      "Couldn't find chessboard in image\n",
      "Couldn't find chessboard in image\n",
      "Couldn't find chessboard in image\n",
      "Couldn't find chessboard in image\n",
      "Couldn't find chessboard in image\n",
      "Couldn't find chessboard in image\n",
      "Couldn't find chessboard in image\n",
      "Couldn't find chessboard in image\n",
      "Couldn't find chessboard in image\n",
      "Couldn't find chessboard in image\n",
      "Couldn't find chessboard in image\n",
      "Couldn't find chessboard in image\n",
      "Couldn't find chessboard in image\n",
      "Couldn't find chessboard in image\n",
      "Couldn't find chessboard in image\n",
      "Couldn't find chessboard in image\n",
      "Couldn't find chessboard in image\n",
      "Couldn't find chessboard in image\n",
      "Couldn't find chessboard in image\n",
      "Couldn't find chessboard in image\n",
      "Couldn't find chessboard in image\n"
     ]
    },
    {
     "name": "stderr",
     "output_type": "stream",
     "text": [
      "  3%|▎         | 600/22732.0 [00:09<02:51, 128.89it/s]"
     ]
    },
    {
     "name": "stdout",
     "output_type": "stream",
     "text": [
      "Couldn't find chessboard in image\n",
      "Couldn't find chessboard in image\n",
      "Couldn't find chessboard in image\n",
      "Couldn't find chessboard in image\n",
      "Couldn't find chessboard in image\n",
      "Couldn't find chessboard in image\n",
      "Couldn't find chessboard in image\n",
      "Couldn't find chessboard in image\n",
      "Couldn't find chessboard in image\n",
      "Couldn't find chessboard in image\n",
      "Couldn't find chessboard in image\n",
      "Couldn't find chessboard in image\n",
      "Couldn't find chessboard in image\n",
      "Couldn't find chessboard in image\n",
      "Couldn't find chessboard in image\n",
      "Couldn't find chessboard in image\n",
      "Couldn't find chessboard in image\n",
      "Couldn't find chessboard in image\n",
      "Couldn't find chessboard in image\n",
      "Couldn't find chessboard in image\n",
      "Couldn't find chessboard in image\n",
      "Couldn't find chessboard in image\n",
      "Couldn't find chessboard in image\n",
      "Couldn't find chessboard in image\n",
      "Couldn't find chessboard in image\n",
      "Couldn't find chessboard in image\n"
     ]
    },
    {
     "name": "stderr",
     "output_type": "stream",
     "text": [
      "  3%|▎         | 628/22732.0 [00:09<02:46, 132.60it/s]"
     ]
    },
    {
     "name": "stdout",
     "output_type": "stream",
     "text": [
      "Couldn't find chessboard in image\n",
      "Couldn't find chessboard in image\n",
      "Couldn't find chessboard in image\n",
      "Couldn't find chessboard in image\n",
      "Couldn't find chessboard in image\n",
      "Couldn't find chessboard in image\n",
      "Couldn't find chessboard in image\n",
      "Couldn't find chessboard in image\n",
      "Couldn't find chessboard in image\n",
      "Couldn't find chessboard in image\n",
      "Couldn't find chessboard in image\n",
      "Couldn't find chessboard in image\n",
      "Couldn't find chessboard in image\n",
      "Couldn't find chessboard in image\n",
      "Couldn't find chessboard in image\n",
      "Couldn't find chessboard in image\n",
      "Couldn't find chessboard in image\n",
      "Couldn't find chessboard in image\n",
      "Couldn't find chessboard in image\n",
      "Couldn't find chessboard in image\n",
      "Couldn't find chessboard in image\n",
      "Couldn't find chessboard in image\n",
      "Couldn't find chessboard in image\n",
      "Couldn't find chessboard in image\n",
      "Couldn't find chessboard in image\n",
      "Couldn't find chessboard in image\n",
      "Couldn't find chessboard in image\n",
      "Couldn't find chessboard in image\n",
      "Couldn't find chessboard in image\n",
      "Couldn't find chessboard in image\n",
      "Couldn't find chessboard in image\n",
      "Couldn't find chessboard in image\n",
      "Couldn't find chessboard in image\n",
      "Couldn't find chessboard in image\n",
      "Couldn't find chessboard in image\n",
      "Couldn't find chessboard in image\n"
     ]
    },
    {
     "name": "stderr",
     "output_type": "stream",
     "text": [
      " 71%|███████   | 16076/22732.0 [13:47<02:56, 37.74it/s]"
     ]
    },
    {
     "name": "stdout",
     "output_type": "stream",
     "text": [
      "Couldn't find chessboard in image\n",
      "Couldn't find chessboard in image\n",
      "Couldn't find chessboard in image\n",
      "Couldn't find chessboard in image\n",
      "Couldn't find chessboard in image\n",
      "Couldn't find chessboard in image\n",
      "Couldn't find chessboard in image\n",
      "Couldn't find chessboard in image\n",
      "Couldn't find chessboard in image\n",
      "Couldn't find chessboard in image\n",
      "Couldn't find chessboard in image\n",
      "Couldn't find chessboard in image\n",
      "Couldn't find chessboard in image\n",
      "Couldn't find chessboard in image\n"
     ]
    },
    {
     "name": "stderr",
     "output_type": "stream",
     "text": [
      " 71%|███████   | 16090/22732.0 [13:47<02:08, 51.69it/s]"
     ]
    },
    {
     "name": "stdout",
     "output_type": "stream",
     "text": [
      "Couldn't find chessboard in image\n",
      "Couldn't find chessboard in image\n",
      "Couldn't find chessboard in image\n",
      "Couldn't find chessboard in image\n",
      "Couldn't find chessboard in image\n",
      "Couldn't find chessboard in image\n",
      "Couldn't find chessboard in image\n",
      "Couldn't find chessboard in image\n",
      "Couldn't find chessboard in image\n",
      "Couldn't find chessboard in image\n",
      "Couldn't find chessboard in image\n",
      "Couldn't find chessboard in image\n",
      "Couldn't find chessboard in image\n",
      "Couldn't find chessboard in image\n"
     ]
    },
    {
     "name": "stderr",
     "output_type": "stream",
     "text": [
      " 71%|███████   | 16104/22732.0 [13:47<01:52, 58.93it/s]"
     ]
    },
    {
     "name": "stdout",
     "output_type": "stream",
     "text": [
      "Couldn't find chessboard in image\n",
      "Couldn't find chessboard in image\n",
      "Couldn't find chessboard in image\n",
      "Couldn't find chessboard in image\n",
      "Couldn't find chessboard in image\n",
      "Couldn't find chessboard in image\n",
      "Couldn't find chessboard in image\n",
      "Couldn't find chessboard in image\n",
      "Couldn't find chessboard in image\n",
      "Couldn't find chessboard in image\n",
      "Couldn't find chessboard in image\n",
      "Couldn't find chessboard in image\n",
      "Couldn't find chessboard in image\n",
      "Couldn't find chessboard in image\n"
     ]
    },
    {
     "name": "stderr",
     "output_type": "stream",
     "text": [
      " 71%|███████   | 16118/22732.0 [13:47<01:46, 62.40it/s]"
     ]
    },
    {
     "name": "stdout",
     "output_type": "stream",
     "text": [
      "Couldn't find chessboard in image\n",
      "Couldn't find chessboard in image\n",
      "Couldn't find chessboard in image\n",
      "Couldn't find chessboard in image\n",
      "Couldn't find chessboard in image\n",
      "Couldn't find chessboard in image\n",
      "Couldn't find chessboard in image\n",
      "Couldn't find chessboard in image\n",
      "Couldn't find chessboard in image\n",
      "Couldn't find chessboard in image\n",
      "Couldn't find chessboard in image\n",
      "Couldn't find chessboard in image\n",
      "Couldn't find chessboard in image\n",
      "Couldn't find chessboard in image\n"
     ]
    },
    {
     "name": "stderr",
     "output_type": "stream",
     "text": [
      " 71%|███████   | 16132/22732.0 [13:48<01:41, 64.96it/s]"
     ]
    },
    {
     "name": "stdout",
     "output_type": "stream",
     "text": [
      "Couldn't find chessboard in image\n",
      "Couldn't find chessboard in image\n",
      "Couldn't find chessboard in image\n",
      "Couldn't find chessboard in image\n",
      "Couldn't find chessboard in image\n",
      "Couldn't find chessboard in image\n",
      "Couldn't find chessboard in image\n",
      "Couldn't find chessboard in image\n",
      "Couldn't find chessboard in image\n",
      "Couldn't find chessboard in image\n",
      "Couldn't find chessboard in image\n",
      "Couldn't find chessboard in image\n",
      "Couldn't find chessboard in image\n",
      "Couldn't find chessboard in image\n"
     ]
    },
    {
     "name": "stderr",
     "output_type": "stream",
     "text": [
      " 71%|███████   | 16139/22732.0 [13:48<01:39, 66.08it/s]"
     ]
    },
    {
     "name": "stdout",
     "output_type": "stream",
     "text": [
      "Couldn't find chessboard in image\n",
      "Couldn't find chessboard in image\n",
      "Couldn't find chessboard in image\n",
      "Couldn't find chessboard in image\n",
      "Couldn't find chessboard in image\n",
      "Couldn't find chessboard in image\n",
      "Couldn't find chessboard in image\n",
      "Couldn't find chessboard in image\n",
      "Couldn't find chessboard in image\n",
      "Couldn't find chessboard in image\n",
      "Couldn't find chessboard in image\n",
      "Couldn't find chessboard in image\n",
      "Couldn't find chessboard in image\n",
      "Couldn't find chessboard in image\n",
      "Couldn't find chessboard in image\n"
     ]
    },
    {
     "name": "stderr",
     "output_type": "stream",
     "text": [
      " 71%|███████   | 16155/22732.0 [13:48<01:36, 68.33it/s]"
     ]
    },
    {
     "name": "stdout",
     "output_type": "stream",
     "text": [
      "Couldn't find chessboard in image\n",
      "Couldn't find chessboard in image\n",
      "Couldn't find chessboard in image\n",
      "Couldn't find chessboard in image\n",
      "Couldn't find chessboard in image\n",
      "Couldn't find chessboard in image\n",
      "Couldn't find chessboard in image\n",
      "Couldn't find chessboard in image\n",
      "Couldn't find chessboard in image\n",
      "Couldn't find chessboard in image\n",
      "Couldn't find chessboard in image\n",
      "Couldn't find chessboard in image\n",
      "Couldn't find chessboard in image\n",
      "Couldn't find chessboard in image\n",
      "Couldn't find chessboard in image\n"
     ]
    },
    {
     "name": "stderr",
     "output_type": "stream",
     "text": [
      " 71%|███████   | 16171/22732.0 [13:48<01:34, 69.66it/s]"
     ]
    },
    {
     "name": "stdout",
     "output_type": "stream",
     "text": [
      "Couldn't find chessboard in image\n",
      "Couldn't find chessboard in image\n",
      "Couldn't find chessboard in image\n",
      "Couldn't find chessboard in image\n",
      "Couldn't find chessboard in image\n",
      "Couldn't find chessboard in image\n",
      "Couldn't find chessboard in image\n",
      "Couldn't find chessboard in image\n",
      "Couldn't find chessboard in image\n",
      "Couldn't find chessboard in image\n",
      "Couldn't find chessboard in image\n",
      "Couldn't find chessboard in image\n",
      "Couldn't find chessboard in image\n",
      "Couldn't find chessboard in image\n",
      "Couldn't find chessboard in image\n"
     ]
    },
    {
     "name": "stderr",
     "output_type": "stream",
     "text": [
      " 71%|███████   | 16187/22732.0 [13:48<01:33, 70.12it/s]"
     ]
    },
    {
     "name": "stdout",
     "output_type": "stream",
     "text": [
      "Couldn't find chessboard in image\n",
      "Couldn't find chessboard in image\n",
      "Couldn't find chessboard in image\n",
      "Couldn't find chessboard in image\n",
      "Couldn't find chessboard in image\n",
      "Couldn't find chessboard in image\n",
      "Couldn't find chessboard in image\n",
      "Couldn't find chessboard in image\n",
      "Couldn't find chessboard in image\n",
      "Couldn't find chessboard in image\n",
      "Couldn't find chessboard in image\n",
      "Couldn't find chessboard in image\n",
      "Couldn't find chessboard in image\n",
      "Couldn't find chessboard in image\n",
      "Couldn't find chessboard in image\n"
     ]
    },
    {
     "name": "stderr",
     "output_type": "stream",
     "text": [
      " 71%|███████▏  | 16203/22732.0 [13:49<01:32, 70.37it/s]"
     ]
    },
    {
     "name": "stdout",
     "output_type": "stream",
     "text": [
      "Couldn't find chessboard in image\n",
      "Couldn't find chessboard in image\n",
      "Couldn't find chessboard in image\n",
      "Couldn't find chessboard in image\n",
      "Couldn't find chessboard in image\n",
      "Couldn't find chessboard in image\n",
      "Couldn't find chessboard in image\n",
      "Couldn't find chessboard in image\n",
      "Couldn't find chessboard in image\n",
      "Couldn't find chessboard in image\n",
      "Couldn't find chessboard in image\n",
      "Couldn't find chessboard in image\n",
      "Couldn't find chessboard in image\n",
      "Couldn't find chessboard in image\n",
      "Couldn't find chessboard in image\n"
     ]
    },
    {
     "name": "stderr",
     "output_type": "stream",
     "text": [
      " 71%|███████▏  | 16219/22732.0 [13:49<01:32, 70.49it/s]"
     ]
    },
    {
     "name": "stdout",
     "output_type": "stream",
     "text": [
      "Couldn't find chessboard in image\n",
      "Couldn't find chessboard in image\n",
      "Couldn't find chessboard in image\n",
      "Couldn't find chessboard in image\n",
      "Couldn't find chessboard in image\n",
      "Couldn't find chessboard in image\n",
      "Couldn't find chessboard in image\n",
      "Couldn't find chessboard in image\n",
      "Couldn't find chessboard in image\n",
      "Couldn't find chessboard in image\n",
      "Couldn't find chessboard in image\n",
      "Couldn't find chessboard in image\n",
      "Couldn't find chessboard in image\n",
      "Couldn't find chessboard in image\n",
      "Couldn't find chessboard in image\n"
     ]
    },
    {
     "name": "stderr",
     "output_type": "stream",
     "text": [
      " 71%|███████▏  | 16235/22732.0 [13:49<01:31, 70.73it/s]"
     ]
    },
    {
     "name": "stdout",
     "output_type": "stream",
     "text": [
      "Couldn't find chessboard in image\n",
      "Couldn't find chessboard in image\n",
      "Couldn't find chessboard in image\n",
      "Couldn't find chessboard in image\n",
      "Couldn't find chessboard in image\n",
      "Couldn't find chessboard in image\n",
      "Couldn't find chessboard in image\n",
      "Couldn't find chessboard in image\n",
      "Couldn't find chessboard in image\n",
      "Couldn't find chessboard in image\n",
      "Couldn't find chessboard in image\n",
      "Couldn't find chessboard in image\n",
      "Couldn't find chessboard in image\n",
      "Couldn't find chessboard in image\n",
      "Couldn't find chessboard in image\n"
     ]
    },
    {
     "name": "stderr",
     "output_type": "stream",
     "text": [
      " 71%|███████▏  | 16251/22732.0 [13:49<01:31, 70.57it/s]"
     ]
    },
    {
     "name": "stdout",
     "output_type": "stream",
     "text": [
      "Couldn't find chessboard in image\n",
      "Couldn't find chessboard in image\n",
      "Couldn't find chessboard in image\n",
      "Couldn't find chessboard in image\n",
      "Couldn't find chessboard in image\n",
      "Couldn't find chessboard in image\n",
      "Couldn't find chessboard in image\n",
      "Couldn't find chessboard in image\n",
      "Couldn't find chessboard in image\n",
      "Couldn't find chessboard in image\n",
      "Couldn't find chessboard in image\n",
      "Couldn't find chessboard in image\n",
      "Couldn't find chessboard in image\n",
      "Couldn't find chessboard in image\n",
      "Couldn't find chessboard in image\n"
     ]
    },
    {
     "name": "stderr",
     "output_type": "stream",
     "text": [
      " 72%|███████▏  | 16259/22732.0 [13:49<01:31, 70.47it/s]"
     ]
    },
    {
     "name": "stdout",
     "output_type": "stream",
     "text": [
      "Couldn't find chessboard in image\n",
      "Couldn't find chessboard in image\n",
      "Couldn't find chessboard in image\n",
      "Couldn't find chessboard in image\n",
      "Couldn't find chessboard in image\n",
      "Couldn't find chessboard in image\n",
      "Couldn't find chessboard in image\n",
      "Couldn't find chessboard in image\n",
      "Couldn't find chessboard in image\n",
      "Couldn't find chessboard in image\n",
      "Couldn't find chessboard in image\n",
      "Couldn't find chessboard in image\n",
      "Couldn't find chessboard in image\n",
      "Couldn't find chessboard in image\n",
      "Couldn't find chessboard in image\n"
     ]
    },
    {
     "name": "stderr",
     "output_type": "stream",
     "text": [
      " 72%|███████▏  | 16275/22732.0 [13:50<01:32, 69.84it/s]"
     ]
    },
    {
     "name": "stdout",
     "output_type": "stream",
     "text": [
      "Couldn't find chessboard in image\n",
      "Couldn't find chessboard in image\n",
      "Couldn't find chessboard in image\n",
      "Couldn't find chessboard in image\n",
      "Couldn't find chessboard in image\n",
      "Couldn't find chessboard in image\n",
      "Couldn't find chessboard in image\n",
      "Couldn't find chessboard in image\n",
      "Couldn't find chessboard in image\n",
      "Couldn't find chessboard in image\n",
      "Couldn't find chessboard in image\n",
      "Couldn't find chessboard in image\n",
      "Couldn't find chessboard in image\n",
      "Couldn't find chessboard in image\n",
      "Couldn't find chessboard in image\n"
     ]
    },
    {
     "name": "stderr",
     "output_type": "stream",
     "text": [
      " 72%|███████▏  | 16296/22732.0 [13:50<01:33, 69.20it/s]"
     ]
    },
    {
     "name": "stdout",
     "output_type": "stream",
     "text": [
      "Couldn't find chessboard in image\n",
      "Couldn't find chessboard in image\n",
      "Couldn't find chessboard in image\n",
      "Couldn't find chessboard in image\n",
      "Couldn't find chessboard in image\n",
      "Couldn't find chessboard in image\n",
      "Couldn't find chessboard in image\n",
      "Couldn't find chessboard in image\n",
      "Couldn't find chessboard in image\n",
      "Couldn't find chessboard in image\n",
      "Couldn't find chessboard in image\n",
      "Couldn't find chessboard in image\n",
      "Couldn't find chessboard in image\n",
      "Couldn't find chessboard in image\n"
     ]
    },
    {
     "name": "stderr",
     "output_type": "stream",
     "text": [
      " 72%|███████▏  | 16310/22732.0 [13:50<01:35, 67.49it/s]"
     ]
    },
    {
     "name": "stdout",
     "output_type": "stream",
     "text": [
      "Couldn't find chessboard in image\n",
      "Couldn't find chessboard in image\n",
      "Couldn't find chessboard in image\n",
      "Couldn't find chessboard in image\n",
      "Couldn't find chessboard in image\n",
      "Couldn't find chessboard in image\n",
      "Couldn't find chessboard in image\n",
      "Couldn't find chessboard in image\n",
      "Couldn't find chessboard in image\n",
      "Couldn't find chessboard in image\n",
      "Couldn't find chessboard in image\n",
      "Couldn't find chessboard in image\n",
      "Couldn't find chessboard in image\n",
      "Couldn't find chessboard in image\n"
     ]
    },
    {
     "name": "stderr",
     "output_type": "stream",
     "text": [
      " 72%|███████▏  | 16317/22732.0 [13:50<01:34, 68.16it/s]"
     ]
    },
    {
     "name": "stdout",
     "output_type": "stream",
     "text": [
      "Couldn't find chessboard in image\n",
      "Couldn't find chessboard in image\n",
      "Couldn't find chessboard in image\n",
      "Couldn't find chessboard in image\n",
      "Couldn't find chessboard in image\n",
      "Couldn't find chessboard in image\n",
      "Couldn't find chessboard in image\n",
      "Couldn't find chessboard in image\n",
      "Couldn't find chessboard in image\n",
      "Couldn't find chessboard in image\n",
      "Couldn't find chessboard in image\n",
      "Couldn't find chessboard in image\n",
      "Couldn't find chessboard in image\n",
      "Couldn't find chessboard in image\n",
      "Couldn't find chessboard in image\n"
     ]
    },
    {
     "name": "stderr",
     "output_type": "stream",
     "text": [
      " 72%|███████▏  | 16333/22732.0 [13:50<01:31, 69.70it/s]"
     ]
    },
    {
     "name": "stdout",
     "output_type": "stream",
     "text": [
      "Couldn't find chessboard in image\n",
      "Couldn't find chessboard in image\n",
      "Couldn't find chessboard in image\n",
      "Couldn't find chessboard in image\n",
      "Couldn't find chessboard in image\n",
      "Couldn't find chessboard in image\n",
      "Couldn't find chessboard in image\n",
      "Couldn't find chessboard in image\n",
      "Couldn't find chessboard in image\n",
      "Couldn't find chessboard in image\n",
      "Couldn't find chessboard in image\n",
      "Couldn't find chessboard in image\n",
      "Couldn't find chessboard in image\n",
      "Couldn't find chessboard in image\n",
      "Couldn't find chessboard in image\n"
     ]
    },
    {
     "name": "stderr",
     "output_type": "stream",
     "text": [
      " 72%|███████▏  | 16349/22732.0 [13:51<01:30, 70.51it/s]"
     ]
    },
    {
     "name": "stdout",
     "output_type": "stream",
     "text": [
      "Couldn't find chessboard in image\n",
      "Couldn't find chessboard in image\n",
      "Couldn't find chessboard in image\n",
      "Couldn't find chessboard in image\n",
      "Couldn't find chessboard in image\n",
      "Couldn't find chessboard in image\n",
      "Couldn't find chessboard in image\n",
      "Couldn't find chessboard in image\n",
      "Couldn't find chessboard in image\n",
      "Couldn't find chessboard in image\n",
      "Couldn't find chessboard in image\n",
      "Couldn't find chessboard in image\n",
      "Couldn't find chessboard in image\n",
      "Couldn't find chessboard in image\n",
      "Couldn't find chessboard in image\n"
     ]
    },
    {
     "name": "stderr",
     "output_type": "stream",
     "text": [
      " 72%|███████▏  | 16365/22732.0 [13:51<01:29, 71.02it/s]"
     ]
    },
    {
     "name": "stdout",
     "output_type": "stream",
     "text": [
      "Couldn't find chessboard in image\n",
      "Couldn't find chessboard in image\n",
      "Couldn't find chessboard in image\n",
      "Couldn't find chessboard in image\n",
      "Couldn't find chessboard in image\n",
      "Couldn't find chessboard in image\n",
      "Couldn't find chessboard in image\n",
      "Couldn't find chessboard in image\n",
      "Couldn't find chessboard in image\n",
      "Couldn't find chessboard in image\n",
      "Couldn't find chessboard in image\n",
      "Couldn't find chessboard in image\n",
      "Couldn't find chessboard in image\n",
      "Couldn't find chessboard in image\n",
      "Couldn't find chessboard in image\n"
     ]
    },
    {
     "name": "stderr",
     "output_type": "stream",
     "text": [
      " 72%|███████▏  | 16381/22732.0 [13:51<01:29, 71.03it/s]"
     ]
    },
    {
     "name": "stdout",
     "output_type": "stream",
     "text": [
      "Couldn't find chessboard in image\n",
      "Couldn't find chessboard in image\n",
      "Couldn't find chessboard in image\n",
      "Couldn't find chessboard in image\n",
      "Couldn't find chessboard in image\n",
      "Couldn't find chessboard in image\n",
      "Couldn't find chessboard in image\n",
      "Couldn't find chessboard in image\n",
      "Couldn't find chessboard in image\n",
      "Couldn't find chessboard in image\n",
      "Couldn't find chessboard in image\n",
      "Couldn't find chessboard in image\n",
      "Couldn't find chessboard in image\n",
      "Couldn't find chessboard in image\n",
      "Couldn't find chessboard in image\n"
     ]
    },
    {
     "name": "stderr",
     "output_type": "stream",
     "text": [
      " 72%|███████▏  | 16397/22732.0 [13:51<01:29, 71.02it/s]"
     ]
    },
    {
     "name": "stdout",
     "output_type": "stream",
     "text": [
      "Couldn't find chessboard in image\n",
      "Couldn't find chessboard in image\n",
      "Couldn't find chessboard in image\n",
      "Couldn't find chessboard in image\n",
      "Couldn't find chessboard in image\n",
      "Couldn't find chessboard in image\n",
      "Couldn't find chessboard in image\n",
      "Couldn't find chessboard in image\n",
      "Couldn't find chessboard in image\n",
      "Couldn't find chessboard in image\n",
      "Couldn't find chessboard in image\n",
      "Couldn't find chessboard in image\n",
      "Couldn't find chessboard in image\n",
      "Couldn't find chessboard in image\n",
      "Couldn't find chessboard in image\n"
     ]
    },
    {
     "name": "stderr",
     "output_type": "stream",
     "text": [
      " 72%|███████▏  | 16413/22732.0 [13:52<01:29, 70.61it/s]"
     ]
    },
    {
     "name": "stdout",
     "output_type": "stream",
     "text": [
      "Couldn't find chessboard in image\n",
      "Couldn't find chessboard in image\n",
      "Couldn't find chessboard in image\n",
      "Couldn't find chessboard in image\n",
      "Couldn't find chessboard in image\n",
      "Couldn't find chessboard in image\n",
      "Couldn't find chessboard in image\n",
      "Couldn't find chessboard in image\n",
      "Couldn't find chessboard in image\n",
      "Couldn't find chessboard in image\n",
      "Couldn't find chessboard in image\n",
      "Couldn't find chessboard in image\n",
      "Couldn't find chessboard in image\n",
      "Couldn't find chessboard in image\n",
      "Couldn't find chessboard in image\n"
     ]
    },
    {
     "name": "stderr",
     "output_type": "stream",
     "text": [
      " 72%|███████▏  | 16429/22732.0 [13:52<01:28, 71.09it/s]"
     ]
    },
    {
     "name": "stdout",
     "output_type": "stream",
     "text": [
      "Couldn't find chessboard in image\n",
      "Couldn't find chessboard in image\n",
      "Couldn't find chessboard in image\n",
      "Couldn't find chessboard in image\n",
      "Couldn't find chessboard in image\n",
      "Couldn't find chessboard in image\n",
      "Couldn't find chessboard in image\n",
      "Couldn't find chessboard in image\n",
      "Couldn't find chessboard in image\n",
      "Couldn't find chessboard in image\n",
      "Couldn't find chessboard in image\n",
      "Couldn't find chessboard in image\n",
      "Couldn't find chessboard in image\n",
      "Couldn't find chessboard in image\n",
      "Couldn't find chessboard in image\n"
     ]
    },
    {
     "name": "stderr",
     "output_type": "stream",
     "text": [
      " 72%|███████▏  | 16445/22732.0 [13:52<01:28, 71.04it/s]"
     ]
    },
    {
     "name": "stdout",
     "output_type": "stream",
     "text": [
      "Couldn't find chessboard in image\n",
      "Couldn't find chessboard in image\n",
      "Couldn't find chessboard in image\n",
      "Couldn't find chessboard in image\n",
      "Couldn't find chessboard in image\n",
      "Couldn't find chessboard in image\n",
      "Couldn't find chessboard in image\n",
      "Couldn't find chessboard in image\n",
      "Couldn't find chessboard in image\n",
      "Couldn't find chessboard in image\n",
      "Couldn't find chessboard in image\n",
      "Couldn't find chessboard in image\n",
      "Couldn't find chessboard in image\n",
      "Couldn't find chessboard in image\n",
      "Couldn't find chessboard in image\n"
     ]
    },
    {
     "name": "stderr",
     "output_type": "stream",
     "text": [
      " 72%|███████▏  | 16453/22732.0 [13:52<01:28, 71.05it/s]"
     ]
    },
    {
     "name": "stdout",
     "output_type": "stream",
     "text": [
      "Couldn't find chessboard in image\n",
      "Couldn't find chessboard in image\n",
      "Couldn't find chessboard in image\n",
      "Couldn't find chessboard in image\n",
      "Couldn't find chessboard in image\n",
      "Couldn't find chessboard in image\n",
      "Couldn't find chessboard in image\n",
      "Couldn't find chessboard in image\n",
      "Couldn't find chessboard in image\n",
      "Couldn't find chessboard in image\n",
      "Couldn't find chessboard in image\n",
      "Couldn't find chessboard in image\n",
      "Couldn't find chessboard in image\n",
      "Couldn't find chessboard in image\n",
      "Couldn't find chessboard in image\n"
     ]
    },
    {
     "name": "stderr",
     "output_type": "stream",
     "text": [
      " 72%|███████▏  | 16469/22732.0 [13:52<01:28, 70.79it/s]"
     ]
    },
    {
     "name": "stdout",
     "output_type": "stream",
     "text": [
      "Couldn't find chessboard in image\n",
      "Couldn't find chessboard in image\n",
      "Couldn't find chessboard in image\n",
      "Couldn't find chessboard in image\n",
      "Couldn't find chessboard in image\n",
      "Couldn't find chessboard in image\n",
      "Couldn't find chessboard in image\n",
      "Couldn't find chessboard in image\n",
      "Couldn't find chessboard in image\n",
      "Couldn't find chessboard in image\n",
      "Couldn't find chessboard in image\n",
      "Couldn't find chessboard in image\n",
      "Couldn't find chessboard in image\n",
      "Couldn't find chessboard in image\n",
      "Couldn't find chessboard in image\n"
     ]
    },
    {
     "name": "stderr",
     "output_type": "stream",
     "text": [
      " 73%|███████▎  | 16485/22732.0 [13:53<01:28, 70.69it/s]"
     ]
    },
    {
     "name": "stdout",
     "output_type": "stream",
     "text": [
      "Couldn't find chessboard in image\n",
      "Couldn't find chessboard in image\n",
      "Couldn't find chessboard in image\n",
      "Couldn't find chessboard in image\n",
      "Couldn't find chessboard in image\n",
      "Couldn't find chessboard in image\n",
      "Couldn't find chessboard in image\n",
      "Couldn't find chessboard in image\n",
      "Couldn't find chessboard in image\n",
      "Couldn't find chessboard in image\n",
      "Couldn't find chessboard in image\n",
      "Couldn't find chessboard in image\n",
      "Couldn't find chessboard in image\n",
      "Couldn't find chessboard in image\n",
      "Couldn't find chessboard in image\n"
     ]
    },
    {
     "name": "stderr",
     "output_type": "stream",
     "text": [
      " 73%|███████▎  | 16501/22732.0 [13:53<01:27, 70.87it/s]"
     ]
    },
    {
     "name": "stdout",
     "output_type": "stream",
     "text": [
      "Couldn't find chessboard in image\n",
      "Couldn't find chessboard in image\n",
      "Couldn't find chessboard in image\n",
      "Couldn't find chessboard in image\n",
      "Couldn't find chessboard in image\n",
      "Couldn't find chessboard in image\n",
      "Couldn't find chessboard in image\n",
      "Couldn't find chessboard in image\n",
      "Couldn't find chessboard in image\n",
      "Couldn't find chessboard in image\n",
      "Couldn't find chessboard in image\n",
      "Couldn't find chessboard in image\n",
      "Couldn't find chessboard in image\n",
      "Couldn't find chessboard in image\n",
      "Couldn't find chessboard in image\n"
     ]
    },
    {
     "name": "stderr",
     "output_type": "stream",
     "text": [
      " 73%|███████▎  | 16517/22732.0 [13:53<01:27, 70.69it/s]"
     ]
    },
    {
     "name": "stdout",
     "output_type": "stream",
     "text": [
      "Couldn't find chessboard in image\n",
      "Couldn't find chessboard in image\n",
      "Couldn't find chessboard in image\n",
      "Couldn't find chessboard in image\n",
      "Couldn't find chessboard in image\n",
      "Couldn't find chessboard in image\n",
      "Couldn't find chessboard in image\n",
      "Couldn't find chessboard in image\n",
      "Couldn't find chessboard in image\n",
      "Couldn't find chessboard in image\n",
      "Couldn't find chessboard in image\n",
      "Couldn't find chessboard in image\n",
      "Couldn't find chessboard in image\n",
      "Couldn't find chessboard in image\n",
      "Couldn't find chessboard in image\n"
     ]
    },
    {
     "name": "stderr",
     "output_type": "stream",
     "text": [
      " 73%|███████▎  | 16533/22732.0 [13:53<01:27, 70.56it/s]"
     ]
    },
    {
     "name": "stdout",
     "output_type": "stream",
     "text": [
      "Couldn't find chessboard in image\n",
      "Couldn't find chessboard in image\n",
      "Couldn't find chessboard in image\n",
      "Couldn't find chessboard in image\n",
      "Couldn't find chessboard in image\n",
      "Couldn't find chessboard in image\n",
      "Couldn't find chessboard in image\n",
      "Couldn't find chessboard in image\n",
      "Couldn't find chessboard in image\n",
      "Couldn't find chessboard in image\n",
      "Couldn't find chessboard in image\n",
      "Couldn't find chessboard in image\n",
      "Couldn't find chessboard in image\n",
      "Couldn't find chessboard in image\n",
      "Couldn't find chessboard in image\n"
     ]
    },
    {
     "name": "stderr",
     "output_type": "stream",
     "text": [
      " 73%|███████▎  | 16549/22732.0 [13:53<01:27, 70.77it/s]"
     ]
    },
    {
     "name": "stdout",
     "output_type": "stream",
     "text": [
      "Couldn't find chessboard in image\n",
      "Couldn't find chessboard in image\n",
      "Couldn't find chessboard in image\n",
      "Couldn't find chessboard in image\n",
      "Couldn't find chessboard in image\n",
      "Couldn't find chessboard in image\n",
      "Couldn't find chessboard in image\n",
      "Couldn't find chessboard in image\n",
      "Couldn't find chessboard in image\n",
      "Couldn't find chessboard in image\n",
      "Couldn't find chessboard in image\n",
      "Couldn't find chessboard in image\n",
      "Couldn't find chessboard in image\n",
      "Couldn't find chessboard in image\n",
      "Couldn't find chessboard in image\n"
     ]
    },
    {
     "name": "stderr",
     "output_type": "stream",
     "text": [
      " 73%|███████▎  | 16565/22732.0 [13:54<01:26, 70.92it/s]"
     ]
    },
    {
     "name": "stdout",
     "output_type": "stream",
     "text": [
      "Couldn't find chessboard in image\n",
      "Couldn't find chessboard in image\n",
      "Couldn't find chessboard in image\n",
      "Couldn't find chessboard in image\n",
      "Couldn't find chessboard in image\n",
      "Couldn't find chessboard in image\n",
      "Couldn't find chessboard in image\n",
      "Couldn't find chessboard in image\n",
      "Couldn't find chessboard in image\n",
      "Couldn't find chessboard in image\n",
      "Couldn't find chessboard in image\n",
      "Couldn't find chessboard in image\n",
      "Couldn't find chessboard in image\n",
      "Couldn't find chessboard in image\n",
      "Couldn't find chessboard in image\n"
     ]
    },
    {
     "name": "stderr",
     "output_type": "stream",
     "text": [
      " 73%|███████▎  | 16573/22732.0 [13:54<01:26, 71.03it/s]"
     ]
    },
    {
     "name": "stdout",
     "output_type": "stream",
     "text": [
      "Couldn't find chessboard in image\n",
      "Couldn't find chessboard in image\n",
      "Couldn't find chessboard in image\n",
      "Couldn't find chessboard in image\n",
      "Couldn't find chessboard in image\n",
      "Couldn't find chessboard in image\n",
      "Couldn't find chessboard in image\n",
      "Couldn't find chessboard in image\n",
      "Couldn't find chessboard in image\n",
      "Couldn't find chessboard in image\n",
      "Couldn't find chessboard in image\n",
      "Couldn't find chessboard in image\n",
      "Couldn't find chessboard in image\n",
      "Couldn't find chessboard in image\n",
      "Couldn't find chessboard in image\n"
     ]
    },
    {
     "name": "stderr",
     "output_type": "stream",
     "text": [
      " 73%|███████▎  | 16589/22732.0 [13:54<01:26, 71.06it/s]"
     ]
    },
    {
     "name": "stdout",
     "output_type": "stream",
     "text": [
      "Couldn't find chessboard in image\n",
      "Couldn't find chessboard in image\n",
      "Couldn't find chessboard in image\n",
      "Couldn't find chessboard in image\n",
      "Couldn't find chessboard in image\n",
      "Couldn't find chessboard in image\n",
      "Couldn't find chessboard in image\n",
      "Couldn't find chessboard in image\n",
      "Couldn't find chessboard in image\n",
      "Couldn't find chessboard in image\n",
      "Couldn't find chessboard in image\n",
      "Couldn't find chessboard in image\n",
      "Couldn't find chessboard in image\n",
      "Couldn't find chessboard in image\n",
      "Couldn't find chessboard in image\n"
     ]
    },
    {
     "name": "stderr",
     "output_type": "stream",
     "text": [
      " 73%|███████▎  | 16605/22732.0 [13:54<01:26, 70.93it/s]"
     ]
    },
    {
     "name": "stdout",
     "output_type": "stream",
     "text": [
      "Couldn't find chessboard in image\n",
      "Couldn't find chessboard in image\n",
      "Couldn't find chessboard in image\n",
      "Couldn't find chessboard in image\n",
      "Couldn't find chessboard in image\n",
      "Couldn't find chessboard in image\n",
      "Couldn't find chessboard in image\n",
      "Couldn't find chessboard in image\n",
      "Couldn't find chessboard in image\n",
      "Couldn't find chessboard in image\n",
      "Couldn't find chessboard in image\n",
      "Couldn't find chessboard in image\n",
      "Couldn't find chessboard in image\n",
      "Couldn't find chessboard in image\n",
      "Couldn't find chessboard in image\n"
     ]
    },
    {
     "name": "stderr",
     "output_type": "stream",
     "text": [
      " 73%|███████▎  | 16621/22732.0 [13:54<01:26, 70.92it/s]"
     ]
    },
    {
     "name": "stdout",
     "output_type": "stream",
     "text": [
      "Couldn't find chessboard in image\n",
      "Couldn't find chessboard in image\n",
      "Couldn't find chessboard in image\n",
      "Couldn't find chessboard in image\n",
      "Couldn't find chessboard in image\n",
      "Couldn't find chessboard in image\n",
      "Couldn't find chessboard in image\n",
      "Couldn't find chessboard in image\n",
      "Couldn't find chessboard in image\n",
      "Couldn't find chessboard in image\n",
      "Couldn't find chessboard in image\n",
      "Couldn't find chessboard in image\n",
      "Couldn't find chessboard in image\n",
      "Couldn't find chessboard in image\n",
      "Couldn't find chessboard in image\n"
     ]
    },
    {
     "name": "stderr",
     "output_type": "stream",
     "text": [
      " 73%|███████▎  | 16637/22732.0 [13:55<01:25, 70.95it/s]"
     ]
    },
    {
     "name": "stdout",
     "output_type": "stream",
     "text": [
      "Couldn't find chessboard in image\n",
      "Couldn't find chessboard in image\n",
      "Couldn't find chessboard in image\n",
      "Couldn't find chessboard in image\n",
      "Couldn't find chessboard in image\n",
      "Couldn't find chessboard in image\n",
      "Couldn't find chessboard in image\n",
      "Couldn't find chessboard in image\n",
      "Couldn't find chessboard in image\n",
      "Couldn't find chessboard in image\n",
      "Couldn't find chessboard in image\n",
      "Couldn't find chessboard in image\n",
      "Couldn't find chessboard in image\n",
      "Couldn't find chessboard in image\n",
      "Couldn't find chessboard in image\n"
     ]
    },
    {
     "name": "stderr",
     "output_type": "stream",
     "text": [
      " 73%|███████▎  | 16653/22732.0 [13:55<01:25, 70.94it/s]"
     ]
    },
    {
     "name": "stdout",
     "output_type": "stream",
     "text": [
      "Couldn't find chessboard in image\n",
      "Couldn't find chessboard in image\n",
      "Couldn't find chessboard in image\n",
      "Couldn't find chessboard in image\n",
      "Couldn't find chessboard in image\n",
      "Couldn't find chessboard in image\n",
      "Couldn't find chessboard in image\n",
      "Couldn't find chessboard in image\n",
      "Couldn't find chessboard in image\n",
      "Couldn't find chessboard in image\n",
      "Couldn't find chessboard in image\n",
      "Couldn't find chessboard in image\n",
      "Couldn't find chessboard in image\n",
      "Couldn't find chessboard in image\n",
      "Couldn't find chessboard in image\n"
     ]
    },
    {
     "name": "stderr",
     "output_type": "stream",
     "text": [
      " 73%|███████▎  | 16669/22732.0 [13:55<01:25, 71.05it/s]"
     ]
    },
    {
     "name": "stdout",
     "output_type": "stream",
     "text": [
      "Couldn't find chessboard in image\n",
      "Couldn't find chessboard in image\n",
      "Couldn't find chessboard in image\n",
      "Couldn't find chessboard in image\n",
      "Couldn't find chessboard in image\n",
      "Couldn't find chessboard in image\n",
      "Couldn't find chessboard in image\n",
      "Couldn't find chessboard in image\n",
      "Couldn't find chessboard in image\n",
      "Couldn't find chessboard in image\n",
      "Couldn't find chessboard in image\n",
      "Couldn't find chessboard in image\n",
      "Couldn't find chessboard in image\n",
      "Couldn't find chessboard in image\n",
      "Couldn't find chessboard in image\n"
     ]
    },
    {
     "name": "stderr",
     "output_type": "stream",
     "text": [
      " 73%|███████▎  | 16685/22732.0 [13:55<01:25, 71.09it/s]"
     ]
    },
    {
     "name": "stdout",
     "output_type": "stream",
     "text": [
      "Couldn't find chessboard in image\n",
      "Couldn't find chessboard in image\n",
      "Couldn't find chessboard in image\n",
      "Couldn't find chessboard in image\n",
      "Couldn't find chessboard in image\n",
      "Couldn't find chessboard in image\n",
      "Couldn't find chessboard in image\n",
      "Couldn't find chessboard in image\n",
      "Couldn't find chessboard in image\n",
      "Couldn't find chessboard in image\n",
      "Couldn't find chessboard in image\n",
      "Couldn't find chessboard in image\n",
      "Couldn't find chessboard in image\n",
      "Couldn't find chessboard in image\n",
      "Couldn't find chessboard in image\n"
     ]
    },
    {
     "name": "stderr",
     "output_type": "stream",
     "text": [
      " 73%|███████▎  | 16693/22732.0 [13:55<01:24, 71.05it/s]"
     ]
    },
    {
     "name": "stdout",
     "output_type": "stream",
     "text": [
      "Couldn't find chessboard in image\n",
      "Couldn't find chessboard in image\n",
      "Couldn't find chessboard in image\n",
      "Couldn't find chessboard in image\n",
      "Couldn't find chessboard in image\n",
      "Couldn't find chessboard in image\n",
      "Couldn't find chessboard in image\n",
      "Couldn't find chessboard in image\n",
      "Couldn't find chessboard in image\n",
      "Couldn't find chessboard in image\n",
      "Couldn't find chessboard in image\n",
      "Couldn't find chessboard in image\n",
      "Couldn't find chessboard in image\n",
      "Couldn't find chessboard in image\n",
      "Couldn't find chessboard in image\n"
     ]
    },
    {
     "name": "stderr",
     "output_type": "stream",
     "text": [
      " 74%|███████▎  | 16709/22732.0 [13:56<01:24, 70.93it/s]"
     ]
    },
    {
     "name": "stdout",
     "output_type": "stream",
     "text": [
      "Couldn't find chessboard in image\n",
      "Couldn't find chessboard in image\n",
      "Couldn't find chessboard in image\n",
      "Couldn't find chessboard in image\n",
      "Couldn't find chessboard in image\n",
      "Couldn't find chessboard in image\n",
      "Couldn't find chessboard in image\n",
      "Couldn't find chessboard in image\n",
      "Couldn't find chessboard in image\n",
      "Couldn't find chessboard in image\n",
      "Couldn't find chessboard in image\n",
      "Couldn't find chessboard in image\n",
      "Couldn't find chessboard in image\n",
      "Couldn't find chessboard in image\n",
      "Couldn't find chessboard in image\n"
     ]
    },
    {
     "name": "stderr",
     "output_type": "stream",
     "text": [
      " 74%|███████▎  | 16725/22732.0 [13:56<01:24, 70.89it/s]"
     ]
    },
    {
     "name": "stdout",
     "output_type": "stream",
     "text": [
      "Couldn't find chessboard in image\n",
      "Couldn't find chessboard in image\n",
      "Couldn't find chessboard in image\n",
      "Couldn't find chessboard in image\n",
      "Couldn't find chessboard in image\n",
      "Couldn't find chessboard in image\n",
      "Couldn't find chessboard in image\n",
      "Couldn't find chessboard in image\n",
      "Couldn't find chessboard in image\n",
      "Couldn't find chessboard in image\n",
      "Couldn't find chessboard in image\n",
      "Couldn't find chessboard in image\n",
      "Couldn't find chessboard in image\n",
      "Couldn't find chessboard in image\n",
      "Couldn't find chessboard in image\n"
     ]
    },
    {
     "name": "stderr",
     "output_type": "stream",
     "text": [
      " 74%|███████▎  | 16741/22732.0 [13:56<01:24, 71.11it/s]"
     ]
    },
    {
     "name": "stdout",
     "output_type": "stream",
     "text": [
      "Couldn't find chessboard in image\n",
      "Couldn't find chessboard in image\n",
      "Couldn't find chessboard in image\n",
      "Couldn't find chessboard in image\n",
      "Couldn't find chessboard in image\n",
      "Couldn't find chessboard in image\n",
      "Couldn't find chessboard in image\n",
      "Couldn't find chessboard in image\n",
      "Couldn't find chessboard in image\n",
      "Couldn't find chessboard in image\n",
      "Couldn't find chessboard in image\n",
      "Couldn't find chessboard in image\n",
      "Couldn't find chessboard in image\n",
      "Couldn't find chessboard in image\n",
      "Couldn't find chessboard in image\n"
     ]
    },
    {
     "name": "stderr",
     "output_type": "stream",
     "text": [
      " 74%|███████▎  | 16757/22732.0 [13:56<01:24, 71.03it/s]"
     ]
    },
    {
     "name": "stdout",
     "output_type": "stream",
     "text": [
      "Couldn't find chessboard in image\n",
      "Couldn't find chessboard in image\n",
      "Couldn't find chessboard in image\n",
      "Couldn't find chessboard in image\n",
      "Couldn't find chessboard in image\n",
      "Couldn't find chessboard in image\n",
      "Couldn't find chessboard in image\n",
      "Couldn't find chessboard in image\n",
      "Couldn't find chessboard in image\n",
      "Couldn't find chessboard in image\n",
      "Couldn't find chessboard in image\n",
      "Couldn't find chessboard in image\n",
      "Couldn't find chessboard in image\n",
      "Couldn't find chessboard in image\n",
      "Couldn't find chessboard in image\n"
     ]
    },
    {
     "name": "stderr",
     "output_type": "stream",
     "text": [
      " 74%|███████▍  | 16773/22732.0 [13:57<01:23, 71.18it/s]"
     ]
    },
    {
     "name": "stdout",
     "output_type": "stream",
     "text": [
      "Couldn't find chessboard in image\n",
      "Couldn't find chessboard in image\n",
      "Couldn't find chessboard in image\n",
      "Couldn't find chessboard in image\n",
      "Couldn't find chessboard in image\n",
      "Couldn't find chessboard in image\n",
      "Couldn't find chessboard in image\n",
      "Couldn't find chessboard in image\n",
      "Couldn't find chessboard in image\n",
      "Couldn't find chessboard in image\n",
      "Couldn't find chessboard in image\n",
      "Couldn't find chessboard in image\n",
      "Couldn't find chessboard in image\n",
      "Couldn't find chessboard in image\n",
      "Couldn't find chessboard in image\n"
     ]
    },
    {
     "name": "stderr",
     "output_type": "stream",
     "text": [
      " 74%|███████▍  | 16789/22732.0 [13:57<01:23, 71.06it/s]"
     ]
    },
    {
     "name": "stdout",
     "output_type": "stream",
     "text": [
      "Couldn't find chessboard in image\n",
      "Couldn't find chessboard in image\n",
      "Couldn't find chessboard in image\n",
      "Couldn't find chessboard in image\n",
      "Couldn't find chessboard in image\n",
      "Couldn't find chessboard in image\n",
      "Couldn't find chessboard in image\n",
      "Couldn't find chessboard in image\n",
      "Couldn't find chessboard in image\n",
      "Couldn't find chessboard in image\n",
      "Couldn't find chessboard in image\n",
      "Couldn't find chessboard in image\n",
      "Couldn't find chessboard in image\n",
      "Couldn't find chessboard in image\n",
      "Couldn't find chessboard in image\n"
     ]
    },
    {
     "name": "stderr",
     "output_type": "stream",
     "text": [
      " 74%|███████▍  | 16805/22732.0 [13:57<01:23, 71.19it/s]"
     ]
    },
    {
     "name": "stdout",
     "output_type": "stream",
     "text": [
      "Couldn't find chessboard in image\n",
      "Couldn't find chessboard in image\n",
      "Couldn't find chessboard in image\n",
      "Couldn't find chessboard in image\n",
      "Couldn't find chessboard in image\n",
      "Couldn't find chessboard in image\n",
      "Couldn't find chessboard in image\n",
      "Couldn't find chessboard in image\n",
      "Couldn't find chessboard in image\n",
      "Couldn't find chessboard in image\n",
      "Couldn't find chessboard in image\n",
      "Couldn't find chessboard in image\n",
      "Couldn't find chessboard in image\n",
      "Couldn't find chessboard in image\n",
      "Couldn't find chessboard in image\n"
     ]
    },
    {
     "name": "stderr",
     "output_type": "stream",
     "text": [
      " 74%|███████▍  | 16813/22732.0 [13:57<01:23, 71.10it/s]"
     ]
    },
    {
     "name": "stdout",
     "output_type": "stream",
     "text": [
      "Couldn't find chessboard in image\n",
      "Couldn't find chessboard in image\n",
      "Couldn't find chessboard in image\n",
      "Couldn't find chessboard in image\n",
      "Couldn't find chessboard in image\n",
      "Couldn't find chessboard in image\n",
      "Couldn't find chessboard in image\n",
      "Couldn't find chessboard in image\n",
      "Couldn't find chessboard in image\n",
      "Couldn't find chessboard in image\n",
      "Couldn't find chessboard in image\n",
      "Couldn't find chessboard in image\n",
      "Couldn't find chessboard in image\n",
      "Couldn't find chessboard in image\n",
      "Couldn't find chessboard in image\n"
     ]
    },
    {
     "name": "stderr",
     "output_type": "stream",
     "text": [
      " 74%|███████▍  | 16829/22732.0 [13:57<01:23, 70.80it/s]"
     ]
    },
    {
     "name": "stdout",
     "output_type": "stream",
     "text": [
      "Couldn't find chessboard in image\n",
      "Couldn't find chessboard in image\n",
      "Couldn't find chessboard in image\n",
      "Couldn't find chessboard in image\n",
      "Couldn't find chessboard in image\n",
      "Couldn't find chessboard in image\n",
      "Couldn't find chessboard in image\n",
      "Couldn't find chessboard in image\n",
      "Couldn't find chessboard in image\n",
      "Couldn't find chessboard in image\n",
      "Couldn't find chessboard in image\n",
      "Couldn't find chessboard in image\n",
      "Couldn't find chessboard in image\n",
      "Couldn't find chessboard in image\n",
      "Couldn't find chessboard in image\n"
     ]
    },
    {
     "name": "stderr",
     "output_type": "stream",
     "text": [
      " 74%|███████▍  | 16845/22732.0 [13:58<01:23, 70.85it/s]"
     ]
    },
    {
     "name": "stdout",
     "output_type": "stream",
     "text": [
      "Couldn't find chessboard in image\n",
      "Couldn't find chessboard in image\n",
      "Couldn't find chessboard in image\n",
      "Couldn't find chessboard in image\n",
      "Couldn't find chessboard in image\n",
      "Couldn't find chessboard in image\n",
      "Couldn't find chessboard in image\n",
      "Couldn't find chessboard in image\n",
      "Couldn't find chessboard in image\n",
      "Couldn't find chessboard in image\n",
      "Couldn't find chessboard in image\n",
      "Couldn't find chessboard in image\n",
      "Couldn't find chessboard in image\n",
      "Couldn't find chessboard in image\n",
      "Couldn't find chessboard in image\n"
     ]
    },
    {
     "name": "stderr",
     "output_type": "stream",
     "text": [
      " 74%|███████▍  | 16861/22732.0 [13:58<01:22, 70.78it/s]"
     ]
    },
    {
     "name": "stdout",
     "output_type": "stream",
     "text": [
      "Couldn't find chessboard in image\n",
      "Couldn't find chessboard in image\n",
      "Couldn't find chessboard in image\n",
      "Couldn't find chessboard in image\n",
      "Couldn't find chessboard in image\n",
      "Couldn't find chessboard in image\n",
      "Couldn't find chessboard in image\n",
      "Couldn't find chessboard in image\n",
      "Couldn't find chessboard in image\n",
      "Couldn't find chessboard in image\n",
      "Couldn't find chessboard in image\n",
      "Couldn't find chessboard in image\n",
      "Couldn't find chessboard in image\n",
      "Couldn't find chessboard in image\n",
      "Couldn't find chessboard in image\n"
     ]
    },
    {
     "name": "stderr",
     "output_type": "stream",
     "text": [
      " 74%|███████▍  | 16877/22732.0 [13:58<01:22, 70.93it/s]"
     ]
    },
    {
     "name": "stdout",
     "output_type": "stream",
     "text": [
      "Couldn't find chessboard in image\n",
      "Couldn't find chessboard in image\n",
      "Couldn't find chessboard in image\n",
      "Couldn't find chessboard in image\n",
      "Couldn't find chessboard in image\n",
      "Couldn't find chessboard in image\n",
      "Couldn't find chessboard in image\n",
      "Couldn't find chessboard in image\n",
      "Couldn't find chessboard in image\n",
      "Couldn't find chessboard in image\n",
      "Couldn't find chessboard in image\n",
      "Couldn't find chessboard in image\n",
      "Couldn't find chessboard in image\n",
      "Couldn't find chessboard in image\n",
      "Couldn't find chessboard in image\n"
     ]
    },
    {
     "name": "stderr",
     "output_type": "stream",
     "text": [
      " 74%|███████▍  | 16893/22732.0 [13:58<01:22, 70.95it/s]"
     ]
    },
    {
     "name": "stdout",
     "output_type": "stream",
     "text": [
      "Couldn't find chessboard in image\n",
      "Couldn't find chessboard in image\n",
      "Couldn't find chessboard in image\n",
      "Couldn't find chessboard in image\n",
      "Couldn't find chessboard in image\n",
      "Couldn't find chessboard in image\n",
      "Couldn't find chessboard in image\n",
      "Couldn't find chessboard in image\n",
      "Couldn't find chessboard in image\n",
      "Couldn't find chessboard in image\n",
      "Couldn't find chessboard in image\n",
      "Couldn't find chessboard in image\n",
      "Couldn't find chessboard in image\n",
      "Couldn't find chessboard in image\n",
      "Couldn't find chessboard in image\n"
     ]
    },
    {
     "name": "stderr",
     "output_type": "stream",
     "text": [
      " 74%|███████▍  | 16909/22732.0 [13:59<01:22, 70.89it/s]"
     ]
    },
    {
     "name": "stdout",
     "output_type": "stream",
     "text": [
      "Couldn't find chessboard in image\n",
      "Couldn't find chessboard in image\n",
      "Couldn't find chessboard in image\n",
      "Couldn't find chessboard in image\n",
      "Couldn't find chessboard in image\n",
      "Couldn't find chessboard in image\n",
      "Couldn't find chessboard in image\n",
      "Couldn't find chessboard in image\n",
      "Couldn't find chessboard in image\n",
      "Couldn't find chessboard in image\n",
      "Couldn't find chessboard in image\n",
      "Couldn't find chessboard in image\n",
      "Couldn't find chessboard in image\n",
      "Couldn't find chessboard in image\n",
      "Couldn't find chessboard in image\n"
     ]
    },
    {
     "name": "stderr",
     "output_type": "stream",
     "text": [
      " 74%|███████▍  | 16925/22732.0 [13:59<01:21, 71.11it/s]"
     ]
    },
    {
     "name": "stdout",
     "output_type": "stream",
     "text": [
      "Couldn't find chessboard in image\n",
      "Couldn't find chessboard in image\n",
      "Couldn't find chessboard in image\n",
      "Couldn't find chessboard in image\n",
      "Couldn't find chessboard in image\n",
      "Couldn't find chessboard in image\n",
      "Couldn't find chessboard in image\n",
      "Couldn't find chessboard in image\n",
      "Couldn't find chessboard in image\n",
      "Couldn't find chessboard in image\n",
      "Couldn't find chessboard in image\n",
      "Couldn't find chessboard in image\n",
      "Couldn't find chessboard in image\n",
      "Couldn't find chessboard in image\n",
      "Couldn't find chessboard in image\n"
     ]
    },
    {
     "name": "stderr",
     "output_type": "stream",
     "text": [
      " 74%|███████▍  | 16933/22732.0 [13:59<01:21, 71.14it/s]"
     ]
    },
    {
     "name": "stdout",
     "output_type": "stream",
     "text": [
      "Couldn't find chessboard in image\n",
      "Couldn't find chessboard in image\n",
      "Couldn't find chessboard in image\n",
      "Couldn't find chessboard in image\n",
      "Couldn't find chessboard in image\n",
      "Couldn't find chessboard in image\n",
      "Couldn't find chessboard in image\n",
      "Couldn't find chessboard in image\n",
      "Couldn't find chessboard in image\n",
      "Couldn't find chessboard in image\n",
      "Couldn't find chessboard in image\n",
      "Couldn't find chessboard in image\n",
      "Couldn't find chessboard in image\n",
      "Couldn't find chessboard in image\n",
      "Couldn't find chessboard in image\n"
     ]
    },
    {
     "name": "stderr",
     "output_type": "stream",
     "text": [
      " 75%|███████▍  | 16949/22732.0 [13:59<01:21, 70.83it/s]"
     ]
    },
    {
     "name": "stdout",
     "output_type": "stream",
     "text": [
      "Couldn't find chessboard in image\n",
      "Couldn't find chessboard in image\n",
      "Couldn't find chessboard in image\n",
      "Couldn't find chessboard in image\n",
      "Couldn't find chessboard in image\n",
      "Couldn't find chessboard in image\n",
      "Couldn't find chessboard in image\n",
      "Couldn't find chessboard in image\n",
      "Couldn't find chessboard in image\n",
      "Couldn't find chessboard in image\n",
      "Couldn't find chessboard in image\n",
      "Couldn't find chessboard in image\n",
      "Couldn't find chessboard in image\n",
      "Couldn't find chessboard in image\n",
      "Couldn't find chessboard in image\n"
     ]
    },
    {
     "name": "stderr",
     "output_type": "stream",
     "text": [
      " 75%|███████▍  | 16965/22732.0 [13:59<01:21, 70.97it/s]"
     ]
    },
    {
     "name": "stdout",
     "output_type": "stream",
     "text": [
      "Couldn't find chessboard in image\n",
      "Couldn't find chessboard in image\n",
      "Couldn't find chessboard in image\n",
      "Couldn't find chessboard in image\n",
      "Couldn't find chessboard in image\n",
      "Couldn't find chessboard in image\n",
      "Couldn't find chessboard in image\n",
      "Couldn't find chessboard in image\n",
      "Couldn't find chessboard in image\n",
      "Couldn't find chessboard in image\n",
      "Couldn't find chessboard in image\n",
      "Couldn't find chessboard in image\n",
      "Couldn't find chessboard in image\n",
      "Couldn't find chessboard in image\n",
      "Couldn't find chessboard in image\n"
     ]
    },
    {
     "name": "stderr",
     "output_type": "stream",
     "text": [
      " 75%|███████▍  | 16981/22732.0 [14:00<01:21, 70.23it/s]"
     ]
    },
    {
     "name": "stdout",
     "output_type": "stream",
     "text": [
      "Couldn't find chessboard in image\n",
      "Couldn't find chessboard in image\n",
      "Couldn't find chessboard in image\n",
      "Couldn't find chessboard in image\n",
      "Couldn't find chessboard in image\n",
      "Couldn't find chessboard in image\n",
      "Couldn't find chessboard in image\n",
      "Couldn't find chessboard in image\n",
      "Couldn't find chessboard in image\n",
      "Couldn't find chessboard in image\n",
      "Couldn't find chessboard in image\n",
      "Couldn't find chessboard in image\n",
      "Couldn't find chessboard in image\n",
      "Couldn't find chessboard in image\n",
      "Couldn't find chessboard in image\n"
     ]
    },
    {
     "name": "stderr",
     "output_type": "stream",
     "text": [
      " 75%|███████▍  | 16997/22732.0 [14:00<01:20, 70.83it/s]"
     ]
    },
    {
     "name": "stdout",
     "output_type": "stream",
     "text": [
      "Couldn't find chessboard in image\n",
      "Couldn't find chessboard in image\n",
      "Couldn't find chessboard in image\n",
      "Couldn't find chessboard in image\n",
      "Couldn't find chessboard in image\n",
      "Couldn't find chessboard in image\n",
      "Couldn't find chessboard in image\n",
      "Couldn't find chessboard in image\n",
      "Couldn't find chessboard in image\n",
      "Couldn't find chessboard in image\n",
      "Couldn't find chessboard in image\n",
      "Couldn't find chessboard in image\n",
      "Couldn't find chessboard in image\n",
      "Couldn't find chessboard in image\n",
      "Couldn't find chessboard in image\n"
     ]
    },
    {
     "name": "stderr",
     "output_type": "stream",
     "text": [
      " 75%|███████▍  | 17013/22732.0 [14:00<01:20, 70.85it/s]"
     ]
    },
    {
     "name": "stdout",
     "output_type": "stream",
     "text": [
      "Couldn't find chessboard in image\n",
      "Couldn't find chessboard in image\n",
      "Couldn't find chessboard in image\n",
      "Couldn't find chessboard in image\n",
      "Couldn't find chessboard in image\n",
      "Couldn't find chessboard in image\n",
      "Couldn't find chessboard in image\n",
      "Couldn't find chessboard in image\n",
      "Couldn't find chessboard in image\n",
      "Couldn't find chessboard in image\n",
      "Couldn't find chessboard in image\n",
      "Couldn't find chessboard in image\n",
      "Couldn't find chessboard in image\n",
      "Couldn't find chessboard in image\n",
      "Couldn't find chessboard in image\n"
     ]
    },
    {
     "name": "stderr",
     "output_type": "stream",
     "text": [
      " 75%|███████▍  | 17029/22732.0 [14:00<01:20, 70.96it/s]"
     ]
    },
    {
     "name": "stdout",
     "output_type": "stream",
     "text": [
      "Couldn't find chessboard in image\n",
      "Couldn't find chessboard in image\n",
      "Couldn't find chessboard in image\n",
      "Couldn't find chessboard in image\n",
      "Couldn't find chessboard in image\n",
      "Couldn't find chessboard in image\n",
      "Couldn't find chessboard in image\n",
      "Couldn't find chessboard in image\n",
      "Couldn't find chessboard in image\n",
      "Couldn't find chessboard in image\n",
      "Couldn't find chessboard in image\n",
      "Couldn't find chessboard in image\n",
      "Couldn't find chessboard in image\n",
      "Couldn't find chessboard in image\n",
      "Couldn't find chessboard in image\n"
     ]
    },
    {
     "name": "stderr",
     "output_type": "stream",
     "text": [
      " 75%|███████▍  | 17037/22732.0 [14:00<01:20, 70.93it/s]"
     ]
    },
    {
     "name": "stdout",
     "output_type": "stream",
     "text": [
      "Couldn't find chessboard in image\n",
      "Couldn't find chessboard in image\n",
      "Couldn't find chessboard in image\n",
      "Couldn't find chessboard in image\n",
      "Couldn't find chessboard in image\n",
      "Couldn't find chessboard in image\n",
      "Couldn't find chessboard in image\n",
      "Couldn't find chessboard in image\n",
      "Couldn't find chessboard in image\n",
      "Couldn't find chessboard in image\n",
      "Couldn't find chessboard in image\n",
      "Couldn't find chessboard in image\n",
      "Couldn't find chessboard in image\n",
      "Couldn't find chessboard in image\n",
      "Couldn't find chessboard in image\n"
     ]
    },
    {
     "name": "stderr",
     "output_type": "stream",
     "text": [
      " 75%|███████▌  | 17053/22732.0 [14:01<01:20, 70.97it/s]"
     ]
    },
    {
     "name": "stdout",
     "output_type": "stream",
     "text": [
      "Couldn't find chessboard in image\n",
      "Couldn't find chessboard in image\n",
      "Couldn't find chessboard in image\n",
      "Couldn't find chessboard in image\n",
      "Couldn't find chessboard in image\n",
      "Couldn't find chessboard in image\n",
      "Couldn't find chessboard in image\n",
      "Couldn't find chessboard in image\n",
      "Couldn't find chessboard in image\n",
      "Couldn't find chessboard in image\n",
      "Couldn't find chessboard in image\n",
      "Couldn't find chessboard in image\n",
      "Couldn't find chessboard in image\n",
      "Couldn't find chessboard in image\n",
      "Couldn't find chessboard in image\n"
     ]
    },
    {
     "name": "stderr",
     "output_type": "stream",
     "text": [
      " 75%|███████▌  | 17069/22732.0 [14:01<01:19, 70.95it/s]"
     ]
    },
    {
     "name": "stdout",
     "output_type": "stream",
     "text": [
      "Couldn't find chessboard in image\n",
      "Couldn't find chessboard in image\n",
      "Couldn't find chessboard in image\n",
      "Couldn't find chessboard in image\n",
      "Couldn't find chessboard in image\n",
      "Couldn't find chessboard in image\n",
      "Couldn't find chessboard in image\n",
      "Couldn't find chessboard in image\n",
      "Couldn't find chessboard in image\n",
      "Couldn't find chessboard in image\n",
      "Couldn't find chessboard in image\n",
      "Couldn't find chessboard in image\n",
      "Couldn't find chessboard in image\n",
      "Couldn't find chessboard in image\n",
      "Couldn't find chessboard in image\n"
     ]
    },
    {
     "name": "stderr",
     "output_type": "stream",
     "text": [
      " 75%|███████▌  | 17085/22732.0 [14:01<01:19, 70.78it/s]"
     ]
    },
    {
     "name": "stdout",
     "output_type": "stream",
     "text": [
      "Couldn't find chessboard in image\n",
      "Couldn't find chessboard in image\n",
      "Couldn't find chessboard in image\n",
      "Couldn't find chessboard in image\n",
      "Couldn't find chessboard in image\n",
      "Couldn't find chessboard in image\n",
      "Couldn't find chessboard in image\n",
      "Couldn't find chessboard in image\n",
      "Couldn't find chessboard in image\n",
      "Couldn't find chessboard in image\n",
      "Couldn't find chessboard in image\n",
      "Couldn't find chessboard in image\n",
      "Couldn't find chessboard in image\n",
      "Couldn't find chessboard in image\n",
      "Couldn't find chessboard in image\n"
     ]
    },
    {
     "name": "stderr",
     "output_type": "stream",
     "text": [
      " 75%|███████▌  | 17101/22732.0 [14:01<01:19, 70.91it/s]"
     ]
    },
    {
     "name": "stdout",
     "output_type": "stream",
     "text": [
      "Couldn't find chessboard in image\n",
      "Couldn't find chessboard in image\n",
      "Couldn't find chessboard in image\n",
      "Couldn't find chessboard in image\n",
      "Couldn't find chessboard in image\n",
      "Couldn't find chessboard in image\n",
      "Couldn't find chessboard in image\n",
      "Couldn't find chessboard in image\n",
      "Couldn't find chessboard in image\n",
      "Couldn't find chessboard in image\n",
      "Couldn't find chessboard in image\n",
      "Couldn't find chessboard in image\n",
      "Couldn't find chessboard in image\n",
      "Couldn't find chessboard in image\n",
      "Couldn't find chessboard in image\n"
     ]
    },
    {
     "name": "stderr",
     "output_type": "stream",
     "text": [
      " 75%|███████▌  | 17117/22732.0 [14:01<01:19, 71.07it/s]"
     ]
    },
    {
     "name": "stdout",
     "output_type": "stream",
     "text": [
      "Couldn't find chessboard in image\n",
      "Couldn't find chessboard in image\n",
      "Couldn't find chessboard in image\n",
      "Couldn't find chessboard in image\n",
      "Couldn't find chessboard in image\n",
      "Couldn't find chessboard in image\n",
      "Couldn't find chessboard in image\n",
      "Couldn't find chessboard in image\n",
      "Couldn't find chessboard in image\n",
      "Couldn't find chessboard in image\n",
      "Couldn't find chessboard in image\n",
      "Couldn't find chessboard in image\n",
      "Couldn't find chessboard in image\n",
      "Couldn't find chessboard in image\n",
      "Couldn't find chessboard in image\n"
     ]
    },
    {
     "name": "stderr",
     "output_type": "stream",
     "text": [
      " 75%|███████▌  | 17133/22732.0 [14:02<01:19, 70.61it/s]"
     ]
    },
    {
     "name": "stdout",
     "output_type": "stream",
     "text": [
      "Couldn't find chessboard in image\n",
      "Couldn't find chessboard in image\n",
      "Couldn't find chessboard in image\n",
      "Couldn't find chessboard in image\n",
      "Couldn't find chessboard in image\n",
      "Couldn't find chessboard in image\n",
      "Couldn't find chessboard in image\n",
      "Couldn't find chessboard in image\n",
      "Couldn't find chessboard in image\n",
      "Couldn't find chessboard in image\n",
      "Couldn't find chessboard in image\n",
      "Couldn't find chessboard in image\n",
      "Couldn't find chessboard in image\n",
      "Couldn't find chessboard in image\n",
      "Couldn't find chessboard in image\n"
     ]
    },
    {
     "name": "stderr",
     "output_type": "stream",
     "text": [
      " 75%|███████▌  | 17149/22732.0 [14:02<01:18, 70.80it/s]"
     ]
    },
    {
     "name": "stdout",
     "output_type": "stream",
     "text": [
      "Couldn't find chessboard in image\n",
      "Couldn't find chessboard in image\n",
      "Couldn't find chessboard in image\n",
      "Couldn't find chessboard in image\n",
      "Couldn't find chessboard in image\n",
      "Couldn't find chessboard in image\n",
      "Couldn't find chessboard in image\n",
      "Couldn't find chessboard in image\n",
      "Couldn't find chessboard in image\n",
      "Couldn't find chessboard in image\n",
      "Couldn't find chessboard in image\n",
      "Couldn't find chessboard in image\n",
      "Couldn't find chessboard in image\n",
      "Couldn't find chessboard in image\n",
      "Couldn't find chessboard in image\n"
     ]
    },
    {
     "name": "stderr",
     "output_type": "stream",
     "text": [
      " 76%|███████▌  | 17165/22732.0 [14:02<01:18, 70.94it/s]"
     ]
    },
    {
     "name": "stdout",
     "output_type": "stream",
     "text": [
      "Couldn't find chessboard in image\n",
      "Couldn't find chessboard in image\n",
      "Couldn't find chessboard in image\n",
      "Couldn't find chessboard in image\n",
      "Couldn't find chessboard in image\n",
      "Couldn't find chessboard in image\n",
      "Couldn't find chessboard in image\n",
      "Couldn't find chessboard in image\n",
      "Couldn't find chessboard in image\n",
      "Couldn't find chessboard in image\n",
      "Couldn't find chessboard in image\n",
      "Couldn't find chessboard in image\n",
      "Couldn't find chessboard in image\n",
      "Couldn't find chessboard in image\n",
      "Couldn't find chessboard in image\n"
     ]
    },
    {
     "name": "stderr",
     "output_type": "stream",
     "text": [
      " 76%|███████▌  | 17173/22732.0 [14:02<01:18, 70.95it/s]"
     ]
    },
    {
     "name": "stdout",
     "output_type": "stream",
     "text": [
      "Couldn't find chessboard in image\n",
      "Couldn't find chessboard in image\n",
      "Couldn't find chessboard in image\n",
      "Couldn't find chessboard in image\n",
      "Couldn't find chessboard in image\n",
      "Couldn't find chessboard in image\n",
      "Couldn't find chessboard in image\n",
      "Couldn't find chessboard in image\n",
      "Couldn't find chessboard in image\n",
      "Couldn't find chessboard in image\n",
      "Couldn't find chessboard in image\n",
      "Couldn't find chessboard in image\n",
      "Couldn't find chessboard in image\n",
      "Couldn't find chessboard in image\n",
      "Couldn't find chessboard in image\n"
     ]
    },
    {
     "name": "stderr",
     "output_type": "stream",
     "text": [
      " 76%|███████▌  | 17189/22732.0 [14:02<01:18, 70.92it/s]"
     ]
    },
    {
     "name": "stdout",
     "output_type": "stream",
     "text": [
      "Couldn't find chessboard in image\n",
      "Couldn't find chessboard in image\n",
      "Couldn't find chessboard in image\n",
      "Couldn't find chessboard in image\n",
      "Couldn't find chessboard in image\n",
      "Couldn't find chessboard in image\n",
      "Couldn't find chessboard in image\n",
      "Couldn't find chessboard in image\n",
      "Couldn't find chessboard in image\n",
      "Couldn't find chessboard in image\n",
      "Couldn't find chessboard in image\n",
      "Couldn't find chessboard in image\n",
      "Couldn't find chessboard in image\n",
      "Couldn't find chessboard in image\n",
      "Couldn't find chessboard in image\n"
     ]
    },
    {
     "name": "stderr",
     "output_type": "stream",
     "text": [
      " 76%|███████▌  | 17205/22732.0 [14:03<01:18, 70.80it/s]"
     ]
    },
    {
     "name": "stdout",
     "output_type": "stream",
     "text": [
      "Couldn't find chessboard in image\n",
      "Couldn't find chessboard in image\n",
      "Couldn't find chessboard in image\n",
      "Couldn't find chessboard in image\n",
      "Couldn't find chessboard in image\n",
      "Couldn't find chessboard in image\n",
      "Couldn't find chessboard in image\n",
      "Couldn't find chessboard in image\n",
      "Couldn't find chessboard in image\n",
      "Couldn't find chessboard in image\n",
      "Couldn't find chessboard in image\n",
      "Couldn't find chessboard in image\n",
      "Couldn't find chessboard in image\n",
      "Couldn't find chessboard in image\n",
      "Couldn't find chessboard in image\n"
     ]
    },
    {
     "name": "stderr",
     "output_type": "stream",
     "text": [
      " 76%|███████▌  | 17221/22732.0 [14:03<01:17, 71.06it/s]"
     ]
    },
    {
     "name": "stdout",
     "output_type": "stream",
     "text": [
      "Couldn't find chessboard in image\n",
      "Couldn't find chessboard in image\n",
      "Couldn't find chessboard in image\n",
      "Couldn't find chessboard in image\n",
      "Couldn't find chessboard in image\n",
      "Couldn't find chessboard in image\n",
      "Couldn't find chessboard in image\n",
      "Couldn't find chessboard in image\n",
      "Couldn't find chessboard in image\n",
      "Couldn't find chessboard in image\n",
      "Couldn't find chessboard in image\n",
      "Couldn't find chessboard in image\n",
      "Couldn't find chessboard in image\n",
      "Couldn't find chessboard in image\n",
      "Couldn't find chessboard in image\n"
     ]
    },
    {
     "name": "stderr",
     "output_type": "stream",
     "text": [
      " 76%|███████▌  | 17237/22732.0 [14:03<01:17, 71.27it/s]"
     ]
    },
    {
     "name": "stdout",
     "output_type": "stream",
     "text": [
      "Couldn't find chessboard in image\n",
      "Couldn't find chessboard in image\n",
      "Couldn't find chessboard in image\n",
      "Couldn't find chessboard in image\n",
      "Couldn't find chessboard in image\n",
      "Couldn't find chessboard in image\n",
      "Couldn't find chessboard in image\n",
      "Couldn't find chessboard in image\n",
      "Couldn't find chessboard in image\n",
      "Couldn't find chessboard in image\n",
      "Couldn't find chessboard in image\n",
      "Couldn't find chessboard in image\n",
      "Couldn't find chessboard in image\n",
      "Couldn't find chessboard in image\n",
      "Couldn't find chessboard in image\n"
     ]
    },
    {
     "name": "stderr",
     "output_type": "stream",
     "text": [
      " 76%|███████▌  | 17253/22732.0 [14:03<01:16, 71.23it/s]"
     ]
    },
    {
     "name": "stdout",
     "output_type": "stream",
     "text": [
      "Couldn't find chessboard in image\n",
      "Couldn't find chessboard in image\n",
      "Couldn't find chessboard in image\n",
      "Couldn't find chessboard in image\n",
      "Couldn't find chessboard in image\n",
      "Couldn't find chessboard in image\n",
      "Couldn't find chessboard in image\n",
      "Couldn't find chessboard in image\n",
      "Couldn't find chessboard in image\n",
      "Couldn't find chessboard in image\n",
      "Couldn't find chessboard in image\n",
      "Couldn't find chessboard in image\n",
      "Couldn't find chessboard in image\n",
      "Couldn't find chessboard in image\n",
      "Couldn't find chessboard in image\n"
     ]
    },
    {
     "name": "stderr",
     "output_type": "stream",
     "text": [
      " 76%|███████▌  | 17269/22732.0 [14:04<01:17, 70.81it/s]"
     ]
    },
    {
     "name": "stdout",
     "output_type": "stream",
     "text": [
      "Couldn't find chessboard in image\n",
      "Couldn't find chessboard in image\n",
      "Couldn't find chessboard in image\n",
      "Couldn't find chessboard in image\n",
      "Couldn't find chessboard in image\n",
      "Couldn't find chessboard in image\n",
      "Couldn't find chessboard in image\n",
      "Couldn't find chessboard in image\n",
      "Couldn't find chessboard in image\n",
      "Couldn't find chessboard in image\n",
      "Couldn't find chessboard in image\n",
      "Couldn't find chessboard in image\n",
      "Couldn't find chessboard in image\n",
      "Couldn't find chessboard in image\n",
      "Couldn't find chessboard in image\n"
     ]
    },
    {
     "name": "stderr",
     "output_type": "stream",
     "text": [
      " 76%|███████▌  | 17285/22732.0 [14:04<01:16, 70.90it/s]"
     ]
    },
    {
     "name": "stdout",
     "output_type": "stream",
     "text": [
      "Couldn't find chessboard in image\n",
      "Couldn't find chessboard in image\n",
      "Couldn't find chessboard in image\n",
      "Couldn't find chessboard in image\n",
      "Couldn't find chessboard in image\n",
      "Couldn't find chessboard in image\n",
      "Couldn't find chessboard in image\n",
      "Couldn't find chessboard in image\n",
      "Couldn't find chessboard in image\n",
      "Couldn't find chessboard in image\n",
      "Couldn't find chessboard in image\n",
      "Couldn't find chessboard in image\n",
      "Couldn't find chessboard in image\n",
      "Couldn't find chessboard in image\n",
      "Couldn't find chessboard in image\n"
     ]
    },
    {
     "name": "stderr",
     "output_type": "stream",
     "text": [
      " 76%|███████▌  | 17293/22732.0 [14:04<01:16, 71.10it/s]"
     ]
    },
    {
     "name": "stdout",
     "output_type": "stream",
     "text": [
      "Couldn't find chessboard in image\n",
      "Couldn't find chessboard in image\n",
      "Couldn't find chessboard in image\n",
      "Couldn't find chessboard in image\n",
      "Couldn't find chessboard in image\n",
      "Couldn't find chessboard in image\n",
      "Couldn't find chessboard in image\n",
      "Couldn't find chessboard in image\n",
      "Couldn't find chessboard in image\n",
      "Couldn't find chessboard in image\n",
      "Couldn't find chessboard in image\n",
      "Couldn't find chessboard in image\n",
      "Couldn't find chessboard in image\n",
      "Couldn't find chessboard in image\n",
      "Couldn't find chessboard in image\n"
     ]
    },
    {
     "name": "stderr",
     "output_type": "stream",
     "text": [
      " 76%|███████▌  | 17309/22732.0 [14:04<01:16, 71.16it/s]"
     ]
    },
    {
     "name": "stdout",
     "output_type": "stream",
     "text": [
      "Couldn't find chessboard in image\n",
      "Couldn't find chessboard in image\n",
      "Couldn't find chessboard in image\n",
      "Couldn't find chessboard in image\n",
      "Couldn't find chessboard in image\n",
      "Couldn't find chessboard in image\n",
      "Couldn't find chessboard in image\n",
      "Couldn't find chessboard in image\n",
      "Couldn't find chessboard in image\n",
      "Couldn't find chessboard in image\n",
      "Couldn't find chessboard in image\n",
      "Couldn't find chessboard in image\n",
      "Couldn't find chessboard in image\n",
      "Couldn't find chessboard in image\n",
      "Couldn't find chessboard in image\n"
     ]
    },
    {
     "name": "stderr",
     "output_type": "stream",
     "text": [
      " 76%|███████▌  | 17325/22732.0 [14:04<01:16, 70.92it/s]"
     ]
    },
    {
     "name": "stdout",
     "output_type": "stream",
     "text": [
      "Couldn't find chessboard in image\n",
      "Couldn't find chessboard in image\n",
      "Couldn't find chessboard in image\n",
      "Couldn't find chessboard in image\n",
      "Couldn't find chessboard in image\n",
      "Couldn't find chessboard in image\n",
      "Couldn't find chessboard in image\n",
      "Couldn't find chessboard in image\n",
      "Couldn't find chessboard in image\n",
      "Couldn't find chessboard in image\n",
      "Couldn't find chessboard in image\n",
      "Couldn't find chessboard in image\n",
      "Couldn't find chessboard in image\n",
      "Couldn't find chessboard in image\n",
      "Couldn't find chessboard in image\n"
     ]
    },
    {
     "name": "stderr",
     "output_type": "stream",
     "text": [
      " 76%|███████▋  | 17341/22732.0 [14:05<01:15, 71.06it/s]"
     ]
    },
    {
     "name": "stdout",
     "output_type": "stream",
     "text": [
      "Couldn't find chessboard in image\n",
      "Couldn't find chessboard in image\n",
      "Couldn't find chessboard in image\n",
      "Couldn't find chessboard in image\n",
      "Couldn't find chessboard in image\n",
      "Couldn't find chessboard in image\n",
      "Couldn't find chessboard in image\n",
      "Couldn't find chessboard in image\n",
      "Couldn't find chessboard in image\n",
      "Couldn't find chessboard in image\n",
      "Couldn't find chessboard in image\n",
      "Couldn't find chessboard in image\n",
      "Couldn't find chessboard in image\n",
      "Couldn't find chessboard in image\n",
      "Couldn't find chessboard in image\n"
     ]
    },
    {
     "name": "stderr",
     "output_type": "stream",
     "text": [
      " 76%|███████▋  | 17357/22732.0 [14:05<01:15, 71.09it/s]"
     ]
    },
    {
     "name": "stdout",
     "output_type": "stream",
     "text": [
      "Couldn't find chessboard in image\n",
      "Couldn't find chessboard in image\n",
      "Couldn't find chessboard in image\n",
      "Couldn't find chessboard in image\n",
      "Couldn't find chessboard in image\n",
      "Couldn't find chessboard in image\n",
      "Couldn't find chessboard in image\n",
      "Couldn't find chessboard in image\n",
      "Couldn't find chessboard in image\n",
      "Couldn't find chessboard in image\n",
      "Couldn't find chessboard in image\n",
      "Couldn't find chessboard in image\n",
      "Couldn't find chessboard in image\n",
      "Couldn't find chessboard in image\n",
      "Couldn't find chessboard in image\n"
     ]
    },
    {
     "name": "stderr",
     "output_type": "stream",
     "text": [
      " 76%|███████▋  | 17373/22732.0 [14:05<01:15, 71.16it/s]"
     ]
    },
    {
     "name": "stdout",
     "output_type": "stream",
     "text": [
      "Couldn't find chessboard in image\n",
      "Couldn't find chessboard in image\n",
      "Couldn't find chessboard in image\n",
      "Couldn't find chessboard in image\n",
      "Couldn't find chessboard in image\n",
      "Couldn't find chessboard in image\n",
      "Couldn't find chessboard in image\n",
      "Couldn't find chessboard in image\n",
      "Couldn't find chessboard in image\n",
      "Couldn't find chessboard in image\n",
      "Couldn't find chessboard in image\n",
      "Couldn't find chessboard in image\n",
      "Couldn't find chessboard in image\n",
      "Couldn't find chessboard in image\n",
      "Couldn't find chessboard in image\n"
     ]
    },
    {
     "name": "stderr",
     "output_type": "stream",
     "text": [
      " 76%|███████▋  | 17389/22732.0 [14:05<01:15, 71.18it/s]"
     ]
    },
    {
     "name": "stdout",
     "output_type": "stream",
     "text": [
      "Couldn't find chessboard in image\n",
      "Couldn't find chessboard in image\n",
      "Couldn't find chessboard in image\n",
      "Couldn't find chessboard in image\n",
      "Couldn't find chessboard in image\n",
      "Couldn't find chessboard in image\n",
      "Couldn't find chessboard in image\n",
      "Couldn't find chessboard in image\n",
      "Couldn't find chessboard in image\n",
      "Couldn't find chessboard in image\n",
      "Couldn't find chessboard in image\n",
      "Couldn't find chessboard in image\n",
      "Couldn't find chessboard in image\n",
      "Couldn't find chessboard in image\n",
      "Couldn't find chessboard in image\n"
     ]
    },
    {
     "name": "stderr",
     "output_type": "stream",
     "text": [
      " 77%|███████▋  | 17397/22732.0 [14:05<01:14, 71.18it/s]"
     ]
    },
    {
     "name": "stdout",
     "output_type": "stream",
     "text": [
      "Couldn't find chessboard in image\n",
      "Couldn't find chessboard in image\n",
      "Couldn't find chessboard in image\n",
      "Couldn't find chessboard in image\n",
      "Couldn't find chessboard in image\n",
      "Couldn't find chessboard in image\n",
      "Couldn't find chessboard in image\n",
      "Couldn't find chessboard in image\n",
      "Couldn't find chessboard in image\n",
      "Couldn't find chessboard in image\n",
      "Couldn't find chessboard in image\n",
      "Couldn't find chessboard in image\n",
      "Couldn't find chessboard in image\n",
      "Couldn't find chessboard in image\n",
      "Couldn't find chessboard in image\n"
     ]
    },
    {
     "name": "stderr",
     "output_type": "stream",
     "text": [
      " 77%|███████▋  | 17413/22732.0 [14:06<01:15, 70.79it/s]"
     ]
    },
    {
     "name": "stdout",
     "output_type": "stream",
     "text": [
      "Couldn't find chessboard in image\n",
      "Couldn't find chessboard in image\n",
      "Couldn't find chessboard in image\n",
      "Couldn't find chessboard in image\n",
      "Couldn't find chessboard in image\n",
      "Couldn't find chessboard in image\n",
      "Couldn't find chessboard in image\n",
      "Couldn't find chessboard in image\n",
      "Couldn't find chessboard in image\n",
      "Couldn't find chessboard in image\n",
      "Couldn't find chessboard in image\n",
      "Couldn't find chessboard in image\n",
      "Couldn't find chessboard in image\n",
      "Couldn't find chessboard in image\n",
      "Couldn't find chessboard in image\n"
     ]
    },
    {
     "name": "stderr",
     "output_type": "stream",
     "text": [
      " 77%|███████▋  | 17429/22732.0 [14:06<01:14, 70.87it/s]"
     ]
    },
    {
     "name": "stdout",
     "output_type": "stream",
     "text": [
      "Couldn't find chessboard in image\n",
      "Couldn't find chessboard in image\n",
      "Couldn't find chessboard in image\n",
      "Couldn't find chessboard in image\n",
      "Couldn't find chessboard in image\n",
      "Couldn't find chessboard in image\n",
      "Couldn't find chessboard in image\n",
      "Couldn't find chessboard in image\n",
      "Couldn't find chessboard in image\n",
      "Couldn't find chessboard in image\n",
      "Couldn't find chessboard in image\n",
      "Couldn't find chessboard in image\n",
      "Couldn't find chessboard in image\n",
      "Couldn't find chessboard in image\n",
      "Couldn't find chessboard in image\n"
     ]
    },
    {
     "name": "stderr",
     "output_type": "stream",
     "text": [
      " 77%|███████▋  | 17445/22732.0 [14:06<01:14, 71.01it/s]"
     ]
    },
    {
     "name": "stdout",
     "output_type": "stream",
     "text": [
      "Couldn't find chessboard in image\n",
      "Couldn't find chessboard in image\n",
      "Couldn't find chessboard in image\n",
      "Couldn't find chessboard in image\n",
      "Couldn't find chessboard in image\n",
      "Couldn't find chessboard in image\n",
      "Couldn't find chessboard in image\n",
      "Couldn't find chessboard in image\n",
      "Couldn't find chessboard in image\n",
      "Couldn't find chessboard in image\n",
      "Couldn't find chessboard in image\n",
      "Couldn't find chessboard in image\n",
      "Couldn't find chessboard in image\n",
      "Couldn't find chessboard in image\n",
      "Couldn't find chessboard in image\n"
     ]
    },
    {
     "name": "stderr",
     "output_type": "stream",
     "text": [
      " 77%|███████▋  | 17461/22732.0 [14:06<01:14, 70.85it/s]"
     ]
    },
    {
     "name": "stdout",
     "output_type": "stream",
     "text": [
      "Couldn't find chessboard in image\n",
      "Couldn't find chessboard in image\n",
      "Couldn't find chessboard in image\n",
      "Couldn't find chessboard in image\n",
      "Couldn't find chessboard in image\n",
      "Couldn't find chessboard in image\n",
      "Couldn't find chessboard in image\n",
      "Couldn't find chessboard in image\n",
      "Couldn't find chessboard in image\n",
      "Couldn't find chessboard in image\n",
      "Couldn't find chessboard in image\n",
      "Couldn't find chessboard in image\n",
      "Couldn't find chessboard in image\n",
      "Couldn't find chessboard in image\n",
      "Couldn't find chessboard in image\n"
     ]
    },
    {
     "name": "stderr",
     "output_type": "stream",
     "text": [
      " 77%|███████▋  | 17477/22732.0 [14:07<01:14, 70.87it/s]"
     ]
    },
    {
     "name": "stdout",
     "output_type": "stream",
     "text": [
      "Couldn't find chessboard in image\n",
      "Couldn't find chessboard in image\n",
      "Couldn't find chessboard in image\n",
      "Couldn't find chessboard in image\n",
      "Couldn't find chessboard in image\n",
      "Couldn't find chessboard in image\n",
      "Couldn't find chessboard in image\n",
      "Couldn't find chessboard in image\n",
      "Couldn't find chessboard in image\n",
      "Couldn't find chessboard in image\n",
      "Couldn't find chessboard in image\n",
      "Couldn't find chessboard in image\n",
      "Couldn't find chessboard in image\n",
      "Couldn't find chessboard in image\n",
      "Couldn't find chessboard in image\n"
     ]
    },
    {
     "name": "stderr",
     "output_type": "stream",
     "text": [
      " 77%|███████▋  | 17493/22732.0 [14:07<01:13, 70.91it/s]"
     ]
    },
    {
     "name": "stdout",
     "output_type": "stream",
     "text": [
      "Couldn't find chessboard in image\n",
      "Couldn't find chessboard in image\n",
      "Couldn't find chessboard in image\n",
      "Couldn't find chessboard in image\n",
      "Couldn't find chessboard in image\n",
      "Couldn't find chessboard in image\n",
      "Couldn't find chessboard in image\n",
      "Couldn't find chessboard in image\n",
      "Couldn't find chessboard in image\n",
      "Couldn't find chessboard in image\n",
      "Couldn't find chessboard in image\n",
      "Couldn't find chessboard in image\n",
      "Couldn't find chessboard in image\n",
      "Couldn't find chessboard in image\n",
      "Couldn't find chessboard in image\n"
     ]
    },
    {
     "name": "stderr",
     "output_type": "stream",
     "text": [
      " 77%|███████▋  | 17509/22732.0 [14:07<01:13, 70.81it/s]"
     ]
    },
    {
     "name": "stdout",
     "output_type": "stream",
     "text": [
      "Couldn't find chessboard in image\n",
      "Couldn't find chessboard in image\n",
      "Couldn't find chessboard in image\n",
      "Couldn't find chessboard in image\n",
      "Couldn't find chessboard in image\n",
      "Couldn't find chessboard in image\n",
      "Couldn't find chessboard in image\n",
      "Couldn't find chessboard in image\n",
      "Couldn't find chessboard in image\n",
      "Couldn't find chessboard in image\n",
      "Couldn't find chessboard in image\n",
      "Couldn't find chessboard in image\n",
      "Couldn't find chessboard in image\n",
      "Couldn't find chessboard in image\n",
      "Couldn't find chessboard in image\n"
     ]
    },
    {
     "name": "stderr",
     "output_type": "stream",
     "text": [
      " 77%|███████▋  | 17525/22732.0 [14:07<01:12, 71.47it/s]"
     ]
    },
    {
     "name": "stdout",
     "output_type": "stream",
     "text": [
      "Couldn't find chessboard in image\n",
      "Couldn't find chessboard in image\n",
      "Couldn't find chessboard in image\n",
      "Couldn't find chessboard in image\n",
      "Couldn't find chessboard in image\n",
      "Couldn't find chessboard in image\n",
      "Couldn't find chessboard in image\n",
      "Couldn't find chessboard in image\n",
      "Couldn't find chessboard in image\n",
      "Couldn't find chessboard in image\n",
      "Couldn't find chessboard in image\n",
      "Couldn't find chessboard in image\n",
      "Couldn't find chessboard in image\n",
      "Couldn't find chessboard in image\n",
      "Couldn't find chessboard in image\n"
     ]
    },
    {
     "name": "stderr",
     "output_type": "stream",
     "text": [
      " 77%|███████▋  | 17533/22732.0 [14:07<01:12, 71.63it/s]"
     ]
    },
    {
     "name": "stdout",
     "output_type": "stream",
     "text": [
      "Couldn't find chessboard in image\n",
      "Couldn't find chessboard in image\n",
      "Couldn't find chessboard in image\n",
      "Couldn't find chessboard in image\n",
      "Couldn't find chessboard in image\n",
      "Couldn't find chessboard in image\n",
      "Couldn't find chessboard in image\n",
      "Couldn't find chessboard in image\n",
      "Couldn't find chessboard in image\n",
      "Couldn't find chessboard in image\n",
      "Couldn't find chessboard in image\n",
      "Couldn't find chessboard in image\n",
      "Couldn't find chessboard in image\n",
      "Couldn't find chessboard in image\n",
      "Couldn't find chessboard in image\n"
     ]
    },
    {
     "name": "stderr",
     "output_type": "stream",
     "text": [
      " 77%|███████▋  | 17549/22732.0 [14:08<01:12, 71.40it/s]"
     ]
    },
    {
     "name": "stdout",
     "output_type": "stream",
     "text": [
      "Couldn't find chessboard in image\n",
      "Couldn't find chessboard in image\n",
      "Couldn't find chessboard in image\n",
      "Couldn't find chessboard in image\n",
      "Couldn't find chessboard in image\n",
      "Couldn't find chessboard in image\n",
      "Couldn't find chessboard in image\n",
      "Couldn't find chessboard in image\n",
      "Couldn't find chessboard in image\n",
      "Couldn't find chessboard in image\n",
      "Couldn't find chessboard in image\n",
      "Couldn't find chessboard in image\n",
      "Couldn't find chessboard in image\n",
      "Couldn't find chessboard in image\n",
      "Couldn't find chessboard in image\n"
     ]
    },
    {
     "name": "stderr",
     "output_type": "stream",
     "text": [
      " 77%|███████▋  | 17565/22732.0 [14:08<01:12, 71.67it/s]"
     ]
    },
    {
     "name": "stdout",
     "output_type": "stream",
     "text": [
      "Couldn't find chessboard in image\n",
      "Couldn't find chessboard in image\n",
      "Couldn't find chessboard in image\n",
      "Couldn't find chessboard in image\n",
      "Couldn't find chessboard in image\n",
      "Couldn't find chessboard in image\n",
      "Couldn't find chessboard in image\n",
      "Couldn't find chessboard in image\n",
      "Couldn't find chessboard in image\n",
      "Couldn't find chessboard in image\n",
      "Couldn't find chessboard in image\n",
      "Couldn't find chessboard in image\n",
      "Couldn't find chessboard in image\n",
      "Couldn't find chessboard in image\n",
      "Couldn't find chessboard in image\n"
     ]
    },
    {
     "name": "stderr",
     "output_type": "stream",
     "text": [
      " 77%|███████▋  | 17581/22732.0 [14:08<01:11, 71.81it/s]"
     ]
    },
    {
     "name": "stdout",
     "output_type": "stream",
     "text": [
      "Couldn't find chessboard in image\n",
      "Couldn't find chessboard in image\n",
      "Couldn't find chessboard in image\n",
      "Couldn't find chessboard in image\n",
      "Couldn't find chessboard in image\n",
      "Couldn't find chessboard in image\n",
      "Couldn't find chessboard in image\n",
      "Couldn't find chessboard in image\n",
      "Couldn't find chessboard in image\n",
      "Couldn't find chessboard in image\n",
      "Couldn't find chessboard in image\n",
      "Couldn't find chessboard in image\n",
      "Couldn't find chessboard in image\n",
      "Couldn't find chessboard in image\n",
      "Couldn't find chessboard in image\n"
     ]
    },
    {
     "name": "stderr",
     "output_type": "stream",
     "text": [
      " 77%|███████▋  | 17597/22732.0 [14:08<01:11, 71.78it/s]"
     ]
    },
    {
     "name": "stdout",
     "output_type": "stream",
     "text": [
      "Couldn't find chessboard in image\n",
      "Couldn't find chessboard in image\n",
      "Couldn't find chessboard in image\n",
      "Couldn't find chessboard in image\n",
      "Couldn't find chessboard in image\n",
      "Couldn't find chessboard in image\n",
      "Couldn't find chessboard in image\n",
      "Couldn't find chessboard in image\n",
      "Couldn't find chessboard in image\n",
      "Couldn't find chessboard in image\n",
      "Couldn't find chessboard in image\n",
      "Couldn't find chessboard in image\n",
      "Couldn't find chessboard in image\n",
      "Couldn't find chessboard in image\n",
      "Couldn't find chessboard in image\n"
     ]
    },
    {
     "name": "stderr",
     "output_type": "stream",
     "text": [
      " 77%|███████▋  | 17613/22732.0 [14:08<01:11, 71.75it/s]"
     ]
    },
    {
     "name": "stdout",
     "output_type": "stream",
     "text": [
      "Couldn't find chessboard in image\n",
      "Couldn't find chessboard in image\n",
      "Couldn't find chessboard in image\n",
      "Couldn't find chessboard in image\n",
      "Couldn't find chessboard in image\n",
      "Couldn't find chessboard in image\n",
      "Couldn't find chessboard in image\n",
      "Couldn't find chessboard in image\n",
      "Couldn't find chessboard in image\n",
      "Couldn't find chessboard in image\n",
      "Couldn't find chessboard in image\n",
      "Couldn't find chessboard in image\n",
      "Couldn't find chessboard in image\n",
      "Couldn't find chessboard in image\n",
      "Couldn't find chessboard in image\n"
     ]
    },
    {
     "name": "stderr",
     "output_type": "stream",
     "text": [
      " 78%|███████▊  | 17629/22732.0 [14:09<01:11, 71.75it/s]"
     ]
    },
    {
     "name": "stdout",
     "output_type": "stream",
     "text": [
      "Couldn't find chessboard in image\n",
      "Couldn't find chessboard in image\n",
      "Couldn't find chessboard in image\n",
      "Couldn't find chessboard in image\n",
      "Couldn't find chessboard in image\n",
      "Couldn't find chessboard in image\n",
      "Couldn't find chessboard in image\n",
      "Couldn't find chessboard in image\n",
      "Couldn't find chessboard in image\n",
      "Couldn't find chessboard in image\n",
      "Couldn't find chessboard in image\n",
      "Couldn't find chessboard in image\n",
      "Couldn't find chessboard in image\n",
      "Couldn't find chessboard in image\n",
      "Couldn't find chessboard in image\n"
     ]
    },
    {
     "name": "stderr",
     "output_type": "stream",
     "text": [
      " 78%|███████▊  | 17645/22732.0 [14:09<01:10, 71.87it/s]"
     ]
    },
    {
     "name": "stdout",
     "output_type": "stream",
     "text": [
      "Couldn't find chessboard in image\n",
      "Couldn't find chessboard in image\n",
      "Couldn't find chessboard in image\n",
      "Couldn't find chessboard in image\n",
      "Couldn't find chessboard in image\n",
      "Couldn't find chessboard in image\n",
      "Couldn't find chessboard in image\n",
      "Couldn't find chessboard in image\n",
      "Couldn't find chessboard in image\n",
      "Couldn't find chessboard in image\n",
      "Couldn't find chessboard in image\n",
      "Couldn't find chessboard in image\n",
      "Couldn't find chessboard in image\n",
      "Couldn't find chessboard in image\n",
      "Couldn't find chessboard in image\n"
     ]
    },
    {
     "name": "stderr",
     "output_type": "stream",
     "text": [
      " 78%|███████▊  | 17653/22732.0 [14:09<01:10, 71.96it/s]"
     ]
    },
    {
     "name": "stdout",
     "output_type": "stream",
     "text": [
      "Couldn't find chessboard in image\n",
      "Couldn't find chessboard in image\n",
      "Couldn't find chessboard in image\n",
      "Couldn't find chessboard in image\n",
      "Couldn't find chessboard in image\n",
      "Couldn't find chessboard in image\n",
      "Couldn't find chessboard in image\n",
      "Couldn't find chessboard in image\n",
      "Couldn't find chessboard in image\n",
      "Couldn't find chessboard in image\n",
      "Couldn't find chessboard in image\n",
      "Couldn't find chessboard in image\n",
      "Couldn't find chessboard in image\n",
      "Couldn't find chessboard in image\n",
      "Couldn't find chessboard in image\n"
     ]
    },
    {
     "name": "stderr",
     "output_type": "stream",
     "text": [
      " 78%|███████▊  | 17669/22732.0 [14:09<01:10, 71.69it/s]"
     ]
    },
    {
     "name": "stdout",
     "output_type": "stream",
     "text": [
      "Couldn't find chessboard in image\n",
      "Couldn't find chessboard in image\n",
      "Couldn't find chessboard in image\n",
      "Couldn't find chessboard in image\n",
      "Couldn't find chessboard in image\n",
      "Couldn't find chessboard in image\n",
      "Couldn't find chessboard in image\n",
      "Couldn't find chessboard in image\n",
      "Couldn't find chessboard in image\n",
      "Couldn't find chessboard in image\n",
      "Couldn't find chessboard in image\n",
      "Couldn't find chessboard in image\n",
      "Couldn't find chessboard in image\n",
      "Couldn't find chessboard in image\n",
      "Couldn't find chessboard in image\n"
     ]
    },
    {
     "name": "stderr",
     "output_type": "stream",
     "text": [
      " 78%|███████▊  | 17685/22732.0 [14:09<01:10, 71.87it/s]"
     ]
    },
    {
     "name": "stdout",
     "output_type": "stream",
     "text": [
      "Couldn't find chessboard in image\n",
      "Couldn't find chessboard in image\n",
      "Couldn't find chessboard in image\n",
      "Couldn't find chessboard in image\n",
      "Couldn't find chessboard in image\n",
      "Couldn't find chessboard in image\n",
      "Couldn't find chessboard in image\n",
      "Couldn't find chessboard in image\n",
      "Couldn't find chessboard in image\n",
      "Couldn't find chessboard in image\n",
      "Couldn't find chessboard in image\n",
      "Couldn't find chessboard in image\n",
      "Couldn't find chessboard in image\n",
      "Couldn't find chessboard in image\n",
      "Couldn't find chessboard in image\n"
     ]
    },
    {
     "name": "stderr",
     "output_type": "stream",
     "text": [
      " 78%|███████▊  | 17701/22732.0 [14:10<01:09, 71.89it/s]"
     ]
    },
    {
     "name": "stdout",
     "output_type": "stream",
     "text": [
      "Couldn't find chessboard in image\n",
      "Couldn't find chessboard in image\n",
      "Couldn't find chessboard in image\n",
      "Couldn't find chessboard in image\n",
      "Couldn't find chessboard in image\n",
      "Couldn't find chessboard in image\n",
      "Couldn't find chessboard in image\n",
      "Couldn't find chessboard in image\n",
      "Couldn't find chessboard in image\n",
      "Couldn't find chessboard in image\n",
      "Couldn't find chessboard in image\n",
      "Couldn't find chessboard in image\n",
      "Couldn't find chessboard in image\n",
      "Couldn't find chessboard in image\n",
      "Couldn't find chessboard in image\n"
     ]
    },
    {
     "name": "stderr",
     "output_type": "stream",
     "text": [
      " 78%|███████▊  | 17717/22732.0 [14:10<01:09, 72.29it/s]"
     ]
    },
    {
     "name": "stdout",
     "output_type": "stream",
     "text": [
      "Couldn't find chessboard in image\n",
      "Couldn't find chessboard in image\n",
      "Couldn't find chessboard in image\n",
      "Couldn't find chessboard in image\n",
      "Couldn't find chessboard in image\n",
      "Couldn't find chessboard in image\n",
      "Couldn't find chessboard in image\n",
      "Couldn't find chessboard in image\n",
      "Couldn't find chessboard in image\n",
      "Couldn't find chessboard in image\n",
      "Couldn't find chessboard in image\n",
      "Couldn't find chessboard in image\n",
      "Couldn't find chessboard in image\n",
      "Couldn't find chessboard in image\n",
      "Couldn't find chessboard in image\n"
     ]
    },
    {
     "name": "stderr",
     "output_type": "stream",
     "text": [
      " 78%|███████▊  | 17733/22732.0 [14:10<01:09, 71.71it/s]"
     ]
    },
    {
     "name": "stdout",
     "output_type": "stream",
     "text": [
      "Couldn't find chessboard in image\n",
      "Couldn't find chessboard in image\n",
      "Couldn't find chessboard in image\n",
      "Couldn't find chessboard in image\n",
      "Couldn't find chessboard in image\n",
      "Couldn't find chessboard in image\n",
      "Couldn't find chessboard in image\n",
      "Couldn't find chessboard in image\n",
      "Couldn't find chessboard in image\n",
      "Couldn't find chessboard in image\n",
      "Couldn't find chessboard in image\n",
      "Couldn't find chessboard in image\n",
      "Couldn't find chessboard in image\n",
      "Couldn't find chessboard in image\n",
      "Couldn't find chessboard in image\n"
     ]
    },
    {
     "name": "stderr",
     "output_type": "stream",
     "text": [
      " 78%|███████▊  | 17749/22732.0 [14:10<01:09, 71.62it/s]"
     ]
    },
    {
     "name": "stdout",
     "output_type": "stream",
     "text": [
      "Couldn't find chessboard in image\n",
      "Couldn't find chessboard in image\n",
      "Couldn't find chessboard in image\n",
      "Couldn't find chessboard in image\n",
      "Couldn't find chessboard in image\n",
      "Couldn't find chessboard in image\n",
      "Couldn't find chessboard in image\n",
      "Couldn't find chessboard in image\n",
      "Couldn't find chessboard in image\n",
      "Couldn't find chessboard in image\n",
      "Couldn't find chessboard in image\n",
      "Couldn't find chessboard in image\n",
      "Couldn't find chessboard in image\n",
      "Couldn't find chessboard in image\n",
      "Couldn't find chessboard in image\n"
     ]
    },
    {
     "name": "stderr",
     "output_type": "stream",
     "text": [
      " 78%|███████▊  | 17765/22732.0 [14:11<01:09, 71.43it/s]"
     ]
    },
    {
     "name": "stdout",
     "output_type": "stream",
     "text": [
      "Couldn't find chessboard in image\n",
      "Couldn't find chessboard in image\n",
      "Couldn't find chessboard in image\n",
      "Couldn't find chessboard in image\n",
      "Couldn't find chessboard in image\n",
      "Couldn't find chessboard in image\n",
      "Couldn't find chessboard in image\n",
      "Couldn't find chessboard in image\n",
      "Couldn't find chessboard in image\n",
      "Couldn't find chessboard in image\n",
      "Couldn't find chessboard in image\n",
      "Couldn't find chessboard in image\n",
      "Couldn't find chessboard in image\n",
      "Couldn't find chessboard in image\n",
      "Couldn't find chessboard in image\n"
     ]
    },
    {
     "name": "stderr",
     "output_type": "stream",
     "text": [
      " 78%|███████▊  | 17773/22732.0 [14:11<01:09, 71.25it/s]"
     ]
    },
    {
     "name": "stdout",
     "output_type": "stream",
     "text": [
      "Couldn't find chessboard in image\n",
      "Couldn't find chessboard in image\n",
      "Couldn't find chessboard in image\n",
      "Couldn't find chessboard in image\n",
      "Couldn't find chessboard in image\n",
      "Couldn't find chessboard in image\n",
      "Couldn't find chessboard in image\n",
      "Couldn't find chessboard in image\n",
      "Couldn't find chessboard in image\n",
      "Couldn't find chessboard in image\n",
      "Couldn't find chessboard in image\n",
      "Couldn't find chessboard in image\n",
      "Couldn't find chessboard in image\n",
      "Couldn't find chessboard in image\n",
      "Couldn't find chessboard in image\n"
     ]
    },
    {
     "name": "stderr",
     "output_type": "stream",
     "text": [
      " 78%|███████▊  | 17789/22732.0 [14:11<01:09, 71.14it/s]"
     ]
    },
    {
     "name": "stdout",
     "output_type": "stream",
     "text": [
      "Couldn't find chessboard in image\n",
      "Couldn't find chessboard in image\n",
      "Couldn't find chessboard in image\n",
      "Couldn't find chessboard in image\n",
      "Couldn't find chessboard in image\n",
      "Couldn't find chessboard in image\n",
      "Couldn't find chessboard in image\n",
      "Couldn't find chessboard in image\n",
      "Couldn't find chessboard in image\n",
      "Couldn't find chessboard in image\n",
      "Couldn't find chessboard in image\n",
      "Couldn't find chessboard in image\n",
      "Couldn't find chessboard in image\n",
      "Couldn't find chessboard in image\n",
      "Couldn't find chessboard in image\n"
     ]
    },
    {
     "name": "stderr",
     "output_type": "stream",
     "text": [
      " 78%|███████▊  | 17805/22732.0 [14:11<01:09, 71.17it/s]"
     ]
    },
    {
     "name": "stdout",
     "output_type": "stream",
     "text": [
      "Couldn't find chessboard in image\n",
      "Couldn't find chessboard in image\n",
      "Couldn't find chessboard in image\n",
      "Couldn't find chessboard in image\n",
      "Couldn't find chessboard in image\n",
      "Couldn't find chessboard in image\n",
      "Couldn't find chessboard in image\n",
      "Couldn't find chessboard in image\n",
      "Couldn't find chessboard in image\n",
      "Couldn't find chessboard in image\n",
      "Couldn't find chessboard in image\n",
      "Couldn't find chessboard in image\n",
      "Couldn't find chessboard in image\n",
      "Couldn't find chessboard in image\n",
      "Couldn't find chessboard in image\n"
     ]
    },
    {
     "name": "stderr",
     "output_type": "stream",
     "text": [
      " 78%|███████▊  | 17821/22732.0 [14:11<01:08, 71.44it/s]"
     ]
    },
    {
     "name": "stdout",
     "output_type": "stream",
     "text": [
      "Couldn't find chessboard in image\n",
      "Couldn't find chessboard in image\n",
      "Couldn't find chessboard in image\n",
      "Couldn't find chessboard in image\n",
      "Couldn't find chessboard in image\n",
      "Couldn't find chessboard in image\n",
      "Couldn't find chessboard in image\n",
      "Couldn't find chessboard in image\n",
      "Couldn't find chessboard in image\n",
      "Couldn't find chessboard in image\n",
      "Couldn't find chessboard in image\n",
      "Couldn't find chessboard in image\n",
      "Couldn't find chessboard in image\n",
      "Couldn't find chessboard in image\n",
      "Couldn't find chessboard in image\n"
     ]
    },
    {
     "name": "stderr",
     "output_type": "stream",
     "text": [
      " 78%|███████▊  | 17837/22732.0 [14:12<01:08, 71.34it/s]"
     ]
    },
    {
     "name": "stdout",
     "output_type": "stream",
     "text": [
      "Couldn't find chessboard in image\n",
      "Couldn't find chessboard in image\n",
      "Couldn't find chessboard in image\n",
      "Couldn't find chessboard in image\n",
      "Couldn't find chessboard in image\n",
      "Couldn't find chessboard in image\n",
      "Couldn't find chessboard in image\n",
      "Couldn't find chessboard in image\n",
      "Couldn't find chessboard in image\n",
      "Couldn't find chessboard in image\n",
      "Couldn't find chessboard in image\n",
      "Couldn't find chessboard in image\n",
      "Couldn't find chessboard in image\n",
      "Couldn't find chessboard in image\n",
      "Couldn't find chessboard in image\n"
     ]
    },
    {
     "name": "stderr",
     "output_type": "stream",
     "text": [
      " 79%|███████▊  | 17853/22732.0 [14:12<01:08, 71.73it/s]"
     ]
    },
    {
     "name": "stdout",
     "output_type": "stream",
     "text": [
      "Couldn't find chessboard in image\n",
      "Couldn't find chessboard in image\n",
      "Couldn't find chessboard in image\n",
      "Couldn't find chessboard in image\n",
      "Couldn't find chessboard in image\n",
      "Couldn't find chessboard in image\n",
      "Couldn't find chessboard in image\n",
      "Couldn't find chessboard in image\n",
      "Couldn't find chessboard in image\n",
      "Couldn't find chessboard in image\n",
      "Couldn't find chessboard in image\n",
      "Couldn't find chessboard in image\n",
      "Couldn't find chessboard in image\n",
      "Couldn't find chessboard in image\n",
      "Couldn't find chessboard in image\n"
     ]
    },
    {
     "name": "stderr",
     "output_type": "stream",
     "text": [
      " 79%|███████▊  | 17869/22732.0 [14:12<01:07, 71.56it/s]"
     ]
    },
    {
     "name": "stdout",
     "output_type": "stream",
     "text": [
      "Couldn't find chessboard in image\n",
      "Couldn't find chessboard in image\n",
      "Couldn't find chessboard in image\n",
      "Couldn't find chessboard in image\n",
      "Couldn't find chessboard in image\n",
      "Couldn't find chessboard in image\n",
      "Couldn't find chessboard in image\n",
      "Couldn't find chessboard in image\n",
      "Couldn't find chessboard in image\n",
      "Couldn't find chessboard in image\n",
      "Couldn't find chessboard in image\n",
      "Couldn't find chessboard in image\n",
      "Couldn't find chessboard in image\n",
      "Couldn't find chessboard in image\n",
      "Couldn't find chessboard in image\n"
     ]
    },
    {
     "name": "stderr",
     "output_type": "stream",
     "text": [
      " 79%|███████▊  | 17885/22732.0 [14:12<01:07, 71.82it/s]"
     ]
    },
    {
     "name": "stdout",
     "output_type": "stream",
     "text": [
      "Couldn't find chessboard in image\n",
      "Couldn't find chessboard in image\n",
      "Couldn't find chessboard in image\n",
      "Couldn't find chessboard in image\n",
      "Couldn't find chessboard in image\n",
      "Couldn't find chessboard in image\n",
      "Couldn't find chessboard in image\n",
      "Couldn't find chessboard in image\n",
      "Couldn't find chessboard in image\n",
      "Couldn't find chessboard in image\n",
      "Couldn't find chessboard in image\n",
      "Couldn't find chessboard in image\n",
      "Couldn't find chessboard in image\n",
      "Couldn't find chessboard in image\n",
      "Couldn't find chessboard in image\n"
     ]
    },
    {
     "name": "stderr",
     "output_type": "stream",
     "text": [
      " 79%|███████▊  | 17893/22732.0 [14:12<01:07, 71.64it/s]"
     ]
    },
    {
     "name": "stdout",
     "output_type": "stream",
     "text": [
      "Couldn't find chessboard in image\n",
      "Couldn't find chessboard in image\n",
      "Couldn't find chessboard in image\n",
      "Couldn't find chessboard in image\n",
      "Couldn't find chessboard in image\n",
      "Couldn't find chessboard in image\n",
      "Couldn't find chessboard in image\n",
      "Couldn't find chessboard in image\n",
      "Couldn't find chessboard in image\n",
      "Couldn't find chessboard in image\n",
      "Couldn't find chessboard in image\n",
      "Couldn't find chessboard in image\n",
      "Couldn't find chessboard in image\n",
      "Couldn't find chessboard in image\n",
      "Couldn't find chessboard in image\n"
     ]
    },
    {
     "name": "stderr",
     "output_type": "stream",
     "text": [
      " 79%|███████▉  | 17909/22732.0 [14:13<01:07, 71.59it/s]"
     ]
    },
    {
     "name": "stdout",
     "output_type": "stream",
     "text": [
      "Couldn't find chessboard in image\n",
      "Couldn't find chessboard in image\n",
      "Couldn't find chessboard in image\n",
      "Couldn't find chessboard in image\n",
      "Couldn't find chessboard in image\n",
      "Couldn't find chessboard in image\n",
      "Couldn't find chessboard in image\n",
      "Couldn't find chessboard in image\n",
      "Couldn't find chessboard in image\n",
      "Couldn't find chessboard in image\n",
      "Couldn't find chessboard in image\n",
      "Couldn't find chessboard in image\n",
      "Couldn't find chessboard in image\n",
      "Couldn't find chessboard in image\n",
      "Couldn't find chessboard in image\n"
     ]
    },
    {
     "name": "stderr",
     "output_type": "stream",
     "text": [
      " 79%|███████▉  | 17925/22732.0 [14:13<01:10, 68.49it/s]"
     ]
    },
    {
     "name": "stdout",
     "output_type": "stream",
     "text": [
      "Couldn't find chessboard in image\n",
      "Couldn't find chessboard in image\n",
      "Couldn't find chessboard in image\n",
      "Couldn't find chessboard in image\n",
      "Couldn't find chessboard in image\n",
      "Couldn't find chessboard in image\n",
      "Couldn't find chessboard in image\n",
      "Couldn't find chessboard in image\n",
      "Couldn't find chessboard in image\n",
      "Couldn't find chessboard in image\n",
      "Couldn't find chessboard in image\n",
      "Couldn't find chessboard in image\n",
      "Couldn't find chessboard in image\n",
      "Couldn't find chessboard in image\n"
     ]
    },
    {
     "name": "stderr",
     "output_type": "stream",
     "text": [
      " 79%|███████▉  | 17941/22732.0 [14:13<01:08, 70.34it/s]"
     ]
    },
    {
     "name": "stdout",
     "output_type": "stream",
     "text": [
      "Couldn't find chessboard in image\n",
      "Couldn't find chessboard in image\n",
      "Couldn't find chessboard in image\n",
      "Couldn't find chessboard in image\n",
      "Couldn't find chessboard in image\n",
      "Couldn't find chessboard in image\n",
      "Couldn't find chessboard in image\n",
      "Couldn't find chessboard in image\n",
      "Couldn't find chessboard in image\n",
      "Couldn't find chessboard in image\n",
      "Couldn't find chessboard in image\n",
      "Couldn't find chessboard in image\n",
      "Couldn't find chessboard in image\n",
      "Couldn't find chessboard in image\n",
      "Couldn't find chessboard in image\n"
     ]
    },
    {
     "name": "stderr",
     "output_type": "stream",
     "text": [
      " 79%|███████▉  | 17957/22732.0 [14:13<01:07, 71.20it/s]"
     ]
    },
    {
     "name": "stdout",
     "output_type": "stream",
     "text": [
      "Couldn't find chessboard in image\n",
      "Couldn't find chessboard in image\n",
      "Couldn't find chessboard in image\n",
      "Couldn't find chessboard in image\n",
      "Couldn't find chessboard in image\n",
      "Couldn't find chessboard in image\n",
      "Couldn't find chessboard in image\n",
      "Couldn't find chessboard in image\n",
      "Couldn't find chessboard in image\n",
      "Couldn't find chessboard in image\n",
      "Couldn't find chessboard in image\n",
      "Couldn't find chessboard in image\n",
      "Couldn't find chessboard in image\n",
      "Couldn't find chessboard in image\n",
      "Couldn't find chessboard in image\n"
     ]
    },
    {
     "name": "stderr",
     "output_type": "stream",
     "text": [
      " 79%|███████▉  | 17973/22732.0 [14:13<01:06, 71.66it/s]"
     ]
    },
    {
     "name": "stdout",
     "output_type": "stream",
     "text": [
      "Couldn't find chessboard in image\n",
      "Couldn't find chessboard in image\n",
      "Couldn't find chessboard in image\n",
      "Couldn't find chessboard in image\n",
      "Couldn't find chessboard in image\n",
      "Couldn't find chessboard in image\n",
      "Couldn't find chessboard in image\n",
      "Couldn't find chessboard in image\n",
      "Couldn't find chessboard in image\n",
      "Couldn't find chessboard in image\n",
      "Couldn't find chessboard in image\n",
      "Couldn't find chessboard in image\n",
      "Couldn't find chessboard in image\n",
      "Couldn't find chessboard in image\n",
      "Couldn't find chessboard in image\n"
     ]
    },
    {
     "name": "stderr",
     "output_type": "stream",
     "text": [
      " 79%|███████▉  | 17989/22732.0 [14:14<01:06, 71.64it/s]"
     ]
    },
    {
     "name": "stdout",
     "output_type": "stream",
     "text": [
      "Couldn't find chessboard in image\n",
      "Couldn't find chessboard in image\n",
      "Couldn't find chessboard in image\n",
      "Couldn't find chessboard in image\n",
      "Couldn't find chessboard in image\n",
      "Couldn't find chessboard in image\n",
      "Couldn't find chessboard in image\n",
      "Couldn't find chessboard in image\n",
      "Couldn't find chessboard in image\n",
      "Couldn't find chessboard in image\n",
      "Couldn't find chessboard in image\n",
      "Couldn't find chessboard in image\n",
      "Couldn't find chessboard in image\n",
      "Couldn't find chessboard in image\n",
      "Couldn't find chessboard in image\n"
     ]
    },
    {
     "name": "stderr",
     "output_type": "stream",
     "text": [
      " 79%|███████▉  | 17997/22732.0 [14:14<01:05, 71.85it/s]"
     ]
    },
    {
     "name": "stdout",
     "output_type": "stream",
     "text": [
      "Couldn't find chessboard in image\n",
      "Couldn't find chessboard in image\n",
      "Couldn't find chessboard in image\n",
      "Couldn't find chessboard in image\n",
      "Couldn't find chessboard in image\n",
      "Couldn't find chessboard in image\n",
      "Couldn't find chessboard in image\n",
      "Couldn't find chessboard in image\n",
      "Couldn't find chessboard in image\n",
      "Couldn't find chessboard in image\n",
      "Couldn't find chessboard in image\n",
      "Couldn't find chessboard in image\n",
      "Couldn't find chessboard in image\n",
      "Couldn't find chessboard in image\n",
      "Couldn't find chessboard in image\n"
     ]
    },
    {
     "name": "stderr",
     "output_type": "stream",
     "text": [
      " 79%|███████▉  | 18013/22732.0 [14:14<01:05, 72.11it/s]"
     ]
    },
    {
     "name": "stdout",
     "output_type": "stream",
     "text": [
      "Couldn't find chessboard in image\n",
      "Couldn't find chessboard in image\n",
      "Couldn't find chessboard in image\n",
      "Couldn't find chessboard in image\n",
      "Couldn't find chessboard in image\n",
      "Couldn't find chessboard in image\n",
      "Couldn't find chessboard in image\n",
      "Couldn't find chessboard in image\n",
      "Couldn't find chessboard in image\n",
      "Couldn't find chessboard in image\n",
      "Couldn't find chessboard in image\n",
      "Couldn't find chessboard in image\n",
      "Couldn't find chessboard in image\n",
      "Couldn't find chessboard in image\n",
      "Couldn't find chessboard in image\n"
     ]
    },
    {
     "name": "stderr",
     "output_type": "stream",
     "text": [
      " 79%|███████▉  | 18029/22732.0 [14:14<01:05, 72.23it/s]"
     ]
    },
    {
     "name": "stdout",
     "output_type": "stream",
     "text": [
      "Couldn't find chessboard in image\n",
      "Couldn't find chessboard in image\n",
      "Couldn't find chessboard in image\n",
      "Couldn't find chessboard in image\n",
      "Couldn't find chessboard in image\n",
      "Couldn't find chessboard in image\n",
      "Couldn't find chessboard in image\n",
      "Couldn't find chessboard in image\n",
      "Couldn't find chessboard in image\n",
      "Couldn't find chessboard in image\n",
      "Couldn't find chessboard in image\n",
      "Couldn't find chessboard in image\n",
      "Couldn't find chessboard in image\n",
      "Couldn't find chessboard in image\n",
      "Couldn't find chessboard in image\n"
     ]
    },
    {
     "name": "stderr",
     "output_type": "stream",
     "text": [
      " 79%|███████▉  | 18045/22732.0 [14:14<01:04, 72.11it/s]"
     ]
    },
    {
     "name": "stdout",
     "output_type": "stream",
     "text": [
      "Couldn't find chessboard in image\n",
      "Couldn't find chessboard in image\n",
      "Couldn't find chessboard in image\n",
      "Couldn't find chessboard in image\n",
      "Couldn't find chessboard in image\n",
      "Couldn't find chessboard in image\n",
      "Couldn't find chessboard in image\n",
      "Couldn't find chessboard in image\n",
      "Couldn't find chessboard in image\n",
      "Couldn't find chessboard in image\n",
      "Couldn't find chessboard in image\n",
      "Couldn't find chessboard in image\n",
      "Couldn't find chessboard in image\n",
      "Couldn't find chessboard in image\n",
      "Couldn't find chessboard in image\n"
     ]
    },
    {
     "name": "stderr",
     "output_type": "stream",
     "text": [
      " 79%|███████▉  | 18061/22732.0 [14:15<01:04, 72.12it/s]"
     ]
    },
    {
     "name": "stdout",
     "output_type": "stream",
     "text": [
      "Couldn't find chessboard in image\n",
      "Couldn't find chessboard in image\n",
      "Couldn't find chessboard in image\n",
      "Couldn't find chessboard in image\n",
      "Couldn't find chessboard in image\n",
      "Couldn't find chessboard in image\n",
      "Couldn't find chessboard in image\n",
      "Couldn't find chessboard in image\n",
      "Couldn't find chessboard in image\n",
      "Couldn't find chessboard in image\n",
      "Couldn't find chessboard in image\n",
      "Couldn't find chessboard in image\n",
      "Couldn't find chessboard in image\n",
      "Couldn't find chessboard in image\n",
      "Couldn't find chessboard in image\n"
     ]
    },
    {
     "name": "stderr",
     "output_type": "stream",
     "text": [
      " 80%|███████▉  | 18077/22732.0 [14:15<01:04, 72.17it/s]"
     ]
    },
    {
     "name": "stdout",
     "output_type": "stream",
     "text": [
      "Couldn't find chessboard in image\n",
      "Couldn't find chessboard in image\n",
      "Couldn't find chessboard in image\n",
      "Couldn't find chessboard in image\n",
      "Couldn't find chessboard in image\n",
      "Couldn't find chessboard in image\n",
      "Couldn't find chessboard in image\n",
      "Couldn't find chessboard in image\n",
      "Couldn't find chessboard in image\n",
      "Couldn't find chessboard in image\n",
      "Couldn't find chessboard in image\n",
      "Couldn't find chessboard in image\n",
      "Couldn't find chessboard in image\n",
      "Couldn't find chessboard in image\n",
      "Couldn't find chessboard in image\n"
     ]
    },
    {
     "name": "stderr",
     "output_type": "stream",
     "text": [
      " 80%|███████▉  | 18093/22732.0 [14:15<01:04, 72.06it/s]"
     ]
    },
    {
     "name": "stdout",
     "output_type": "stream",
     "text": [
      "Couldn't find chessboard in image\n",
      "Couldn't find chessboard in image\n",
      "Couldn't find chessboard in image\n",
      "Couldn't find chessboard in image\n",
      "Couldn't find chessboard in image\n",
      "Couldn't find chessboard in image\n",
      "Couldn't find chessboard in image\n",
      "Couldn't find chessboard in image\n",
      "Couldn't find chessboard in image\n",
      "Couldn't find chessboard in image\n",
      "Couldn't find chessboard in image\n",
      "Couldn't find chessboard in image\n",
      "Couldn't find chessboard in image\n",
      "Couldn't find chessboard in image\n",
      "Couldn't find chessboard in image\n"
     ]
    },
    {
     "name": "stderr",
     "output_type": "stream",
     "text": [
      " 80%|███████▉  | 18109/22732.0 [14:15<01:03, 72.26it/s]"
     ]
    },
    {
     "name": "stdout",
     "output_type": "stream",
     "text": [
      "Couldn't find chessboard in image\n",
      "Couldn't find chessboard in image\n",
      "Couldn't find chessboard in image\n",
      "Couldn't find chessboard in image\n",
      "Couldn't find chessboard in image\n",
      "Couldn't find chessboard in image\n",
      "Couldn't find chessboard in image\n",
      "Couldn't find chessboard in image\n",
      "Couldn't find chessboard in image\n",
      "Couldn't find chessboard in image\n",
      "Couldn't find chessboard in image\n",
      "Couldn't find chessboard in image\n",
      "Couldn't find chessboard in image\n",
      "Couldn't find chessboard in image\n",
      "Couldn't find chessboard in image\n"
     ]
    },
    {
     "name": "stderr",
     "output_type": "stream",
     "text": [
      " 80%|███████▉  | 18117/22732.0 [14:15<01:04, 71.86it/s]"
     ]
    },
    {
     "name": "stdout",
     "output_type": "stream",
     "text": [
      "Couldn't find chessboard in image\n",
      "Couldn't find chessboard in image\n",
      "Couldn't find chessboard in image\n",
      "Couldn't find chessboard in image\n",
      "Couldn't find chessboard in image\n",
      "Couldn't find chessboard in image\n",
      "Couldn't find chessboard in image\n",
      "Couldn't find chessboard in image\n",
      "Couldn't find chessboard in image\n",
      "Couldn't find chessboard in image\n",
      "Couldn't find chessboard in image\n",
      "Couldn't find chessboard in image\n",
      "Couldn't find chessboard in image\n",
      "Couldn't find chessboard in image\n",
      "Couldn't find chessboard in image\n"
     ]
    },
    {
     "name": "stderr",
     "output_type": "stream",
     "text": [
      " 80%|███████▉  | 18133/22732.0 [14:16<01:04, 71.56it/s]"
     ]
    },
    {
     "name": "stdout",
     "output_type": "stream",
     "text": [
      "Couldn't find chessboard in image\n",
      "Couldn't find chessboard in image\n",
      "Couldn't find chessboard in image\n",
      "Couldn't find chessboard in image\n",
      "Couldn't find chessboard in image\n",
      "Couldn't find chessboard in image\n",
      "Couldn't find chessboard in image\n",
      "Couldn't find chessboard in image\n",
      "Couldn't find chessboard in image\n",
      "Couldn't find chessboard in image\n",
      "Couldn't find chessboard in image\n",
      "Couldn't find chessboard in image\n",
      "Couldn't find chessboard in image\n",
      "Couldn't find chessboard in image\n",
      "Couldn't find chessboard in image\n"
     ]
    },
    {
     "name": "stderr",
     "output_type": "stream",
     "text": [
      " 80%|███████▉  | 18149/22732.0 [14:16<01:03, 71.99it/s]"
     ]
    },
    {
     "name": "stdout",
     "output_type": "stream",
     "text": [
      "Couldn't find chessboard in image\n",
      "Couldn't find chessboard in image\n",
      "Couldn't find chessboard in image\n",
      "Couldn't find chessboard in image\n",
      "Couldn't find chessboard in image\n",
      "Couldn't find chessboard in image\n",
      "Couldn't find chessboard in image\n",
      "Couldn't find chessboard in image\n",
      "Couldn't find chessboard in image\n",
      "Couldn't find chessboard in image\n",
      "Couldn't find chessboard in image\n",
      "Couldn't find chessboard in image\n",
      "Couldn't find chessboard in image\n",
      "Couldn't find chessboard in image\n",
      "Couldn't find chessboard in image\n"
     ]
    },
    {
     "name": "stderr",
     "output_type": "stream",
     "text": [
      " 80%|███████▉  | 18165/22732.0 [14:16<01:03, 71.78it/s]"
     ]
    },
    {
     "name": "stdout",
     "output_type": "stream",
     "text": [
      "Couldn't find chessboard in image\n",
      "Couldn't find chessboard in image\n",
      "Couldn't find chessboard in image\n",
      "Couldn't find chessboard in image\n",
      "Couldn't find chessboard in image\n",
      "Couldn't find chessboard in image\n",
      "Couldn't find chessboard in image\n",
      "Couldn't find chessboard in image\n",
      "Couldn't find chessboard in image\n",
      "Couldn't find chessboard in image\n",
      "Couldn't find chessboard in image\n",
      "Couldn't find chessboard in image\n",
      "Couldn't find chessboard in image\n",
      "Couldn't find chessboard in image\n",
      "Couldn't find chessboard in image\n"
     ]
    },
    {
     "name": "stderr",
     "output_type": "stream",
     "text": [
      " 80%|███████▉  | 18181/22732.0 [14:16<01:03, 71.77it/s]"
     ]
    },
    {
     "name": "stdout",
     "output_type": "stream",
     "text": [
      "Couldn't find chessboard in image\n",
      "Couldn't find chessboard in image\n",
      "Couldn't find chessboard in image\n",
      "Couldn't find chessboard in image\n",
      "Couldn't find chessboard in image\n",
      "Couldn't find chessboard in image\n",
      "Couldn't find chessboard in image\n",
      "Couldn't find chessboard in image\n",
      "Couldn't find chessboard in image\n",
      "Couldn't find chessboard in image\n",
      "Couldn't find chessboard in image\n",
      "Couldn't find chessboard in image\n",
      "Couldn't find chessboard in image\n",
      "Couldn't find chessboard in image\n",
      "Couldn't find chessboard in image\n"
     ]
    },
    {
     "name": "stderr",
     "output_type": "stream",
     "text": [
      " 80%|████████  | 18197/22732.0 [14:17<01:03, 71.56it/s]"
     ]
    },
    {
     "name": "stdout",
     "output_type": "stream",
     "text": [
      "Couldn't find chessboard in image\n",
      "Couldn't find chessboard in image\n",
      "Couldn't find chessboard in image\n",
      "Couldn't find chessboard in image\n",
      "Couldn't find chessboard in image\n",
      "Couldn't find chessboard in image\n",
      "Couldn't find chessboard in image\n",
      "Couldn't find chessboard in image\n",
      "Couldn't find chessboard in image\n",
      "Couldn't find chessboard in image\n",
      "Couldn't find chessboard in image\n",
      "Couldn't find chessboard in image\n",
      "Couldn't find chessboard in image\n",
      "Couldn't find chessboard in image\n",
      "Couldn't find chessboard in image\n"
     ]
    },
    {
     "name": "stderr",
     "output_type": "stream",
     "text": [
      " 80%|████████  | 18213/22732.0 [14:17<01:02, 71.99it/s]"
     ]
    },
    {
     "name": "stdout",
     "output_type": "stream",
     "text": [
      "Couldn't find chessboard in image\n",
      "Couldn't find chessboard in image\n",
      "Couldn't find chessboard in image\n",
      "Couldn't find chessboard in image\n",
      "Couldn't find chessboard in image\n",
      "Couldn't find chessboard in image\n",
      "Couldn't find chessboard in image\n",
      "Couldn't find chessboard in image\n",
      "Couldn't find chessboard in image\n",
      "Couldn't find chessboard in image\n",
      "Couldn't find chessboard in image\n",
      "Couldn't find chessboard in image\n",
      "Couldn't find chessboard in image\n",
      "Couldn't find chessboard in image\n",
      "Couldn't find chessboard in image\n"
     ]
    },
    {
     "name": "stderr",
     "output_type": "stream",
     "text": [
      " 80%|████████  | 18229/22732.0 [14:17<01:02, 71.86it/s]"
     ]
    },
    {
     "name": "stdout",
     "output_type": "stream",
     "text": [
      "Couldn't find chessboard in image\n",
      "Couldn't find chessboard in image\n",
      "Couldn't find chessboard in image\n",
      "Couldn't find chessboard in image\n",
      "Couldn't find chessboard in image\n",
      "Couldn't find chessboard in image\n",
      "Couldn't find chessboard in image\n",
      "Couldn't find chessboard in image\n",
      "Couldn't find chessboard in image\n",
      "Couldn't find chessboard in image\n",
      "Couldn't find chessboard in image\n",
      "Couldn't find chessboard in image\n",
      "Couldn't find chessboard in image\n",
      "Couldn't find chessboard in image\n",
      "Couldn't find chessboard in image\n"
     ]
    },
    {
     "name": "stderr",
     "output_type": "stream",
     "text": [
      " 80%|████████  | 18237/22732.0 [14:17<01:02, 71.60it/s]"
     ]
    },
    {
     "name": "stdout",
     "output_type": "stream",
     "text": [
      "Couldn't find chessboard in image\n",
      "Couldn't find chessboard in image\n",
      "Couldn't find chessboard in image\n",
      "Couldn't find chessboard in image\n",
      "Couldn't find chessboard in image\n",
      "Couldn't find chessboard in image\n",
      "Couldn't find chessboard in image\n",
      "Couldn't find chessboard in image\n",
      "Couldn't find chessboard in image\n",
      "Couldn't find chessboard in image\n",
      "Couldn't find chessboard in image\n",
      "Couldn't find chessboard in image\n",
      "Couldn't find chessboard in image\n",
      "Couldn't find chessboard in image\n",
      "Couldn't find chessboard in image\n"
     ]
    },
    {
     "name": "stderr",
     "output_type": "stream",
     "text": [
      " 80%|████████  | 18253/22732.0 [14:17<01:02, 71.84it/s]"
     ]
    },
    {
     "name": "stdout",
     "output_type": "stream",
     "text": [
      "Couldn't find chessboard in image\n",
      "Couldn't find chessboard in image\n",
      "Couldn't find chessboard in image\n",
      "Couldn't find chessboard in image\n",
      "Couldn't find chessboard in image\n",
      "Couldn't find chessboard in image\n",
      "Couldn't find chessboard in image\n",
      "Couldn't find chessboard in image\n",
      "Couldn't find chessboard in image\n",
      "Couldn't find chessboard in image\n",
      "Couldn't find chessboard in image\n",
      "Couldn't find chessboard in image\n",
      "Couldn't find chessboard in image\n",
      "Couldn't find chessboard in image\n",
      "Couldn't find chessboard in image\n"
     ]
    },
    {
     "name": "stderr",
     "output_type": "stream",
     "text": [
      " 80%|████████  | 18269/22732.0 [14:18<01:01, 72.93it/s]"
     ]
    },
    {
     "name": "stdout",
     "output_type": "stream",
     "text": [
      "Couldn't find chessboard in image\n",
      "Couldn't find chessboard in image\n",
      "Couldn't find chessboard in image\n",
      "Couldn't find chessboard in image\n",
      "Couldn't find chessboard in image\n",
      "Couldn't find chessboard in image\n",
      "Couldn't find chessboard in image\n",
      "Couldn't find chessboard in image\n",
      "Couldn't find chessboard in image\n",
      "Couldn't find chessboard in image\n",
      "Couldn't find chessboard in image\n",
      "Couldn't find chessboard in image\n",
      "Couldn't find chessboard in image\n",
      "Couldn't find chessboard in image\n",
      "Couldn't find chessboard in image\n",
      "Couldn't find chessboard in image\n"
     ]
    },
    {
     "name": "stderr",
     "output_type": "stream",
     "text": [
      " 80%|████████  | 18285/22732.0 [14:18<01:00, 73.53it/s]"
     ]
    },
    {
     "name": "stdout",
     "output_type": "stream",
     "text": [
      "Couldn't find chessboard in image\n",
      "Couldn't find chessboard in image\n",
      "Couldn't find chessboard in image\n",
      "Couldn't find chessboard in image\n",
      "Couldn't find chessboard in image\n",
      "Couldn't find chessboard in image\n",
      "Couldn't find chessboard in image\n",
      "Couldn't find chessboard in image\n",
      "Couldn't find chessboard in image\n",
      "Couldn't find chessboard in image\n",
      "Couldn't find chessboard in image\n",
      "Couldn't find chessboard in image\n",
      "Couldn't find chessboard in image\n",
      "Couldn't find chessboard in image\n",
      "Couldn't find chessboard in image\n"
     ]
    },
    {
     "name": "stderr",
     "output_type": "stream",
     "text": [
      " 81%|████████  | 18301/22732.0 [14:18<01:00, 73.75it/s]"
     ]
    },
    {
     "name": "stdout",
     "output_type": "stream",
     "text": [
      "Couldn't find chessboard in image\n",
      "Couldn't find chessboard in image\n",
      "Couldn't find chessboard in image\n",
      "Couldn't find chessboard in image\n",
      "Couldn't find chessboard in image\n",
      "Couldn't find chessboard in image\n",
      "Couldn't find chessboard in image\n",
      "Couldn't find chessboard in image\n",
      "Couldn't find chessboard in image\n",
      "Couldn't find chessboard in image\n",
      "Couldn't find chessboard in image\n",
      "Couldn't find chessboard in image\n",
      "Couldn't find chessboard in image\n",
      "Couldn't find chessboard in image\n",
      "Couldn't find chessboard in image\n"
     ]
    },
    {
     "name": "stderr",
     "output_type": "stream",
     "text": [
      " 81%|████████  | 18317/22732.0 [14:18<00:59, 73.87it/s]"
     ]
    },
    {
     "name": "stdout",
     "output_type": "stream",
     "text": [
      "Couldn't find chessboard in image\n",
      "Couldn't find chessboard in image\n",
      "Couldn't find chessboard in image\n",
      "Couldn't find chessboard in image\n",
      "Couldn't find chessboard in image\n",
      "Couldn't find chessboard in image\n",
      "Couldn't find chessboard in image\n",
      "Couldn't find chessboard in image\n",
      "Couldn't find chessboard in image\n",
      "Couldn't find chessboard in image\n",
      "Couldn't find chessboard in image\n",
      "Couldn't find chessboard in image\n",
      "Couldn't find chessboard in image\n",
      "Couldn't find chessboard in image\n",
      "Couldn't find chessboard in image\n"
     ]
    },
    {
     "name": "stderr",
     "output_type": "stream",
     "text": [
      " 81%|████████  | 18333/22732.0 [14:18<00:59, 74.00it/s]"
     ]
    },
    {
     "name": "stdout",
     "output_type": "stream",
     "text": [
      "Couldn't find chessboard in image\n",
      "Couldn't find chessboard in image\n",
      "Couldn't find chessboard in image\n",
      "Couldn't find chessboard in image\n",
      "Couldn't find chessboard in image\n",
      "Couldn't find chessboard in image\n",
      "Couldn't find chessboard in image\n",
      "Couldn't find chessboard in image\n",
      "Couldn't find chessboard in image\n",
      "Couldn't find chessboard in image\n",
      "Couldn't find chessboard in image\n",
      "Couldn't find chessboard in image\n",
      "Couldn't find chessboard in image\n",
      "Couldn't find chessboard in image\n",
      "Couldn't find chessboard in image\n"
     ]
    },
    {
     "name": "stderr",
     "output_type": "stream",
     "text": [
      " 81%|████████  | 18349/22732.0 [14:19<00:59, 74.02it/s]"
     ]
    },
    {
     "name": "stdout",
     "output_type": "stream",
     "text": [
      "Couldn't find chessboard in image\n",
      "Couldn't find chessboard in image\n",
      "Couldn't find chessboard in image\n",
      "Couldn't find chessboard in image\n",
      "Couldn't find chessboard in image\n",
      "Couldn't find chessboard in image\n",
      "Couldn't find chessboard in image\n",
      "Couldn't find chessboard in image\n",
      "Couldn't find chessboard in image\n",
      "Couldn't find chessboard in image\n",
      "Couldn't find chessboard in image\n",
      "Couldn't find chessboard in image\n",
      "Couldn't find chessboard in image\n",
      "Couldn't find chessboard in image\n",
      "Couldn't find chessboard in image\n"
     ]
    },
    {
     "name": "stderr",
     "output_type": "stream",
     "text": [
      " 81%|████████  | 18365/22732.0 [14:19<00:59, 73.86it/s]"
     ]
    },
    {
     "name": "stdout",
     "output_type": "stream",
     "text": [
      "Couldn't find chessboard in image\n",
      "Couldn't find chessboard in image\n",
      "Couldn't find chessboard in image\n",
      "Couldn't find chessboard in image\n",
      "Couldn't find chessboard in image\n",
      "Couldn't find chessboard in image\n",
      "Couldn't find chessboard in image\n",
      "Couldn't find chessboard in image\n",
      "Couldn't find chessboard in image\n",
      "Couldn't find chessboard in image\n",
      "Couldn't find chessboard in image\n",
      "Couldn't find chessboard in image\n",
      "Couldn't find chessboard in image\n",
      "Couldn't find chessboard in image\n",
      "Couldn't find chessboard in image\n"
     ]
    },
    {
     "name": "stderr",
     "output_type": "stream",
     "text": [
      " 81%|████████  | 18374/22732.0 [14:19<00:57, 75.98it/s]"
     ]
    },
    {
     "name": "stdout",
     "output_type": "stream",
     "text": [
      "Couldn't find chessboard in image\n",
      "Couldn't find chessboard in image\n",
      "Couldn't find chessboard in image\n",
      "Couldn't find chessboard in image\n",
      "Couldn't find chessboard in image\n",
      "Couldn't find chessboard in image\n",
      "Couldn't find chessboard in image\n",
      "Couldn't find chessboard in image\n",
      "Couldn't find chessboard in image\n",
      "Couldn't find chessboard in image\n",
      "Couldn't find chessboard in image\n",
      "Couldn't find chessboard in image\n",
      "Couldn't find chessboard in image\n",
      "Couldn't find chessboard in image\n",
      "Couldn't find chessboard in image\n",
      "Couldn't find chessboard in image\n"
     ]
    },
    {
     "name": "stderr",
     "output_type": "stream",
     "text": [
      " 81%|████████  | 18390/22732.0 [14:19<00:58, 74.28it/s]"
     ]
    },
    {
     "name": "stdout",
     "output_type": "stream",
     "text": [
      "Couldn't find chessboard in image\n",
      "Couldn't find chessboard in image\n",
      "Couldn't find chessboard in image\n",
      "Couldn't find chessboard in image\n",
      "Couldn't find chessboard in image\n",
      "Couldn't find chessboard in image\n",
      "Couldn't find chessboard in image\n",
      "Couldn't find chessboard in image\n",
      "Couldn't find chessboard in image\n",
      "Couldn't find chessboard in image\n",
      "Couldn't find chessboard in image\n",
      "Couldn't find chessboard in image\n",
      "Couldn't find chessboard in image\n",
      "Couldn't find chessboard in image\n",
      "Couldn't find chessboard in image\n"
     ]
    },
    {
     "name": "stderr",
     "output_type": "stream",
     "text": [
      " 81%|████████  | 18406/22732.0 [14:19<00:58, 73.69it/s]"
     ]
    },
    {
     "name": "stdout",
     "output_type": "stream",
     "text": [
      "Couldn't find chessboard in image\n",
      "Couldn't find chessboard in image\n",
      "Couldn't find chessboard in image\n",
      "Couldn't find chessboard in image\n",
      "Couldn't find chessboard in image\n",
      "Couldn't find chessboard in image\n",
      "Couldn't find chessboard in image\n",
      "Couldn't find chessboard in image\n",
      "Couldn't find chessboard in image\n",
      "Couldn't find chessboard in image\n",
      "Couldn't find chessboard in image\n",
      "Couldn't find chessboard in image\n",
      "Couldn't find chessboard in image\n",
      "Couldn't find chessboard in image\n",
      "Couldn't find chessboard in image\n"
     ]
    },
    {
     "name": "stderr",
     "output_type": "stream",
     "text": [
      " 81%|████████  | 18422/22732.0 [14:20<00:58, 73.12it/s]"
     ]
    },
    {
     "name": "stdout",
     "output_type": "stream",
     "text": [
      "Couldn't find chessboard in image\n",
      "Couldn't find chessboard in image\n",
      "Couldn't find chessboard in image\n",
      "Couldn't find chessboard in image\n",
      "Couldn't find chessboard in image\n",
      "Couldn't find chessboard in image\n",
      "Couldn't find chessboard in image\n",
      "Couldn't find chessboard in image\n",
      "Couldn't find chessboard in image\n",
      "Couldn't find chessboard in image\n",
      "Couldn't find chessboard in image\n",
      "Couldn't find chessboard in image\n",
      "Couldn't find chessboard in image\n",
      "Couldn't find chessboard in image\n",
      "Couldn't find chessboard in image\n"
     ]
    },
    {
     "name": "stderr",
     "output_type": "stream",
     "text": [
      " 81%|████████  | 18438/22732.0 [14:20<00:58, 73.07it/s]"
     ]
    },
    {
     "name": "stdout",
     "output_type": "stream",
     "text": [
      "Couldn't find chessboard in image\n",
      "Couldn't find chessboard in image\n",
      "Couldn't find chessboard in image\n",
      "Couldn't find chessboard in image\n",
      "Couldn't find chessboard in image\n",
      "Couldn't find chessboard in image\n",
      "Couldn't find chessboard in image\n",
      "Couldn't find chessboard in image\n",
      "Couldn't find chessboard in image\n",
      "Couldn't find chessboard in image\n",
      "Couldn't find chessboard in image\n",
      "Couldn't find chessboard in image\n",
      "Couldn't find chessboard in image\n",
      "Couldn't find chessboard in image\n",
      "Couldn't find chessboard in image\n"
     ]
    },
    {
     "name": "stderr",
     "output_type": "stream",
     "text": [
      " 81%|████████  | 18454/22732.0 [14:20<00:58, 73.11it/s]"
     ]
    },
    {
     "name": "stdout",
     "output_type": "stream",
     "text": [
      "Couldn't find chessboard in image\n",
      "Couldn't find chessboard in image\n",
      "Couldn't find chessboard in image\n",
      "Couldn't find chessboard in image\n",
      "Couldn't find chessboard in image\n",
      "Couldn't find chessboard in image\n",
      "Couldn't find chessboard in image\n",
      "Couldn't find chessboard in image\n",
      "Couldn't find chessboard in image\n",
      "Couldn't find chessboard in image\n",
      "Couldn't find chessboard in image\n",
      "Couldn't find chessboard in image\n",
      "Couldn't find chessboard in image\n",
      "Couldn't find chessboard in image\n",
      "Couldn't find chessboard in image\n"
     ]
    },
    {
     "name": "stderr",
     "output_type": "stream",
     "text": [
      " 81%|████████▏ | 18470/22732.0 [14:20<00:59, 71.74it/s]"
     ]
    },
    {
     "name": "stdout",
     "output_type": "stream",
     "text": [
      "Couldn't find chessboard in image\n",
      "Couldn't find chessboard in image\n",
      "Couldn't find chessboard in image\n",
      "Couldn't find chessboard in image\n",
      "Couldn't find chessboard in image\n",
      "Couldn't find chessboard in image\n",
      "Couldn't find chessboard in image\n",
      "Couldn't find chessboard in image\n",
      "Couldn't find chessboard in image\n",
      "Couldn't find chessboard in image\n",
      "Couldn't find chessboard in image\n",
      "Couldn't find chessboard in image\n",
      "Couldn't find chessboard in image\n",
      "Couldn't find chessboard in image\n"
     ]
    },
    {
     "name": "stderr",
     "output_type": "stream",
     "text": [
      " 81%|████████▏ | 18478/22732.0 [14:20<00:59, 71.92it/s]"
     ]
    },
    {
     "name": "stdout",
     "output_type": "stream",
     "text": [
      "Couldn't find chessboard in image\n",
      "Couldn't find chessboard in image\n",
      "Couldn't find chessboard in image\n",
      "Couldn't find chessboard in image\n",
      "Couldn't find chessboard in image\n",
      "Couldn't find chessboard in image\n",
      "Couldn't find chessboard in image\n",
      "Couldn't find chessboard in image\n",
      "Couldn't find chessboard in image\n",
      "Couldn't find chessboard in image\n",
      "Couldn't find chessboard in image\n",
      "Couldn't find chessboard in image\n",
      "Couldn't find chessboard in image\n",
      "Couldn't find chessboard in image\n",
      "Couldn't find chessboard in image\n"
     ]
    },
    {
     "name": "stderr",
     "output_type": "stream",
     "text": [
      " 81%|████████▏ | 18494/22732.0 [14:21<00:58, 71.97it/s]"
     ]
    },
    {
     "name": "stdout",
     "output_type": "stream",
     "text": [
      "Couldn't find chessboard in image\n",
      "Couldn't find chessboard in image\n",
      "Couldn't find chessboard in image\n",
      "Couldn't find chessboard in image\n",
      "Couldn't find chessboard in image\n",
      "Couldn't find chessboard in image\n",
      "Couldn't find chessboard in image\n",
      "Couldn't find chessboard in image\n",
      "Couldn't find chessboard in image\n",
      "Couldn't find chessboard in image\n",
      "Couldn't find chessboard in image\n",
      "Couldn't find chessboard in image\n",
      "Couldn't find chessboard in image\n",
      "Couldn't find chessboard in image\n",
      "Couldn't find chessboard in image\n"
     ]
    },
    {
     "name": "stderr",
     "output_type": "stream",
     "text": [
      " 81%|████████▏ | 18510/22732.0 [14:21<00:58, 72.16it/s]"
     ]
    },
    {
     "name": "stdout",
     "output_type": "stream",
     "text": [
      "Couldn't find chessboard in image\n",
      "Couldn't find chessboard in image\n",
      "Couldn't find chessboard in image\n",
      "Couldn't find chessboard in image\n",
      "Couldn't find chessboard in image\n",
      "Couldn't find chessboard in image\n",
      "Couldn't find chessboard in image\n",
      "Couldn't find chessboard in image\n",
      "Couldn't find chessboard in image\n",
      "Couldn't find chessboard in image\n",
      "Couldn't find chessboard in image\n",
      "Couldn't find chessboard in image\n",
      "Couldn't find chessboard in image\n",
      "Couldn't find chessboard in image\n",
      "Couldn't find chessboard in image\n"
     ]
    },
    {
     "name": "stderr",
     "output_type": "stream",
     "text": [
      " 81%|████████▏ | 18526/22732.0 [14:21<00:58, 72.41it/s]"
     ]
    },
    {
     "name": "stdout",
     "output_type": "stream",
     "text": [
      "Couldn't find chessboard in image\n",
      "Couldn't find chessboard in image\n",
      "Couldn't find chessboard in image\n",
      "Couldn't find chessboard in image\n",
      "Couldn't find chessboard in image\n",
      "Couldn't find chessboard in image\n",
      "Couldn't find chessboard in image\n",
      "Couldn't find chessboard in image\n",
      "Couldn't find chessboard in image\n",
      "Couldn't find chessboard in image\n",
      "Couldn't find chessboard in image\n",
      "Couldn't find chessboard in image\n",
      "Couldn't find chessboard in image\n",
      "Couldn't find chessboard in image\n",
      "Couldn't find chessboard in image\n"
     ]
    },
    {
     "name": "stderr",
     "output_type": "stream",
     "text": [
      " 82%|████████▏ | 18542/22732.0 [14:21<00:57, 72.78it/s]"
     ]
    },
    {
     "name": "stdout",
     "output_type": "stream",
     "text": [
      "Couldn't find chessboard in image\n",
      "Couldn't find chessboard in image\n",
      "Couldn't find chessboard in image\n",
      "Couldn't find chessboard in image\n",
      "Couldn't find chessboard in image\n",
      "Couldn't find chessboard in image\n",
      "Couldn't find chessboard in image\n",
      "Couldn't find chessboard in image\n",
      "Couldn't find chessboard in image\n",
      "Couldn't find chessboard in image\n",
      "Couldn't find chessboard in image\n",
      "Couldn't find chessboard in image\n",
      "Couldn't find chessboard in image\n",
      "Couldn't find chessboard in image\n",
      "Couldn't find chessboard in image\n"
     ]
    },
    {
     "name": "stderr",
     "output_type": "stream",
     "text": [
      " 82%|████████▏ | 18558/22732.0 [14:22<00:57, 72.93it/s]"
     ]
    },
    {
     "name": "stdout",
     "output_type": "stream",
     "text": [
      "Couldn't find chessboard in image\n",
      "Couldn't find chessboard in image\n",
      "Couldn't find chessboard in image\n",
      "Couldn't find chessboard in image\n",
      "Couldn't find chessboard in image\n",
      "Couldn't find chessboard in image\n",
      "Couldn't find chessboard in image\n",
      "Couldn't find chessboard in image\n",
      "Couldn't find chessboard in image\n",
      "Couldn't find chessboard in image\n",
      "Couldn't find chessboard in image\n",
      "Couldn't find chessboard in image\n",
      "Couldn't find chessboard in image\n",
      "Couldn't find chessboard in image\n",
      "Couldn't find chessboard in image\n"
     ]
    },
    {
     "name": "stderr",
     "output_type": "stream",
     "text": [
      " 82%|████████▏ | 18574/22732.0 [14:22<00:56, 73.00it/s]"
     ]
    },
    {
     "name": "stdout",
     "output_type": "stream",
     "text": [
      "Couldn't find chessboard in image\n",
      "Couldn't find chessboard in image\n",
      "Couldn't find chessboard in image\n",
      "Couldn't find chessboard in image\n",
      "Couldn't find chessboard in image\n",
      "Couldn't find chessboard in image\n",
      "Couldn't find chessboard in image\n",
      "Couldn't find chessboard in image\n",
      "Couldn't find chessboard in image\n",
      "Couldn't find chessboard in image\n",
      "Couldn't find chessboard in image\n",
      "Couldn't find chessboard in image\n",
      "Couldn't find chessboard in image\n",
      "Couldn't find chessboard in image\n",
      "Couldn't find chessboard in image\n"
     ]
    },
    {
     "name": "stderr",
     "output_type": "stream",
     "text": [
      " 82%|████████▏ | 18590/22732.0 [14:22<00:56, 72.96it/s]"
     ]
    },
    {
     "name": "stdout",
     "output_type": "stream",
     "text": [
      "Couldn't find chessboard in image\n",
      "Couldn't find chessboard in image\n",
      "Couldn't find chessboard in image\n",
      "Couldn't find chessboard in image\n",
      "Couldn't find chessboard in image\n",
      "Couldn't find chessboard in image\n",
      "Couldn't find chessboard in image\n",
      "Couldn't find chessboard in image\n",
      "Couldn't find chessboard in image\n",
      "Couldn't find chessboard in image\n",
      "Couldn't find chessboard in image\n",
      "Couldn't find chessboard in image\n",
      "Couldn't find chessboard in image\n",
      "Couldn't find chessboard in image\n",
      "Couldn't find chessboard in image\n"
     ]
    },
    {
     "name": "stderr",
     "output_type": "stream",
     "text": [
      " 82%|████████▏ | 18598/22732.0 [14:22<00:56, 72.90it/s]"
     ]
    },
    {
     "name": "stdout",
     "output_type": "stream",
     "text": [
      "Couldn't find chessboard in image\n",
      "Couldn't find chessboard in image\n",
      "Couldn't find chessboard in image\n",
      "Couldn't find chessboard in image\n",
      "Couldn't find chessboard in image\n",
      "Couldn't find chessboard in image\n",
      "Couldn't find chessboard in image\n",
      "Couldn't find chessboard in image\n",
      "Couldn't find chessboard in image\n",
      "Couldn't find chessboard in image\n",
      "Couldn't find chessboard in image\n",
      "Couldn't find chessboard in image\n",
      "Couldn't find chessboard in image\n",
      "Couldn't find chessboard in image\n",
      "Couldn't find chessboard in image\n"
     ]
    },
    {
     "name": "stderr",
     "output_type": "stream",
     "text": [
      " 82%|████████▏ | 18614/22732.0 [14:22<00:56, 73.05it/s]"
     ]
    },
    {
     "name": "stdout",
     "output_type": "stream",
     "text": [
      "Couldn't find chessboard in image\n",
      "Couldn't find chessboard in image\n",
      "Couldn't find chessboard in image\n",
      "Couldn't find chessboard in image\n",
      "Couldn't find chessboard in image\n",
      "Couldn't find chessboard in image\n",
      "Couldn't find chessboard in image\n",
      "Couldn't find chessboard in image\n",
      "Couldn't find chessboard in image\n",
      "Couldn't find chessboard in image\n",
      "Couldn't find chessboard in image\n",
      "Couldn't find chessboard in image\n",
      "Couldn't find chessboard in image\n",
      "Couldn't find chessboard in image\n",
      "Couldn't find chessboard in image\n"
     ]
    },
    {
     "name": "stderr",
     "output_type": "stream",
     "text": [
      " 82%|████████▏ | 18630/22732.0 [14:23<00:56, 73.07it/s]"
     ]
    },
    {
     "name": "stdout",
     "output_type": "stream",
     "text": [
      "Couldn't find chessboard in image\n",
      "Couldn't find chessboard in image\n",
      "Couldn't find chessboard in image\n",
      "Couldn't find chessboard in image\n",
      "Couldn't find chessboard in image\n",
      "Couldn't find chessboard in image\n",
      "Couldn't find chessboard in image\n",
      "Couldn't find chessboard in image\n",
      "Couldn't find chessboard in image\n",
      "Couldn't find chessboard in image\n",
      "Couldn't find chessboard in image\n",
      "Couldn't find chessboard in image\n",
      "Couldn't find chessboard in image\n",
      "Couldn't find chessboard in image\n",
      "Couldn't find chessboard in image\n"
     ]
    },
    {
     "name": "stderr",
     "output_type": "stream",
     "text": [
      " 82%|████████▏ | 18646/22732.0 [14:23<00:56, 72.91it/s]"
     ]
    },
    {
     "name": "stdout",
     "output_type": "stream",
     "text": [
      "Couldn't find chessboard in image\n",
      "Couldn't find chessboard in image\n",
      "Couldn't find chessboard in image\n",
      "Couldn't find chessboard in image\n",
      "Couldn't find chessboard in image\n",
      "Couldn't find chessboard in image\n",
      "Couldn't find chessboard in image\n",
      "Couldn't find chessboard in image\n",
      "Couldn't find chessboard in image\n",
      "Couldn't find chessboard in image\n",
      "Couldn't find chessboard in image\n",
      "Couldn't find chessboard in image\n",
      "Couldn't find chessboard in image\n",
      "Couldn't find chessboard in image\n",
      "Couldn't find chessboard in image\n"
     ]
    },
    {
     "name": "stderr",
     "output_type": "stream",
     "text": [
      " 82%|████████▏ | 18662/22732.0 [14:23<00:56, 72.42it/s]"
     ]
    },
    {
     "name": "stdout",
     "output_type": "stream",
     "text": [
      "Couldn't find chessboard in image\n",
      "Couldn't find chessboard in image\n",
      "Couldn't find chessboard in image\n",
      "Couldn't find chessboard in image\n",
      "Couldn't find chessboard in image\n",
      "Couldn't find chessboard in image\n",
      "Couldn't find chessboard in image\n",
      "Couldn't find chessboard in image\n",
      "Couldn't find chessboard in image\n",
      "Couldn't find chessboard in image\n",
      "Couldn't find chessboard in image\n",
      "Couldn't find chessboard in image\n",
      "Couldn't find chessboard in image\n",
      "Couldn't find chessboard in image\n",
      "Couldn't find chessboard in image\n"
     ]
    },
    {
     "name": "stderr",
     "output_type": "stream",
     "text": [
      " 82%|████████▏ | 18678/22732.0 [14:23<00:55, 72.72it/s]"
     ]
    },
    {
     "name": "stdout",
     "output_type": "stream",
     "text": [
      "Couldn't find chessboard in image\n",
      "Couldn't find chessboard in image\n",
      "Couldn't find chessboard in image\n",
      "Couldn't find chessboard in image\n",
      "Couldn't find chessboard in image\n",
      "Couldn't find chessboard in image\n",
      "Couldn't find chessboard in image\n",
      "Couldn't find chessboard in image\n",
      "Couldn't find chessboard in image\n",
      "Couldn't find chessboard in image\n",
      "Couldn't find chessboard in image\n",
      "Couldn't find chessboard in image\n",
      "Couldn't find chessboard in image\n",
      "Couldn't find chessboard in image\n",
      "Couldn't find chessboard in image\n"
     ]
    },
    {
     "name": "stderr",
     "output_type": "stream",
     "text": [
      " 82%|████████▏ | 18694/22732.0 [14:23<00:55, 72.67it/s]"
     ]
    },
    {
     "name": "stdout",
     "output_type": "stream",
     "text": [
      "Couldn't find chessboard in image\n",
      "Couldn't find chessboard in image\n",
      "Couldn't find chessboard in image\n",
      "Couldn't find chessboard in image\n",
      "Couldn't find chessboard in image\n",
      "Couldn't find chessboard in image\n",
      "Couldn't find chessboard in image\n",
      "Couldn't find chessboard in image\n",
      "Couldn't find chessboard in image\n",
      "Couldn't find chessboard in image\n",
      "Couldn't find chessboard in image\n",
      "Couldn't find chessboard in image\n",
      "Couldn't find chessboard in image\n",
      "Couldn't find chessboard in image\n",
      "Couldn't find chessboard in image\n"
     ]
    },
    {
     "name": "stderr",
     "output_type": "stream",
     "text": [
      " 82%|████████▏ | 18710/22732.0 [14:24<00:55, 72.62it/s]"
     ]
    },
    {
     "name": "stdout",
     "output_type": "stream",
     "text": [
      "Couldn't find chessboard in image\n",
      "Couldn't find chessboard in image\n",
      "Couldn't find chessboard in image\n",
      "Couldn't find chessboard in image\n",
      "Couldn't find chessboard in image\n",
      "Couldn't find chessboard in image\n",
      "Couldn't find chessboard in image\n",
      "Couldn't find chessboard in image\n",
      "Couldn't find chessboard in image\n",
      "Couldn't find chessboard in image\n",
      "Couldn't find chessboard in image\n",
      "Couldn't find chessboard in image\n",
      "Couldn't find chessboard in image\n",
      "Couldn't find chessboard in image\n",
      "Couldn't find chessboard in image\n"
     ]
    },
    {
     "name": "stderr",
     "output_type": "stream",
     "text": [
      " 82%|████████▏ | 18718/22732.0 [14:24<00:55, 72.37it/s]"
     ]
    },
    {
     "name": "stdout",
     "output_type": "stream",
     "text": [
      "Couldn't find chessboard in image\n",
      "Couldn't find chessboard in image\n",
      "Couldn't find chessboard in image\n",
      "Couldn't find chessboard in image\n",
      "Couldn't find chessboard in image\n",
      "Couldn't find chessboard in image\n",
      "Couldn't find chessboard in image\n",
      "Couldn't find chessboard in image\n",
      "Couldn't find chessboard in image\n",
      "Couldn't find chessboard in image\n",
      "Couldn't find chessboard in image\n",
      "Couldn't find chessboard in image\n",
      "Couldn't find chessboard in image\n",
      "Couldn't find chessboard in image\n",
      "Couldn't find chessboard in image\n"
     ]
    },
    {
     "name": "stderr",
     "output_type": "stream",
     "text": [
      " 82%|████████▏ | 18734/22732.0 [14:24<00:55, 72.67it/s]"
     ]
    },
    {
     "name": "stdout",
     "output_type": "stream",
     "text": [
      "Couldn't find chessboard in image\n",
      "Couldn't find chessboard in image\n",
      "Couldn't find chessboard in image\n",
      "Couldn't find chessboard in image\n",
      "Couldn't find chessboard in image\n",
      "Couldn't find chessboard in image\n",
      "Couldn't find chessboard in image\n",
      "Couldn't find chessboard in image\n",
      "Couldn't find chessboard in image\n",
      "Couldn't find chessboard in image\n",
      "Couldn't find chessboard in image\n",
      "Couldn't find chessboard in image\n",
      "Couldn't find chessboard in image\n",
      "Couldn't find chessboard in image\n",
      "Couldn't find chessboard in image\n"
     ]
    },
    {
     "name": "stderr",
     "output_type": "stream",
     "text": [
      " 82%|████████▏ | 18750/22732.0 [14:24<00:54, 72.55it/s]"
     ]
    },
    {
     "name": "stdout",
     "output_type": "stream",
     "text": [
      "Couldn't find chessboard in image\n",
      "Couldn't find chessboard in image\n",
      "Couldn't find chessboard in image\n",
      "Couldn't find chessboard in image\n",
      "Couldn't find chessboard in image\n",
      "Couldn't find chessboard in image\n",
      "Couldn't find chessboard in image\n",
      "Couldn't find chessboard in image\n",
      "Couldn't find chessboard in image\n",
      "Couldn't find chessboard in image\n",
      "Couldn't find chessboard in image\n",
      "Couldn't find chessboard in image\n",
      "Couldn't find chessboard in image\n",
      "Couldn't find chessboard in image\n",
      "Couldn't find chessboard in image\n"
     ]
    },
    {
     "name": "stderr",
     "output_type": "stream",
     "text": [
      " 83%|████████▎ | 18766/22732.0 [14:24<00:54, 73.15it/s]"
     ]
    },
    {
     "name": "stdout",
     "output_type": "stream",
     "text": [
      "Couldn't find chessboard in image\n",
      "Couldn't find chessboard in image\n",
      "Couldn't find chessboard in image\n",
      "Couldn't find chessboard in image\n",
      "Couldn't find chessboard in image\n",
      "Couldn't find chessboard in image\n",
      "Couldn't find chessboard in image\n",
      "Couldn't find chessboard in image\n",
      "Couldn't find chessboard in image\n",
      "Couldn't find chessboard in image\n",
      "Couldn't find chessboard in image\n",
      "Couldn't find chessboard in image\n",
      "Couldn't find chessboard in image\n",
      "Couldn't find chessboard in image\n",
      "Couldn't find chessboard in image\n"
     ]
    },
    {
     "name": "stderr",
     "output_type": "stream",
     "text": [
      " 83%|████████▎ | 18782/22732.0 [14:25<00:53, 73.33it/s]"
     ]
    },
    {
     "name": "stdout",
     "output_type": "stream",
     "text": [
      "Couldn't find chessboard in image\n",
      "Couldn't find chessboard in image\n",
      "Couldn't find chessboard in image\n",
      "Couldn't find chessboard in image\n",
      "Couldn't find chessboard in image\n",
      "Couldn't find chessboard in image\n",
      "Couldn't find chessboard in image\n",
      "Couldn't find chessboard in image\n",
      "Couldn't find chessboard in image\n",
      "Couldn't find chessboard in image\n",
      "Couldn't find chessboard in image\n",
      "Couldn't find chessboard in image\n",
      "Couldn't find chessboard in image\n",
      "Couldn't find chessboard in image\n",
      "Couldn't find chessboard in image\n"
     ]
    },
    {
     "name": "stderr",
     "output_type": "stream",
     "text": [
      " 83%|████████▎ | 18798/22732.0 [14:25<00:53, 73.48it/s]"
     ]
    },
    {
     "name": "stdout",
     "output_type": "stream",
     "text": [
      "Couldn't find chessboard in image\n",
      "Couldn't find chessboard in image\n",
      "Couldn't find chessboard in image\n",
      "Couldn't find chessboard in image\n",
      "Couldn't find chessboard in image\n",
      "Couldn't find chessboard in image\n",
      "Couldn't find chessboard in image\n",
      "Couldn't find chessboard in image\n",
      "Couldn't find chessboard in image\n",
      "Couldn't find chessboard in image\n",
      "Couldn't find chessboard in image\n",
      "Couldn't find chessboard in image\n",
      "Couldn't find chessboard in image\n",
      "Couldn't find chessboard in image\n",
      "Couldn't find chessboard in image\n"
     ]
    },
    {
     "name": "stderr",
     "output_type": "stream",
     "text": [
      " 83%|████████▎ | 18814/22732.0 [14:25<00:53, 73.53it/s]"
     ]
    },
    {
     "name": "stdout",
     "output_type": "stream",
     "text": [
      "Couldn't find chessboard in image\n",
      "Couldn't find chessboard in image\n",
      "Couldn't find chessboard in image\n",
      "Couldn't find chessboard in image\n",
      "Couldn't find chessboard in image\n",
      "Couldn't find chessboard in image\n",
      "Couldn't find chessboard in image\n",
      "Couldn't find chessboard in image\n",
      "Couldn't find chessboard in image\n",
      "Couldn't find chessboard in image\n",
      "Couldn't find chessboard in image\n",
      "Couldn't find chessboard in image\n",
      "Couldn't find chessboard in image\n",
      "Couldn't find chessboard in image\n",
      "Couldn't find chessboard in image\n"
     ]
    },
    {
     "name": "stderr",
     "output_type": "stream",
     "text": [
      " 83%|████████▎ | 18830/22732.0 [14:25<00:53, 73.50it/s]"
     ]
    },
    {
     "name": "stdout",
     "output_type": "stream",
     "text": [
      "Couldn't find chessboard in image\n",
      "Couldn't find chessboard in image\n",
      "Couldn't find chessboard in image\n",
      "Couldn't find chessboard in image\n",
      "Couldn't find chessboard in image\n",
      "Couldn't find chessboard in image\n",
      "Couldn't find chessboard in image\n",
      "Couldn't find chessboard in image\n",
      "Couldn't find chessboard in image\n",
      "Couldn't find chessboard in image\n",
      "Couldn't find chessboard in image\n",
      "Couldn't find chessboard in image\n",
      "Couldn't find chessboard in image\n",
      "Couldn't find chessboard in image\n",
      "Couldn't find chessboard in image\n"
     ]
    },
    {
     "name": "stderr",
     "output_type": "stream",
     "text": [
      " 83%|████████▎ | 18838/22732.0 [14:25<00:53, 73.28it/s]"
     ]
    },
    {
     "name": "stdout",
     "output_type": "stream",
     "text": [
      "Couldn't find chessboard in image\n",
      "Couldn't find chessboard in image\n",
      "Couldn't find chessboard in image\n",
      "Couldn't find chessboard in image\n",
      "Couldn't find chessboard in image\n",
      "Couldn't find chessboard in image\n",
      "Couldn't find chessboard in image\n",
      "Couldn't find chessboard in image\n",
      "Couldn't find chessboard in image\n",
      "Couldn't find chessboard in image\n",
      "Couldn't find chessboard in image\n",
      "Couldn't find chessboard in image\n",
      "Couldn't find chessboard in image\n",
      "Couldn't find chessboard in image\n",
      "Couldn't find chessboard in image\n"
     ]
    },
    {
     "name": "stderr",
     "output_type": "stream",
     "text": [
      " 83%|████████▎ | 18854/22732.0 [14:26<00:52, 73.43it/s]"
     ]
    },
    {
     "name": "stdout",
     "output_type": "stream",
     "text": [
      "Couldn't find chessboard in image\n",
      "Couldn't find chessboard in image\n",
      "Couldn't find chessboard in image\n",
      "Couldn't find chessboard in image\n",
      "Couldn't find chessboard in image\n",
      "Couldn't find chessboard in image\n",
      "Couldn't find chessboard in image\n",
      "Couldn't find chessboard in image\n",
      "Couldn't find chessboard in image\n",
      "Couldn't find chessboard in image\n",
      "Couldn't find chessboard in image\n",
      "Couldn't find chessboard in image\n",
      "Couldn't find chessboard in image\n",
      "Couldn't find chessboard in image\n",
      "Couldn't find chessboard in image\n"
     ]
    },
    {
     "name": "stderr",
     "output_type": "stream",
     "text": [
      " 83%|████████▎ | 18870/22732.0 [14:26<00:52, 73.57it/s]"
     ]
    },
    {
     "name": "stdout",
     "output_type": "stream",
     "text": [
      "Couldn't find chessboard in image\n",
      "Couldn't find chessboard in image\n",
      "Couldn't find chessboard in image\n",
      "Couldn't find chessboard in image\n",
      "Couldn't find chessboard in image\n",
      "Couldn't find chessboard in image\n",
      "Couldn't find chessboard in image\n",
      "Couldn't find chessboard in image\n",
      "Couldn't find chessboard in image\n",
      "Couldn't find chessboard in image\n",
      "Couldn't find chessboard in image\n",
      "Couldn't find chessboard in image\n",
      "Couldn't find chessboard in image\n",
      "Couldn't find chessboard in image\n",
      "Couldn't find chessboard in image\n"
     ]
    },
    {
     "name": "stderr",
     "output_type": "stream",
     "text": [
      " 83%|████████▎ | 18886/22732.0 [14:26<00:52, 73.66it/s]"
     ]
    },
    {
     "name": "stdout",
     "output_type": "stream",
     "text": [
      "Couldn't find chessboard in image\n",
      "Couldn't find chessboard in image\n",
      "Couldn't find chessboard in image\n",
      "Couldn't find chessboard in image\n",
      "Couldn't find chessboard in image\n",
      "Couldn't find chessboard in image\n",
      "Couldn't find chessboard in image\n",
      "Couldn't find chessboard in image\n",
      "Couldn't find chessboard in image\n",
      "Couldn't find chessboard in image\n",
      "Couldn't find chessboard in image\n",
      "Couldn't find chessboard in image\n",
      "Couldn't find chessboard in image\n",
      "Couldn't find chessboard in image\n",
      "Couldn't find chessboard in image\n"
     ]
    },
    {
     "name": "stderr",
     "output_type": "stream",
     "text": [
      " 83%|████████▎ | 18902/22732.0 [14:26<00:52, 73.55it/s]"
     ]
    },
    {
     "name": "stdout",
     "output_type": "stream",
     "text": [
      "Couldn't find chessboard in image\n",
      "Couldn't find chessboard in image\n",
      "Couldn't find chessboard in image\n",
      "Couldn't find chessboard in image\n",
      "Couldn't find chessboard in image\n",
      "Couldn't find chessboard in image\n",
      "Couldn't find chessboard in image\n",
      "Couldn't find chessboard in image\n",
      "Couldn't find chessboard in image\n",
      "Couldn't find chessboard in image\n",
      "Couldn't find chessboard in image\n",
      "Couldn't find chessboard in image\n",
      "Couldn't find chessboard in image\n",
      "Couldn't find chessboard in image\n",
      "Couldn't find chessboard in image\n"
     ]
    },
    {
     "name": "stderr",
     "output_type": "stream",
     "text": [
      " 83%|████████▎ | 18918/22732.0 [14:26<00:51, 73.51it/s]"
     ]
    },
    {
     "name": "stdout",
     "output_type": "stream",
     "text": [
      "Couldn't find chessboard in image\n",
      "Couldn't find chessboard in image\n",
      "Couldn't find chessboard in image\n",
      "Couldn't find chessboard in image\n",
      "Couldn't find chessboard in image\n",
      "Couldn't find chessboard in image\n",
      "Couldn't find chessboard in image\n",
      "Couldn't find chessboard in image\n",
      "Couldn't find chessboard in image\n",
      "Couldn't find chessboard in image\n",
      "Couldn't find chessboard in image\n",
      "Couldn't find chessboard in image\n",
      "Couldn't find chessboard in image\n",
      "Couldn't find chessboard in image\n",
      "Couldn't find chessboard in image\n"
     ]
    },
    {
     "name": "stderr",
     "output_type": "stream",
     "text": [
      " 83%|████████▎ | 18934/22732.0 [14:27<00:51, 73.49it/s]"
     ]
    },
    {
     "name": "stdout",
     "output_type": "stream",
     "text": [
      "Couldn't find chessboard in image\n",
      "Couldn't find chessboard in image\n",
      "Couldn't find chessboard in image\n",
      "Couldn't find chessboard in image\n",
      "Couldn't find chessboard in image\n",
      "Couldn't find chessboard in image\n",
      "Couldn't find chessboard in image\n",
      "Couldn't find chessboard in image\n",
      "Couldn't find chessboard in image\n",
      "Couldn't find chessboard in image\n",
      "Couldn't find chessboard in image\n",
      "Couldn't find chessboard in image\n",
      "Couldn't find chessboard in image\n",
      "Couldn't find chessboard in image\n",
      "Couldn't find chessboard in image\n"
     ]
    },
    {
     "name": "stderr",
     "output_type": "stream",
     "text": [
      " 83%|████████▎ | 18950/22732.0 [14:27<00:51, 73.56it/s]"
     ]
    },
    {
     "name": "stdout",
     "output_type": "stream",
     "text": [
      "Couldn't find chessboard in image\n",
      "Couldn't find chessboard in image\n",
      "Couldn't find chessboard in image\n",
      "Couldn't find chessboard in image\n",
      "Couldn't find chessboard in image\n",
      "Couldn't find chessboard in image\n",
      "Couldn't find chessboard in image\n",
      "Couldn't find chessboard in image\n",
      "Couldn't find chessboard in image\n",
      "Couldn't find chessboard in image\n",
      "Couldn't find chessboard in image\n",
      "Couldn't find chessboard in image\n",
      "Couldn't find chessboard in image\n",
      "Couldn't find chessboard in image\n",
      "Couldn't find chessboard in image\n"
     ]
    },
    {
     "name": "stderr",
     "output_type": "stream",
     "text": [
      " 83%|████████▎ | 18958/22732.0 [14:27<00:51, 73.42it/s]"
     ]
    },
    {
     "name": "stdout",
     "output_type": "stream",
     "text": [
      "Couldn't find chessboard in image\n",
      "Couldn't find chessboard in image\n",
      "Couldn't find chessboard in image\n",
      "Couldn't find chessboard in image\n",
      "Couldn't find chessboard in image\n",
      "Couldn't find chessboard in image\n",
      "Couldn't find chessboard in image\n",
      "Couldn't find chessboard in image\n",
      "Couldn't find chessboard in image\n",
      "Couldn't find chessboard in image\n",
      "Couldn't find chessboard in image\n",
      "Couldn't find chessboard in image\n",
      "Couldn't find chessboard in image\n",
      "Couldn't find chessboard in image\n",
      "Couldn't find chessboard in image\n"
     ]
    },
    {
     "name": "stderr",
     "output_type": "stream",
     "text": [
      " 83%|████████▎ | 18974/22732.0 [14:27<00:51, 73.56it/s]"
     ]
    },
    {
     "name": "stdout",
     "output_type": "stream",
     "text": [
      "Couldn't find chessboard in image\n",
      "Couldn't find chessboard in image\n",
      "Couldn't find chessboard in image\n",
      "Couldn't find chessboard in image\n",
      "Couldn't find chessboard in image\n",
      "Couldn't find chessboard in image\n",
      "Couldn't find chessboard in image\n",
      "Couldn't find chessboard in image\n",
      "Couldn't find chessboard in image\n",
      "Couldn't find chessboard in image\n",
      "Couldn't find chessboard in image\n",
      "Couldn't find chessboard in image\n",
      "Couldn't find chessboard in image\n",
      "Couldn't find chessboard in image\n",
      "Couldn't find chessboard in image\n"
     ]
    },
    {
     "name": "stderr",
     "output_type": "stream",
     "text": [
      " 84%|████████▎ | 18990/22732.0 [14:27<00:51, 73.06it/s]"
     ]
    },
    {
     "name": "stdout",
     "output_type": "stream",
     "text": [
      "Couldn't find chessboard in image\n",
      "Couldn't find chessboard in image\n",
      "Couldn't find chessboard in image\n",
      "Couldn't find chessboard in image\n",
      "Couldn't find chessboard in image\n",
      "Couldn't find chessboard in image\n",
      "Couldn't find chessboard in image\n",
      "Couldn't find chessboard in image\n",
      "Couldn't find chessboard in image\n",
      "Couldn't find chessboard in image\n",
      "Couldn't find chessboard in image\n",
      "Couldn't find chessboard in image\n",
      "Couldn't find chessboard in image\n",
      "Couldn't find chessboard in image\n",
      "Couldn't find chessboard in image\n"
     ]
    },
    {
     "name": "stderr",
     "output_type": "stream",
     "text": [
      " 84%|████████▎ | 19006/22732.0 [14:28<00:51, 72.74it/s]"
     ]
    },
    {
     "name": "stdout",
     "output_type": "stream",
     "text": [
      "Couldn't find chessboard in image\n",
      "Couldn't find chessboard in image\n",
      "Couldn't find chessboard in image\n",
      "Couldn't find chessboard in image\n",
      "Couldn't find chessboard in image\n",
      "Couldn't find chessboard in image\n",
      "Couldn't find chessboard in image\n",
      "Couldn't find chessboard in image\n",
      "Couldn't find chessboard in image\n",
      "Couldn't find chessboard in image\n",
      "Couldn't find chessboard in image\n",
      "Couldn't find chessboard in image\n",
      "Couldn't find chessboard in image\n",
      "Couldn't find chessboard in image\n",
      "Couldn't find chessboard in image\n"
     ]
    },
    {
     "name": "stderr",
     "output_type": "stream",
     "text": [
      " 84%|████████▎ | 19022/22732.0 [14:28<00:51, 72.48it/s]"
     ]
    },
    {
     "name": "stdout",
     "output_type": "stream",
     "text": [
      "Couldn't find chessboard in image\n",
      "Couldn't find chessboard in image\n",
      "Couldn't find chessboard in image\n",
      "Couldn't find chessboard in image\n",
      "Couldn't find chessboard in image\n",
      "Couldn't find chessboard in image\n",
      "Couldn't find chessboard in image\n",
      "Couldn't find chessboard in image\n",
      "Couldn't find chessboard in image\n",
      "Couldn't find chessboard in image\n",
      "Couldn't find chessboard in image\n",
      "Couldn't find chessboard in image\n",
      "Couldn't find chessboard in image\n",
      "Couldn't find chessboard in image\n",
      "Couldn't find chessboard in image\n"
     ]
    },
    {
     "name": "stderr",
     "output_type": "stream",
     "text": [
      " 84%|████████▎ | 19038/22732.0 [14:28<00:50, 72.63it/s]"
     ]
    },
    {
     "name": "stdout",
     "output_type": "stream",
     "text": [
      "Couldn't find chessboard in image\n",
      "Couldn't find chessboard in image\n",
      "Couldn't find chessboard in image\n",
      "Couldn't find chessboard in image\n",
      "Couldn't find chessboard in image\n",
      "Couldn't find chessboard in image\n",
      "Couldn't find chessboard in image\n",
      "Couldn't find chessboard in image\n",
      "Couldn't find chessboard in image\n",
      "Couldn't find chessboard in image\n",
      "Couldn't find chessboard in image\n",
      "Couldn't find chessboard in image\n",
      "Couldn't find chessboard in image\n",
      "Couldn't find chessboard in image\n",
      "Couldn't find chessboard in image\n"
     ]
    },
    {
     "name": "stderr",
     "output_type": "stream",
     "text": [
      " 84%|████████▍ | 19054/22732.0 [14:28<00:50, 72.70it/s]"
     ]
    },
    {
     "name": "stdout",
     "output_type": "stream",
     "text": [
      "Couldn't find chessboard in image\n",
      "Couldn't find chessboard in image\n",
      "Couldn't find chessboard in image\n",
      "Couldn't find chessboard in image\n",
      "Couldn't find chessboard in image\n",
      "Couldn't find chessboard in image\n",
      "Couldn't find chessboard in image\n",
      "Couldn't find chessboard in image\n",
      "Couldn't find chessboard in image\n",
      "Couldn't find chessboard in image\n",
      "Couldn't find chessboard in image\n",
      "Couldn't find chessboard in image\n",
      "Couldn't find chessboard in image\n",
      "Couldn't find chessboard in image\n",
      "Couldn't find chessboard in image\n"
     ]
    },
    {
     "name": "stderr",
     "output_type": "stream",
     "text": [
      " 84%|████████▍ | 19070/22732.0 [14:29<00:50, 72.88it/s]"
     ]
    },
    {
     "name": "stdout",
     "output_type": "stream",
     "text": [
      "Couldn't find chessboard in image\n",
      "Couldn't find chessboard in image\n",
      "Couldn't find chessboard in image\n",
      "Couldn't find chessboard in image\n",
      "Couldn't find chessboard in image\n",
      "Couldn't find chessboard in image\n",
      "Couldn't find chessboard in image\n",
      "Couldn't find chessboard in image\n",
      "Couldn't find chessboard in image\n",
      "Couldn't find chessboard in image\n",
      "Couldn't find chessboard in image\n",
      "Couldn't find chessboard in image\n",
      "Couldn't find chessboard in image\n",
      "Couldn't find chessboard in image\n",
      "Couldn't find chessboard in image\n"
     ]
    },
    {
     "name": "stderr",
     "output_type": "stream",
     "text": [
      " 84%|████████▍ | 19078/22732.0 [14:29<00:50, 72.56it/s]"
     ]
    },
    {
     "name": "stdout",
     "output_type": "stream",
     "text": [
      "Couldn't find chessboard in image\n",
      "Couldn't find chessboard in image\n",
      "Couldn't find chessboard in image\n",
      "Couldn't find chessboard in image\n",
      "Couldn't find chessboard in image\n",
      "Couldn't find chessboard in image\n",
      "Couldn't find chessboard in image\n",
      "Couldn't find chessboard in image\n",
      "Couldn't find chessboard in image\n",
      "Couldn't find chessboard in image\n",
      "Couldn't find chessboard in image\n",
      "Couldn't find chessboard in image\n",
      "Couldn't find chessboard in image\n",
      "Couldn't find chessboard in image\n",
      "Couldn't find chessboard in image\n"
     ]
    },
    {
     "name": "stderr",
     "output_type": "stream",
     "text": [
      " 84%|████████▍ | 19094/22732.0 [14:29<00:50, 72.59it/s]"
     ]
    },
    {
     "name": "stdout",
     "output_type": "stream",
     "text": [
      "Couldn't find chessboard in image\n",
      "Couldn't find chessboard in image\n",
      "Couldn't find chessboard in image\n",
      "Couldn't find chessboard in image\n",
      "Couldn't find chessboard in image\n",
      "Couldn't find chessboard in image\n",
      "Couldn't find chessboard in image\n",
      "Couldn't find chessboard in image\n",
      "Couldn't find chessboard in image\n",
      "Couldn't find chessboard in image\n",
      "Couldn't find chessboard in image\n",
      "Couldn't find chessboard in image\n",
      "Couldn't find chessboard in image\n",
      "Couldn't find chessboard in image\n",
      "Couldn't find chessboard in image\n"
     ]
    },
    {
     "name": "stderr",
     "output_type": "stream",
     "text": [
      " 84%|████████▍ | 19110/22732.0 [14:29<00:49, 72.65it/s]"
     ]
    },
    {
     "name": "stdout",
     "output_type": "stream",
     "text": [
      "Couldn't find chessboard in image\n",
      "Couldn't find chessboard in image\n",
      "Couldn't find chessboard in image\n",
      "Couldn't find chessboard in image\n",
      "Couldn't find chessboard in image\n",
      "Couldn't find chessboard in image\n",
      "Couldn't find chessboard in image\n",
      "Couldn't find chessboard in image\n",
      "Couldn't find chessboard in image\n",
      "Couldn't find chessboard in image\n",
      "Couldn't find chessboard in image\n",
      "Couldn't find chessboard in image\n",
      "Couldn't find chessboard in image\n",
      "Couldn't find chessboard in image\n",
      "Couldn't find chessboard in image\n"
     ]
    },
    {
     "name": "stderr",
     "output_type": "stream",
     "text": [
      " 84%|████████▍ | 19126/22732.0 [14:29<00:49, 73.16it/s]"
     ]
    },
    {
     "name": "stdout",
     "output_type": "stream",
     "text": [
      "Couldn't find chessboard in image\n",
      "Couldn't find chessboard in image\n",
      "Couldn't find chessboard in image\n",
      "Couldn't find chessboard in image\n",
      "Couldn't find chessboard in image\n",
      "Couldn't find chessboard in image\n",
      "Couldn't find chessboard in image\n",
      "Couldn't find chessboard in image\n",
      "Couldn't find chessboard in image\n",
      "Couldn't find chessboard in image\n",
      "Couldn't find chessboard in image\n",
      "Couldn't find chessboard in image\n",
      "Couldn't find chessboard in image\n",
      "Couldn't find chessboard in image\n",
      "Couldn't find chessboard in image\n"
     ]
    },
    {
     "name": "stderr",
     "output_type": "stream",
     "text": [
      " 84%|████████▍ | 19142/22732.0 [14:30<00:48, 73.44it/s]"
     ]
    },
    {
     "name": "stdout",
     "output_type": "stream",
     "text": [
      "Couldn't find chessboard in image\n",
      "Couldn't find chessboard in image\n",
      "Couldn't find chessboard in image\n",
      "Couldn't find chessboard in image\n",
      "Couldn't find chessboard in image\n",
      "Couldn't find chessboard in image\n",
      "Couldn't find chessboard in image\n",
      "Couldn't find chessboard in image\n",
      "Couldn't find chessboard in image\n",
      "Couldn't find chessboard in image\n",
      "Couldn't find chessboard in image\n",
      "Couldn't find chessboard in image\n",
      "Couldn't find chessboard in image\n",
      "Couldn't find chessboard in image\n",
      "Couldn't find chessboard in image\n"
     ]
    },
    {
     "name": "stderr",
     "output_type": "stream",
     "text": [
      " 84%|████████▍ | 19158/22732.0 [14:30<00:48, 73.46it/s]"
     ]
    },
    {
     "name": "stdout",
     "output_type": "stream",
     "text": [
      "Couldn't find chessboard in image\n",
      "Couldn't find chessboard in image\n",
      "Couldn't find chessboard in image\n",
      "Couldn't find chessboard in image\n",
      "Couldn't find chessboard in image\n",
      "Couldn't find chessboard in image\n",
      "Couldn't find chessboard in image\n",
      "Couldn't find chessboard in image\n",
      "Couldn't find chessboard in image\n",
      "Couldn't find chessboard in image\n",
      "Couldn't find chessboard in image\n",
      "Couldn't find chessboard in image\n",
      "Couldn't find chessboard in image\n",
      "Couldn't find chessboard in image\n",
      "Couldn't find chessboard in image\n"
     ]
    },
    {
     "name": "stderr",
     "output_type": "stream",
     "text": [
      " 84%|████████▍ | 19174/22732.0 [14:30<00:48, 73.44it/s]"
     ]
    },
    {
     "name": "stdout",
     "output_type": "stream",
     "text": [
      "Couldn't find chessboard in image\n",
      "Couldn't find chessboard in image\n",
      "Couldn't find chessboard in image\n",
      "Couldn't find chessboard in image\n",
      "Couldn't find chessboard in image\n",
      "Couldn't find chessboard in image\n",
      "Couldn't find chessboard in image\n",
      "Couldn't find chessboard in image\n",
      "Couldn't find chessboard in image\n",
      "Couldn't find chessboard in image\n",
      "Couldn't find chessboard in image\n",
      "Couldn't find chessboard in image\n",
      "Couldn't find chessboard in image\n",
      "Couldn't find chessboard in image\n",
      "Couldn't find chessboard in image\n"
     ]
    },
    {
     "name": "stderr",
     "output_type": "stream",
     "text": [
      " 84%|████████▍ | 19190/22732.0 [14:30<00:48, 73.42it/s]"
     ]
    },
    {
     "name": "stdout",
     "output_type": "stream",
     "text": [
      "Couldn't find chessboard in image\n",
      "Couldn't find chessboard in image\n",
      "Couldn't find chessboard in image\n",
      "Couldn't find chessboard in image\n",
      "Couldn't find chessboard in image\n",
      "Couldn't find chessboard in image\n",
      "Couldn't find chessboard in image\n",
      "Couldn't find chessboard in image\n",
      "Couldn't find chessboard in image\n",
      "Couldn't find chessboard in image\n",
      "Couldn't find chessboard in image\n",
      "Couldn't find chessboard in image\n",
      "Couldn't find chessboard in image\n",
      "Couldn't find chessboard in image\n",
      "Couldn't find chessboard in image\n"
     ]
    },
    {
     "name": "stderr",
     "output_type": "stream",
     "text": [
      " 84%|████████▍ | 19198/22732.0 [14:30<00:48, 73.42it/s]"
     ]
    },
    {
     "name": "stdout",
     "output_type": "stream",
     "text": [
      "Couldn't find chessboard in image\n",
      "Couldn't find chessboard in image\n",
      "Couldn't find chessboard in image\n",
      "Couldn't find chessboard in image\n",
      "Couldn't find chessboard in image\n",
      "Couldn't find chessboard in image\n",
      "Couldn't find chessboard in image\n",
      "Couldn't find chessboard in image\n",
      "Couldn't find chessboard in image\n",
      "Couldn't find chessboard in image\n",
      "Couldn't find chessboard in image\n",
      "Couldn't find chessboard in image\n",
      "Couldn't find chessboard in image\n",
      "Couldn't find chessboard in image\n",
      "Couldn't find chessboard in image\n"
     ]
    },
    {
     "name": "stderr",
     "output_type": "stream",
     "text": [
      " 85%|████████▍ | 19214/22732.0 [14:31<00:47, 73.58it/s]"
     ]
    },
    {
     "name": "stdout",
     "output_type": "stream",
     "text": [
      "Couldn't find chessboard in image\n",
      "Couldn't find chessboard in image\n",
      "Couldn't find chessboard in image\n",
      "Couldn't find chessboard in image\n",
      "Couldn't find chessboard in image\n",
      "Couldn't find chessboard in image\n",
      "Couldn't find chessboard in image\n",
      "Couldn't find chessboard in image\n",
      "Couldn't find chessboard in image\n",
      "Couldn't find chessboard in image\n",
      "Couldn't find chessboard in image\n",
      "Couldn't find chessboard in image\n",
      "Couldn't find chessboard in image\n",
      "Couldn't find chessboard in image\n",
      "Couldn't find chessboard in image\n"
     ]
    },
    {
     "name": "stderr",
     "output_type": "stream",
     "text": [
      " 85%|████████▍ | 19230/22732.0 [14:31<00:47, 73.68it/s]"
     ]
    },
    {
     "name": "stdout",
     "output_type": "stream",
     "text": [
      "Couldn't find chessboard in image\n",
      "Couldn't find chessboard in image\n",
      "Couldn't find chessboard in image\n",
      "Couldn't find chessboard in image\n",
      "Couldn't find chessboard in image\n",
      "Couldn't find chessboard in image\n",
      "Couldn't find chessboard in image\n",
      "Couldn't find chessboard in image\n",
      "Couldn't find chessboard in image\n",
      "Couldn't find chessboard in image\n",
      "Couldn't find chessboard in image\n",
      "Couldn't find chessboard in image\n",
      "Couldn't find chessboard in image\n",
      "Couldn't find chessboard in image\n",
      "Couldn't find chessboard in image\n"
     ]
    },
    {
     "name": "stderr",
     "output_type": "stream",
     "text": [
      " 85%|████████▍ | 19246/22732.0 [14:31<00:47, 73.84it/s]"
     ]
    },
    {
     "name": "stdout",
     "output_type": "stream",
     "text": [
      "Couldn't find chessboard in image\n",
      "Couldn't find chessboard in image\n",
      "Couldn't find chessboard in image\n",
      "Couldn't find chessboard in image\n",
      "Couldn't find chessboard in image\n",
      "Couldn't find chessboard in image\n",
      "Couldn't find chessboard in image\n",
      "Couldn't find chessboard in image\n",
      "Couldn't find chessboard in image\n",
      "Couldn't find chessboard in image\n",
      "Couldn't find chessboard in image\n",
      "Couldn't find chessboard in image\n",
      "Couldn't find chessboard in image\n",
      "Couldn't find chessboard in image\n",
      "Couldn't find chessboard in image\n"
     ]
    },
    {
     "name": "stderr",
     "output_type": "stream",
     "text": [
      " 85%|████████▍ | 19262/22732.0 [14:31<00:47, 73.74it/s]"
     ]
    },
    {
     "name": "stdout",
     "output_type": "stream",
     "text": [
      "Couldn't find chessboard in image\n",
      "Couldn't find chessboard in image\n",
      "Couldn't find chessboard in image\n",
      "Couldn't find chessboard in image\n",
      "Couldn't find chessboard in image\n",
      "Couldn't find chessboard in image\n",
      "Couldn't find chessboard in image\n",
      "Couldn't find chessboard in image\n",
      "Couldn't find chessboard in image\n",
      "Couldn't find chessboard in image\n",
      "Couldn't find chessboard in image\n",
      "Couldn't find chessboard in image\n",
      "Couldn't find chessboard in image\n",
      "Couldn't find chessboard in image\n",
      "Couldn't find chessboard in image\n"
     ]
    },
    {
     "name": "stderr",
     "output_type": "stream",
     "text": [
      " 85%|████████▍ | 19278/22732.0 [14:31<00:46, 73.78it/s]"
     ]
    },
    {
     "name": "stdout",
     "output_type": "stream",
     "text": [
      "Couldn't find chessboard in image\n",
      "Couldn't find chessboard in image\n",
      "Couldn't find chessboard in image\n",
      "Couldn't find chessboard in image\n",
      "Couldn't find chessboard in image\n",
      "Couldn't find chessboard in image\n",
      "Couldn't find chessboard in image\n",
      "Couldn't find chessboard in image\n",
      "Couldn't find chessboard in image\n",
      "Couldn't find chessboard in image\n",
      "Couldn't find chessboard in image\n",
      "Couldn't find chessboard in image\n",
      "Couldn't find chessboard in image\n",
      "Couldn't find chessboard in image\n",
      "Couldn't find chessboard in image\n"
     ]
    },
    {
     "name": "stderr",
     "output_type": "stream",
     "text": [
      " 85%|████████▍ | 19294/22732.0 [14:32<00:46, 73.80it/s]"
     ]
    },
    {
     "name": "stdout",
     "output_type": "stream",
     "text": [
      "Couldn't find chessboard in image\n",
      "Couldn't find chessboard in image\n",
      "Couldn't find chessboard in image\n",
      "Couldn't find chessboard in image\n",
      "Couldn't find chessboard in image\n",
      "Couldn't find chessboard in image\n",
      "Couldn't find chessboard in image\n",
      "Couldn't find chessboard in image\n",
      "Couldn't find chessboard in image\n",
      "Couldn't find chessboard in image\n",
      "Couldn't find chessboard in image\n",
      "Couldn't find chessboard in image\n",
      "Couldn't find chessboard in image\n",
      "Couldn't find chessboard in image\n",
      "Couldn't find chessboard in image\n"
     ]
    },
    {
     "name": "stderr",
     "output_type": "stream",
     "text": [
      " 85%|████████▍ | 19310/22732.0 [14:32<00:46, 73.96it/s]"
     ]
    },
    {
     "name": "stdout",
     "output_type": "stream",
     "text": [
      "Couldn't find chessboard in image\n",
      "Couldn't find chessboard in image\n",
      "Couldn't find chessboard in image\n",
      "Couldn't find chessboard in image\n",
      "Couldn't find chessboard in image\n",
      "Couldn't find chessboard in image\n",
      "Couldn't find chessboard in image\n",
      "Couldn't find chessboard in image\n",
      "Couldn't find chessboard in image\n",
      "Couldn't find chessboard in image\n",
      "Couldn't find chessboard in image\n",
      "Couldn't find chessboard in image\n",
      "Couldn't find chessboard in image\n",
      "Couldn't find chessboard in image\n",
      "Couldn't find chessboard in image\n"
     ]
    },
    {
     "name": "stderr",
     "output_type": "stream",
     "text": [
      " 85%|████████▍ | 19318/22732.0 [14:32<00:46, 73.86it/s]"
     ]
    },
    {
     "name": "stdout",
     "output_type": "stream",
     "text": [
      "Couldn't find chessboard in image\n",
      "Couldn't find chessboard in image\n",
      "Couldn't find chessboard in image\n",
      "Couldn't find chessboard in image\n",
      "Couldn't find chessboard in image\n",
      "Couldn't find chessboard in image\n",
      "Couldn't find chessboard in image\n",
      "Couldn't find chessboard in image\n",
      "Couldn't find chessboard in image\n",
      "Couldn't find chessboard in image\n",
      "Couldn't find chessboard in image\n",
      "Couldn't find chessboard in image\n",
      "Couldn't find chessboard in image\n",
      "Couldn't find chessboard in image\n",
      "Couldn't find chessboard in image\n"
     ]
    },
    {
     "name": "stderr",
     "output_type": "stream",
     "text": [
      " 85%|████████▌ | 19334/22732.0 [14:32<00:45, 74.01it/s]"
     ]
    },
    {
     "name": "stdout",
     "output_type": "stream",
     "text": [
      "Couldn't find chessboard in image\n",
      "Couldn't find chessboard in image\n",
      "Couldn't find chessboard in image\n",
      "Couldn't find chessboard in image\n",
      "Couldn't find chessboard in image\n",
      "Couldn't find chessboard in image\n",
      "Couldn't find chessboard in image\n",
      "Couldn't find chessboard in image\n",
      "Couldn't find chessboard in image\n",
      "Couldn't find chessboard in image\n",
      "Couldn't find chessboard in image\n",
      "Couldn't find chessboard in image\n",
      "Couldn't find chessboard in image\n",
      "Couldn't find chessboard in image\n",
      "Couldn't find chessboard in image\n"
     ]
    },
    {
     "name": "stderr",
     "output_type": "stream",
     "text": [
      " 85%|████████▌ | 19350/22732.0 [14:32<00:45, 74.05it/s]"
     ]
    },
    {
     "name": "stdout",
     "output_type": "stream",
     "text": [
      "Couldn't find chessboard in image\n",
      "Couldn't find chessboard in image\n",
      "Couldn't find chessboard in image\n",
      "Couldn't find chessboard in image\n",
      "Couldn't find chessboard in image\n",
      "Couldn't find chessboard in image\n",
      "Couldn't find chessboard in image\n",
      "Couldn't find chessboard in image\n",
      "Couldn't find chessboard in image\n",
      "Couldn't find chessboard in image\n",
      "Couldn't find chessboard in image\n",
      "Couldn't find chessboard in image\n",
      "Couldn't find chessboard in image\n",
      "Couldn't find chessboard in image\n",
      "Couldn't find chessboard in image\n"
     ]
    },
    {
     "name": "stderr",
     "output_type": "stream",
     "text": [
      " 85%|████████▌ | 19366/22732.0 [14:33<00:45, 73.98it/s]"
     ]
    },
    {
     "name": "stdout",
     "output_type": "stream",
     "text": [
      "Couldn't find chessboard in image\n",
      "Couldn't find chessboard in image\n",
      "Couldn't find chessboard in image\n",
      "Couldn't find chessboard in image\n",
      "Couldn't find chessboard in image\n",
      "Couldn't find chessboard in image\n",
      "Couldn't find chessboard in image\n",
      "Couldn't find chessboard in image\n",
      "Couldn't find chessboard in image\n",
      "Couldn't find chessboard in image\n",
      "Couldn't find chessboard in image\n",
      "Couldn't find chessboard in image\n",
      "Couldn't find chessboard in image\n",
      "Couldn't find chessboard in image\n",
      "Couldn't find chessboard in image\n"
     ]
    },
    {
     "name": "stderr",
     "output_type": "stream",
     "text": [
      " 85%|████████▌ | 19382/22732.0 [14:33<00:45, 74.03it/s]"
     ]
    },
    {
     "name": "stdout",
     "output_type": "stream",
     "text": [
      "Couldn't find chessboard in image\n",
      "Couldn't find chessboard in image\n",
      "Couldn't find chessboard in image\n",
      "Couldn't find chessboard in image\n",
      "Couldn't find chessboard in image\n",
      "Couldn't find chessboard in image\n",
      "Couldn't find chessboard in image\n",
      "Couldn't find chessboard in image\n",
      "Couldn't find chessboard in image\n",
      "Couldn't find chessboard in image\n",
      "Couldn't find chessboard in image\n",
      "Couldn't find chessboard in image\n",
      "Couldn't find chessboard in image\n",
      "Couldn't find chessboard in image\n",
      "Couldn't find chessboard in image\n"
     ]
    },
    {
     "name": "stderr",
     "output_type": "stream",
     "text": [
      " 85%|████████▌ | 19398/22732.0 [14:33<00:45, 73.61it/s]"
     ]
    },
    {
     "name": "stdout",
     "output_type": "stream",
     "text": [
      "Couldn't find chessboard in image\n",
      "Couldn't find chessboard in image\n",
      "Couldn't find chessboard in image\n",
      "Couldn't find chessboard in image\n",
      "Couldn't find chessboard in image\n",
      "Couldn't find chessboard in image\n",
      "Couldn't find chessboard in image\n",
      "Couldn't find chessboard in image\n",
      "Couldn't find chessboard in image\n",
      "Couldn't find chessboard in image\n",
      "Couldn't find chessboard in image\n",
      "Couldn't find chessboard in image\n",
      "Couldn't find chessboard in image\n",
      "Couldn't find chessboard in image\n",
      "Couldn't find chessboard in image\n"
     ]
    },
    {
     "name": "stderr",
     "output_type": "stream",
     "text": [
      " 85%|████████▌ | 19414/22732.0 [14:33<00:45, 73.56it/s]"
     ]
    },
    {
     "name": "stdout",
     "output_type": "stream",
     "text": [
      "Couldn't find chessboard in image\n",
      "Couldn't find chessboard in image\n",
      "Couldn't find chessboard in image\n",
      "Couldn't find chessboard in image\n",
      "Couldn't find chessboard in image\n",
      "Couldn't find chessboard in image\n",
      "Couldn't find chessboard in image\n",
      "Couldn't find chessboard in image\n",
      "Couldn't find chessboard in image\n",
      "Couldn't find chessboard in image\n",
      "Couldn't find chessboard in image\n",
      "Couldn't find chessboard in image\n",
      "Couldn't find chessboard in image\n",
      "Couldn't find chessboard in image\n",
      "Couldn't find chessboard in image\n"
     ]
    },
    {
     "name": "stderr",
     "output_type": "stream",
     "text": [
      " 85%|████████▌ | 19430/22732.0 [14:33<00:44, 73.57it/s]"
     ]
    },
    {
     "name": "stdout",
     "output_type": "stream",
     "text": [
      "Couldn't find chessboard in image\n",
      "Couldn't find chessboard in image\n",
      "Couldn't find chessboard in image\n",
      "Couldn't find chessboard in image\n",
      "Couldn't find chessboard in image\n",
      "Couldn't find chessboard in image\n",
      "Couldn't find chessboard in image\n",
      "Couldn't find chessboard in image\n",
      "Couldn't find chessboard in image\n",
      "Couldn't find chessboard in image\n",
      "Couldn't find chessboard in image\n",
      "Couldn't find chessboard in image\n",
      "Couldn't find chessboard in image\n",
      "Couldn't find chessboard in image\n",
      "Couldn't find chessboard in image\n"
     ]
    },
    {
     "name": "stderr",
     "output_type": "stream",
     "text": [
      " 86%|████████▌ | 19438/22732.0 [14:34<00:44, 73.30it/s]"
     ]
    },
    {
     "name": "stdout",
     "output_type": "stream",
     "text": [
      "Couldn't find chessboard in image\n",
      "Couldn't find chessboard in image\n",
      "Couldn't find chessboard in image\n",
      "Couldn't find chessboard in image\n",
      "Couldn't find chessboard in image\n",
      "Couldn't find chessboard in image\n",
      "Couldn't find chessboard in image\n",
      "Couldn't find chessboard in image\n",
      "Couldn't find chessboard in image\n",
      "Couldn't find chessboard in image\n",
      "Couldn't find chessboard in image\n",
      "Couldn't find chessboard in image\n",
      "Couldn't find chessboard in image\n",
      "Couldn't find chessboard in image\n",
      "Couldn't find chessboard in image\n"
     ]
    },
    {
     "name": "stderr",
     "output_type": "stream",
     "text": [
      " 86%|████████▌ | 19454/22732.0 [14:34<00:44, 73.22it/s]"
     ]
    },
    {
     "name": "stdout",
     "output_type": "stream",
     "text": [
      "Couldn't find chessboard in image\n",
      "Couldn't find chessboard in image\n",
      "Couldn't find chessboard in image\n",
      "Couldn't find chessboard in image\n",
      "Couldn't find chessboard in image\n",
      "Couldn't find chessboard in image\n",
      "Couldn't find chessboard in image\n",
      "Couldn't find chessboard in image\n",
      "Couldn't find chessboard in image\n",
      "Couldn't find chessboard in image\n",
      "Couldn't find chessboard in image\n",
      "Couldn't find chessboard in image\n",
      "Couldn't find chessboard in image\n",
      "Couldn't find chessboard in image\n",
      "Couldn't find chessboard in image\n"
     ]
    },
    {
     "name": "stderr",
     "output_type": "stream",
     "text": [
      " 86%|████████▌ | 19470/22732.0 [14:34<00:44, 73.29it/s]"
     ]
    },
    {
     "name": "stdout",
     "output_type": "stream",
     "text": [
      "Couldn't find chessboard in image\n",
      "Couldn't find chessboard in image\n",
      "Couldn't find chessboard in image\n",
      "Couldn't find chessboard in image\n",
      "Couldn't find chessboard in image\n",
      "Couldn't find chessboard in image\n",
      "Couldn't find chessboard in image\n",
      "Couldn't find chessboard in image\n",
      "Couldn't find chessboard in image\n",
      "Couldn't find chessboard in image\n",
      "Couldn't find chessboard in image\n",
      "Couldn't find chessboard in image\n",
      "Couldn't find chessboard in image\n",
      "Couldn't find chessboard in image\n",
      "Couldn't find chessboard in image\n"
     ]
    },
    {
     "name": "stderr",
     "output_type": "stream",
     "text": [
      " 86%|████████▌ | 19486/22732.0 [14:34<00:44, 73.18it/s]"
     ]
    },
    {
     "name": "stdout",
     "output_type": "stream",
     "text": [
      "Couldn't find chessboard in image\n",
      "Couldn't find chessboard in image\n",
      "Couldn't find chessboard in image\n",
      "Couldn't find chessboard in image\n",
      "Couldn't find chessboard in image\n",
      "Couldn't find chessboard in image\n",
      "Couldn't find chessboard in image\n",
      "Couldn't find chessboard in image\n",
      "Couldn't find chessboard in image\n",
      "Couldn't find chessboard in image\n",
      "Couldn't find chessboard in image\n",
      "Couldn't find chessboard in image\n",
      "Couldn't find chessboard in image\n",
      "Couldn't find chessboard in image\n",
      "Couldn't find chessboard in image\n"
     ]
    },
    {
     "name": "stderr",
     "output_type": "stream",
     "text": [
      " 86%|████████▌ | 19502/22732.0 [14:34<00:44, 72.82it/s]"
     ]
    },
    {
     "name": "stdout",
     "output_type": "stream",
     "text": [
      "Couldn't find chessboard in image\n",
      "Couldn't find chessboard in image\n",
      "Couldn't find chessboard in image\n",
      "Couldn't find chessboard in image\n",
      "Couldn't find chessboard in image\n",
      "Couldn't find chessboard in image\n",
      "Couldn't find chessboard in image\n",
      "Couldn't find chessboard in image\n",
      "Couldn't find chessboard in image\n",
      "Couldn't find chessboard in image\n",
      "Couldn't find chessboard in image\n",
      "Couldn't find chessboard in image\n",
      "Couldn't find chessboard in image\n",
      "Couldn't find chessboard in image\n",
      "Couldn't find chessboard in image\n"
     ]
    },
    {
     "name": "stderr",
     "output_type": "stream",
     "text": [
      " 86%|████████▌ | 19518/22732.0 [14:35<00:44, 73.00it/s]"
     ]
    },
    {
     "name": "stdout",
     "output_type": "stream",
     "text": [
      "Couldn't find chessboard in image\n",
      "Couldn't find chessboard in image\n",
      "Couldn't find chessboard in image\n",
      "Couldn't find chessboard in image\n",
      "Couldn't find chessboard in image\n",
      "Couldn't find chessboard in image\n",
      "Couldn't find chessboard in image\n",
      "Couldn't find chessboard in image\n",
      "Couldn't find chessboard in image\n",
      "Couldn't find chessboard in image\n",
      "Couldn't find chessboard in image\n",
      "Couldn't find chessboard in image\n",
      "Couldn't find chessboard in image\n",
      "Couldn't find chessboard in image\n",
      "Couldn't find chessboard in image\n"
     ]
    },
    {
     "name": "stderr",
     "output_type": "stream",
     "text": [
      " 86%|████████▌ | 19534/22732.0 [14:35<00:43, 73.23it/s]"
     ]
    },
    {
     "name": "stdout",
     "output_type": "stream",
     "text": [
      "Couldn't find chessboard in image\n",
      "Couldn't find chessboard in image\n",
      "Couldn't find chessboard in image\n",
      "Couldn't find chessboard in image\n",
      "Couldn't find chessboard in image\n",
      "Couldn't find chessboard in image\n",
      "Couldn't find chessboard in image\n",
      "Couldn't find chessboard in image\n",
      "Couldn't find chessboard in image\n",
      "Couldn't find chessboard in image\n",
      "Couldn't find chessboard in image\n",
      "Couldn't find chessboard in image\n",
      "Couldn't find chessboard in image\n",
      "Couldn't find chessboard in image\n",
      "Couldn't find chessboard in image\n"
     ]
    },
    {
     "name": "stderr",
     "output_type": "stream",
     "text": [
      " 86%|████████▌ | 19550/22732.0 [14:35<00:43, 73.19it/s]"
     ]
    },
    {
     "name": "stdout",
     "output_type": "stream",
     "text": [
      "Couldn't find chessboard in image\n",
      "Couldn't find chessboard in image\n",
      "Couldn't find chessboard in image\n",
      "Couldn't find chessboard in image\n",
      "Couldn't find chessboard in image\n",
      "Couldn't find chessboard in image\n",
      "Couldn't find chessboard in image\n",
      "Couldn't find chessboard in image\n",
      "Couldn't find chessboard in image\n",
      "Couldn't find chessboard in image\n",
      "Couldn't find chessboard in image\n",
      "Couldn't find chessboard in image\n",
      "Couldn't find chessboard in image\n",
      "Couldn't find chessboard in image\n",
      "Couldn't find chessboard in image\n"
     ]
    },
    {
     "name": "stderr",
     "output_type": "stream",
     "text": [
      " 86%|████████▌ | 19558/22732.0 [14:35<00:43, 73.20it/s]"
     ]
    },
    {
     "name": "stdout",
     "output_type": "stream",
     "text": [
      "Couldn't find chessboard in image\n",
      "Couldn't find chessboard in image\n",
      "Couldn't find chessboard in image\n",
      "Couldn't find chessboard in image\n",
      "Couldn't find chessboard in image\n",
      "Couldn't find chessboard in image\n",
      "Couldn't find chessboard in image\n",
      "Couldn't find chessboard in image\n",
      "Couldn't find chessboard in image\n",
      "Couldn't find chessboard in image\n",
      "Couldn't find chessboard in image\n",
      "Couldn't find chessboard in image\n",
      "Couldn't find chessboard in image\n",
      "Couldn't find chessboard in image\n",
      "Couldn't find chessboard in image\n"
     ]
    },
    {
     "name": "stderr",
     "output_type": "stream",
     "text": [
      " 86%|████████▌ | 19574/22732.0 [14:35<00:42, 73.53it/s]"
     ]
    },
    {
     "name": "stdout",
     "output_type": "stream",
     "text": [
      "Couldn't find chessboard in image\n",
      "Couldn't find chessboard in image\n",
      "Couldn't find chessboard in image\n",
      "Couldn't find chessboard in image\n",
      "Couldn't find chessboard in image\n",
      "Couldn't find chessboard in image\n",
      "Couldn't find chessboard in image\n",
      "Couldn't find chessboard in image\n",
      "Couldn't find chessboard in image\n",
      "Couldn't find chessboard in image\n",
      "Couldn't find chessboard in image\n",
      "Couldn't find chessboard in image\n",
      "Couldn't find chessboard in image\n",
      "Couldn't find chessboard in image\n",
      "Couldn't find chessboard in image\n"
     ]
    },
    {
     "name": "stderr",
     "output_type": "stream",
     "text": [
      " 86%|████████▌ | 19590/22732.0 [14:36<00:42, 73.71it/s]"
     ]
    },
    {
     "name": "stdout",
     "output_type": "stream",
     "text": [
      "Couldn't find chessboard in image\n",
      "Couldn't find chessboard in image\n",
      "Couldn't find chessboard in image\n",
      "Couldn't find chessboard in image\n",
      "Couldn't find chessboard in image\n",
      "Couldn't find chessboard in image\n",
      "Couldn't find chessboard in image\n",
      "Couldn't find chessboard in image\n",
      "Couldn't find chessboard in image\n",
      "Couldn't find chessboard in image\n",
      "Couldn't find chessboard in image\n",
      "Couldn't find chessboard in image\n",
      "Couldn't find chessboard in image\n",
      "Couldn't find chessboard in image\n",
      "Couldn't find chessboard in image\n"
     ]
    },
    {
     "name": "stderr",
     "output_type": "stream",
     "text": [
      " 86%|████████▌ | 19606/22732.0 [14:36<00:42, 73.14it/s]"
     ]
    },
    {
     "name": "stdout",
     "output_type": "stream",
     "text": [
      "Couldn't find chessboard in image\n",
      "Couldn't find chessboard in image\n",
      "Couldn't find chessboard in image\n",
      "Couldn't find chessboard in image\n",
      "Couldn't find chessboard in image\n",
      "Couldn't find chessboard in image\n",
      "Couldn't find chessboard in image\n",
      "Couldn't find chessboard in image\n",
      "Couldn't find chessboard in image\n",
      "Couldn't find chessboard in image\n",
      "Couldn't find chessboard in image\n",
      "Couldn't find chessboard in image\n",
      "Couldn't find chessboard in image\n",
      "Couldn't find chessboard in image\n",
      "Couldn't find chessboard in image\n"
     ]
    },
    {
     "name": "stderr",
     "output_type": "stream",
     "text": [
      " 86%|████████▋ | 19622/22732.0 [14:36<00:42, 72.92it/s]"
     ]
    },
    {
     "name": "stdout",
     "output_type": "stream",
     "text": [
      "Couldn't find chessboard in image\n",
      "Couldn't find chessboard in image\n",
      "Couldn't find chessboard in image\n",
      "Couldn't find chessboard in image\n",
      "Couldn't find chessboard in image\n",
      "Couldn't find chessboard in image\n",
      "Couldn't find chessboard in image\n",
      "Couldn't find chessboard in image\n",
      "Couldn't find chessboard in image\n",
      "Couldn't find chessboard in image\n",
      "Couldn't find chessboard in image\n",
      "Couldn't find chessboard in image\n",
      "Couldn't find chessboard in image\n",
      "Couldn't find chessboard in image\n",
      "Couldn't find chessboard in image\n"
     ]
    },
    {
     "name": "stderr",
     "output_type": "stream",
     "text": [
      " 86%|████████▋ | 19638/22732.0 [14:36<00:42, 72.53it/s]"
     ]
    },
    {
     "name": "stdout",
     "output_type": "stream",
     "text": [
      "Couldn't find chessboard in image\n",
      "Couldn't find chessboard in image\n",
      "Couldn't find chessboard in image\n",
      "Couldn't find chessboard in image\n",
      "Couldn't find chessboard in image\n",
      "Couldn't find chessboard in image\n",
      "Couldn't find chessboard in image\n",
      "Couldn't find chessboard in image\n",
      "Couldn't find chessboard in image\n",
      "Couldn't find chessboard in image\n",
      "Couldn't find chessboard in image\n",
      "Couldn't find chessboard in image\n",
      "Couldn't find chessboard in image\n",
      "Couldn't find chessboard in image\n",
      "Couldn't find chessboard in image\n"
     ]
    },
    {
     "name": "stderr",
     "output_type": "stream",
     "text": [
      " 86%|████████▋ | 19654/22732.0 [14:37<00:42, 72.82it/s]"
     ]
    },
    {
     "name": "stdout",
     "output_type": "stream",
     "text": [
      "Couldn't find chessboard in image\n",
      "Couldn't find chessboard in image\n",
      "Couldn't find chessboard in image\n",
      "Couldn't find chessboard in image\n",
      "Couldn't find chessboard in image\n",
      "Couldn't find chessboard in image\n",
      "Couldn't find chessboard in image\n",
      "Couldn't find chessboard in image\n",
      "Couldn't find chessboard in image\n",
      "Couldn't find chessboard in image\n",
      "Couldn't find chessboard in image\n",
      "Couldn't find chessboard in image\n",
      "Couldn't find chessboard in image\n",
      "Couldn't find chessboard in image\n",
      "Couldn't find chessboard in image\n"
     ]
    },
    {
     "name": "stderr",
     "output_type": "stream",
     "text": [
      " 87%|████████▋ | 19670/22732.0 [14:37<00:41, 72.94it/s]"
     ]
    },
    {
     "name": "stdout",
     "output_type": "stream",
     "text": [
      "Couldn't find chessboard in image\n",
      "Couldn't find chessboard in image\n",
      "Couldn't find chessboard in image\n",
      "Couldn't find chessboard in image\n",
      "Couldn't find chessboard in image\n",
      "Couldn't find chessboard in image\n",
      "Couldn't find chessboard in image\n",
      "Couldn't find chessboard in image\n",
      "Couldn't find chessboard in image\n",
      "Couldn't find chessboard in image\n",
      "Couldn't find chessboard in image\n",
      "Couldn't find chessboard in image\n",
      "Couldn't find chessboard in image\n",
      "Couldn't find chessboard in image\n",
      "Couldn't find chessboard in image\n"
     ]
    },
    {
     "name": "stderr",
     "output_type": "stream",
     "text": [
      " 87%|████████▋ | 19678/22732.0 [14:37<00:42, 72.68it/s]"
     ]
    },
    {
     "name": "stdout",
     "output_type": "stream",
     "text": [
      "Couldn't find chessboard in image\n",
      "Couldn't find chessboard in image\n",
      "Couldn't find chessboard in image\n",
      "Couldn't find chessboard in image\n",
      "Couldn't find chessboard in image\n",
      "Couldn't find chessboard in image\n",
      "Couldn't find chessboard in image\n",
      "Couldn't find chessboard in image\n",
      "Couldn't find chessboard in image\n",
      "Couldn't find chessboard in image\n",
      "Couldn't find chessboard in image\n",
      "Couldn't find chessboard in image\n",
      "Couldn't find chessboard in image\n",
      "Couldn't find chessboard in image\n",
      "Couldn't find chessboard in image\n"
     ]
    },
    {
     "name": "stderr",
     "output_type": "stream",
     "text": [
      " 87%|████████▋ | 19694/22732.0 [14:37<00:41, 72.83it/s]"
     ]
    },
    {
     "name": "stdout",
     "output_type": "stream",
     "text": [
      "Couldn't find chessboard in image\n",
      "Couldn't find chessboard in image\n",
      "Couldn't find chessboard in image\n",
      "Couldn't find chessboard in image\n",
      "Couldn't find chessboard in image\n",
      "Couldn't find chessboard in image\n",
      "Couldn't find chessboard in image\n",
      "Couldn't find chessboard in image\n",
      "Couldn't find chessboard in image\n",
      "Couldn't find chessboard in image\n",
      "Couldn't find chessboard in image\n",
      "Couldn't find chessboard in image\n",
      "Couldn't find chessboard in image\n",
      "Couldn't find chessboard in image\n",
      "Couldn't find chessboard in image\n"
     ]
    },
    {
     "name": "stderr",
     "output_type": "stream",
     "text": [
      " 87%|████████▋ | 19710/22732.0 [14:37<00:41, 73.07it/s]"
     ]
    },
    {
     "name": "stdout",
     "output_type": "stream",
     "text": [
      "Couldn't find chessboard in image\n",
      "Couldn't find chessboard in image\n",
      "Couldn't find chessboard in image\n",
      "Couldn't find chessboard in image\n",
      "Couldn't find chessboard in image\n",
      "Couldn't find chessboard in image\n",
      "Couldn't find chessboard in image\n",
      "Couldn't find chessboard in image\n",
      "Couldn't find chessboard in image\n",
      "Couldn't find chessboard in image\n",
      "Couldn't find chessboard in image\n",
      "Couldn't find chessboard in image\n",
      "Couldn't find chessboard in image\n",
      "Couldn't find chessboard in image\n",
      "Couldn't find chessboard in image\n"
     ]
    },
    {
     "name": "stderr",
     "output_type": "stream",
     "text": [
      " 87%|████████▋ | 19726/22732.0 [14:37<00:41, 73.28it/s]"
     ]
    },
    {
     "name": "stdout",
     "output_type": "stream",
     "text": [
      "Couldn't find chessboard in image\n",
      "Couldn't find chessboard in image\n",
      "Couldn't find chessboard in image\n",
      "Couldn't find chessboard in image\n",
      "Couldn't find chessboard in image\n",
      "Couldn't find chessboard in image\n",
      "Couldn't find chessboard in image\n",
      "Couldn't find chessboard in image\n",
      "Couldn't find chessboard in image\n",
      "Couldn't find chessboard in image\n",
      "Couldn't find chessboard in image\n",
      "Couldn't find chessboard in image\n",
      "Couldn't find chessboard in image\n",
      "Couldn't find chessboard in image\n",
      "Couldn't find chessboard in image\n"
     ]
    },
    {
     "name": "stderr",
     "output_type": "stream",
     "text": [
      " 87%|████████▋ | 19742/22732.0 [14:38<00:40, 73.19it/s]"
     ]
    },
    {
     "name": "stdout",
     "output_type": "stream",
     "text": [
      "Couldn't find chessboard in image\n",
      "Couldn't find chessboard in image\n",
      "Couldn't find chessboard in image\n",
      "Couldn't find chessboard in image\n",
      "Couldn't find chessboard in image\n",
      "Couldn't find chessboard in image\n",
      "Couldn't find chessboard in image\n",
      "Couldn't find chessboard in image\n",
      "Couldn't find chessboard in image\n",
      "Couldn't find chessboard in image\n",
      "Couldn't find chessboard in image\n",
      "Couldn't find chessboard in image\n",
      "Couldn't find chessboard in image\n",
      "Couldn't find chessboard in image\n",
      "Couldn't find chessboard in image\n"
     ]
    },
    {
     "name": "stderr",
     "output_type": "stream",
     "text": [
      " 87%|████████▋ | 19758/22732.0 [14:38<00:41, 72.17it/s]"
     ]
    },
    {
     "name": "stdout",
     "output_type": "stream",
     "text": [
      "Couldn't find chessboard in image\n",
      "Couldn't find chessboard in image\n",
      "Couldn't find chessboard in image\n",
      "Couldn't find chessboard in image\n",
      "Couldn't find chessboard in image\n",
      "Couldn't find chessboard in image\n",
      "Couldn't find chessboard in image\n",
      "Couldn't find chessboard in image\n",
      "Couldn't find chessboard in image\n",
      "Couldn't find chessboard in image\n",
      "Couldn't find chessboard in image\n",
      "Couldn't find chessboard in image\n",
      "Couldn't find chessboard in image\n",
      "Couldn't find chessboard in image\n",
      "Couldn't find chessboard in image\n"
     ]
    },
    {
     "name": "stderr",
     "output_type": "stream",
     "text": [
      " 87%|████████▋ | 19774/22732.0 [14:38<00:40, 72.79it/s]"
     ]
    },
    {
     "name": "stdout",
     "output_type": "stream",
     "text": [
      "Couldn't find chessboard in image\n",
      "Couldn't find chessboard in image\n",
      "Couldn't find chessboard in image\n",
      "Couldn't find chessboard in image\n",
      "Couldn't find chessboard in image\n",
      "Couldn't find chessboard in image\n",
      "Couldn't find chessboard in image\n",
      "Couldn't find chessboard in image\n",
      "Couldn't find chessboard in image\n",
      "Couldn't find chessboard in image\n",
      "Couldn't find chessboard in image\n",
      "Couldn't find chessboard in image\n",
      "Couldn't find chessboard in image\n",
      "Couldn't find chessboard in image\n",
      "Couldn't find chessboard in image\n"
     ]
    },
    {
     "name": "stderr",
     "output_type": "stream",
     "text": [
      " 87%|████████▋ | 19790/22732.0 [14:38<00:40, 72.84it/s]"
     ]
    },
    {
     "name": "stdout",
     "output_type": "stream",
     "text": [
      "Couldn't find chessboard in image\n",
      "Couldn't find chessboard in image\n",
      "Couldn't find chessboard in image\n",
      "Couldn't find chessboard in image\n",
      "Couldn't find chessboard in image\n",
      "Couldn't find chessboard in image\n",
      "Couldn't find chessboard in image\n",
      "Couldn't find chessboard in image\n",
      "Couldn't find chessboard in image\n",
      "Couldn't find chessboard in image\n",
      "Couldn't find chessboard in image\n",
      "Couldn't find chessboard in image\n",
      "Couldn't find chessboard in image\n",
      "Couldn't find chessboard in image\n",
      "Couldn't find chessboard in image\n"
     ]
    },
    {
     "name": "stderr",
     "output_type": "stream",
     "text": [
      " 87%|████████▋ | 19798/22732.0 [14:38<00:40, 72.38it/s]"
     ]
    },
    {
     "name": "stdout",
     "output_type": "stream",
     "text": [
      "Couldn't find chessboard in image\n",
      "Couldn't find chessboard in image\n",
      "Couldn't find chessboard in image\n",
      "Couldn't find chessboard in image\n",
      "Couldn't find chessboard in image\n",
      "Couldn't find chessboard in image\n",
      "Couldn't find chessboard in image\n",
      "Couldn't find chessboard in image\n",
      "Couldn't find chessboard in image\n",
      "Couldn't find chessboard in image\n",
      "Couldn't find chessboard in image\n",
      "Couldn't find chessboard in image\n",
      "Couldn't find chessboard in image\n",
      "Couldn't find chessboard in image\n",
      "Couldn't find chessboard in image\n"
     ]
    },
    {
     "name": "stderr",
     "output_type": "stream",
     "text": [
      " 87%|████████▋ | 19814/22732.0 [14:39<00:40, 72.40it/s]"
     ]
    },
    {
     "name": "stdout",
     "output_type": "stream",
     "text": [
      "Couldn't find chessboard in image\n",
      "Couldn't find chessboard in image\n",
      "Couldn't find chessboard in image\n",
      "Couldn't find chessboard in image\n",
      "Couldn't find chessboard in image\n",
      "Couldn't find chessboard in image\n",
      "Couldn't find chessboard in image\n",
      "Couldn't find chessboard in image\n",
      "Couldn't find chessboard in image\n",
      "Couldn't find chessboard in image\n",
      "Couldn't find chessboard in image\n",
      "Couldn't find chessboard in image\n",
      "Couldn't find chessboard in image\n",
      "Couldn't find chessboard in image\n",
      "Couldn't find chessboard in image\n"
     ]
    },
    {
     "name": "stderr",
     "output_type": "stream",
     "text": [
      " 87%|████████▋ | 19830/22732.0 [14:39<00:40, 72.27it/s]"
     ]
    },
    {
     "name": "stdout",
     "output_type": "stream",
     "text": [
      "Couldn't find chessboard in image\n",
      "Couldn't find chessboard in image\n",
      "Couldn't find chessboard in image\n",
      "Couldn't find chessboard in image\n",
      "Couldn't find chessboard in image\n",
      "Couldn't find chessboard in image\n",
      "Couldn't find chessboard in image\n",
      "Couldn't find chessboard in image\n",
      "Couldn't find chessboard in image\n",
      "Couldn't find chessboard in image\n",
      "Couldn't find chessboard in image\n",
      "Couldn't find chessboard in image\n",
      "Couldn't find chessboard in image\n",
      "Couldn't find chessboard in image\n",
      "Couldn't find chessboard in image\n"
     ]
    },
    {
     "name": "stderr",
     "output_type": "stream",
     "text": [
      " 87%|████████▋ | 19846/22732.0 [14:39<00:39, 72.47it/s]"
     ]
    },
    {
     "name": "stdout",
     "output_type": "stream",
     "text": [
      "Couldn't find chessboard in image\n",
      "Couldn't find chessboard in image\n",
      "Couldn't find chessboard in image\n",
      "Couldn't find chessboard in image\n",
      "Couldn't find chessboard in image\n",
      "Couldn't find chessboard in image\n",
      "Couldn't find chessboard in image\n",
      "Couldn't find chessboard in image\n",
      "Couldn't find chessboard in image\n",
      "Couldn't find chessboard in image\n",
      "Couldn't find chessboard in image\n",
      "Couldn't find chessboard in image\n",
      "Couldn't find chessboard in image\n",
      "Couldn't find chessboard in image\n",
      "Couldn't find chessboard in image\n"
     ]
    },
    {
     "name": "stderr",
     "output_type": "stream",
     "text": [
      " 87%|████████▋ | 19862/22732.0 [14:39<00:39, 72.63it/s]"
     ]
    },
    {
     "name": "stdout",
     "output_type": "stream",
     "text": [
      "Couldn't find chessboard in image\n",
      "Couldn't find chessboard in image\n",
      "Couldn't find chessboard in image\n",
      "Couldn't find chessboard in image\n",
      "Couldn't find chessboard in image\n",
      "Couldn't find chessboard in image\n",
      "Couldn't find chessboard in image\n",
      "Couldn't find chessboard in image\n",
      "Couldn't find chessboard in image\n",
      "Couldn't find chessboard in image\n",
      "Couldn't find chessboard in image\n",
      "Couldn't find chessboard in image\n",
      "Couldn't find chessboard in image\n",
      "Couldn't find chessboard in image\n",
      "Couldn't find chessboard in image\n"
     ]
    },
    {
     "name": "stderr",
     "output_type": "stream",
     "text": [
      " 87%|████████▋ | 19878/22732.0 [14:40<00:39, 72.34it/s]"
     ]
    },
    {
     "name": "stdout",
     "output_type": "stream",
     "text": [
      "Couldn't find chessboard in image\n",
      "Couldn't find chessboard in image\n",
      "Couldn't find chessboard in image\n",
      "Couldn't find chessboard in image\n",
      "Couldn't find chessboard in image\n",
      "Couldn't find chessboard in image\n",
      "Couldn't find chessboard in image\n",
      "Couldn't find chessboard in image\n",
      "Couldn't find chessboard in image\n",
      "Couldn't find chessboard in image\n",
      "Couldn't find chessboard in image\n",
      "Couldn't find chessboard in image\n",
      "Couldn't find chessboard in image\n",
      "Couldn't find chessboard in image\n",
      "Couldn't find chessboard in image\n"
     ]
    },
    {
     "name": "stderr",
     "output_type": "stream",
     "text": [
      " 88%|████████▊ | 19894/22732.0 [14:40<00:39, 72.61it/s]"
     ]
    },
    {
     "name": "stdout",
     "output_type": "stream",
     "text": [
      "Couldn't find chessboard in image\n",
      "Couldn't find chessboard in image\n",
      "Couldn't find chessboard in image\n",
      "Couldn't find chessboard in image\n",
      "Couldn't find chessboard in image\n",
      "Couldn't find chessboard in image\n",
      "Couldn't find chessboard in image\n",
      "Couldn't find chessboard in image\n",
      "Couldn't find chessboard in image\n",
      "Couldn't find chessboard in image\n",
      "Couldn't find chessboard in image\n",
      "Couldn't find chessboard in image\n",
      "Couldn't find chessboard in image\n",
      "Couldn't find chessboard in image\n",
      "Couldn't find chessboard in image\n"
     ]
    },
    {
     "name": "stderr",
     "output_type": "stream",
     "text": [
      " 88%|████████▊ | 19910/22732.0 [14:40<00:38, 72.95it/s]"
     ]
    },
    {
     "name": "stdout",
     "output_type": "stream",
     "text": [
      "Couldn't find chessboard in image\n",
      "Couldn't find chessboard in image\n",
      "Couldn't find chessboard in image\n",
      "Couldn't find chessboard in image\n",
      "Couldn't find chessboard in image\n",
      "Couldn't find chessboard in image\n",
      "Couldn't find chessboard in image\n",
      "Couldn't find chessboard in image\n",
      "Couldn't find chessboard in image\n",
      "Couldn't find chessboard in image\n",
      "Couldn't find chessboard in image\n",
      "Couldn't find chessboard in image\n",
      "Couldn't find chessboard in image\n",
      "Couldn't find chessboard in image\n",
      "Couldn't find chessboard in image\n"
     ]
    },
    {
     "name": "stderr",
     "output_type": "stream",
     "text": [
      " 88%|████████▊ | 19918/22732.0 [14:40<00:38, 72.84it/s]"
     ]
    },
    {
     "name": "stdout",
     "output_type": "stream",
     "text": [
      "Couldn't find chessboard in image\n",
      "Couldn't find chessboard in image\n",
      "Couldn't find chessboard in image\n",
      "Couldn't find chessboard in image\n",
      "Couldn't find chessboard in image\n",
      "Couldn't find chessboard in image\n",
      "Couldn't find chessboard in image\n",
      "Couldn't find chessboard in image\n",
      "Couldn't find chessboard in image\n",
      "Couldn't find chessboard in image\n",
      "Couldn't find chessboard in image\n",
      "Couldn't find chessboard in image\n",
      "Couldn't find chessboard in image\n",
      "Couldn't find chessboard in image\n",
      "Couldn't find chessboard in image\n"
     ]
    },
    {
     "name": "stderr",
     "output_type": "stream",
     "text": [
      " 88%|████████▊ | 19934/22732.0 [14:40<00:38, 73.11it/s]"
     ]
    },
    {
     "name": "stdout",
     "output_type": "stream",
     "text": [
      "Couldn't find chessboard in image\n",
      "Couldn't find chessboard in image\n",
      "Couldn't find chessboard in image\n",
      "Couldn't find chessboard in image\n",
      "Couldn't find chessboard in image\n",
      "Couldn't find chessboard in image\n",
      "Couldn't find chessboard in image\n",
      "Couldn't find chessboard in image\n",
      "Couldn't find chessboard in image\n",
      "Couldn't find chessboard in image\n",
      "Couldn't find chessboard in image\n",
      "Couldn't find chessboard in image\n",
      "Couldn't find chessboard in image\n",
      "Couldn't find chessboard in image\n",
      "Couldn't find chessboard in image\n"
     ]
    },
    {
     "name": "stderr",
     "output_type": "stream",
     "text": [
      " 88%|████████▊ | 19950/22732.0 [14:41<00:37, 73.41it/s]"
     ]
    },
    {
     "name": "stdout",
     "output_type": "stream",
     "text": [
      "Couldn't find chessboard in image\n",
      "Couldn't find chessboard in image\n",
      "Couldn't find chessboard in image\n",
      "Couldn't find chessboard in image\n",
      "Couldn't find chessboard in image\n",
      "Couldn't find chessboard in image\n",
      "Couldn't find chessboard in image\n",
      "Couldn't find chessboard in image\n",
      "Couldn't find chessboard in image\n",
      "Couldn't find chessboard in image\n",
      "Couldn't find chessboard in image\n",
      "Couldn't find chessboard in image\n",
      "Couldn't find chessboard in image\n",
      "Couldn't find chessboard in image\n",
      "Couldn't find chessboard in image\n"
     ]
    },
    {
     "name": "stderr",
     "output_type": "stream",
     "text": [
      " 88%|████████▊ | 19966/22732.0 [14:41<00:37, 73.37it/s]"
     ]
    },
    {
     "name": "stdout",
     "output_type": "stream",
     "text": [
      "Couldn't find chessboard in image\n",
      "Couldn't find chessboard in image\n",
      "Couldn't find chessboard in image\n",
      "Couldn't find chessboard in image\n",
      "Couldn't find chessboard in image\n",
      "Couldn't find chessboard in image\n",
      "Couldn't find chessboard in image\n",
      "Couldn't find chessboard in image\n",
      "Couldn't find chessboard in image\n",
      "Couldn't find chessboard in image\n",
      "Couldn't find chessboard in image\n",
      "Couldn't find chessboard in image\n",
      "Couldn't find chessboard in image\n",
      "Couldn't find chessboard in image\n",
      "Couldn't find chessboard in image\n"
     ]
    },
    {
     "name": "stderr",
     "output_type": "stream",
     "text": [
      " 88%|████████▊ | 19982/22732.0 [14:41<00:37, 73.37it/s]"
     ]
    },
    {
     "name": "stdout",
     "output_type": "stream",
     "text": [
      "Couldn't find chessboard in image\n",
      "Couldn't find chessboard in image\n",
      "Couldn't find chessboard in image\n",
      "Couldn't find chessboard in image\n",
      "Couldn't find chessboard in image\n",
      "Couldn't find chessboard in image\n",
      "Couldn't find chessboard in image\n",
      "Couldn't find chessboard in image\n",
      "Couldn't find chessboard in image\n",
      "Couldn't find chessboard in image\n",
      "Couldn't find chessboard in image\n",
      "Couldn't find chessboard in image\n",
      "Couldn't find chessboard in image\n",
      "Couldn't find chessboard in image\n",
      "Couldn't find chessboard in image\n"
     ]
    },
    {
     "name": "stderr",
     "output_type": "stream",
     "text": [
      " 88%|████████▊ | 19998/22732.0 [14:41<00:37, 73.23it/s]"
     ]
    },
    {
     "name": "stdout",
     "output_type": "stream",
     "text": [
      "Couldn't find chessboard in image\n",
      "Couldn't find chessboard in image\n",
      "Couldn't find chessboard in image\n",
      "Couldn't find chessboard in image\n",
      "Couldn't find chessboard in image\n",
      "Couldn't find chessboard in image\n",
      "Couldn't find chessboard in image\n",
      "Couldn't find chessboard in image\n",
      "Couldn't find chessboard in image\n",
      "Couldn't find chessboard in image\n",
      "Couldn't find chessboard in image\n",
      "Couldn't find chessboard in image\n",
      "Couldn't find chessboard in image\n",
      "Couldn't find chessboard in image\n",
      "Couldn't find chessboard in image\n"
     ]
    },
    {
     "name": "stderr",
     "output_type": "stream",
     "text": [
      " 88%|████████▊ | 20014/22732.0 [14:41<00:37, 73.29it/s]"
     ]
    },
    {
     "name": "stdout",
     "output_type": "stream",
     "text": [
      "Couldn't find chessboard in image\n",
      "Couldn't find chessboard in image\n",
      "Couldn't find chessboard in image\n",
      "Couldn't find chessboard in image\n",
      "Couldn't find chessboard in image\n",
      "Couldn't find chessboard in image\n",
      "Couldn't find chessboard in image\n",
      "Couldn't find chessboard in image\n",
      "Couldn't find chessboard in image\n",
      "Couldn't find chessboard in image\n",
      "Couldn't find chessboard in image\n",
      "Couldn't find chessboard in image\n",
      "Couldn't find chessboard in image\n",
      "Couldn't find chessboard in image\n",
      "Couldn't find chessboard in image\n"
     ]
    },
    {
     "name": "stderr",
     "output_type": "stream",
     "text": [
      " 88%|████████▊ | 20030/22732.0 [14:42<00:36, 73.24it/s]"
     ]
    },
    {
     "name": "stdout",
     "output_type": "stream",
     "text": [
      "Couldn't find chessboard in image\n",
      "Couldn't find chessboard in image\n",
      "Couldn't find chessboard in image\n",
      "Couldn't find chessboard in image\n",
      "Couldn't find chessboard in image\n",
      "Couldn't find chessboard in image\n",
      "Couldn't find chessboard in image\n",
      "Couldn't find chessboard in image\n",
      "Couldn't find chessboard in image\n",
      "Couldn't find chessboard in image\n",
      "Couldn't find chessboard in image\n",
      "Couldn't find chessboard in image\n",
      "Couldn't find chessboard in image\n",
      "Couldn't find chessboard in image\n",
      "Couldn't find chessboard in image\n"
     ]
    },
    {
     "name": "stderr",
     "output_type": "stream",
     "text": [
      " 88%|████████▊ | 20038/22732.0 [14:42<00:36, 73.24it/s]"
     ]
    },
    {
     "name": "stdout",
     "output_type": "stream",
     "text": [
      "Couldn't find chessboard in image\n",
      "Couldn't find chessboard in image\n",
      "Couldn't find chessboard in image\n",
      "Couldn't find chessboard in image\n",
      "Couldn't find chessboard in image\n",
      "Couldn't find chessboard in image\n",
      "Couldn't find chessboard in image\n",
      "Couldn't find chessboard in image\n",
      "Couldn't find chessboard in image\n",
      "Couldn't find chessboard in image\n",
      "Couldn't find chessboard in image\n",
      "Couldn't find chessboard in image\n",
      "Couldn't find chessboard in image\n",
      "Couldn't find chessboard in image\n",
      "Couldn't find chessboard in image\n"
     ]
    },
    {
     "name": "stderr",
     "output_type": "stream",
     "text": [
      " 88%|████████▊ | 20055/22732.0 [14:42<00:34, 77.46it/s]"
     ]
    },
    {
     "name": "stdout",
     "output_type": "stream",
     "text": [
      "Couldn't find chessboard in image\n",
      "Couldn't find chessboard in image\n",
      "Couldn't find chessboard in image\n",
      "Couldn't find chessboard in image\n",
      "Couldn't find chessboard in image\n",
      "Couldn't find chessboard in image\n",
      "Couldn't find chessboard in image\n",
      "Couldn't find chessboard in image\n",
      "Couldn't find chessboard in image\n",
      "Couldn't find chessboard in image\n",
      "Couldn't find chessboard in image\n",
      "Couldn't find chessboard in image\n",
      "Couldn't find chessboard in image\n",
      "Couldn't find chessboard in image\n",
      "Couldn't find chessboard in image\n",
      "Couldn't find chessboard in image\n",
      "Couldn't find chessboard in image\n",
      "Couldn't find chessboard in image\n",
      "Couldn't find chessboard in image\n",
      "Couldn't find chessboard in image\n",
      "Couldn't find chessboard in image\n",
      "Couldn't find chessboard in image\n",
      "Couldn't find chessboard in image\n"
     ]
    },
    {
     "name": "stderr",
     "output_type": "stream",
     "text": [
      " 88%|████████▊ | 20080/22732.0 [14:42<00:28, 92.17it/s]"
     ]
    },
    {
     "name": "stdout",
     "output_type": "stream",
     "text": [
      "Couldn't find chessboard in image\n",
      "Couldn't find chessboard in image\n",
      "Couldn't find chessboard in image\n",
      "Couldn't find chessboard in image\n",
      "Couldn't find chessboard in image\n",
      "Couldn't find chessboard in image\n",
      "Couldn't find chessboard in image\n",
      "Couldn't find chessboard in image\n",
      "Couldn't find chessboard in image\n",
      "Couldn't find chessboard in image\n",
      "Couldn't find chessboard in image\n",
      "Couldn't find chessboard in image\n",
      "Couldn't find chessboard in image\n",
      "Couldn't find chessboard in image\n",
      "Couldn't find chessboard in image\n",
      "Couldn't find chessboard in image\n",
      "Couldn't find chessboard in image\n"
     ]
    },
    {
     "name": "stderr",
     "output_type": "stream",
     "text": [
      " 88%|████████▊ | 20099/22732.0 [14:42<00:32, 82.28it/s]"
     ]
    },
    {
     "name": "stdout",
     "output_type": "stream",
     "text": [
      "Couldn't find chessboard in image\n",
      "Couldn't find chessboard in image\n",
      "Couldn't find chessboard in image\n",
      "Couldn't find chessboard in image\n",
      "Couldn't find chessboard in image\n",
      "Couldn't find chessboard in image\n",
      "Couldn't find chessboard in image\n",
      "Couldn't find chessboard in image\n",
      "Couldn't find chessboard in image\n",
      "Couldn't find chessboard in image\n",
      "Couldn't find chessboard in image\n",
      "Couldn't find chessboard in image\n",
      "Couldn't find chessboard in image\n",
      "Couldn't find chessboard in image\n",
      "Couldn't find chessboard in image\n"
     ]
    },
    {
     "name": "stderr",
     "output_type": "stream",
     "text": [
      " 88%|████████▊ | 20108/22732.0 [14:43<00:32, 79.53it/s]"
     ]
    },
    {
     "name": "stdout",
     "output_type": "stream",
     "text": [
      "Couldn't find chessboard in image\n",
      "Couldn't find chessboard in image\n",
      "Couldn't find chessboard in image\n",
      "Couldn't find chessboard in image\n",
      "Couldn't find chessboard in image\n",
      "Couldn't find chessboard in image\n",
      "Couldn't find chessboard in image\n",
      "Couldn't find chessboard in image\n",
      "Couldn't find chessboard in image\n",
      "Couldn't find chessboard in image\n",
      "Couldn't find chessboard in image\n",
      "Couldn't find chessboard in image\n",
      "Couldn't find chessboard in image\n",
      "Couldn't find chessboard in image\n",
      "Couldn't find chessboard in image\n"
     ]
    },
    {
     "name": "stderr",
     "output_type": "stream",
     "text": [
      " 89%|████████▊ | 20125/22732.0 [14:43<00:34, 76.31it/s]"
     ]
    },
    {
     "name": "stdout",
     "output_type": "stream",
     "text": [
      "Couldn't find chessboard in image\n",
      "Couldn't find chessboard in image\n",
      "Couldn't find chessboard in image\n",
      "Couldn't find chessboard in image\n",
      "Couldn't find chessboard in image\n",
      "Couldn't find chessboard in image\n",
      "Couldn't find chessboard in image\n",
      "Couldn't find chessboard in image\n",
      "Couldn't find chessboard in image\n",
      "Couldn't find chessboard in image\n",
      "Couldn't find chessboard in image\n",
      "Couldn't find chessboard in image\n",
      "Couldn't find chessboard in image\n",
      "Couldn't find chessboard in image\n",
      "Couldn't find chessboard in image\n"
     ]
    },
    {
     "name": "stderr",
     "output_type": "stream",
     "text": [
      " 89%|████████▊ | 20141/22732.0 [14:43<00:34, 75.00it/s]"
     ]
    },
    {
     "name": "stdout",
     "output_type": "stream",
     "text": [
      "Couldn't find chessboard in image\n",
      "Couldn't find chessboard in image\n",
      "Couldn't find chessboard in image\n",
      "Couldn't find chessboard in image\n",
      "Couldn't find chessboard in image\n",
      "Couldn't find chessboard in image\n",
      "Couldn't find chessboard in image\n",
      "Couldn't find chessboard in image\n",
      "Couldn't find chessboard in image\n",
      "Couldn't find chessboard in image\n",
      "Couldn't find chessboard in image\n",
      "Couldn't find chessboard in image\n",
      "Couldn't find chessboard in image\n",
      "Couldn't find chessboard in image\n",
      "Couldn't find chessboard in image\n"
     ]
    },
    {
     "name": "stderr",
     "output_type": "stream",
     "text": [
      " 89%|████████▊ | 20157/22732.0 [14:43<00:34, 74.37it/s]"
     ]
    },
    {
     "name": "stdout",
     "output_type": "stream",
     "text": [
      "Couldn't find chessboard in image\n",
      "Couldn't find chessboard in image\n",
      "Couldn't find chessboard in image\n",
      "Couldn't find chessboard in image\n",
      "Couldn't find chessboard in image\n",
      "Couldn't find chessboard in image\n",
      "Couldn't find chessboard in image\n",
      "Couldn't find chessboard in image\n",
      "Couldn't find chessboard in image\n",
      "Couldn't find chessboard in image\n",
      "Couldn't find chessboard in image\n",
      "Couldn't find chessboard in image\n",
      "Couldn't find chessboard in image\n",
      "Couldn't find chessboard in image\n",
      "Couldn't find chessboard in image\n"
     ]
    },
    {
     "name": "stderr",
     "output_type": "stream",
     "text": [
      " 89%|████████▊ | 20173/22732.0 [14:43<00:34, 74.11it/s]"
     ]
    },
    {
     "name": "stdout",
     "output_type": "stream",
     "text": [
      "Couldn't find chessboard in image\n",
      "Couldn't find chessboard in image\n",
      "Couldn't find chessboard in image\n",
      "Couldn't find chessboard in image\n",
      "Couldn't find chessboard in image\n",
      "Couldn't find chessboard in image\n",
      "Couldn't find chessboard in image\n",
      "Couldn't find chessboard in image\n",
      "Couldn't find chessboard in image\n",
      "Couldn't find chessboard in image\n",
      "Couldn't find chessboard in image\n",
      "Couldn't find chessboard in image\n",
      "Couldn't find chessboard in image\n",
      "Couldn't find chessboard in image\n",
      "Couldn't find chessboard in image\n"
     ]
    },
    {
     "name": "stderr",
     "output_type": "stream",
     "text": [
      " 89%|████████▉ | 20189/22732.0 [14:44<00:34, 74.05it/s]"
     ]
    },
    {
     "name": "stdout",
     "output_type": "stream",
     "text": [
      "Couldn't find chessboard in image\n",
      "Couldn't find chessboard in image\n",
      "Couldn't find chessboard in image\n",
      "Couldn't find chessboard in image\n",
      "Couldn't find chessboard in image\n",
      "Couldn't find chessboard in image\n",
      "Couldn't find chessboard in image\n",
      "Couldn't find chessboard in image\n",
      "Couldn't find chessboard in image\n",
      "Couldn't find chessboard in image\n",
      "Couldn't find chessboard in image\n",
      "Couldn't find chessboard in image\n",
      "Couldn't find chessboard in image\n",
      "Couldn't find chessboard in image\n",
      "Couldn't find chessboard in image\n"
     ]
    },
    {
     "name": "stderr",
     "output_type": "stream",
     "text": [
      " 89%|████████▉ | 20205/22732.0 [14:44<00:34, 73.93it/s]"
     ]
    },
    {
     "name": "stdout",
     "output_type": "stream",
     "text": [
      "Couldn't find chessboard in image\n",
      "Couldn't find chessboard in image\n",
      "Couldn't find chessboard in image\n",
      "Couldn't find chessboard in image\n",
      "Couldn't find chessboard in image\n",
      "Couldn't find chessboard in image\n",
      "Couldn't find chessboard in image\n",
      "Couldn't find chessboard in image\n",
      "Couldn't find chessboard in image\n",
      "Couldn't find chessboard in image\n",
      "Couldn't find chessboard in image\n",
      "Couldn't find chessboard in image\n",
      "Couldn't find chessboard in image\n",
      "Couldn't find chessboard in image\n",
      "Couldn't find chessboard in image\n"
     ]
    },
    {
     "name": "stderr",
     "output_type": "stream",
     "text": [
      " 89%|████████▉ | 20213/22732.0 [14:44<00:34, 73.80it/s]"
     ]
    },
    {
     "name": "stdout",
     "output_type": "stream",
     "text": [
      "Couldn't find chessboard in image\n",
      "Couldn't find chessboard in image\n",
      "Couldn't find chessboard in image\n",
      "Couldn't find chessboard in image\n",
      "Couldn't find chessboard in image\n",
      "Couldn't find chessboard in image\n",
      "Couldn't find chessboard in image\n",
      "Couldn't find chessboard in image\n",
      "Couldn't find chessboard in image\n",
      "Couldn't find chessboard in image\n",
      "Couldn't find chessboard in image\n",
      "Couldn't find chessboard in image\n",
      "Couldn't find chessboard in image\n",
      "Couldn't find chessboard in image\n",
      "Couldn't find chessboard in image\n",
      "Couldn't find chessboard in image\n"
     ]
    },
    {
     "name": "stderr",
     "output_type": "stream",
     "text": [
      " 89%|████████▉ | 20229/22732.0 [14:44<00:33, 73.99it/s]"
     ]
    },
    {
     "name": "stdout",
     "output_type": "stream",
     "text": [
      "Couldn't find chessboard in image\n",
      "Couldn't find chessboard in image\n",
      "Couldn't find chessboard in image\n",
      "Couldn't find chessboard in image\n",
      "Couldn't find chessboard in image\n",
      "Couldn't find chessboard in image\n",
      "Couldn't find chessboard in image\n",
      "Couldn't find chessboard in image\n",
      "Couldn't find chessboard in image\n",
      "Couldn't find chessboard in image\n",
      "Couldn't find chessboard in image\n",
      "Couldn't find chessboard in image\n",
      "Couldn't find chessboard in image\n",
      "Couldn't find chessboard in image\n",
      "Couldn't find chessboard in image\n"
     ]
    },
    {
     "name": "stderr",
     "output_type": "stream",
     "text": [
      " 89%|████████▉ | 20245/22732.0 [14:44<00:33, 73.85it/s]"
     ]
    },
    {
     "name": "stdout",
     "output_type": "stream",
     "text": [
      "Couldn't find chessboard in image\n",
      "Couldn't find chessboard in image\n",
      "Couldn't find chessboard in image\n",
      "Couldn't find chessboard in image\n",
      "Couldn't find chessboard in image\n",
      "Couldn't find chessboard in image\n",
      "Couldn't find chessboard in image\n",
      "Couldn't find chessboard in image\n",
      "Couldn't find chessboard in image\n",
      "Couldn't find chessboard in image\n",
      "Couldn't find chessboard in image\n",
      "Couldn't find chessboard in image\n",
      "Couldn't find chessboard in image\n",
      "Couldn't find chessboard in image\n",
      "Couldn't find chessboard in image\n"
     ]
    },
    {
     "name": "stderr",
     "output_type": "stream",
     "text": [
      " 89%|████████▉ | 20261/22732.0 [14:45<00:33, 73.90it/s]"
     ]
    },
    {
     "name": "stdout",
     "output_type": "stream",
     "text": [
      "Couldn't find chessboard in image\n",
      "Couldn't find chessboard in image\n",
      "Couldn't find chessboard in image\n",
      "Couldn't find chessboard in image\n",
      "Couldn't find chessboard in image\n",
      "Couldn't find chessboard in image\n",
      "Couldn't find chessboard in image\n",
      "Couldn't find chessboard in image\n",
      "Couldn't find chessboard in image\n",
      "Couldn't find chessboard in image\n",
      "Couldn't find chessboard in image\n",
      "Couldn't find chessboard in image\n",
      "Couldn't find chessboard in image\n",
      "Couldn't find chessboard in image\n",
      "Couldn't find chessboard in image\n"
     ]
    },
    {
     "name": "stderr",
     "output_type": "stream",
     "text": [
      " 89%|████████▉ | 20277/22732.0 [14:45<00:33, 73.86it/s]"
     ]
    },
    {
     "name": "stdout",
     "output_type": "stream",
     "text": [
      "Couldn't find chessboard in image\n",
      "Couldn't find chessboard in image\n",
      "Couldn't find chessboard in image\n",
      "Couldn't find chessboard in image\n",
      "Couldn't find chessboard in image\n",
      "Couldn't find chessboard in image\n",
      "Couldn't find chessboard in image\n",
      "Couldn't find chessboard in image\n",
      "Couldn't find chessboard in image\n",
      "Couldn't find chessboard in image\n",
      "Couldn't find chessboard in image\n",
      "Couldn't find chessboard in image\n",
      "Couldn't find chessboard in image\n",
      "Couldn't find chessboard in image\n",
      "Couldn't find chessboard in image\n"
     ]
    },
    {
     "name": "stderr",
     "output_type": "stream",
     "text": [
      " 89%|████████▉ | 20293/22732.0 [14:45<00:33, 73.88it/s]"
     ]
    },
    {
     "name": "stdout",
     "output_type": "stream",
     "text": [
      "Couldn't find chessboard in image\n",
      "Couldn't find chessboard in image\n",
      "Couldn't find chessboard in image\n",
      "Couldn't find chessboard in image\n",
      "Couldn't find chessboard in image\n",
      "Couldn't find chessboard in image\n",
      "Couldn't find chessboard in image\n",
      "Couldn't find chessboard in image\n",
      "Couldn't find chessboard in image\n",
      "Couldn't find chessboard in image\n",
      "Couldn't find chessboard in image\n",
      "Couldn't find chessboard in image\n",
      "Couldn't find chessboard in image\n",
      "Couldn't find chessboard in image\n",
      "Couldn't find chessboard in image\n"
     ]
    },
    {
     "name": "stderr",
     "output_type": "stream",
     "text": [
      " 89%|████████▉ | 20309/22732.0 [14:45<00:32, 73.61it/s]"
     ]
    },
    {
     "name": "stdout",
     "output_type": "stream",
     "text": [
      "Couldn't find chessboard in image\n",
      "Couldn't find chessboard in image\n",
      "Couldn't find chessboard in image\n",
      "Couldn't find chessboard in image\n",
      "Couldn't find chessboard in image\n",
      "Couldn't find chessboard in image\n",
      "Couldn't find chessboard in image\n",
      "Couldn't find chessboard in image\n",
      "Couldn't find chessboard in image\n",
      "Couldn't find chessboard in image\n",
      "Couldn't find chessboard in image\n",
      "Couldn't find chessboard in image\n",
      "Couldn't find chessboard in image\n",
      "Couldn't find chessboard in image\n",
      "Couldn't find chessboard in image\n"
     ]
    },
    {
     "name": "stderr",
     "output_type": "stream",
     "text": [
      " 89%|████████▉ | 20325/22732.0 [14:46<00:32, 73.72it/s]"
     ]
    },
    {
     "name": "stdout",
     "output_type": "stream",
     "text": [
      "Couldn't find chessboard in image\n",
      "Couldn't find chessboard in image\n",
      "Couldn't find chessboard in image\n",
      "Couldn't find chessboard in image\n",
      "Couldn't find chessboard in image\n",
      "Couldn't find chessboard in image\n",
      "Couldn't find chessboard in image\n",
      "Couldn't find chessboard in image\n",
      "Couldn't find chessboard in image\n",
      "Couldn't find chessboard in image\n",
      "Couldn't find chessboard in image\n",
      "Couldn't find chessboard in image\n",
      "Couldn't find chessboard in image\n",
      "Couldn't find chessboard in image\n",
      "Couldn't find chessboard in image\n"
     ]
    },
    {
     "name": "stderr",
     "output_type": "stream",
     "text": [
      " 89%|████████▉ | 20341/22732.0 [14:46<00:32, 73.68it/s]"
     ]
    },
    {
     "name": "stdout",
     "output_type": "stream",
     "text": [
      "Couldn't find chessboard in image\n",
      "Couldn't find chessboard in image\n",
      "Couldn't find chessboard in image\n",
      "Couldn't find chessboard in image\n",
      "Couldn't find chessboard in image\n",
      "Couldn't find chessboard in image\n",
      "Couldn't find chessboard in image\n",
      "Couldn't find chessboard in image\n",
      "Couldn't find chessboard in image\n",
      "Couldn't find chessboard in image\n",
      "Couldn't find chessboard in image\n",
      "Couldn't find chessboard in image\n",
      "Couldn't find chessboard in image\n",
      "Couldn't find chessboard in image\n",
      "Couldn't find chessboard in image\n"
     ]
    },
    {
     "name": "stderr",
     "output_type": "stream",
     "text": [
      " 90%|████████▉ | 20349/22732.0 [14:46<00:32, 73.58it/s]"
     ]
    },
    {
     "name": "stdout",
     "output_type": "stream",
     "text": [
      "Couldn't find chessboard in image\n",
      "Couldn't find chessboard in image\n",
      "Couldn't find chessboard in image\n",
      "Couldn't find chessboard in image\n",
      "Couldn't find chessboard in image\n",
      "Couldn't find chessboard in image\n",
      "Couldn't find chessboard in image\n",
      "Couldn't find chessboard in image\n",
      "Couldn't find chessboard in image\n",
      "Couldn't find chessboard in image\n",
      "Couldn't find chessboard in image\n",
      "Couldn't find chessboard in image\n",
      "Couldn't find chessboard in image\n",
      "Couldn't find chessboard in image\n",
      "Couldn't find chessboard in image\n"
     ]
    },
    {
     "name": "stderr",
     "output_type": "stream",
     "text": [
      " 90%|████████▉ | 20365/22732.0 [14:46<00:32, 73.76it/s]"
     ]
    },
    {
     "name": "stdout",
     "output_type": "stream",
     "text": [
      "Couldn't find chessboard in image\n",
      "Couldn't find chessboard in image\n",
      "Couldn't find chessboard in image\n",
      "Couldn't find chessboard in image\n",
      "Couldn't find chessboard in image\n",
      "Couldn't find chessboard in image\n",
      "Couldn't find chessboard in image\n",
      "Couldn't find chessboard in image\n",
      "Couldn't find chessboard in image\n",
      "Couldn't find chessboard in image\n",
      "Couldn't find chessboard in image\n",
      "Couldn't find chessboard in image\n",
      "Couldn't find chessboard in image\n",
      "Couldn't find chessboard in image\n",
      "Couldn't find chessboard in image\n"
     ]
    },
    {
     "name": "stderr",
     "output_type": "stream",
     "text": [
      " 90%|████████▉ | 20381/22732.0 [14:46<00:31, 73.73it/s]"
     ]
    },
    {
     "name": "stdout",
     "output_type": "stream",
     "text": [
      "Couldn't find chessboard in image\n",
      "Couldn't find chessboard in image\n",
      "Couldn't find chessboard in image\n",
      "Couldn't find chessboard in image\n",
      "Couldn't find chessboard in image\n",
      "Couldn't find chessboard in image\n",
      "Couldn't find chessboard in image\n",
      "Couldn't find chessboard in image\n",
      "Couldn't find chessboard in image\n",
      "Couldn't find chessboard in image\n",
      "Couldn't find chessboard in image\n",
      "Couldn't find chessboard in image\n",
      "Couldn't find chessboard in image\n",
      "Couldn't find chessboard in image\n",
      "Couldn't find chessboard in image\n"
     ]
    },
    {
     "name": "stderr",
     "output_type": "stream",
     "text": [
      " 90%|████████▉ | 20397/22732.0 [14:47<00:31, 73.76it/s]"
     ]
    },
    {
     "name": "stdout",
     "output_type": "stream",
     "text": [
      "Couldn't find chessboard in image\n",
      "Couldn't find chessboard in image\n",
      "Couldn't find chessboard in image\n",
      "Couldn't find chessboard in image\n",
      "Couldn't find chessboard in image\n",
      "Couldn't find chessboard in image\n",
      "Couldn't find chessboard in image\n",
      "Couldn't find chessboard in image\n",
      "Couldn't find chessboard in image\n",
      "Couldn't find chessboard in image\n",
      "Couldn't find chessboard in image\n",
      "Couldn't find chessboard in image\n",
      "Couldn't find chessboard in image\n",
      "Couldn't find chessboard in image\n",
      "Couldn't find chessboard in image\n"
     ]
    },
    {
     "name": "stderr",
     "output_type": "stream",
     "text": [
      " 90%|████████▉ | 20413/22732.0 [14:47<00:31, 73.85it/s]"
     ]
    },
    {
     "name": "stdout",
     "output_type": "stream",
     "text": [
      "Couldn't find chessboard in image\n",
      "Couldn't find chessboard in image\n",
      "Couldn't find chessboard in image\n",
      "Couldn't find chessboard in image\n",
      "Couldn't find chessboard in image\n",
      "Couldn't find chessboard in image\n",
      "Couldn't find chessboard in image\n",
      "Couldn't find chessboard in image\n",
      "Couldn't find chessboard in image\n",
      "Couldn't find chessboard in image\n",
      "Couldn't find chessboard in image\n",
      "Couldn't find chessboard in image\n",
      "Couldn't find chessboard in image\n",
      "Couldn't find chessboard in image\n",
      "Couldn't find chessboard in image\n"
     ]
    },
    {
     "name": "stderr",
     "output_type": "stream",
     "text": [
      " 90%|████████▉ | 20429/22732.0 [14:47<00:31, 73.94it/s]"
     ]
    },
    {
     "name": "stdout",
     "output_type": "stream",
     "text": [
      "Couldn't find chessboard in image\n",
      "Couldn't find chessboard in image\n",
      "Couldn't find chessboard in image\n",
      "Couldn't find chessboard in image\n",
      "Couldn't find chessboard in image\n",
      "Couldn't find chessboard in image\n",
      "Couldn't find chessboard in image\n",
      "Couldn't find chessboard in image\n",
      "Couldn't find chessboard in image\n",
      "Couldn't find chessboard in image\n",
      "Couldn't find chessboard in image\n",
      "Couldn't find chessboard in image\n",
      "Couldn't find chessboard in image\n",
      "Couldn't find chessboard in image\n",
      "Couldn't find chessboard in image\n"
     ]
    },
    {
     "name": "stderr",
     "output_type": "stream",
     "text": [
      " 90%|████████▉ | 20445/22732.0 [14:47<00:30, 74.01it/s]"
     ]
    },
    {
     "name": "stdout",
     "output_type": "stream",
     "text": [
      "Couldn't find chessboard in image\n",
      "Couldn't find chessboard in image\n",
      "Couldn't find chessboard in image\n",
      "Couldn't find chessboard in image\n",
      "Couldn't find chessboard in image\n",
      "Couldn't find chessboard in image\n",
      "Couldn't find chessboard in image\n",
      "Couldn't find chessboard in image\n",
      "Couldn't find chessboard in image\n",
      "Couldn't find chessboard in image\n",
      "Couldn't find chessboard in image\n",
      "Couldn't find chessboard in image\n",
      "Couldn't find chessboard in image\n",
      "Couldn't find chessboard in image\n",
      "Couldn't find chessboard in image\n"
     ]
    },
    {
     "name": "stderr",
     "output_type": "stream",
     "text": [
      " 90%|█████████ | 20461/22732.0 [14:47<00:30, 73.79it/s]"
     ]
    },
    {
     "name": "stdout",
     "output_type": "stream",
     "text": [
      "Couldn't find chessboard in image\n",
      "Couldn't find chessboard in image\n",
      "Couldn't find chessboard in image\n",
      "Couldn't find chessboard in image\n",
      "Couldn't find chessboard in image\n",
      "Couldn't find chessboard in image\n",
      "Couldn't find chessboard in image\n",
      "Couldn't find chessboard in image\n",
      "Couldn't find chessboard in image\n",
      "Couldn't find chessboard in image\n",
      "Couldn't find chessboard in image\n",
      "Couldn't find chessboard in image\n",
      "Couldn't find chessboard in image\n",
      "Couldn't find chessboard in image\n",
      "Couldn't find chessboard in image\n"
     ]
    },
    {
     "name": "stderr",
     "output_type": "stream",
     "text": [
      " 90%|█████████ | 20469/22732.0 [14:48<00:30, 73.51it/s]"
     ]
    },
    {
     "name": "stdout",
     "output_type": "stream",
     "text": [
      "Couldn't find chessboard in image\n",
      "Couldn't find chessboard in image\n",
      "Couldn't find chessboard in image\n",
      "Couldn't find chessboard in image\n",
      "Couldn't find chessboard in image\n",
      "Couldn't find chessboard in image\n",
      "Couldn't find chessboard in image\n",
      "Couldn't find chessboard in image\n",
      "Couldn't find chessboard in image\n",
      "Couldn't find chessboard in image\n",
      "Couldn't find chessboard in image\n",
      "Couldn't find chessboard in image\n",
      "Couldn't find chessboard in image\n",
      "Couldn't find chessboard in image\n",
      "Couldn't find chessboard in image\n"
     ]
    },
    {
     "name": "stderr",
     "output_type": "stream",
     "text": [
      " 90%|█████████ | 20485/22732.0 [14:48<00:30, 73.90it/s]"
     ]
    },
    {
     "name": "stdout",
     "output_type": "stream",
     "text": [
      "Couldn't find chessboard in image\n",
      "Couldn't find chessboard in image\n",
      "Couldn't find chessboard in image\n",
      "Couldn't find chessboard in image\n",
      "Couldn't find chessboard in image\n",
      "Couldn't find chessboard in image\n",
      "Couldn't find chessboard in image\n",
      "Couldn't find chessboard in image\n",
      "Couldn't find chessboard in image\n",
      "Couldn't find chessboard in image\n",
      "Couldn't find chessboard in image\n",
      "Couldn't find chessboard in image\n",
      "Couldn't find chessboard in image\n",
      "Couldn't find chessboard in image\n",
      "Couldn't find chessboard in image\n"
     ]
    },
    {
     "name": "stderr",
     "output_type": "stream",
     "text": [
      " 90%|█████████ | 20501/22732.0 [14:48<00:30, 73.74it/s]"
     ]
    },
    {
     "name": "stdout",
     "output_type": "stream",
     "text": [
      "Couldn't find chessboard in image\n",
      "Couldn't find chessboard in image\n",
      "Couldn't find chessboard in image\n",
      "Couldn't find chessboard in image\n",
      "Couldn't find chessboard in image\n",
      "Couldn't find chessboard in image\n",
      "Couldn't find chessboard in image\n",
      "Couldn't find chessboard in image\n",
      "Couldn't find chessboard in image\n",
      "Couldn't find chessboard in image\n",
      "Couldn't find chessboard in image\n",
      "Couldn't find chessboard in image\n",
      "Couldn't find chessboard in image\n",
      "Couldn't find chessboard in image\n",
      "Couldn't find chessboard in image\n"
     ]
    },
    {
     "name": "stderr",
     "output_type": "stream",
     "text": [
      " 90%|█████████ | 20517/22732.0 [14:48<00:29, 73.85it/s]"
     ]
    },
    {
     "name": "stdout",
     "output_type": "stream",
     "text": [
      "Couldn't find chessboard in image\n",
      "Couldn't find chessboard in image\n",
      "Couldn't find chessboard in image\n",
      "Couldn't find chessboard in image\n",
      "Couldn't find chessboard in image\n",
      "Couldn't find chessboard in image\n",
      "Couldn't find chessboard in image\n",
      "Couldn't find chessboard in image\n",
      "Couldn't find chessboard in image\n",
      "Couldn't find chessboard in image\n",
      "Couldn't find chessboard in image\n",
      "Couldn't find chessboard in image\n",
      "Couldn't find chessboard in image\n",
      "Couldn't find chessboard in image\n",
      "Couldn't find chessboard in image\n"
     ]
    },
    {
     "name": "stderr",
     "output_type": "stream",
     "text": [
      " 90%|█████████ | 20533/22732.0 [14:48<00:29, 73.63it/s]"
     ]
    },
    {
     "name": "stdout",
     "output_type": "stream",
     "text": [
      "Couldn't find chessboard in image\n",
      "Couldn't find chessboard in image\n",
      "Couldn't find chessboard in image\n",
      "Couldn't find chessboard in image\n",
      "Couldn't find chessboard in image\n",
      "Couldn't find chessboard in image\n",
      "Couldn't find chessboard in image\n",
      "Couldn't find chessboard in image\n",
      "Couldn't find chessboard in image\n",
      "Couldn't find chessboard in image\n",
      "Couldn't find chessboard in image\n",
      "Couldn't find chessboard in image\n",
      "Couldn't find chessboard in image\n",
      "Couldn't find chessboard in image\n",
      "Couldn't find chessboard in image\n"
     ]
    },
    {
     "name": "stderr",
     "output_type": "stream",
     "text": [
      " 90%|█████████ | 20549/22732.0 [14:49<00:29, 73.64it/s]"
     ]
    },
    {
     "name": "stdout",
     "output_type": "stream",
     "text": [
      "Couldn't find chessboard in image\n",
      "Couldn't find chessboard in image\n",
      "Couldn't find chessboard in image\n",
      "Couldn't find chessboard in image\n",
      "Couldn't find chessboard in image\n",
      "Couldn't find chessboard in image\n",
      "Couldn't find chessboard in image\n",
      "Couldn't find chessboard in image\n",
      "Couldn't find chessboard in image\n",
      "Couldn't find chessboard in image\n",
      "Couldn't find chessboard in image\n",
      "Couldn't find chessboard in image\n",
      "Couldn't find chessboard in image\n",
      "Couldn't find chessboard in image\n",
      "Couldn't find chessboard in image\n"
     ]
    },
    {
     "name": "stderr",
     "output_type": "stream",
     "text": [
      " 90%|█████████ | 20565/22732.0 [14:49<00:29, 73.68it/s]"
     ]
    },
    {
     "name": "stdout",
     "output_type": "stream",
     "text": [
      "Couldn't find chessboard in image\n",
      "Couldn't find chessboard in image\n",
      "Couldn't find chessboard in image\n",
      "Couldn't find chessboard in image\n",
      "Couldn't find chessboard in image\n",
      "Couldn't find chessboard in image\n",
      "Couldn't find chessboard in image\n",
      "Couldn't find chessboard in image\n",
      "Couldn't find chessboard in image\n",
      "Couldn't find chessboard in image\n",
      "Couldn't find chessboard in image\n",
      "Couldn't find chessboard in image\n",
      "Couldn't find chessboard in image\n",
      "Couldn't find chessboard in image\n",
      "Couldn't find chessboard in image\n"
     ]
    },
    {
     "name": "stderr",
     "output_type": "stream",
     "text": [
      " 91%|█████████ | 20581/22732.0 [14:49<00:29, 73.64it/s]"
     ]
    },
    {
     "name": "stdout",
     "output_type": "stream",
     "text": [
      "Couldn't find chessboard in image\n",
      "Couldn't find chessboard in image\n",
      "Couldn't find chessboard in image\n",
      "Couldn't find chessboard in image\n",
      "Couldn't find chessboard in image\n",
      "Couldn't find chessboard in image\n",
      "Couldn't find chessboard in image\n",
      "Couldn't find chessboard in image\n",
      "Couldn't find chessboard in image\n",
      "Couldn't find chessboard in image\n",
      "Couldn't find chessboard in image\n",
      "Couldn't find chessboard in image\n",
      "Couldn't find chessboard in image\n",
      "Couldn't find chessboard in image\n",
      "Couldn't find chessboard in image\n"
     ]
    },
    {
     "name": "stderr",
     "output_type": "stream",
     "text": [
      " 91%|█████████ | 20589/22732.0 [14:49<00:29, 73.41it/s]"
     ]
    },
    {
     "name": "stdout",
     "output_type": "stream",
     "text": [
      "Couldn't find chessboard in image\n",
      "Couldn't find chessboard in image\n",
      "Couldn't find chessboard in image\n",
      "Couldn't find chessboard in image\n",
      "Couldn't find chessboard in image\n",
      "Couldn't find chessboard in image\n",
      "Couldn't find chessboard in image\n",
      "Couldn't find chessboard in image\n",
      "Couldn't find chessboard in image\n",
      "Couldn't find chessboard in image\n",
      "Couldn't find chessboard in image\n",
      "Couldn't find chessboard in image\n",
      "Couldn't find chessboard in image\n",
      "Couldn't find chessboard in image\n",
      "Couldn't find chessboard in image\n"
     ]
    },
    {
     "name": "stderr",
     "output_type": "stream",
     "text": [
      " 91%|█████████ | 20605/22732.0 [14:49<00:28, 73.56it/s]"
     ]
    },
    {
     "name": "stdout",
     "output_type": "stream",
     "text": [
      "Couldn't find chessboard in image\n",
      "Couldn't find chessboard in image\n",
      "Couldn't find chessboard in image\n",
      "Couldn't find chessboard in image\n",
      "Couldn't find chessboard in image\n",
      "Couldn't find chessboard in image\n",
      "Couldn't find chessboard in image\n",
      "Couldn't find chessboard in image\n",
      "Couldn't find chessboard in image\n",
      "Couldn't find chessboard in image\n",
      "Couldn't find chessboard in image\n",
      "Couldn't find chessboard in image\n",
      "Couldn't find chessboard in image\n",
      "Couldn't find chessboard in image\n",
      "Couldn't find chessboard in image\n"
     ]
    },
    {
     "name": "stderr",
     "output_type": "stream",
     "text": [
      " 91%|█████████ | 20621/22732.0 [14:50<00:28, 73.56it/s]"
     ]
    },
    {
     "name": "stdout",
     "output_type": "stream",
     "text": [
      "Couldn't find chessboard in image\n",
      "Couldn't find chessboard in image\n",
      "Couldn't find chessboard in image\n",
      "Couldn't find chessboard in image\n",
      "Couldn't find chessboard in image\n",
      "Couldn't find chessboard in image\n",
      "Couldn't find chessboard in image\n",
      "Couldn't find chessboard in image\n",
      "Couldn't find chessboard in image\n",
      "Couldn't find chessboard in image\n",
      "Couldn't find chessboard in image\n",
      "Couldn't find chessboard in image\n",
      "Couldn't find chessboard in image\n",
      "Couldn't find chessboard in image\n",
      "Couldn't find chessboard in image\n"
     ]
    },
    {
     "name": "stderr",
     "output_type": "stream",
     "text": [
      " 91%|█████████ | 20637/22732.0 [14:50<00:28, 73.60it/s]"
     ]
    },
    {
     "name": "stdout",
     "output_type": "stream",
     "text": [
      "Couldn't find chessboard in image\n",
      "Couldn't find chessboard in image\n",
      "Couldn't find chessboard in image\n",
      "Couldn't find chessboard in image\n",
      "Couldn't find chessboard in image\n",
      "Couldn't find chessboard in image\n",
      "Couldn't find chessboard in image\n",
      "Couldn't find chessboard in image\n",
      "Couldn't find chessboard in image\n",
      "Couldn't find chessboard in image\n",
      "Couldn't find chessboard in image\n",
      "Couldn't find chessboard in image\n",
      "Couldn't find chessboard in image\n",
      "Couldn't find chessboard in image\n",
      "Couldn't find chessboard in image\n"
     ]
    },
    {
     "name": "stderr",
     "output_type": "stream",
     "text": [
      " 91%|█████████ | 20653/22732.0 [14:50<00:28, 73.76it/s]"
     ]
    },
    {
     "name": "stdout",
     "output_type": "stream",
     "text": [
      "Couldn't find chessboard in image\n",
      "Couldn't find chessboard in image\n",
      "Couldn't find chessboard in image\n",
      "Couldn't find chessboard in image\n",
      "Couldn't find chessboard in image\n",
      "Couldn't find chessboard in image\n",
      "Couldn't find chessboard in image\n",
      "Couldn't find chessboard in image\n",
      "Couldn't find chessboard in image\n",
      "Couldn't find chessboard in image\n",
      "Couldn't find chessboard in image\n",
      "Couldn't find chessboard in image\n",
      "Couldn't find chessboard in image\n",
      "Couldn't find chessboard in image\n",
      "Couldn't find chessboard in image\n"
     ]
    },
    {
     "name": "stderr",
     "output_type": "stream",
     "text": [
      " 91%|█████████ | 20669/22732.0 [14:50<00:28, 73.67it/s]"
     ]
    },
    {
     "name": "stdout",
     "output_type": "stream",
     "text": [
      "Couldn't find chessboard in image\n",
      "Couldn't find chessboard in image\n",
      "Couldn't find chessboard in image\n",
      "Couldn't find chessboard in image\n",
      "Couldn't find chessboard in image\n",
      "Couldn't find chessboard in image\n",
      "Couldn't find chessboard in image\n",
      "Couldn't find chessboard in image\n",
      "Couldn't find chessboard in image\n",
      "Couldn't find chessboard in image\n",
      "Couldn't find chessboard in image\n",
      "Couldn't find chessboard in image\n",
      "Couldn't find chessboard in image\n",
      "Couldn't find chessboard in image\n",
      "Couldn't find chessboard in image\n"
     ]
    },
    {
     "name": "stderr",
     "output_type": "stream",
     "text": [
      " 91%|█████████ | 20685/22732.0 [14:50<00:27, 73.79it/s]"
     ]
    },
    {
     "name": "stdout",
     "output_type": "stream",
     "text": [
      "Couldn't find chessboard in image\n",
      "Couldn't find chessboard in image\n",
      "Couldn't find chessboard in image\n",
      "Couldn't find chessboard in image\n",
      "Couldn't find chessboard in image\n",
      "Couldn't find chessboard in image\n",
      "Couldn't find chessboard in image\n",
      "Couldn't find chessboard in image\n",
      "Couldn't find chessboard in image\n",
      "Couldn't find chessboard in image\n",
      "Couldn't find chessboard in image\n",
      "Couldn't find chessboard in image\n",
      "Couldn't find chessboard in image\n",
      "Couldn't find chessboard in image\n",
      "Couldn't find chessboard in image\n"
     ]
    },
    {
     "name": "stderr",
     "output_type": "stream",
     "text": [
      " 91%|█████████ | 20701/22732.0 [14:51<00:27, 73.90it/s]"
     ]
    },
    {
     "name": "stdout",
     "output_type": "stream",
     "text": [
      "Couldn't find chessboard in image\n",
      "Couldn't find chessboard in image\n",
      "Couldn't find chessboard in image\n",
      "Couldn't find chessboard in image\n",
      "Couldn't find chessboard in image\n",
      "Couldn't find chessboard in image\n",
      "Couldn't find chessboard in image\n",
      "Couldn't find chessboard in image\n",
      "Couldn't find chessboard in image\n",
      "Couldn't find chessboard in image\n",
      "Couldn't find chessboard in image\n",
      "Couldn't find chessboard in image\n",
      "Couldn't find chessboard in image\n",
      "Couldn't find chessboard in image\n",
      "Couldn't find chessboard in image\n"
     ]
    },
    {
     "name": "stderr",
     "output_type": "stream",
     "text": [
      " 91%|█████████ | 20709/22732.0 [14:51<00:27, 73.97it/s]"
     ]
    },
    {
     "name": "stdout",
     "output_type": "stream",
     "text": [
      "Couldn't find chessboard in image\n",
      "Couldn't find chessboard in image\n",
      "Couldn't find chessboard in image\n",
      "Couldn't find chessboard in image\n",
      "Couldn't find chessboard in image\n",
      "Couldn't find chessboard in image\n",
      "Couldn't find chessboard in image\n",
      "Couldn't find chessboard in image\n",
      "Couldn't find chessboard in image\n",
      "Couldn't find chessboard in image\n",
      "Couldn't find chessboard in image\n",
      "Couldn't find chessboard in image\n",
      "Couldn't find chessboard in image\n",
      "Couldn't find chessboard in image\n",
      "Couldn't find chessboard in image\n"
     ]
    },
    {
     "name": "stderr",
     "output_type": "stream",
     "text": [
      " 91%|█████████ | 20725/22732.0 [14:51<00:27, 74.17it/s]"
     ]
    },
    {
     "name": "stdout",
     "output_type": "stream",
     "text": [
      "Couldn't find chessboard in image\n",
      "Couldn't find chessboard in image\n",
      "Couldn't find chessboard in image\n",
      "Couldn't find chessboard in image\n",
      "Couldn't find chessboard in image\n",
      "Couldn't find chessboard in image\n",
      "Couldn't find chessboard in image\n",
      "Couldn't find chessboard in image\n",
      "Couldn't find chessboard in image\n",
      "Couldn't find chessboard in image\n",
      "Couldn't find chessboard in image\n",
      "Couldn't find chessboard in image\n",
      "Couldn't find chessboard in image\n",
      "Couldn't find chessboard in image\n",
      "Couldn't find chessboard in image\n",
      "Couldn't find chessboard in image\n"
     ]
    },
    {
     "name": "stderr",
     "output_type": "stream",
     "text": [
      " 91%|█████████ | 20741/22732.0 [14:51<00:26, 74.49it/s]"
     ]
    },
    {
     "name": "stdout",
     "output_type": "stream",
     "text": [
      "Couldn't find chessboard in image\n",
      "Couldn't find chessboard in image\n",
      "Couldn't find chessboard in image\n",
      "Couldn't find chessboard in image\n",
      "Couldn't find chessboard in image\n",
      "Couldn't find chessboard in image\n",
      "Couldn't find chessboard in image\n",
      "Couldn't find chessboard in image\n",
      "Couldn't find chessboard in image\n",
      "Couldn't find chessboard in image\n",
      "Couldn't find chessboard in image\n",
      "Couldn't find chessboard in image\n",
      "Couldn't find chessboard in image\n",
      "Couldn't find chessboard in image\n",
      "Couldn't find chessboard in image\n"
     ]
    },
    {
     "name": "stderr",
     "output_type": "stream",
     "text": [
      " 91%|█████████▏| 20757/22732.0 [14:51<00:26, 74.44it/s]"
     ]
    },
    {
     "name": "stdout",
     "output_type": "stream",
     "text": [
      "Couldn't find chessboard in image\n",
      "Couldn't find chessboard in image\n",
      "Couldn't find chessboard in image\n",
      "Couldn't find chessboard in image\n",
      "Couldn't find chessboard in image\n",
      "Couldn't find chessboard in image\n",
      "Couldn't find chessboard in image\n",
      "Couldn't find chessboard in image\n",
      "Couldn't find chessboard in image\n",
      "Couldn't find chessboard in image\n",
      "Couldn't find chessboard in image\n",
      "Couldn't find chessboard in image\n",
      "Couldn't find chessboard in image\n",
      "Couldn't find chessboard in image\n",
      "Couldn't find chessboard in image\n",
      "Couldn't find chessboard in image\n"
     ]
    },
    {
     "name": "stderr",
     "output_type": "stream",
     "text": [
      " 91%|█████████▏| 20773/22732.0 [14:52<00:26, 74.69it/s]"
     ]
    },
    {
     "name": "stdout",
     "output_type": "stream",
     "text": [
      "Couldn't find chessboard in image\n",
      "Couldn't find chessboard in image\n",
      "Couldn't find chessboard in image\n",
      "Couldn't find chessboard in image\n",
      "Couldn't find chessboard in image\n",
      "Couldn't find chessboard in image\n",
      "Couldn't find chessboard in image\n",
      "Couldn't find chessboard in image\n",
      "Couldn't find chessboard in image\n",
      "Couldn't find chessboard in image\n",
      "Couldn't find chessboard in image\n",
      "Couldn't find chessboard in image\n",
      "Couldn't find chessboard in image\n",
      "Couldn't find chessboard in image\n",
      "Couldn't find chessboard in image\n",
      "Couldn't find chessboard in image\n"
     ]
    },
    {
     "name": "stderr",
     "output_type": "stream",
     "text": [
      " 91%|█████████▏| 20789/22732.0 [14:52<00:25, 74.79it/s]"
     ]
    },
    {
     "name": "stdout",
     "output_type": "stream",
     "text": [
      "Couldn't find chessboard in image\n",
      "Couldn't find chessboard in image\n",
      "Couldn't find chessboard in image\n",
      "Couldn't find chessboard in image\n",
      "Couldn't find chessboard in image\n",
      "Couldn't find chessboard in image\n",
      "Couldn't find chessboard in image\n",
      "Couldn't find chessboard in image\n",
      "Couldn't find chessboard in image\n",
      "Couldn't find chessboard in image\n",
      "Couldn't find chessboard in image\n",
      "Couldn't find chessboard in image\n",
      "Couldn't find chessboard in image\n",
      "Couldn't find chessboard in image\n",
      "Couldn't find chessboard in image\n",
      "Couldn't find chessboard in image\n"
     ]
    },
    {
     "name": "stderr",
     "output_type": "stream",
     "text": [
      " 92%|█████████▏| 20805/22732.0 [14:52<00:25, 74.87it/s]"
     ]
    },
    {
     "name": "stdout",
     "output_type": "stream",
     "text": [
      "Couldn't find chessboard in image\n",
      "Couldn't find chessboard in image\n",
      "Couldn't find chessboard in image\n",
      "Couldn't find chessboard in image\n",
      "Couldn't find chessboard in image\n",
      "Couldn't find chessboard in image\n",
      "Couldn't find chessboard in image\n",
      "Couldn't find chessboard in image\n",
      "Couldn't find chessboard in image\n",
      "Couldn't find chessboard in image\n",
      "Couldn't find chessboard in image\n",
      "Couldn't find chessboard in image\n",
      "Couldn't find chessboard in image\n",
      "Couldn't find chessboard in image\n",
      "Couldn't find chessboard in image\n",
      "Couldn't find chessboard in image\n"
     ]
    },
    {
     "name": "stderr",
     "output_type": "stream",
     "text": [
      " 92%|█████████▏| 20821/22732.0 [14:52<00:25, 74.84it/s]"
     ]
    },
    {
     "name": "stdout",
     "output_type": "stream",
     "text": [
      "Couldn't find chessboard in image\n",
      "Couldn't find chessboard in image\n",
      "Couldn't find chessboard in image\n",
      "Couldn't find chessboard in image\n",
      "Couldn't find chessboard in image\n",
      "Couldn't find chessboard in image\n",
      "Couldn't find chessboard in image\n",
      "Couldn't find chessboard in image\n",
      "Couldn't find chessboard in image\n",
      "Couldn't find chessboard in image\n",
      "Couldn't find chessboard in image\n",
      "Couldn't find chessboard in image\n",
      "Couldn't find chessboard in image\n",
      "Couldn't find chessboard in image\n",
      "Couldn't find chessboard in image\n",
      "Couldn't find chessboard in image\n"
     ]
    },
    {
     "name": "stderr",
     "output_type": "stream",
     "text": [
      " 92%|█████████▏| 20837/22732.0 [14:52<00:25, 74.81it/s]"
     ]
    },
    {
     "name": "stdout",
     "output_type": "stream",
     "text": [
      "Couldn't find chessboard in image\n",
      "Couldn't find chessboard in image\n",
      "Couldn't find chessboard in image\n",
      "Couldn't find chessboard in image\n",
      "Couldn't find chessboard in image\n",
      "Couldn't find chessboard in image\n",
      "Couldn't find chessboard in image\n",
      "Couldn't find chessboard in image\n",
      "Couldn't find chessboard in image\n",
      "Couldn't find chessboard in image\n",
      "Couldn't find chessboard in image\n",
      "Couldn't find chessboard in image\n",
      "Couldn't find chessboard in image\n",
      "Couldn't find chessboard in image\n",
      "Couldn't find chessboard in image\n",
      "Couldn't find chessboard in image\n"
     ]
    },
    {
     "name": "stderr",
     "output_type": "stream",
     "text": [
      " 92%|█████████▏| 20853/22732.0 [14:53<00:25, 74.75it/s]"
     ]
    },
    {
     "name": "stdout",
     "output_type": "stream",
     "text": [
      "Couldn't find chessboard in image\n",
      "Couldn't find chessboard in image\n",
      "Couldn't find chessboard in image\n",
      "Couldn't find chessboard in image\n",
      "Couldn't find chessboard in image\n",
      "Couldn't find chessboard in image\n",
      "Couldn't find chessboard in image\n",
      "Couldn't find chessboard in image\n",
      "Couldn't find chessboard in image\n",
      "Couldn't find chessboard in image\n",
      "Couldn't find chessboard in image\n",
      "Couldn't find chessboard in image\n",
      "Couldn't find chessboard in image\n",
      "Couldn't find chessboard in image\n",
      "Couldn't find chessboard in image\n",
      "Couldn't find chessboard in image\n"
     ]
    },
    {
     "name": "stderr",
     "output_type": "stream",
     "text": [
      " 92%|█████████▏| 20869/22732.0 [14:53<00:25, 73.78it/s]"
     ]
    },
    {
     "name": "stdout",
     "output_type": "stream",
     "text": [
      "Couldn't find chessboard in image\n",
      "Couldn't find chessboard in image\n",
      "Couldn't find chessboard in image\n",
      "Couldn't find chessboard in image\n",
      "Couldn't find chessboard in image\n",
      "Couldn't find chessboard in image\n",
      "Couldn't find chessboard in image\n",
      "Couldn't find chessboard in image\n",
      "Couldn't find chessboard in image\n",
      "Couldn't find chessboard in image\n",
      "Couldn't find chessboard in image\n",
      "Couldn't find chessboard in image\n",
      "Couldn't find chessboard in image\n",
      "Couldn't find chessboard in image\n",
      "Couldn't find chessboard in image\n"
     ]
    },
    {
     "name": "stderr",
     "output_type": "stream",
     "text": [
      " 92%|█████████▏| 20885/22732.0 [14:53<00:24, 74.12it/s]"
     ]
    },
    {
     "name": "stdout",
     "output_type": "stream",
     "text": [
      "Couldn't find chessboard in image\n",
      "Couldn't find chessboard in image\n",
      "Couldn't find chessboard in image\n",
      "Couldn't find chessboard in image\n",
      "Couldn't find chessboard in image\n",
      "Couldn't find chessboard in image\n",
      "Couldn't find chessboard in image\n",
      "Couldn't find chessboard in image\n",
      "Couldn't find chessboard in image\n",
      "Couldn't find chessboard in image\n",
      "Couldn't find chessboard in image\n",
      "Couldn't find chessboard in image\n",
      "Couldn't find chessboard in image\n",
      "Couldn't find chessboard in image\n",
      "Couldn't find chessboard in image\n",
      "Couldn't find chessboard in image\n"
     ]
    },
    {
     "name": "stderr",
     "output_type": "stream",
     "text": [
      " 92%|█████████▏| 20901/22732.0 [14:53<00:24, 74.74it/s]"
     ]
    },
    {
     "name": "stdout",
     "output_type": "stream",
     "text": [
      "Couldn't find chessboard in image\n",
      "Couldn't find chessboard in image\n",
      "Couldn't find chessboard in image\n",
      "Couldn't find chessboard in image\n",
      "Couldn't find chessboard in image\n",
      "Couldn't find chessboard in image\n",
      "Couldn't find chessboard in image\n",
      "Couldn't find chessboard in image\n",
      "Couldn't find chessboard in image\n",
      "Couldn't find chessboard in image\n",
      "Couldn't find chessboard in image\n",
      "Couldn't find chessboard in image\n",
      "Couldn't find chessboard in image\n",
      "Couldn't find chessboard in image\n",
      "Couldn't find chessboard in image\n"
     ]
    },
    {
     "name": "stderr",
     "output_type": "stream",
     "text": [
      " 92%|█████████▏| 20917/22732.0 [14:54<00:25, 72.51it/s]"
     ]
    },
    {
     "name": "stdout",
     "output_type": "stream",
     "text": [
      "Couldn't find chessboard in image\n",
      "Couldn't find chessboard in image\n",
      "Couldn't find chessboard in image\n",
      "Couldn't find chessboard in image\n",
      "Couldn't find chessboard in image\n",
      "Couldn't find chessboard in image\n",
      "Couldn't find chessboard in image\n",
      "Couldn't find chessboard in image\n",
      "Couldn't find chessboard in image\n",
      "Couldn't find chessboard in image\n",
      "Couldn't find chessboard in image\n",
      "Couldn't find chessboard in image\n",
      "Couldn't find chessboard in image\n",
      "Couldn't find chessboard in image\n",
      "Couldn't find chessboard in image\n"
     ]
    },
    {
     "name": "stderr",
     "output_type": "stream",
     "text": [
      " 92%|█████████▏| 20933/22732.0 [14:54<00:24, 72.06it/s]"
     ]
    },
    {
     "name": "stdout",
     "output_type": "stream",
     "text": [
      "Couldn't find chessboard in image\n",
      "Couldn't find chessboard in image\n",
      "Couldn't find chessboard in image\n",
      "Couldn't find chessboard in image\n",
      "Couldn't find chessboard in image\n",
      "Couldn't find chessboard in image\n",
      "Couldn't find chessboard in image\n",
      "Couldn't find chessboard in image\n",
      "Couldn't find chessboard in image\n",
      "Couldn't find chessboard in image\n",
      "Couldn't find chessboard in image\n",
      "Couldn't find chessboard in image\n",
      "Couldn't find chessboard in image\n",
      "Couldn't find chessboard in image\n",
      "Couldn't find chessboard in image\n"
     ]
    },
    {
     "name": "stderr",
     "output_type": "stream",
     "text": [
      " 92%|█████████▏| 20949/22732.0 [14:54<00:24, 73.55it/s]"
     ]
    },
    {
     "name": "stdout",
     "output_type": "stream",
     "text": [
      "Couldn't find chessboard in image\n",
      "Couldn't find chessboard in image\n",
      "Couldn't find chessboard in image\n",
      "Couldn't find chessboard in image\n",
      "Couldn't find chessboard in image\n",
      "Couldn't find chessboard in image\n",
      "Couldn't find chessboard in image\n",
      "Couldn't find chessboard in image\n",
      "Couldn't find chessboard in image\n",
      "Couldn't find chessboard in image\n",
      "Couldn't find chessboard in image\n",
      "Couldn't find chessboard in image\n",
      "Couldn't find chessboard in image\n",
      "Couldn't find chessboard in image\n",
      "Couldn't find chessboard in image\n",
      "Couldn't find chessboard in image\n"
     ]
    },
    {
     "name": "stderr",
     "output_type": "stream",
     "text": [
      " 92%|█████████▏| 20965/22732.0 [14:54<00:23, 74.22it/s]"
     ]
    },
    {
     "name": "stdout",
     "output_type": "stream",
     "text": [
      "Couldn't find chessboard in image\n",
      "Couldn't find chessboard in image\n",
      "Couldn't find chessboard in image\n",
      "Couldn't find chessboard in image\n",
      "Couldn't find chessboard in image\n",
      "Couldn't find chessboard in image\n",
      "Couldn't find chessboard in image\n",
      "Couldn't find chessboard in image\n",
      "Couldn't find chessboard in image\n",
      "Couldn't find chessboard in image\n",
      "Couldn't find chessboard in image\n",
      "Couldn't find chessboard in image\n",
      "Couldn't find chessboard in image\n",
      "Couldn't find chessboard in image\n",
      "Couldn't find chessboard in image\n",
      "Couldn't find chessboard in image\n"
     ]
    },
    {
     "name": "stderr",
     "output_type": "stream",
     "text": [
      " 92%|█████████▏| 20981/22732.0 [14:54<00:23, 74.41it/s]"
     ]
    },
    {
     "name": "stdout",
     "output_type": "stream",
     "text": [
      "Couldn't find chessboard in image\n",
      "Couldn't find chessboard in image\n",
      "Couldn't find chessboard in image\n",
      "Couldn't find chessboard in image\n",
      "Couldn't find chessboard in image\n",
      "Couldn't find chessboard in image\n",
      "Couldn't find chessboard in image\n",
      "Couldn't find chessboard in image\n",
      "Couldn't find chessboard in image\n",
      "Couldn't find chessboard in image\n",
      "Couldn't find chessboard in image\n",
      "Couldn't find chessboard in image\n",
      "Couldn't find chessboard in image\n",
      "Couldn't find chessboard in image\n",
      "Couldn't find chessboard in image\n",
      "Couldn't find chessboard in image\n"
     ]
    },
    {
     "name": "stderr",
     "output_type": "stream",
     "text": [
      " 92%|█████████▏| 20997/22732.0 [14:55<00:23, 73.57it/s]"
     ]
    },
    {
     "name": "stdout",
     "output_type": "stream",
     "text": [
      "Couldn't find chessboard in image\n",
      "Couldn't find chessboard in image\n",
      "Couldn't find chessboard in image\n",
      "Couldn't find chessboard in image\n",
      "Couldn't find chessboard in image\n",
      "Couldn't find chessboard in image\n",
      "Couldn't find chessboard in image\n",
      "Couldn't find chessboard in image\n",
      "Couldn't find chessboard in image\n",
      "Couldn't find chessboard in image\n",
      "Couldn't find chessboard in image\n",
      "Couldn't find chessboard in image\n",
      "Couldn't find chessboard in image\n",
      "Couldn't find chessboard in image\n",
      "Couldn't find chessboard in image\n"
     ]
    },
    {
     "name": "stderr",
     "output_type": "stream",
     "text": [
      " 92%|█████████▏| 21013/22732.0 [14:55<00:23, 74.41it/s]"
     ]
    },
    {
     "name": "stdout",
     "output_type": "stream",
     "text": [
      "Couldn't find chessboard in image\n",
      "Couldn't find chessboard in image\n",
      "Couldn't find chessboard in image\n",
      "Couldn't find chessboard in image\n",
      "Couldn't find chessboard in image\n",
      "Couldn't find chessboard in image\n",
      "Couldn't find chessboard in image\n",
      "Couldn't find chessboard in image\n",
      "Couldn't find chessboard in image\n",
      "Couldn't find chessboard in image\n",
      "Couldn't find chessboard in image\n",
      "Couldn't find chessboard in image\n",
      "Couldn't find chessboard in image\n",
      "Couldn't find chessboard in image\n",
      "Couldn't find chessboard in image\n",
      "Couldn't find chessboard in image\n"
     ]
    },
    {
     "name": "stderr",
     "output_type": "stream",
     "text": [
      " 93%|█████████▎| 21029/22732.0 [14:55<00:22, 74.77it/s]"
     ]
    },
    {
     "name": "stdout",
     "output_type": "stream",
     "text": [
      "Couldn't find chessboard in image\n",
      "Couldn't find chessboard in image\n",
      "Couldn't find chessboard in image\n",
      "Couldn't find chessboard in image\n",
      "Couldn't find chessboard in image\n",
      "Couldn't find chessboard in image\n",
      "Couldn't find chessboard in image\n",
      "Couldn't find chessboard in image\n",
      "Couldn't find chessboard in image\n",
      "Couldn't find chessboard in image\n",
      "Couldn't find chessboard in image\n",
      "Couldn't find chessboard in image\n",
      "Couldn't find chessboard in image\n",
      "Couldn't find chessboard in image\n",
      "Couldn't find chessboard in image\n",
      "Couldn't find chessboard in image\n"
     ]
    },
    {
     "name": "stderr",
     "output_type": "stream",
     "text": [
      " 93%|█████████▎| 21045/22732.0 [14:55<00:22, 74.96it/s]"
     ]
    },
    {
     "name": "stdout",
     "output_type": "stream",
     "text": [
      "Couldn't find chessboard in image\n",
      "Couldn't find chessboard in image\n",
      "Couldn't find chessboard in image\n",
      "Couldn't find chessboard in image\n",
      "Couldn't find chessboard in image\n",
      "Couldn't find chessboard in image\n",
      "Couldn't find chessboard in image\n",
      "Couldn't find chessboard in image\n",
      "Couldn't find chessboard in image\n",
      "Couldn't find chessboard in image\n",
      "Couldn't find chessboard in image\n",
      "Couldn't find chessboard in image\n",
      "Couldn't find chessboard in image\n",
      "Couldn't find chessboard in image\n",
      "Couldn't find chessboard in image\n",
      "Couldn't find chessboard in image\n"
     ]
    },
    {
     "name": "stderr",
     "output_type": "stream",
     "text": [
      " 93%|█████████▎| 21061/22732.0 [14:55<00:22, 74.76it/s]"
     ]
    },
    {
     "name": "stdout",
     "output_type": "stream",
     "text": [
      "Couldn't find chessboard in image\n",
      "Couldn't find chessboard in image\n",
      "Couldn't find chessboard in image\n",
      "Couldn't find chessboard in image\n",
      "Couldn't find chessboard in image\n",
      "Couldn't find chessboard in image\n",
      "Couldn't find chessboard in image\n",
      "Couldn't find chessboard in image\n",
      "Couldn't find chessboard in image\n",
      "Couldn't find chessboard in image\n",
      "Couldn't find chessboard in image\n",
      "Couldn't find chessboard in image\n",
      "Couldn't find chessboard in image\n",
      "Couldn't find chessboard in image\n",
      "Couldn't find chessboard in image\n",
      "Couldn't find chessboard in image\n"
     ]
    },
    {
     "name": "stderr",
     "output_type": "stream",
     "text": [
      " 93%|█████████▎| 21077/22732.0 [14:56<00:22, 75.14it/s]"
     ]
    },
    {
     "name": "stdout",
     "output_type": "stream",
     "text": [
      "Couldn't find chessboard in image\n",
      "Couldn't find chessboard in image\n",
      "Couldn't find chessboard in image\n",
      "Couldn't find chessboard in image\n",
      "Couldn't find chessboard in image\n",
      "Couldn't find chessboard in image\n",
      "Couldn't find chessboard in image\n",
      "Couldn't find chessboard in image\n",
      "Couldn't find chessboard in image\n",
      "Couldn't find chessboard in image\n",
      "Couldn't find chessboard in image\n",
      "Couldn't find chessboard in image\n",
      "Couldn't find chessboard in image\n",
      "Couldn't find chessboard in image\n",
      "Couldn't find chessboard in image\n",
      "Couldn't find chessboard in image\n"
     ]
    },
    {
     "name": "stderr",
     "output_type": "stream",
     "text": [
      " 93%|█████████▎| 21093/22732.0 [14:56<00:22, 74.49it/s]"
     ]
    },
    {
     "name": "stdout",
     "output_type": "stream",
     "text": [
      "Couldn't find chessboard in image\n",
      "Couldn't find chessboard in image\n",
      "Couldn't find chessboard in image\n",
      "Couldn't find chessboard in image\n",
      "Couldn't find chessboard in image\n",
      "Couldn't find chessboard in image\n",
      "Couldn't find chessboard in image\n",
      "Couldn't find chessboard in image\n",
      "Couldn't find chessboard in image\n",
      "Couldn't find chessboard in image\n",
      "Couldn't find chessboard in image\n",
      "Couldn't find chessboard in image\n",
      "Couldn't find chessboard in image\n",
      "Couldn't find chessboard in image\n",
      "Couldn't find chessboard in image\n"
     ]
    },
    {
     "name": "stderr",
     "output_type": "stream",
     "text": [
      " 93%|█████████▎| 21101/22732.0 [14:56<00:21, 74.21it/s]"
     ]
    },
    {
     "name": "stdout",
     "output_type": "stream",
     "text": [
      "Couldn't find chessboard in image\n",
      "Couldn't find chessboard in image\n",
      "Couldn't find chessboard in image\n",
      "Couldn't find chessboard in image\n",
      "Couldn't find chessboard in image\n",
      "Couldn't find chessboard in image\n",
      "Couldn't find chessboard in image\n",
      "Couldn't find chessboard in image\n",
      "Couldn't find chessboard in image\n",
      "Couldn't find chessboard in image\n",
      "Couldn't find chessboard in image\n",
      "Couldn't find chessboard in image\n",
      "Couldn't find chessboard in image\n",
      "Couldn't find chessboard in image\n",
      "Couldn't find chessboard in image\n"
     ]
    },
    {
     "name": "stderr",
     "output_type": "stream",
     "text": [
      " 93%|█████████▎| 21117/22732.0 [14:56<00:21, 74.18it/s]"
     ]
    },
    {
     "name": "stdout",
     "output_type": "stream",
     "text": [
      "Couldn't find chessboard in image\n",
      "Couldn't find chessboard in image\n",
      "Couldn't find chessboard in image\n",
      "Couldn't find chessboard in image\n",
      "Couldn't find chessboard in image\n",
      "Couldn't find chessboard in image\n",
      "Couldn't find chessboard in image\n",
      "Couldn't find chessboard in image\n",
      "Couldn't find chessboard in image\n",
      "Couldn't find chessboard in image\n",
      "Couldn't find chessboard in image\n",
      "Couldn't find chessboard in image\n",
      "Couldn't find chessboard in image\n",
      "Couldn't find chessboard in image\n",
      "Couldn't find chessboard in image\n",
      "Couldn't find chessboard in image\n"
     ]
    },
    {
     "name": "stderr",
     "output_type": "stream",
     "text": [
      " 93%|█████████▎| 21133/22732.0 [14:56<00:21, 74.43it/s]"
     ]
    },
    {
     "name": "stdout",
     "output_type": "stream",
     "text": [
      "Couldn't find chessboard in image\n",
      "Couldn't find chessboard in image\n",
      "Couldn't find chessboard in image\n",
      "Couldn't find chessboard in image\n",
      "Couldn't find chessboard in image\n",
      "Couldn't find chessboard in image\n",
      "Couldn't find chessboard in image\n",
      "Couldn't find chessboard in image\n",
      "Couldn't find chessboard in image\n",
      "Couldn't find chessboard in image\n",
      "Couldn't find chessboard in image\n",
      "Couldn't find chessboard in image\n",
      "Couldn't find chessboard in image\n",
      "Couldn't find chessboard in image\n",
      "Couldn't find chessboard in image\n",
      "Couldn't find chessboard in image\n"
     ]
    },
    {
     "name": "stderr",
     "output_type": "stream",
     "text": [
      " 93%|█████████▎| 21149/22732.0 [14:57<00:21, 74.58it/s]"
     ]
    },
    {
     "name": "stdout",
     "output_type": "stream",
     "text": [
      "Couldn't find chessboard in image\n",
      "Couldn't find chessboard in image\n",
      "Couldn't find chessboard in image\n",
      "Couldn't find chessboard in image\n",
      "Couldn't find chessboard in image\n",
      "Couldn't find chessboard in image\n",
      "Couldn't find chessboard in image\n",
      "Couldn't find chessboard in image\n",
      "Couldn't find chessboard in image\n",
      "Couldn't find chessboard in image\n",
      "Couldn't find chessboard in image\n",
      "Couldn't find chessboard in image\n",
      "Couldn't find chessboard in image\n",
      "Couldn't find chessboard in image\n",
      "Couldn't find chessboard in image\n"
     ]
    },
    {
     "name": "stderr",
     "output_type": "stream",
     "text": [
      " 93%|█████████▎| 21165/22732.0 [14:57<00:20, 74.64it/s]"
     ]
    },
    {
     "name": "stdout",
     "output_type": "stream",
     "text": [
      "Couldn't find chessboard in image\n",
      "Couldn't find chessboard in image\n",
      "Couldn't find chessboard in image\n",
      "Couldn't find chessboard in image\n",
      "Couldn't find chessboard in image\n",
      "Couldn't find chessboard in image\n",
      "Couldn't find chessboard in image\n",
      "Couldn't find chessboard in image\n",
      "Couldn't find chessboard in image\n",
      "Couldn't find chessboard in image\n",
      "Couldn't find chessboard in image\n",
      "Couldn't find chessboard in image\n",
      "Couldn't find chessboard in image\n",
      "Couldn't find chessboard in image\n",
      "Couldn't find chessboard in image\n",
      "Couldn't find chessboard in image\n"
     ]
    },
    {
     "name": "stderr",
     "output_type": "stream",
     "text": [
      " 93%|█████████▎| 21181/22732.0 [14:57<00:20, 74.51it/s]"
     ]
    },
    {
     "name": "stdout",
     "output_type": "stream",
     "text": [
      "Couldn't find chessboard in image\n",
      "Couldn't find chessboard in image\n",
      "Couldn't find chessboard in image\n",
      "Couldn't find chessboard in image\n",
      "Couldn't find chessboard in image\n",
      "Couldn't find chessboard in image\n",
      "Couldn't find chessboard in image\n",
      "Couldn't find chessboard in image\n",
      "Couldn't find chessboard in image\n",
      "Couldn't find chessboard in image\n",
      "Couldn't find chessboard in image\n",
      "Couldn't find chessboard in image\n",
      "Couldn't find chessboard in image\n",
      "Couldn't find chessboard in image\n",
      "Couldn't find chessboard in image\n",
      "Couldn't find chessboard in image\n"
     ]
    },
    {
     "name": "stderr",
     "output_type": "stream",
     "text": [
      " 93%|█████████▎| 21197/22732.0 [14:57<00:20, 74.48it/s]"
     ]
    },
    {
     "name": "stdout",
     "output_type": "stream",
     "text": [
      "Couldn't find chessboard in image\n",
      "Couldn't find chessboard in image\n",
      "Couldn't find chessboard in image\n",
      "Couldn't find chessboard in image\n",
      "Couldn't find chessboard in image\n",
      "Couldn't find chessboard in image\n",
      "Couldn't find chessboard in image\n",
      "Couldn't find chessboard in image\n",
      "Couldn't find chessboard in image\n",
      "Couldn't find chessboard in image\n",
      "Couldn't find chessboard in image\n",
      "Couldn't find chessboard in image\n",
      "Couldn't find chessboard in image\n",
      "Couldn't find chessboard in image\n",
      "Couldn't find chessboard in image\n"
     ]
    },
    {
     "name": "stderr",
     "output_type": "stream",
     "text": [
      " 93%|█████████▎| 21213/22732.0 [14:58<00:20, 74.35it/s]"
     ]
    },
    {
     "name": "stdout",
     "output_type": "stream",
     "text": [
      "Couldn't find chessboard in image\n",
      "Couldn't find chessboard in image\n",
      "Couldn't find chessboard in image\n",
      "Couldn't find chessboard in image\n",
      "Couldn't find chessboard in image\n",
      "Couldn't find chessboard in image\n",
      "Couldn't find chessboard in image\n",
      "Couldn't find chessboard in image\n",
      "Couldn't find chessboard in image\n",
      "Couldn't find chessboard in image\n",
      "Couldn't find chessboard in image\n",
      "Couldn't find chessboard in image\n",
      "Couldn't find chessboard in image\n",
      "Couldn't find chessboard in image\n",
      "Couldn't find chessboard in image\n"
     ]
    },
    {
     "name": "stderr",
     "output_type": "stream",
     "text": [
      " 93%|█████████▎| 21229/22732.0 [14:58<00:20, 74.39it/s]"
     ]
    },
    {
     "name": "stdout",
     "output_type": "stream",
     "text": [
      "Couldn't find chessboard in image\n",
      "Couldn't find chessboard in image\n",
      "Couldn't find chessboard in image\n",
      "Couldn't find chessboard in image\n",
      "Couldn't find chessboard in image\n",
      "Couldn't find chessboard in image\n",
      "Couldn't find chessboard in image\n",
      "Couldn't find chessboard in image\n",
      "Couldn't find chessboard in image\n",
      "Couldn't find chessboard in image\n",
      "Couldn't find chessboard in image\n",
      "Couldn't find chessboard in image\n",
      "Couldn't find chessboard in image\n",
      "Couldn't find chessboard in image\n",
      "Couldn't find chessboard in image\n",
      "Couldn't find chessboard in image\n"
     ]
    },
    {
     "name": "stderr",
     "output_type": "stream",
     "text": [
      " 93%|█████████▎| 21245/22732.0 [14:58<00:20, 74.12it/s]"
     ]
    },
    {
     "name": "stdout",
     "output_type": "stream",
     "text": [
      "Couldn't find chessboard in image\n",
      "Couldn't find chessboard in image\n",
      "Couldn't find chessboard in image\n",
      "Couldn't find chessboard in image\n",
      "Couldn't find chessboard in image\n",
      "Couldn't find chessboard in image\n",
      "Couldn't find chessboard in image\n",
      "Couldn't find chessboard in image\n",
      "Couldn't find chessboard in image\n",
      "Couldn't find chessboard in image\n",
      "Couldn't find chessboard in image\n",
      "Couldn't find chessboard in image\n",
      "Couldn't find chessboard in image\n",
      "Couldn't find chessboard in image\n",
      "Couldn't find chessboard in image\n"
     ]
    },
    {
     "name": "stderr",
     "output_type": "stream",
     "text": [
      " 94%|█████████▎| 21261/22732.0 [14:58<00:19, 74.43it/s]"
     ]
    },
    {
     "name": "stdout",
     "output_type": "stream",
     "text": [
      "Couldn't find chessboard in image\n",
      "Couldn't find chessboard in image\n",
      "Couldn't find chessboard in image\n",
      "Couldn't find chessboard in image\n",
      "Couldn't find chessboard in image\n",
      "Couldn't find chessboard in image\n",
      "Couldn't find chessboard in image\n",
      "Couldn't find chessboard in image\n",
      "Couldn't find chessboard in image\n",
      "Couldn't find chessboard in image\n",
      "Couldn't find chessboard in image\n",
      "Couldn't find chessboard in image\n",
      "Couldn't find chessboard in image\n",
      "Couldn't find chessboard in image\n",
      "Couldn't find chessboard in image\n",
      "Couldn't find chessboard in image\n"
     ]
    },
    {
     "name": "stderr",
     "output_type": "stream",
     "text": [
      " 94%|█████████▎| 21277/22732.0 [14:58<00:19, 74.53it/s]"
     ]
    },
    {
     "name": "stdout",
     "output_type": "stream",
     "text": [
      "Couldn't find chessboard in image\n",
      "Couldn't find chessboard in image\n",
      "Couldn't find chessboard in image\n",
      "Couldn't find chessboard in image\n",
      "Couldn't find chessboard in image\n",
      "Couldn't find chessboard in image\n",
      "Couldn't find chessboard in image\n",
      "Couldn't find chessboard in image\n",
      "Couldn't find chessboard in image\n",
      "Couldn't find chessboard in image\n",
      "Couldn't find chessboard in image\n",
      "Couldn't find chessboard in image\n",
      "Couldn't find chessboard in image\n",
      "Couldn't find chessboard in image\n",
      "Couldn't find chessboard in image\n"
     ]
    },
    {
     "name": "stderr",
     "output_type": "stream",
     "text": [
      " 94%|█████████▎| 21293/22732.0 [14:59<00:19, 74.30it/s]"
     ]
    },
    {
     "name": "stdout",
     "output_type": "stream",
     "text": [
      "Couldn't find chessboard in image\n",
      "Couldn't find chessboard in image\n",
      "Couldn't find chessboard in image\n",
      "Couldn't find chessboard in image\n",
      "Couldn't find chessboard in image\n",
      "Couldn't find chessboard in image\n",
      "Couldn't find chessboard in image\n",
      "Couldn't find chessboard in image\n",
      "Couldn't find chessboard in image\n",
      "Couldn't find chessboard in image\n",
      "Couldn't find chessboard in image\n",
      "Couldn't find chessboard in image\n",
      "Couldn't find chessboard in image\n",
      "Couldn't find chessboard in image\n",
      "Couldn't find chessboard in image\n"
     ]
    },
    {
     "name": "stderr",
     "output_type": "stream",
     "text": [
      " 94%|█████████▎| 21309/22732.0 [14:59<00:19, 73.75it/s]"
     ]
    },
    {
     "name": "stdout",
     "output_type": "stream",
     "text": [
      "Couldn't find chessboard in image\n",
      "Couldn't find chessboard in image\n",
      "Couldn't find chessboard in image\n",
      "Couldn't find chessboard in image\n",
      "Couldn't find chessboard in image\n",
      "Couldn't find chessboard in image\n",
      "Couldn't find chessboard in image\n",
      "Couldn't find chessboard in image\n",
      "Couldn't find chessboard in image\n",
      "Couldn't find chessboard in image\n",
      "Couldn't find chessboard in image\n",
      "Couldn't find chessboard in image\n",
      "Couldn't find chessboard in image\n",
      "Couldn't find chessboard in image\n",
      "Couldn't find chessboard in image\n"
     ]
    },
    {
     "name": "stderr",
     "output_type": "stream",
     "text": [
      " 94%|█████████▍| 21317/22732.0 [14:59<00:19, 73.53it/s]"
     ]
    },
    {
     "name": "stdout",
     "output_type": "stream",
     "text": [
      "Couldn't find chessboard in image\n",
      "Couldn't find chessboard in image\n",
      "Couldn't find chessboard in image\n",
      "Couldn't find chessboard in image\n",
      "Couldn't find chessboard in image\n",
      "Couldn't find chessboard in image\n",
      "Couldn't find chessboard in image\n",
      "Couldn't find chessboard in image\n",
      "Couldn't find chessboard in image\n",
      "Couldn't find chessboard in image\n",
      "Couldn't find chessboard in image\n",
      "Couldn't find chessboard in image\n",
      "Couldn't find chessboard in image\n",
      "Couldn't find chessboard in image\n",
      "Couldn't find chessboard in image\n"
     ]
    },
    {
     "name": "stderr",
     "output_type": "stream",
     "text": [
      " 94%|█████████▍| 21333/22732.0 [14:59<00:19, 73.57it/s]"
     ]
    },
    {
     "name": "stdout",
     "output_type": "stream",
     "text": [
      "Couldn't find chessboard in image\n",
      "Couldn't find chessboard in image\n",
      "Couldn't find chessboard in image\n",
      "Couldn't find chessboard in image\n",
      "Couldn't find chessboard in image\n",
      "Couldn't find chessboard in image\n",
      "Couldn't find chessboard in image\n",
      "Couldn't find chessboard in image\n",
      "Couldn't find chessboard in image\n",
      "Couldn't find chessboard in image\n",
      "Couldn't find chessboard in image\n",
      "Couldn't find chessboard in image\n",
      "Couldn't find chessboard in image\n",
      "Couldn't find chessboard in image\n",
      "Couldn't find chessboard in image\n"
     ]
    },
    {
     "name": "stderr",
     "output_type": "stream",
     "text": [
      " 94%|█████████▍| 21349/22732.0 [14:59<00:18, 72.81it/s]"
     ]
    },
    {
     "name": "stdout",
     "output_type": "stream",
     "text": [
      "Couldn't find chessboard in image\n",
      "Couldn't find chessboard in image\n",
      "Couldn't find chessboard in image\n",
      "Couldn't find chessboard in image\n",
      "Couldn't find chessboard in image\n",
      "Couldn't find chessboard in image\n",
      "Couldn't find chessboard in image\n",
      "Couldn't find chessboard in image\n",
      "Couldn't find chessboard in image\n",
      "Couldn't find chessboard in image\n",
      "Couldn't find chessboard in image\n",
      "Couldn't find chessboard in image\n",
      "Couldn't find chessboard in image\n",
      "Couldn't find chessboard in image\n",
      "Couldn't find chessboard in image\n"
     ]
    },
    {
     "name": "stderr",
     "output_type": "stream",
     "text": [
      " 94%|█████████▍| 21365/22732.0 [15:00<00:18, 72.76it/s]"
     ]
    },
    {
     "name": "stdout",
     "output_type": "stream",
     "text": [
      "Couldn't find chessboard in image\n",
      "Couldn't find chessboard in image\n",
      "Couldn't find chessboard in image\n",
      "Couldn't find chessboard in image\n",
      "Couldn't find chessboard in image\n",
      "Couldn't find chessboard in image\n",
      "Couldn't find chessboard in image\n",
      "Couldn't find chessboard in image\n",
      "Couldn't find chessboard in image\n",
      "Couldn't find chessboard in image\n",
      "Couldn't find chessboard in image\n",
      "Couldn't find chessboard in image\n",
      "Couldn't find chessboard in image\n",
      "Couldn't find chessboard in image\n",
      "Couldn't find chessboard in image\n"
     ]
    },
    {
     "name": "stderr",
     "output_type": "stream",
     "text": [
      " 94%|█████████▍| 21381/22732.0 [15:00<00:18, 72.79it/s]"
     ]
    },
    {
     "name": "stdout",
     "output_type": "stream",
     "text": [
      "Couldn't find chessboard in image\n",
      "Couldn't find chessboard in image\n",
      "Couldn't find chessboard in image\n",
      "Couldn't find chessboard in image\n",
      "Couldn't find chessboard in image\n",
      "Couldn't find chessboard in image\n",
      "Couldn't find chessboard in image\n",
      "Couldn't find chessboard in image\n",
      "Couldn't find chessboard in image\n",
      "Couldn't find chessboard in image\n",
      "Couldn't find chessboard in image\n",
      "Couldn't find chessboard in image\n",
      "Couldn't find chessboard in image\n",
      "Couldn't find chessboard in image\n",
      "Couldn't find chessboard in image\n"
     ]
    },
    {
     "name": "stderr",
     "output_type": "stream",
     "text": [
      " 94%|█████████▍| 21397/22732.0 [15:00<00:18, 73.11it/s]"
     ]
    },
    {
     "name": "stdout",
     "output_type": "stream",
     "text": [
      "Couldn't find chessboard in image\n",
      "Couldn't find chessboard in image\n",
      "Couldn't find chessboard in image\n",
      "Couldn't find chessboard in image\n",
      "Couldn't find chessboard in image\n",
      "Couldn't find chessboard in image\n",
      "Couldn't find chessboard in image\n",
      "Couldn't find chessboard in image\n",
      "Couldn't find chessboard in image\n",
      "Couldn't find chessboard in image\n",
      "Couldn't find chessboard in image\n",
      "Couldn't find chessboard in image\n",
      "Couldn't find chessboard in image\n",
      "Couldn't find chessboard in image\n",
      "Couldn't find chessboard in image\n"
     ]
    },
    {
     "name": "stderr",
     "output_type": "stream",
     "text": [
      " 94%|█████████▍| 21413/22732.0 [15:00<00:18, 72.54it/s]"
     ]
    },
    {
     "name": "stdout",
     "output_type": "stream",
     "text": [
      "Couldn't find chessboard in image\n",
      "Couldn't find chessboard in image\n",
      "Couldn't find chessboard in image\n",
      "Couldn't find chessboard in image\n",
      "Couldn't find chessboard in image\n",
      "Couldn't find chessboard in image\n",
      "Couldn't find chessboard in image\n",
      "Couldn't find chessboard in image\n",
      "Couldn't find chessboard in image\n",
      "Couldn't find chessboard in image\n",
      "Couldn't find chessboard in image\n",
      "Couldn't find chessboard in image\n",
      "Couldn't find chessboard in image\n",
      "Couldn't find chessboard in image\n",
      "Couldn't find chessboard in image\n"
     ]
    },
    {
     "name": "stderr",
     "output_type": "stream",
     "text": [
      " 94%|█████████▍| 21429/22732.0 [15:00<00:18, 72.23it/s]"
     ]
    },
    {
     "name": "stdout",
     "output_type": "stream",
     "text": [
      "Couldn't find chessboard in image\n",
      "Couldn't find chessboard in image\n",
      "Couldn't find chessboard in image\n",
      "Couldn't find chessboard in image\n",
      "Couldn't find chessboard in image\n",
      "Couldn't find chessboard in image\n",
      "Couldn't find chessboard in image\n",
      "Couldn't find chessboard in image\n",
      "Couldn't find chessboard in image\n",
      "Couldn't find chessboard in image\n",
      "Couldn't find chessboard in image\n",
      "Couldn't find chessboard in image\n",
      "Couldn't find chessboard in image\n",
      "Couldn't find chessboard in image\n",
      "Couldn't find chessboard in image\n"
     ]
    },
    {
     "name": "stderr",
     "output_type": "stream",
     "text": [
      " 94%|█████████▍| 21437/22732.0 [15:01<00:17, 72.38it/s]"
     ]
    },
    {
     "name": "stdout",
     "output_type": "stream",
     "text": [
      "Couldn't find chessboard in image\n",
      "Couldn't find chessboard in image\n",
      "Couldn't find chessboard in image\n",
      "Couldn't find chessboard in image\n",
      "Couldn't find chessboard in image\n",
      "Couldn't find chessboard in image\n",
      "Couldn't find chessboard in image\n",
      "Couldn't find chessboard in image\n",
      "Couldn't find chessboard in image\n",
      "Couldn't find chessboard in image\n",
      "Couldn't find chessboard in image\n",
      "Couldn't find chessboard in image\n",
      "Couldn't find chessboard in image\n",
      "Couldn't find chessboard in image\n",
      "Couldn't find chessboard in image\n"
     ]
    },
    {
     "name": "stderr",
     "output_type": "stream",
     "text": [
      " 94%|█████████▍| 21453/22732.0 [15:01<00:17, 72.78it/s]"
     ]
    },
    {
     "name": "stdout",
     "output_type": "stream",
     "text": [
      "Couldn't find chessboard in image\n",
      "Couldn't find chessboard in image\n",
      "Couldn't find chessboard in image\n",
      "Couldn't find chessboard in image\n",
      "Couldn't find chessboard in image\n",
      "Couldn't find chessboard in image\n",
      "Couldn't find chessboard in image\n",
      "Couldn't find chessboard in image\n",
      "Couldn't find chessboard in image\n",
      "Couldn't find chessboard in image\n",
      "Couldn't find chessboard in image\n",
      "Couldn't find chessboard in image\n",
      "Couldn't find chessboard in image\n",
      "Couldn't find chessboard in image\n",
      "Couldn't find chessboard in image\n"
     ]
    },
    {
     "name": "stderr",
     "output_type": "stream",
     "text": [
      " 94%|█████████▍| 21469/22732.0 [15:01<00:17, 73.23it/s]"
     ]
    },
    {
     "name": "stdout",
     "output_type": "stream",
     "text": [
      "Couldn't find chessboard in image\n",
      "Couldn't find chessboard in image\n",
      "Couldn't find chessboard in image\n",
      "Couldn't find chessboard in image\n",
      "Couldn't find chessboard in image\n",
      "Couldn't find chessboard in image\n",
      "Couldn't find chessboard in image\n",
      "Couldn't find chessboard in image\n",
      "Couldn't find chessboard in image\n",
      "Couldn't find chessboard in image\n",
      "Couldn't find chessboard in image\n",
      "Couldn't find chessboard in image\n",
      "Couldn't find chessboard in image\n",
      "Couldn't find chessboard in image\n",
      "Couldn't find chessboard in image\n"
     ]
    },
    {
     "name": "stderr",
     "output_type": "stream",
     "text": [
      " 95%|█████████▍| 21485/22732.0 [15:01<00:17, 73.22it/s]"
     ]
    },
    {
     "name": "stdout",
     "output_type": "stream",
     "text": [
      "Couldn't find chessboard in image\n",
      "Couldn't find chessboard in image\n",
      "Couldn't find chessboard in image\n",
      "Couldn't find chessboard in image\n",
      "Couldn't find chessboard in image\n",
      "Couldn't find chessboard in image\n",
      "Couldn't find chessboard in image\n",
      "Couldn't find chessboard in image\n",
      "Couldn't find chessboard in image\n",
      "Couldn't find chessboard in image\n",
      "Couldn't find chessboard in image\n",
      "Couldn't find chessboard in image\n",
      "Couldn't find chessboard in image\n",
      "Couldn't find chessboard in image\n",
      "Couldn't find chessboard in image\n"
     ]
    },
    {
     "name": "stderr",
     "output_type": "stream",
     "text": [
      " 95%|█████████▍| 21501/22732.0 [15:01<00:16, 73.34it/s]"
     ]
    },
    {
     "name": "stdout",
     "output_type": "stream",
     "text": [
      "Couldn't find chessboard in image\n",
      "Couldn't find chessboard in image\n",
      "Couldn't find chessboard in image\n",
      "Couldn't find chessboard in image\n",
      "Couldn't find chessboard in image\n",
      "Couldn't find chessboard in image\n",
      "Couldn't find chessboard in image\n",
      "Couldn't find chessboard in image\n",
      "Couldn't find chessboard in image\n",
      "Couldn't find chessboard in image\n",
      "Couldn't find chessboard in image\n",
      "Couldn't find chessboard in image\n",
      "Couldn't find chessboard in image\n",
      "Couldn't find chessboard in image\n",
      "Couldn't find chessboard in image\n"
     ]
    },
    {
     "name": "stderr",
     "output_type": "stream",
     "text": [
      " 95%|█████████▍| 21517/22732.0 [15:02<00:16, 73.75it/s]"
     ]
    },
    {
     "name": "stdout",
     "output_type": "stream",
     "text": [
      "Couldn't find chessboard in image\n",
      "Couldn't find chessboard in image\n",
      "Couldn't find chessboard in image\n",
      "Couldn't find chessboard in image\n",
      "Couldn't find chessboard in image\n",
      "Couldn't find chessboard in image\n",
      "Couldn't find chessboard in image\n",
      "Couldn't find chessboard in image\n",
      "Couldn't find chessboard in image\n",
      "Couldn't find chessboard in image\n",
      "Couldn't find chessboard in image\n",
      "Couldn't find chessboard in image\n",
      "Couldn't find chessboard in image\n",
      "Couldn't find chessboard in image\n",
      "Couldn't find chessboard in image\n",
      "Couldn't find chessboard in image\n"
     ]
    },
    {
     "name": "stderr",
     "output_type": "stream",
     "text": [
      " 95%|█████████▍| 21533/22732.0 [15:02<00:16, 74.05it/s]"
     ]
    },
    {
     "name": "stdout",
     "output_type": "stream",
     "text": [
      "Couldn't find chessboard in image\n",
      "Couldn't find chessboard in image\n",
      "Couldn't find chessboard in image\n",
      "Couldn't find chessboard in image\n",
      "Couldn't find chessboard in image\n",
      "Couldn't find chessboard in image\n",
      "Couldn't find chessboard in image\n",
      "Couldn't find chessboard in image\n",
      "Couldn't find chessboard in image\n",
      "Couldn't find chessboard in image\n",
      "Couldn't find chessboard in image\n",
      "Couldn't find chessboard in image\n",
      "Couldn't find chessboard in image\n",
      "Couldn't find chessboard in image\n",
      "Couldn't find chessboard in image\n"
     ]
    },
    {
     "name": "stderr",
     "output_type": "stream",
     "text": [
      " 95%|█████████▍| 21549/22732.0 [15:02<00:15, 74.08it/s]"
     ]
    },
    {
     "name": "stdout",
     "output_type": "stream",
     "text": [
      "Couldn't find chessboard in image\n",
      "Couldn't find chessboard in image\n",
      "Couldn't find chessboard in image\n",
      "Couldn't find chessboard in image\n",
      "Couldn't find chessboard in image\n",
      "Couldn't find chessboard in image\n",
      "Couldn't find chessboard in image\n",
      "Couldn't find chessboard in image\n",
      "Couldn't find chessboard in image\n",
      "Couldn't find chessboard in image\n",
      "Couldn't find chessboard in image\n",
      "Couldn't find chessboard in image\n",
      "Couldn't find chessboard in image\n",
      "Couldn't find chessboard in image\n",
      "Couldn't find chessboard in image\n"
     ]
    },
    {
     "name": "stderr",
     "output_type": "stream",
     "text": [
      " 95%|█████████▍| 21565/22732.0 [15:02<00:15, 74.00it/s]"
     ]
    },
    {
     "name": "stdout",
     "output_type": "stream",
     "text": [
      "Couldn't find chessboard in image\n",
      "Couldn't find chessboard in image\n",
      "Couldn't find chessboard in image\n",
      "Couldn't find chessboard in image\n",
      "Couldn't find chessboard in image\n",
      "Couldn't find chessboard in image\n",
      "Couldn't find chessboard in image\n",
      "Couldn't find chessboard in image\n",
      "Couldn't find chessboard in image\n",
      "Couldn't find chessboard in image\n",
      "Couldn't find chessboard in image\n",
      "Couldn't find chessboard in image\n",
      "Couldn't find chessboard in image\n",
      "Couldn't find chessboard in image\n",
      "Couldn't find chessboard in image\n"
     ]
    },
    {
     "name": "stderr",
     "output_type": "stream",
     "text": [
      " 95%|█████████▍| 21573/22732.0 [15:02<00:15, 73.99it/s]"
     ]
    },
    {
     "name": "stdout",
     "output_type": "stream",
     "text": [
      "Couldn't find chessboard in image\n",
      "Couldn't find chessboard in image\n",
      "Couldn't find chessboard in image\n",
      "Couldn't find chessboard in image\n",
      "Couldn't find chessboard in image\n",
      "Couldn't find chessboard in image\n",
      "Couldn't find chessboard in image\n",
      "Couldn't find chessboard in image\n",
      "Couldn't find chessboard in image\n",
      "Couldn't find chessboard in image\n",
      "Couldn't find chessboard in image\n",
      "Couldn't find chessboard in image\n",
      "Couldn't find chessboard in image\n",
      "Couldn't find chessboard in image\n",
      "Couldn't find chessboard in image\n"
     ]
    },
    {
     "name": "stderr",
     "output_type": "stream",
     "text": [
      " 95%|█████████▍| 21589/22732.0 [15:03<00:15, 73.83it/s]"
     ]
    },
    {
     "name": "stdout",
     "output_type": "stream",
     "text": [
      "Couldn't find chessboard in image\n",
      "Couldn't find chessboard in image\n",
      "Couldn't find chessboard in image\n",
      "Couldn't find chessboard in image\n",
      "Couldn't find chessboard in image\n",
      "Couldn't find chessboard in image\n",
      "Couldn't find chessboard in image\n",
      "Couldn't find chessboard in image\n",
      "Couldn't find chessboard in image\n",
      "Couldn't find chessboard in image\n",
      "Couldn't find chessboard in image\n",
      "Couldn't find chessboard in image\n",
      "Couldn't find chessboard in image\n",
      "Couldn't find chessboard in image\n",
      "Couldn't find chessboard in image\n"
     ]
    },
    {
     "name": "stderr",
     "output_type": "stream",
     "text": [
      " 95%|█████████▌| 21605/22732.0 [15:03<00:15, 73.57it/s]"
     ]
    },
    {
     "name": "stdout",
     "output_type": "stream",
     "text": [
      "Couldn't find chessboard in image\n",
      "Couldn't find chessboard in image\n",
      "Couldn't find chessboard in image\n",
      "Couldn't find chessboard in image\n",
      "Couldn't find chessboard in image\n",
      "Couldn't find chessboard in image\n",
      "Couldn't find chessboard in image\n",
      "Couldn't find chessboard in image\n",
      "Couldn't find chessboard in image\n",
      "Couldn't find chessboard in image\n",
      "Couldn't find chessboard in image\n",
      "Couldn't find chessboard in image\n",
      "Couldn't find chessboard in image\n",
      "Couldn't find chessboard in image\n",
      "Couldn't find chessboard in image\n"
     ]
    },
    {
     "name": "stderr",
     "output_type": "stream",
     "text": [
      " 95%|█████████▌| 21621/22732.0 [15:03<00:15, 73.76it/s]"
     ]
    },
    {
     "name": "stdout",
     "output_type": "stream",
     "text": [
      "Couldn't find chessboard in image\n",
      "Couldn't find chessboard in image\n",
      "Couldn't find chessboard in image\n",
      "Couldn't find chessboard in image\n",
      "Couldn't find chessboard in image\n",
      "Couldn't find chessboard in image\n",
      "Couldn't find chessboard in image\n",
      "Couldn't find chessboard in image\n",
      "Couldn't find chessboard in image\n",
      "Couldn't find chessboard in image\n",
      "Couldn't find chessboard in image\n",
      "Couldn't find chessboard in image\n",
      "Couldn't find chessboard in image\n",
      "Couldn't find chessboard in image\n",
      "Couldn't find chessboard in image\n"
     ]
    },
    {
     "name": "stderr",
     "output_type": "stream",
     "text": [
      " 95%|█████████▌| 21637/22732.0 [15:03<00:14, 74.05it/s]"
     ]
    },
    {
     "name": "stdout",
     "output_type": "stream",
     "text": [
      "Couldn't find chessboard in image\n",
      "Couldn't find chessboard in image\n",
      "Couldn't find chessboard in image\n",
      "Couldn't find chessboard in image\n",
      "Couldn't find chessboard in image\n",
      "Couldn't find chessboard in image\n",
      "Couldn't find chessboard in image\n",
      "Couldn't find chessboard in image\n",
      "Couldn't find chessboard in image\n",
      "Couldn't find chessboard in image\n",
      "Couldn't find chessboard in image\n",
      "Couldn't find chessboard in image\n",
      "Couldn't find chessboard in image\n",
      "Couldn't find chessboard in image\n",
      "Couldn't find chessboard in image\n"
     ]
    },
    {
     "name": "stderr",
     "output_type": "stream",
     "text": [
      " 95%|█████████▌| 21653/22732.0 [15:04<00:14, 74.18it/s]"
     ]
    },
    {
     "name": "stdout",
     "output_type": "stream",
     "text": [
      "Couldn't find chessboard in image\n",
      "Couldn't find chessboard in image\n",
      "Couldn't find chessboard in image\n",
      "Couldn't find chessboard in image\n",
      "Couldn't find chessboard in image\n",
      "Couldn't find chessboard in image\n",
      "Couldn't find chessboard in image\n",
      "Couldn't find chessboard in image\n",
      "Couldn't find chessboard in image\n",
      "Couldn't find chessboard in image\n",
      "Couldn't find chessboard in image\n",
      "Couldn't find chessboard in image\n",
      "Couldn't find chessboard in image\n",
      "Couldn't find chessboard in image\n",
      "Couldn't find chessboard in image\n",
      "Couldn't find chessboard in image\n"
     ]
    },
    {
     "name": "stderr",
     "output_type": "stream",
     "text": [
      " 95%|█████████▌| 21669/22732.0 [15:04<00:14, 74.30it/s]"
     ]
    },
    {
     "name": "stdout",
     "output_type": "stream",
     "text": [
      "Couldn't find chessboard in image\n",
      "Couldn't find chessboard in image\n",
      "Couldn't find chessboard in image\n",
      "Couldn't find chessboard in image\n",
      "Couldn't find chessboard in image\n",
      "Couldn't find chessboard in image\n",
      "Couldn't find chessboard in image\n",
      "Couldn't find chessboard in image\n",
      "Couldn't find chessboard in image\n",
      "Couldn't find chessboard in image\n",
      "Couldn't find chessboard in image\n",
      "Couldn't find chessboard in image\n",
      "Couldn't find chessboard in image\n",
      "Couldn't find chessboard in image\n",
      "Couldn't find chessboard in image\n"
     ]
    },
    {
     "name": "stderr",
     "output_type": "stream",
     "text": [
      " 95%|█████████▌| 21685/22732.0 [15:04<00:14, 73.92it/s]"
     ]
    },
    {
     "name": "stdout",
     "output_type": "stream",
     "text": [
      "Couldn't find chessboard in image\n",
      "Couldn't find chessboard in image\n",
      "Couldn't find chessboard in image\n",
      "Couldn't find chessboard in image\n",
      "Couldn't find chessboard in image\n",
      "Couldn't find chessboard in image\n",
      "Couldn't find chessboard in image\n",
      "Couldn't find chessboard in image\n",
      "Couldn't find chessboard in image\n",
      "Couldn't find chessboard in image\n",
      "Couldn't find chessboard in image\n",
      "Couldn't find chessboard in image\n",
      "Couldn't find chessboard in image\n",
      "Couldn't find chessboard in image\n",
      "Couldn't find chessboard in image\n"
     ]
    },
    {
     "name": "stderr",
     "output_type": "stream",
     "text": [
      " 95%|█████████▌| 21701/22732.0 [15:04<00:13, 74.21it/s]"
     ]
    },
    {
     "name": "stdout",
     "output_type": "stream",
     "text": [
      "Couldn't find chessboard in image\n",
      "Couldn't find chessboard in image\n",
      "Couldn't find chessboard in image\n",
      "Couldn't find chessboard in image\n",
      "Couldn't find chessboard in image\n",
      "Couldn't find chessboard in image\n",
      "Couldn't find chessboard in image\n",
      "Couldn't find chessboard in image\n",
      "Couldn't find chessboard in image\n",
      "Couldn't find chessboard in image\n",
      "Couldn't find chessboard in image\n",
      "Couldn't find chessboard in image\n",
      "Couldn't find chessboard in image\n",
      "Couldn't find chessboard in image\n",
      "Couldn't find chessboard in image\n",
      "Couldn't find chessboard in image\n"
     ]
    },
    {
     "name": "stderr",
     "output_type": "stream",
     "text": [
      " 96%|█████████▌| 21717/22732.0 [15:04<00:13, 74.40it/s]"
     ]
    },
    {
     "name": "stdout",
     "output_type": "stream",
     "text": [
      "Couldn't find chessboard in image\n",
      "Couldn't find chessboard in image\n",
      "Couldn't find chessboard in image\n",
      "Couldn't find chessboard in image\n",
      "Couldn't find chessboard in image\n",
      "Couldn't find chessboard in image\n",
      "Couldn't find chessboard in image\n",
      "Couldn't find chessboard in image\n",
      "Couldn't find chessboard in image\n",
      "Couldn't find chessboard in image\n",
      "Couldn't find chessboard in image\n",
      "Couldn't find chessboard in image\n",
      "Couldn't find chessboard in image\n",
      "Couldn't find chessboard in image\n",
      "Couldn't find chessboard in image\n",
      "Couldn't find chessboard in image\n"
     ]
    },
    {
     "name": "stderr",
     "output_type": "stream",
     "text": [
      " 96%|█████████▌| 21733/22732.0 [15:05<00:13, 74.13it/s]"
     ]
    },
    {
     "name": "stdout",
     "output_type": "stream",
     "text": [
      "Couldn't find chessboard in image\n",
      "Couldn't find chessboard in image\n",
      "Couldn't find chessboard in image\n",
      "Couldn't find chessboard in image\n",
      "Couldn't find chessboard in image\n",
      "Couldn't find chessboard in image\n",
      "Couldn't find chessboard in image\n",
      "Couldn't find chessboard in image\n",
      "Couldn't find chessboard in image\n",
      "Couldn't find chessboard in image\n",
      "Couldn't find chessboard in image\n",
      "Couldn't find chessboard in image\n",
      "Couldn't find chessboard in image\n",
      "Couldn't find chessboard in image\n",
      "Couldn't find chessboard in image\n"
     ]
    },
    {
     "name": "stderr",
     "output_type": "stream",
     "text": [
      " 96%|█████████▌| 21741/22732.0 [15:05<00:13, 74.03it/s]"
     ]
    },
    {
     "name": "stdout",
     "output_type": "stream",
     "text": [
      "Couldn't find chessboard in image\n",
      "Couldn't find chessboard in image\n",
      "Couldn't find chessboard in image\n",
      "Couldn't find chessboard in image\n",
      "Couldn't find chessboard in image\n",
      "Couldn't find chessboard in image\n",
      "Couldn't find chessboard in image\n",
      "Couldn't find chessboard in image\n",
      "Couldn't find chessboard in image\n",
      "Couldn't find chessboard in image\n",
      "Couldn't find chessboard in image\n",
      "Couldn't find chessboard in image\n",
      "Couldn't find chessboard in image\n",
      "Couldn't find chessboard in image\n",
      "Couldn't find chessboard in image\n"
     ]
    },
    {
     "name": "stderr",
     "output_type": "stream",
     "text": [
      " 96%|█████████▌| 21757/22732.0 [15:05<00:13, 73.88it/s]"
     ]
    },
    {
     "name": "stdout",
     "output_type": "stream",
     "text": [
      "Couldn't find chessboard in image\n",
      "Couldn't find chessboard in image\n",
      "Couldn't find chessboard in image\n",
      "Couldn't find chessboard in image\n",
      "Couldn't find chessboard in image\n",
      "Couldn't find chessboard in image\n",
      "Couldn't find chessboard in image\n",
      "Couldn't find chessboard in image\n",
      "Couldn't find chessboard in image\n",
      "Couldn't find chessboard in image\n",
      "Couldn't find chessboard in image\n",
      "Couldn't find chessboard in image\n",
      "Couldn't find chessboard in image\n",
      "Couldn't find chessboard in image\n",
      "Couldn't find chessboard in image\n"
     ]
    },
    {
     "name": "stderr",
     "output_type": "stream",
     "text": [
      " 96%|█████████▌| 21773/22732.0 [15:05<00:12, 74.07it/s]"
     ]
    },
    {
     "name": "stdout",
     "output_type": "stream",
     "text": [
      "Couldn't find chessboard in image\n",
      "Couldn't find chessboard in image\n",
      "Couldn't find chessboard in image\n",
      "Couldn't find chessboard in image\n",
      "Couldn't find chessboard in image\n",
      "Couldn't find chessboard in image\n",
      "Couldn't find chessboard in image\n",
      "Couldn't find chessboard in image\n",
      "Couldn't find chessboard in image\n",
      "Couldn't find chessboard in image\n",
      "Couldn't find chessboard in image\n",
      "Couldn't find chessboard in image\n",
      "Couldn't find chessboard in image\n",
      "Couldn't find chessboard in image\n",
      "Couldn't find chessboard in image\n"
     ]
    },
    {
     "name": "stderr",
     "output_type": "stream",
     "text": [
      " 96%|█████████▌| 21789/22732.0 [15:05<00:12, 74.15it/s]"
     ]
    },
    {
     "name": "stdout",
     "output_type": "stream",
     "text": [
      "Couldn't find chessboard in image\n",
      "Couldn't find chessboard in image\n",
      "Couldn't find chessboard in image\n",
      "Couldn't find chessboard in image\n",
      "Couldn't find chessboard in image\n",
      "Couldn't find chessboard in image\n",
      "Couldn't find chessboard in image\n",
      "Couldn't find chessboard in image\n",
      "Couldn't find chessboard in image\n",
      "Couldn't find chessboard in image\n",
      "Couldn't find chessboard in image\n",
      "Couldn't find chessboard in image\n",
      "Couldn't find chessboard in image\n",
      "Couldn't find chessboard in image\n",
      "Couldn't find chessboard in image\n"
     ]
    },
    {
     "name": "stderr",
     "output_type": "stream",
     "text": [
      " 96%|█████████▌| 21805/22732.0 [15:06<00:12, 74.07it/s]"
     ]
    },
    {
     "name": "stdout",
     "output_type": "stream",
     "text": [
      "Couldn't find chessboard in image\n",
      "Couldn't find chessboard in image\n",
      "Couldn't find chessboard in image\n",
      "Couldn't find chessboard in image\n",
      "Couldn't find chessboard in image\n",
      "Couldn't find chessboard in image\n",
      "Couldn't find chessboard in image\n",
      "Couldn't find chessboard in image\n",
      "Couldn't find chessboard in image\n",
      "Couldn't find chessboard in image\n",
      "Couldn't find chessboard in image\n",
      "Couldn't find chessboard in image\n",
      "Couldn't find chessboard in image\n",
      "Couldn't find chessboard in image\n",
      "Couldn't find chessboard in image\n"
     ]
    },
    {
     "name": "stderr",
     "output_type": "stream",
     "text": [
      " 96%|█████████▌| 21821/22732.0 [15:06<00:12, 74.00it/s]"
     ]
    },
    {
     "name": "stdout",
     "output_type": "stream",
     "text": [
      "Couldn't find chessboard in image\n",
      "Couldn't find chessboard in image\n",
      "Couldn't find chessboard in image\n",
      "Couldn't find chessboard in image\n",
      "Couldn't find chessboard in image\n",
      "Couldn't find chessboard in image\n",
      "Couldn't find chessboard in image\n",
      "Couldn't find chessboard in image\n",
      "Couldn't find chessboard in image\n",
      "Couldn't find chessboard in image\n",
      "Couldn't find chessboard in image\n",
      "Couldn't find chessboard in image\n",
      "Couldn't find chessboard in image\n",
      "Couldn't find chessboard in image\n",
      "Couldn't find chessboard in image\n"
     ]
    },
    {
     "name": "stderr",
     "output_type": "stream",
     "text": [
      " 96%|█████████▌| 21837/22732.0 [15:06<00:12, 73.96it/s]"
     ]
    },
    {
     "name": "stdout",
     "output_type": "stream",
     "text": [
      "Couldn't find chessboard in image\n",
      "Couldn't find chessboard in image\n",
      "Couldn't find chessboard in image\n",
      "Couldn't find chessboard in image\n",
      "Couldn't find chessboard in image\n",
      "Couldn't find chessboard in image\n",
      "Couldn't find chessboard in image\n",
      "Couldn't find chessboard in image\n",
      "Couldn't find chessboard in image\n",
      "Couldn't find chessboard in image\n",
      "Couldn't find chessboard in image\n",
      "Couldn't find chessboard in image\n",
      "Couldn't find chessboard in image\n",
      "Couldn't find chessboard in image\n",
      "Couldn't find chessboard in image\n"
     ]
    },
    {
     "name": "stderr",
     "output_type": "stream",
     "text": [
      " 96%|█████████▌| 21853/22732.0 [15:06<00:11, 74.03it/s]"
     ]
    },
    {
     "name": "stdout",
     "output_type": "stream",
     "text": [
      "Couldn't find chessboard in image\n",
      "Couldn't find chessboard in image\n",
      "Couldn't find chessboard in image\n",
      "Couldn't find chessboard in image\n",
      "Couldn't find chessboard in image\n",
      "Couldn't find chessboard in image\n",
      "Couldn't find chessboard in image\n",
      "Couldn't find chessboard in image\n",
      "Couldn't find chessboard in image\n",
      "Couldn't find chessboard in image\n",
      "Couldn't find chessboard in image\n",
      "Couldn't find chessboard in image\n",
      "Couldn't find chessboard in image\n",
      "Couldn't find chessboard in image\n",
      "Couldn't find chessboard in image\n",
      "Couldn't find chessboard in image\n"
     ]
    },
    {
     "name": "stderr",
     "output_type": "stream",
     "text": [
      " 96%|█████████▌| 21869/22732.0 [15:06<00:11, 73.93it/s]"
     ]
    },
    {
     "name": "stdout",
     "output_type": "stream",
     "text": [
      "Couldn't find chessboard in image\n",
      "Couldn't find chessboard in image\n",
      "Couldn't find chessboard in image\n",
      "Couldn't find chessboard in image\n",
      "Couldn't find chessboard in image\n",
      "Couldn't find chessboard in image\n",
      "Couldn't find chessboard in image\n",
      "Couldn't find chessboard in image\n",
      "Couldn't find chessboard in image\n",
      "Couldn't find chessboard in image\n",
      "Couldn't find chessboard in image\n",
      "Couldn't find chessboard in image\n",
      "Couldn't find chessboard in image\n",
      "Couldn't find chessboard in image\n",
      "Couldn't find chessboard in image\n"
     ]
    },
    {
     "name": "stderr",
     "output_type": "stream",
     "text": [
      " 96%|█████████▌| 21877/22732.0 [15:07<00:11, 71.64it/s]"
     ]
    },
    {
     "name": "stdout",
     "output_type": "stream",
     "text": [
      "Couldn't find chessboard in image\n",
      "Couldn't find chessboard in image\n",
      "Couldn't find chessboard in image\n",
      "Couldn't find chessboard in image\n",
      "Couldn't find chessboard in image\n",
      "Couldn't find chessboard in image\n",
      "Couldn't find chessboard in image\n",
      "Couldn't find chessboard in image\n",
      "Couldn't find chessboard in image\n",
      "Couldn't find chessboard in image\n",
      "Couldn't find chessboard in image\n",
      "Couldn't find chessboard in image\n",
      "Couldn't find chessboard in image\n",
      "Couldn't find chessboard in image\n"
     ]
    },
    {
     "name": "stderr",
     "output_type": "stream",
     "text": [
      " 96%|█████████▋| 21893/22732.0 [15:07<00:11, 72.06it/s]"
     ]
    },
    {
     "name": "stdout",
     "output_type": "stream",
     "text": [
      "Couldn't find chessboard in image\n",
      "Couldn't find chessboard in image\n",
      "Couldn't find chessboard in image\n",
      "Couldn't find chessboard in image\n",
      "Couldn't find chessboard in image\n",
      "Couldn't find chessboard in image\n",
      "Couldn't find chessboard in image\n",
      "Couldn't find chessboard in image\n",
      "Couldn't find chessboard in image\n",
      "Couldn't find chessboard in image\n",
      "Couldn't find chessboard in image\n",
      "Couldn't find chessboard in image\n",
      "Couldn't find chessboard in image\n",
      "Couldn't find chessboard in image\n",
      "Couldn't find chessboard in image\n"
     ]
    },
    {
     "name": "stderr",
     "output_type": "stream",
     "text": [
      " 96%|█████████▋| 21909/22732.0 [15:07<00:11, 71.44it/s]"
     ]
    },
    {
     "name": "stdout",
     "output_type": "stream",
     "text": [
      "Couldn't find chessboard in image\n",
      "Couldn't find chessboard in image\n",
      "Couldn't find chessboard in image\n",
      "Couldn't find chessboard in image\n",
      "Couldn't find chessboard in image\n",
      "Couldn't find chessboard in image\n",
      "Couldn't find chessboard in image\n",
      "Couldn't find chessboard in image\n",
      "Couldn't find chessboard in image\n",
      "Couldn't find chessboard in image\n",
      "Couldn't find chessboard in image\n",
      "Couldn't find chessboard in image\n",
      "Couldn't find chessboard in image\n",
      "Couldn't find chessboard in image\n",
      "Couldn't find chessboard in image\n"
     ]
    },
    {
     "name": "stderr",
     "output_type": "stream",
     "text": [
      " 96%|█████████▋| 21925/22732.0 [15:07<00:11, 71.55it/s]"
     ]
    },
    {
     "name": "stdout",
     "output_type": "stream",
     "text": [
      "Couldn't find chessboard in image\n",
      "Couldn't find chessboard in image\n",
      "Couldn't find chessboard in image\n",
      "Couldn't find chessboard in image\n",
      "Couldn't find chessboard in image\n",
      "Couldn't find chessboard in image\n",
      "Couldn't find chessboard in image\n",
      "Couldn't find chessboard in image\n",
      "Couldn't find chessboard in image\n",
      "Couldn't find chessboard in image\n",
      "Couldn't find chessboard in image\n",
      "Couldn't find chessboard in image\n",
      "Couldn't find chessboard in image\n",
      "Couldn't find chessboard in image\n",
      "Couldn't find chessboard in image\n"
     ]
    },
    {
     "name": "stderr",
     "output_type": "stream",
     "text": [
      " 97%|█████████▋| 21941/22732.0 [15:07<00:11, 70.91it/s]"
     ]
    },
    {
     "name": "stdout",
     "output_type": "stream",
     "text": [
      "Couldn't find chessboard in image\n",
      "Couldn't find chessboard in image\n",
      "Couldn't find chessboard in image\n",
      "Couldn't find chessboard in image\n",
      "Couldn't find chessboard in image\n",
      "Couldn't find chessboard in image\n",
      "Couldn't find chessboard in image\n",
      "Couldn't find chessboard in image\n",
      "Couldn't find chessboard in image\n",
      "Couldn't find chessboard in image\n",
      "Couldn't find chessboard in image\n",
      "Couldn't find chessboard in image\n",
      "Couldn't find chessboard in image\n",
      "Couldn't find chessboard in image\n"
     ]
    },
    {
     "name": "stderr",
     "output_type": "stream",
     "text": [
      " 97%|█████████▋| 21957/22732.0 [15:08<00:10, 71.45it/s]"
     ]
    },
    {
     "name": "stdout",
     "output_type": "stream",
     "text": [
      "Couldn't find chessboard in image\n",
      "Couldn't find chessboard in image\n",
      "Couldn't find chessboard in image\n",
      "Couldn't find chessboard in image\n",
      "Couldn't find chessboard in image\n",
      "Couldn't find chessboard in image\n",
      "Couldn't find chessboard in image\n",
      "Couldn't find chessboard in image\n",
      "Couldn't find chessboard in image\n",
      "Couldn't find chessboard in image\n",
      "Couldn't find chessboard in image\n",
      "Couldn't find chessboard in image\n",
      "Couldn't find chessboard in image\n",
      "Couldn't find chessboard in image\n",
      "Couldn't find chessboard in image\n"
     ]
    },
    {
     "name": "stderr",
     "output_type": "stream",
     "text": [
      " 97%|█████████▋| 21965/22732.0 [15:08<00:10, 71.51it/s]"
     ]
    },
    {
     "name": "stdout",
     "output_type": "stream",
     "text": [
      "Couldn't find chessboard in image\n",
      "Couldn't find chessboard in image\n",
      "Couldn't find chessboard in image\n",
      "Couldn't find chessboard in image\n",
      "Couldn't find chessboard in image\n",
      "Couldn't find chessboard in image\n",
      "Couldn't find chessboard in image\n",
      "Couldn't find chessboard in image\n",
      "Couldn't find chessboard in image\n",
      "Couldn't find chessboard in image\n",
      "Couldn't find chessboard in image\n",
      "Couldn't find chessboard in image\n",
      "Couldn't find chessboard in image\n",
      "Couldn't find chessboard in image\n",
      "Couldn't find chessboard in image\n"
     ]
    },
    {
     "name": "stderr",
     "output_type": "stream",
     "text": [
      " 97%|█████████▋| 21981/22732.0 [15:08<00:10, 71.03it/s]"
     ]
    },
    {
     "name": "stdout",
     "output_type": "stream",
     "text": [
      "Couldn't find chessboard in image\n",
      "Couldn't find chessboard in image\n",
      "Couldn't find chessboard in image\n",
      "Couldn't find chessboard in image\n",
      "Couldn't find chessboard in image\n",
      "Couldn't find chessboard in image\n",
      "Couldn't find chessboard in image\n",
      "Couldn't find chessboard in image\n",
      "Couldn't find chessboard in image\n",
      "Couldn't find chessboard in image\n",
      "Couldn't find chessboard in image\n",
      "Couldn't find chessboard in image\n",
      "Couldn't find chessboard in image\n",
      "Couldn't find chessboard in image\n",
      "Couldn't find chessboard in image\n"
     ]
    },
    {
     "name": "stderr",
     "output_type": "stream",
     "text": [
      " 97%|█████████▋| 21997/22732.0 [15:08<00:10, 71.71it/s]"
     ]
    },
    {
     "name": "stdout",
     "output_type": "stream",
     "text": [
      "Couldn't find chessboard in image\n",
      "Couldn't find chessboard in image\n",
      "Couldn't find chessboard in image\n",
      "Couldn't find chessboard in image\n",
      "Couldn't find chessboard in image\n",
      "Couldn't find chessboard in image\n",
      "Couldn't find chessboard in image\n",
      "Couldn't find chessboard in image\n",
      "Couldn't find chessboard in image\n",
      "Couldn't find chessboard in image\n",
      "Couldn't find chessboard in image\n",
      "Couldn't find chessboard in image\n",
      "Couldn't find chessboard in image\n",
      "Couldn't find chessboard in image\n",
      "Couldn't find chessboard in image\n"
     ]
    },
    {
     "name": "stderr",
     "output_type": "stream",
     "text": [
      " 97%|█████████▋| 22013/22732.0 [15:08<00:09, 72.67it/s]"
     ]
    },
    {
     "name": "stdout",
     "output_type": "stream",
     "text": [
      "Couldn't find chessboard in image\n",
      "Couldn't find chessboard in image\n",
      "Couldn't find chessboard in image\n",
      "Couldn't find chessboard in image\n",
      "Couldn't find chessboard in image\n",
      "Couldn't find chessboard in image\n",
      "Couldn't find chessboard in image\n",
      "Couldn't find chessboard in image\n",
      "Couldn't find chessboard in image\n",
      "Couldn't find chessboard in image\n",
      "Couldn't find chessboard in image\n",
      "Couldn't find chessboard in image\n",
      "Couldn't find chessboard in image\n",
      "Couldn't find chessboard in image\n",
      "Couldn't find chessboard in image\n"
     ]
    },
    {
     "name": "stderr",
     "output_type": "stream",
     "text": [
      " 97%|█████████▋| 22029/22732.0 [15:09<00:09, 73.45it/s]"
     ]
    },
    {
     "name": "stdout",
     "output_type": "stream",
     "text": [
      "Couldn't find chessboard in image\n",
      "Couldn't find chessboard in image\n",
      "Couldn't find chessboard in image\n",
      "Couldn't find chessboard in image\n",
      "Couldn't find chessboard in image\n",
      "Couldn't find chessboard in image\n",
      "Couldn't find chessboard in image\n",
      "Couldn't find chessboard in image\n",
      "Couldn't find chessboard in image\n",
      "Couldn't find chessboard in image\n",
      "Couldn't find chessboard in image\n",
      "Couldn't find chessboard in image\n",
      "Couldn't find chessboard in image\n",
      "Couldn't find chessboard in image\n",
      "Couldn't find chessboard in image\n"
     ]
    },
    {
     "name": "stderr",
     "output_type": "stream",
     "text": [
      " 97%|█████████▋| 22045/22732.0 [15:09<00:09, 73.80it/s]"
     ]
    },
    {
     "name": "stdout",
     "output_type": "stream",
     "text": [
      "Couldn't find chessboard in image\n",
      "Couldn't find chessboard in image\n",
      "Couldn't find chessboard in image\n",
      "Couldn't find chessboard in image\n",
      "Couldn't find chessboard in image\n",
      "Couldn't find chessboard in image\n",
      "Couldn't find chessboard in image\n",
      "Couldn't find chessboard in image\n",
      "Couldn't find chessboard in image\n",
      "Couldn't find chessboard in image\n",
      "Couldn't find chessboard in image\n",
      "Couldn't find chessboard in image\n",
      "Couldn't find chessboard in image\n",
      "Couldn't find chessboard in image\n",
      "Couldn't find chessboard in image\n"
     ]
    },
    {
     "name": "stderr",
     "output_type": "stream",
     "text": [
      " 97%|█████████▋| 22061/22732.0 [15:09<00:09, 73.94it/s]"
     ]
    },
    {
     "name": "stdout",
     "output_type": "stream",
     "text": [
      "Couldn't find chessboard in image\n",
      "Couldn't find chessboard in image\n",
      "Couldn't find chessboard in image\n",
      "Couldn't find chessboard in image\n",
      "Couldn't find chessboard in image\n",
      "Couldn't find chessboard in image\n",
      "Couldn't find chessboard in image\n",
      "Couldn't find chessboard in image\n",
      "Couldn't find chessboard in image\n",
      "Couldn't find chessboard in image\n",
      "Couldn't find chessboard in image\n",
      "Couldn't find chessboard in image\n",
      "Couldn't find chessboard in image\n",
      "Couldn't find chessboard in image\n",
      "Couldn't find chessboard in image\n",
      "Couldn't find chessboard in image\n"
     ]
    },
    {
     "name": "stderr",
     "output_type": "stream",
     "text": [
      " 97%|█████████▋| 22077/22732.0 [15:09<00:08, 74.12it/s]"
     ]
    },
    {
     "name": "stdout",
     "output_type": "stream",
     "text": [
      "Couldn't find chessboard in image\n",
      "Couldn't find chessboard in image\n",
      "Couldn't find chessboard in image\n",
      "Couldn't find chessboard in image\n",
      "Couldn't find chessboard in image\n",
      "Couldn't find chessboard in image\n",
      "Couldn't find chessboard in image\n",
      "Couldn't find chessboard in image\n",
      "Couldn't find chessboard in image\n",
      "Couldn't find chessboard in image\n",
      "Couldn't find chessboard in image\n",
      "Couldn't find chessboard in image\n",
      "Couldn't find chessboard in image\n",
      "Couldn't find chessboard in image\n",
      "Couldn't find chessboard in image\n"
     ]
    },
    {
     "name": "stderr",
     "output_type": "stream",
     "text": [
      " 97%|█████████▋| 22093/22732.0 [15:10<00:08, 74.16it/s]"
     ]
    },
    {
     "name": "stdout",
     "output_type": "stream",
     "text": [
      "Couldn't find chessboard in image\n",
      "Couldn't find chessboard in image\n",
      "Couldn't find chessboard in image\n",
      "Couldn't find chessboard in image\n",
      "Couldn't find chessboard in image\n",
      "Couldn't find chessboard in image\n",
      "Couldn't find chessboard in image\n",
      "Couldn't find chessboard in image\n",
      "Couldn't find chessboard in image\n",
      "Couldn't find chessboard in image\n",
      "Couldn't find chessboard in image\n",
      "Couldn't find chessboard in image\n",
      "Couldn't find chessboard in image\n",
      "Couldn't find chessboard in image\n",
      "Couldn't find chessboard in image\n",
      "Couldn't find chessboard in image\n"
     ]
    },
    {
     "name": "stderr",
     "output_type": "stream",
     "text": [
      " 97%|█████████▋| 22109/22732.0 [15:10<00:08, 74.29it/s]"
     ]
    },
    {
     "name": "stdout",
     "output_type": "stream",
     "text": [
      "Couldn't find chessboard in image\n",
      "Couldn't find chessboard in image\n",
      "Couldn't find chessboard in image\n",
      "Couldn't find chessboard in image\n",
      "Couldn't find chessboard in image\n",
      "Couldn't find chessboard in image\n",
      "Couldn't find chessboard in image\n",
      "Couldn't find chessboard in image\n",
      "Couldn't find chessboard in image\n",
      "Couldn't find chessboard in image\n",
      "Couldn't find chessboard in image\n",
      "Couldn't find chessboard in image\n",
      "Couldn't find chessboard in image\n",
      "Couldn't find chessboard in image\n",
      "Couldn't find chessboard in image\n",
      "Couldn't find chessboard in image\n"
     ]
    },
    {
     "name": "stderr",
     "output_type": "stream",
     "text": [
      " 97%|█████████▋| 22125/22732.0 [15:10<00:08, 74.23it/s]"
     ]
    },
    {
     "name": "stdout",
     "output_type": "stream",
     "text": [
      "Couldn't find chessboard in image\n",
      "Couldn't find chessboard in image\n",
      "Couldn't find chessboard in image\n",
      "Couldn't find chessboard in image\n",
      "Couldn't find chessboard in image\n",
      "Couldn't find chessboard in image\n",
      "Couldn't find chessboard in image\n",
      "Couldn't find chessboard in image\n",
      "Couldn't find chessboard in image\n",
      "Couldn't find chessboard in image\n",
      "Couldn't find chessboard in image\n",
      "Couldn't find chessboard in image\n",
      "Couldn't find chessboard in image\n",
      "Couldn't find chessboard in image\n",
      "Couldn't find chessboard in image\n"
     ]
    },
    {
     "name": "stderr",
     "output_type": "stream",
     "text": [
      " 97%|█████████▋| 22133/22732.0 [15:10<00:08, 73.97it/s]"
     ]
    },
    {
     "name": "stdout",
     "output_type": "stream",
     "text": [
      "Couldn't find chessboard in image\n",
      "Couldn't find chessboard in image\n",
      "Couldn't find chessboard in image\n",
      "Couldn't find chessboard in image\n",
      "Couldn't find chessboard in image\n",
      "Couldn't find chessboard in image\n",
      "Couldn't find chessboard in image\n",
      "Couldn't find chessboard in image\n",
      "Couldn't find chessboard in image\n",
      "Couldn't find chessboard in image\n",
      "Couldn't find chessboard in image\n",
      "Couldn't find chessboard in image\n",
      "Couldn't find chessboard in image\n",
      "Couldn't find chessboard in image\n",
      "Couldn't find chessboard in image\n"
     ]
    },
    {
     "name": "stderr",
     "output_type": "stream",
     "text": [
      " 97%|█████████▋| 22149/22732.0 [15:10<00:07, 73.94it/s]"
     ]
    },
    {
     "name": "stdout",
     "output_type": "stream",
     "text": [
      "Couldn't find chessboard in image\n",
      "Couldn't find chessboard in image\n",
      "Couldn't find chessboard in image\n",
      "Couldn't find chessboard in image\n",
      "Couldn't find chessboard in image\n",
      "Couldn't find chessboard in image\n",
      "Couldn't find chessboard in image\n",
      "Couldn't find chessboard in image\n",
      "Couldn't find chessboard in image\n",
      "Couldn't find chessboard in image\n",
      "Couldn't find chessboard in image\n",
      "Couldn't find chessboard in image\n",
      "Couldn't find chessboard in image\n",
      "Couldn't find chessboard in image\n",
      "Couldn't find chessboard in image\n"
     ]
    },
    {
     "name": "stderr",
     "output_type": "stream",
     "text": [
      " 98%|█████████▊| 22165/22732.0 [15:11<00:07, 74.07it/s]"
     ]
    },
    {
     "name": "stdout",
     "output_type": "stream",
     "text": [
      "Couldn't find chessboard in image\n",
      "Couldn't find chessboard in image\n",
      "Couldn't find chessboard in image\n",
      "Couldn't find chessboard in image\n",
      "Couldn't find chessboard in image\n",
      "Couldn't find chessboard in image\n",
      "Couldn't find chessboard in image\n",
      "Couldn't find chessboard in image\n",
      "Couldn't find chessboard in image\n",
      "Couldn't find chessboard in image\n",
      "Couldn't find chessboard in image\n",
      "Couldn't find chessboard in image\n",
      "Couldn't find chessboard in image\n",
      "Couldn't find chessboard in image\n",
      "Couldn't find chessboard in image\n"
     ]
    },
    {
     "name": "stderr",
     "output_type": "stream",
     "text": [
      " 98%|█████████▊| 22181/22732.0 [15:11<00:07, 73.87it/s]"
     ]
    },
    {
     "name": "stdout",
     "output_type": "stream",
     "text": [
      "Couldn't find chessboard in image\n",
      "Couldn't find chessboard in image\n",
      "Couldn't find chessboard in image\n",
      "Couldn't find chessboard in image\n",
      "Couldn't find chessboard in image\n",
      "Couldn't find chessboard in image\n",
      "Couldn't find chessboard in image\n",
      "Couldn't find chessboard in image\n",
      "Couldn't find chessboard in image\n",
      "Couldn't find chessboard in image\n",
      "Couldn't find chessboard in image\n",
      "Couldn't find chessboard in image\n",
      "Couldn't find chessboard in image\n",
      "Couldn't find chessboard in image\n",
      "Couldn't find chessboard in image\n"
     ]
    },
    {
     "name": "stderr",
     "output_type": "stream",
     "text": [
      " 98%|█████████▊| 22197/22732.0 [15:11<00:07, 73.74it/s]"
     ]
    },
    {
     "name": "stdout",
     "output_type": "stream",
     "text": [
      "Couldn't find chessboard in image\n",
      "Couldn't find chessboard in image\n",
      "Couldn't find chessboard in image\n",
      "Couldn't find chessboard in image\n",
      "Couldn't find chessboard in image\n",
      "Couldn't find chessboard in image\n",
      "Couldn't find chessboard in image\n",
      "Couldn't find chessboard in image\n",
      "Couldn't find chessboard in image\n",
      "Couldn't find chessboard in image\n",
      "Couldn't find chessboard in image\n",
      "Couldn't find chessboard in image\n",
      "Couldn't find chessboard in image\n",
      "Couldn't find chessboard in image\n",
      "Couldn't find chessboard in image\n"
     ]
    },
    {
     "name": "stderr",
     "output_type": "stream",
     "text": [
      " 98%|█████████▊| 22213/22732.0 [15:11<00:07, 73.87it/s]"
     ]
    },
    {
     "name": "stdout",
     "output_type": "stream",
     "text": [
      "Couldn't find chessboard in image\n",
      "Couldn't find chessboard in image\n",
      "Couldn't find chessboard in image\n",
      "Couldn't find chessboard in image\n",
      "Couldn't find chessboard in image\n",
      "Couldn't find chessboard in image\n",
      "Couldn't find chessboard in image\n",
      "Couldn't find chessboard in image\n",
      "Couldn't find chessboard in image\n",
      "Couldn't find chessboard in image\n",
      "Couldn't find chessboard in image\n",
      "Couldn't find chessboard in image\n",
      "Couldn't find chessboard in image\n",
      "Couldn't find chessboard in image\n",
      "Couldn't find chessboard in image\n"
     ]
    },
    {
     "name": "stderr",
     "output_type": "stream",
     "text": [
      " 98%|█████████▊| 22229/22732.0 [15:11<00:06, 73.89it/s]"
     ]
    },
    {
     "name": "stdout",
     "output_type": "stream",
     "text": [
      "Couldn't find chessboard in image\n",
      "Couldn't find chessboard in image\n",
      "Couldn't find chessboard in image\n",
      "Couldn't find chessboard in image\n",
      "Couldn't find chessboard in image\n",
      "Couldn't find chessboard in image\n",
      "Couldn't find chessboard in image\n",
      "Couldn't find chessboard in image\n",
      "Couldn't find chessboard in image\n",
      "Couldn't find chessboard in image\n",
      "Couldn't find chessboard in image\n",
      "Couldn't find chessboard in image\n",
      "Couldn't find chessboard in image\n",
      "Couldn't find chessboard in image\n",
      "Couldn't find chessboard in image\n"
     ]
    },
    {
     "name": "stderr",
     "output_type": "stream",
     "text": [
      " 98%|█████████▊| 22245/22732.0 [15:12<00:06, 73.73it/s]"
     ]
    },
    {
     "name": "stdout",
     "output_type": "stream",
     "text": [
      "Couldn't find chessboard in image\n",
      "Couldn't find chessboard in image\n",
      "Couldn't find chessboard in image\n",
      "Couldn't find chessboard in image\n",
      "Couldn't find chessboard in image\n",
      "Couldn't find chessboard in image\n",
      "Couldn't find chessboard in image\n",
      "Couldn't find chessboard in image\n",
      "Couldn't find chessboard in image\n",
      "Couldn't find chessboard in image\n",
      "Couldn't find chessboard in image\n",
      "Couldn't find chessboard in image\n",
      "Couldn't find chessboard in image\n",
      "Couldn't find chessboard in image\n",
      "Couldn't find chessboard in image\n"
     ]
    },
    {
     "name": "stderr",
     "output_type": "stream",
     "text": [
      " 98%|█████████▊| 22253/22732.0 [15:12<00:06, 73.56it/s]"
     ]
    },
    {
     "name": "stdout",
     "output_type": "stream",
     "text": [
      "Couldn't find chessboard in image\n",
      "Couldn't find chessboard in image\n",
      "Couldn't find chessboard in image\n",
      "Couldn't find chessboard in image\n",
      "Couldn't find chessboard in image\n",
      "Couldn't find chessboard in image\n",
      "Couldn't find chessboard in image\n",
      "Couldn't find chessboard in image\n",
      "Couldn't find chessboard in image\n",
      "Couldn't find chessboard in image\n",
      "Couldn't find chessboard in image\n",
      "Couldn't find chessboard in image\n",
      "Couldn't find chessboard in image\n",
      "Couldn't find chessboard in image\n",
      "Couldn't find chessboard in image\n"
     ]
    },
    {
     "name": "stderr",
     "output_type": "stream",
     "text": [
      " 98%|█████████▊| 22269/22732.0 [15:12<00:06, 73.61it/s]"
     ]
    },
    {
     "name": "stdout",
     "output_type": "stream",
     "text": [
      "Couldn't find chessboard in image\n",
      "Couldn't find chessboard in image\n",
      "Couldn't find chessboard in image\n",
      "Couldn't find chessboard in image\n",
      "Couldn't find chessboard in image\n",
      "Couldn't find chessboard in image\n",
      "Couldn't find chessboard in image\n",
      "Couldn't find chessboard in image\n",
      "Couldn't find chessboard in image\n",
      "Couldn't find chessboard in image\n",
      "Couldn't find chessboard in image\n",
      "Couldn't find chessboard in image\n",
      "Couldn't find chessboard in image\n",
      "Couldn't find chessboard in image\n",
      "Couldn't find chessboard in image\n"
     ]
    },
    {
     "name": "stderr",
     "output_type": "stream",
     "text": [
      " 98%|█████████▊| 22285/22732.0 [15:12<00:06, 73.23it/s]"
     ]
    },
    {
     "name": "stdout",
     "output_type": "stream",
     "text": [
      "Couldn't find chessboard in image\n",
      "Couldn't find chessboard in image\n",
      "Couldn't find chessboard in image\n",
      "Couldn't find chessboard in image\n",
      "Couldn't find chessboard in image\n",
      "Couldn't find chessboard in image\n",
      "Couldn't find chessboard in image\n",
      "Couldn't find chessboard in image\n",
      "Couldn't find chessboard in image\n",
      "Couldn't find chessboard in image\n",
      "Couldn't find chessboard in image\n",
      "Couldn't find chessboard in image\n",
      "Couldn't find chessboard in image\n",
      "Couldn't find chessboard in image\n",
      "Couldn't find chessboard in image\n"
     ]
    },
    {
     "name": "stderr",
     "output_type": "stream",
     "text": [
      " 98%|█████████▊| 22301/22732.0 [15:12<00:05, 72.76it/s]"
     ]
    },
    {
     "name": "stdout",
     "output_type": "stream",
     "text": [
      "Couldn't find chessboard in image\n",
      "Couldn't find chessboard in image\n",
      "Couldn't find chessboard in image\n",
      "Couldn't find chessboard in image\n",
      "Couldn't find chessboard in image\n",
      "Couldn't find chessboard in image\n",
      "Couldn't find chessboard in image\n",
      "Couldn't find chessboard in image\n",
      "Couldn't find chessboard in image\n",
      "Couldn't find chessboard in image\n",
      "Couldn't find chessboard in image\n",
      "Couldn't find chessboard in image\n",
      "Couldn't find chessboard in image\n",
      "Couldn't find chessboard in image\n",
      "Couldn't find chessboard in image\n"
     ]
    },
    {
     "name": "stderr",
     "output_type": "stream",
     "text": [
      " 98%|█████████▊| 22317/22732.0 [15:13<00:05, 72.71it/s]"
     ]
    },
    {
     "name": "stdout",
     "output_type": "stream",
     "text": [
      "Couldn't find chessboard in image\n",
      "Couldn't find chessboard in image\n",
      "Couldn't find chessboard in image\n",
      "Couldn't find chessboard in image\n",
      "Couldn't find chessboard in image\n",
      "Couldn't find chessboard in image\n",
      "Couldn't find chessboard in image\n",
      "Couldn't find chessboard in image\n",
      "Couldn't find chessboard in image\n",
      "Couldn't find chessboard in image\n",
      "Couldn't find chessboard in image\n",
      "Couldn't find chessboard in image\n",
      "Couldn't find chessboard in image\n",
      "Couldn't find chessboard in image\n",
      "Couldn't find chessboard in image\n"
     ]
    },
    {
     "name": "stderr",
     "output_type": "stream",
     "text": [
      " 98%|█████████▊| 22333/22732.0 [15:13<00:05, 72.19it/s]"
     ]
    },
    {
     "name": "stdout",
     "output_type": "stream",
     "text": [
      "Couldn't find chessboard in image\n",
      "Couldn't find chessboard in image\n",
      "Couldn't find chessboard in image\n",
      "Couldn't find chessboard in image\n",
      "Couldn't find chessboard in image\n",
      "Couldn't find chessboard in image\n",
      "Couldn't find chessboard in image\n",
      "Couldn't find chessboard in image\n",
      "Couldn't find chessboard in image\n",
      "Couldn't find chessboard in image\n",
      "Couldn't find chessboard in image\n",
      "Couldn't find chessboard in image\n",
      "Couldn't find chessboard in image\n",
      "Couldn't find chessboard in image\n",
      "Couldn't find chessboard in image\n"
     ]
    },
    {
     "name": "stderr",
     "output_type": "stream",
     "text": [
      " 98%|█████████▊| 22358/22732.0 [15:13<00:03, 98.96it/s]"
     ]
    },
    {
     "name": "stdout",
     "output_type": "stream",
     "text": [
      "Couldn't find chessboard in image\n",
      "Couldn't find chessboard in image\n",
      "Couldn't find chessboard in image\n",
      "Couldn't find chessboard in image\n",
      "Couldn't find chessboard in image\n",
      "Couldn't find chessboard in image\n",
      "Couldn't find chessboard in image\n",
      "Couldn't find chessboard in image\n",
      "Couldn't find chessboard in image\n",
      "Couldn't find chessboard in image\n",
      "Couldn't find chessboard in image\n",
      "Couldn't find chessboard in image\n",
      "Couldn't find chessboard in image\n",
      "Couldn't find chessboard in image\n",
      "Couldn't find chessboard in image\n",
      "Couldn't find chessboard in image\n",
      "Couldn't find chessboard in image\n",
      "Couldn't find chessboard in image\n",
      "Couldn't find chessboard in image\n",
      "Couldn't find chessboard in image\n",
      "Couldn't find chessboard in image\n",
      "Couldn't find chessboard in image\n",
      "Couldn't find chessboard in image\n",
      "Couldn't find chessboard in image\n",
      "Couldn't find chessboard in image\n",
      "Couldn't find chessboard in image\n",
      "Couldn't find chessboard in image\n"
     ]
    },
    {
     "name": "stderr",
     "output_type": "stream",
     "text": [
      " 98%|█████████▊| 22391/22732.0 [15:13<00:02, 129.12it/s]"
     ]
    },
    {
     "name": "stdout",
     "output_type": "stream",
     "text": [
      "Couldn't find chessboard in image\n",
      "Couldn't find chessboard in image\n",
      "Couldn't find chessboard in image\n",
      "Couldn't find chessboard in image\n",
      "Couldn't find chessboard in image\n",
      "Couldn't find chessboard in image\n",
      "Couldn't find chessboard in image\n",
      "Couldn't find chessboard in image\n",
      "Couldn't find chessboard in image\n",
      "Couldn't find chessboard in image\n",
      "Couldn't find chessboard in image\n",
      "Couldn't find chessboard in image\n",
      "Couldn't find chessboard in image\n",
      "Couldn't find chessboard in image\n",
      "Couldn't find chessboard in image\n",
      "Couldn't find chessboard in image\n",
      "Couldn't find chessboard in image\n",
      "Couldn't find chessboard in image\n",
      "Couldn't find chessboard in image\n",
      "Couldn't find chessboard in image\n",
      "Couldn't find chessboard in image\n",
      "Couldn't find chessboard in image\n",
      "Couldn't find chessboard in image\n",
      "Couldn't find chessboard in image\n",
      "Couldn't find chessboard in image\n",
      "Couldn't find chessboard in image\n",
      "Couldn't find chessboard in image\n",
      "Couldn't find chessboard in image\n",
      "Couldn't find chessboard in image\n",
      "Couldn't find chessboard in image\n",
      "Couldn't find chessboard in image\n",
      "Couldn't find chessboard in image\n",
      "Couldn't find chessboard in image\n"
     ]
    },
    {
     "name": "stderr",
     "output_type": "stream",
     "text": [
      " 99%|█████████▊| 22422/22732.0 [15:13<00:02, 139.46it/s]"
     ]
    },
    {
     "name": "stdout",
     "output_type": "stream",
     "text": [
      "Couldn't find chessboard in image\n",
      "Couldn't find chessboard in image\n",
      "Couldn't find chessboard in image\n",
      "Couldn't find chessboard in image\n",
      "Couldn't find chessboard in image\n",
      "Couldn't find chessboard in image\n",
      "Couldn't find chessboard in image\n",
      "Couldn't find chessboard in image\n",
      "Couldn't find chessboard in image\n",
      "Couldn't find chessboard in image\n",
      "Couldn't find chessboard in image\n",
      "Couldn't find chessboard in image\n",
      "Couldn't find chessboard in image\n",
      "Couldn't find chessboard in image\n",
      "Couldn't find chessboard in image\n",
      "Couldn't find chessboard in image\n",
      "Couldn't find chessboard in image\n",
      "Couldn't find chessboard in image\n",
      "Couldn't find chessboard in image\n",
      "Couldn't find chessboard in image\n",
      "Couldn't find chessboard in image\n",
      "Couldn't find chessboard in image\n",
      "Couldn't find chessboard in image\n",
      "Couldn't find chessboard in image\n",
      "Couldn't find chessboard in image\n",
      "Couldn't find chessboard in image\n",
      "Couldn't find chessboard in image\n",
      "Couldn't find chessboard in image\n",
      "Couldn't find chessboard in image\n",
      "Couldn't find chessboard in image\n"
     ]
    },
    {
     "name": "stderr",
     "output_type": "stream",
     "text": [
      " 99%|█████████▉| 22452/22732.0 [15:14<00:02, 139.46it/s]"
     ]
    },
    {
     "name": "stdout",
     "output_type": "stream",
     "text": [
      "Couldn't find chessboard in image\n",
      "Couldn't find chessboard in image\n",
      "Couldn't find chessboard in image\n",
      "Couldn't find chessboard in image\n",
      "Couldn't find chessboard in image\n",
      "Couldn't find chessboard in image\n",
      "Couldn't find chessboard in image\n",
      "Couldn't find chessboard in image\n",
      "Couldn't find chessboard in image\n",
      "Couldn't find chessboard in image\n",
      "Couldn't find chessboard in image\n",
      "Couldn't find chessboard in image\n",
      "Couldn't find chessboard in image\n",
      "Couldn't find chessboard in image\n",
      "Couldn't find chessboard in image\n",
      "Couldn't find chessboard in image\n",
      "Couldn't find chessboard in image\n",
      "Couldn't find chessboard in image\n",
      "Couldn't find chessboard in image\n",
      "Couldn't find chessboard in image\n",
      "Couldn't find chessboard in image\n",
      "Couldn't find chessboard in image\n",
      "Couldn't find chessboard in image\n",
      "Couldn't find chessboard in image\n",
      "Couldn't find chessboard in image\n",
      "Couldn't find chessboard in image\n",
      "Couldn't find chessboard in image\n",
      "Couldn't find chessboard in image\n"
     ]
    },
    {
     "name": "stderr",
     "output_type": "stream",
     "text": [
      " 99%|█████████▉| 22480/22732.0 [15:14<00:01, 135.93it/s]"
     ]
    },
    {
     "name": "stdout",
     "output_type": "stream",
     "text": [
      "Couldn't find chessboard in image\n",
      "Couldn't find chessboard in image\n",
      "Couldn't find chessboard in image\n",
      "Couldn't find chessboard in image\n",
      "Couldn't find chessboard in image\n",
      "Couldn't find chessboard in image\n",
      "Couldn't find chessboard in image\n",
      "Couldn't find chessboard in image\n",
      "Couldn't find chessboard in image\n",
      "Couldn't find chessboard in image\n",
      "Couldn't find chessboard in image\n",
      "Couldn't find chessboard in image\n",
      "Couldn't find chessboard in image\n",
      "Couldn't find chessboard in image\n",
      "Couldn't find chessboard in image\n",
      "Couldn't find chessboard in image\n",
      "Couldn't find chessboard in image\n",
      "Couldn't find chessboard in image\n",
      "Couldn't find chessboard in image\n",
      "Couldn't find chessboard in image\n",
      "Couldn't find chessboard in image\n",
      "Couldn't find chessboard in image\n",
      "Couldn't find chessboard in image\n",
      "Couldn't find chessboard in image\n",
      "Couldn't find chessboard in image\n",
      "Couldn't find chessboard in image\n",
      "Couldn't find chessboard in image\n"
     ]
    },
    {
     "name": "stderr",
     "output_type": "stream",
     "text": [
      " 99%|█████████▉| 22494/22732.0 [15:14<00:01, 134.98it/s]"
     ]
    },
    {
     "name": "stdout",
     "output_type": "stream",
     "text": [
      "Couldn't find chessboard in image\n",
      "Couldn't find chessboard in image\n",
      "Couldn't find chessboard in image\n",
      "Couldn't find chessboard in image\n",
      "Couldn't find chessboard in image\n",
      "Couldn't find chessboard in image\n",
      "Couldn't find chessboard in image\n",
      "Couldn't find chessboard in image\n",
      "Couldn't find chessboard in image\n",
      "Couldn't find chessboard in image\n",
      "Couldn't find chessboard in image\n",
      "Couldn't find chessboard in image\n",
      "Couldn't find chessboard in image\n",
      "Couldn't find chessboard in image\n",
      "Couldn't find chessboard in image\n",
      "Couldn't find chessboard in image\n",
      "Couldn't find chessboard in image\n",
      "Couldn't find chessboard in image\n",
      "Couldn't find chessboard in image\n",
      "Couldn't find chessboard in image\n",
      "Couldn't find chessboard in image\n",
      "Couldn't find chessboard in image\n",
      "Couldn't find chessboard in image\n",
      "Couldn't find chessboard in image\n",
      "Couldn't find chessboard in image\n",
      "Couldn't find chessboard in image\n",
      "Couldn't find chessboard in image\n"
     ]
    },
    {
     "name": "stderr",
     "output_type": "stream",
     "text": [
      " 99%|█████████▉| 22522/22732.0 [15:14<00:01, 134.90it/s]"
     ]
    },
    {
     "name": "stdout",
     "output_type": "stream",
     "text": [
      "Couldn't find chessboard in image\n",
      "Couldn't find chessboard in image\n",
      "Couldn't find chessboard in image\n",
      "Couldn't find chessboard in image\n",
      "Couldn't find chessboard in image\n",
      "Couldn't find chessboard in image\n",
      "Couldn't find chessboard in image\n",
      "Couldn't find chessboard in image\n",
      "Couldn't find chessboard in image\n",
      "Couldn't find chessboard in image\n",
      "Couldn't find chessboard in image\n",
      "Couldn't find chessboard in image\n",
      "Couldn't find chessboard in image\n",
      "Couldn't find chessboard in image\n",
      "Couldn't find chessboard in image\n",
      "Couldn't find chessboard in image\n",
      "Couldn't find chessboard in image\n",
      "Couldn't find chessboard in image\n",
      "Couldn't find chessboard in image\n",
      "Couldn't find chessboard in image\n",
      "Couldn't find chessboard in image\n",
      "Couldn't find chessboard in image\n",
      "Couldn't find chessboard in image\n",
      "Couldn't find chessboard in image\n",
      "Couldn't find chessboard in image\n",
      "Couldn't find chessboard in image\n",
      "Couldn't find chessboard in image\n",
      "Couldn't find chessboard in image\n"
     ]
    },
    {
     "name": "stderr",
     "output_type": "stream",
     "text": [
      " 99%|█████████▉| 22550/22732.0 [15:14<00:01, 134.93it/s]"
     ]
    },
    {
     "name": "stdout",
     "output_type": "stream",
     "text": [
      "Couldn't find chessboard in image\n",
      "Couldn't find chessboard in image\n",
      "Couldn't find chessboard in image\n",
      "Couldn't find chessboard in image\n",
      "Couldn't find chessboard in image\n",
      "Couldn't find chessboard in image\n",
      "Couldn't find chessboard in image\n",
      "Couldn't find chessboard in image\n",
      "Couldn't find chessboard in image\n",
      "Couldn't find chessboard in image\n",
      "Couldn't find chessboard in image\n",
      "Couldn't find chessboard in image\n",
      "Couldn't find chessboard in image\n",
      "Couldn't find chessboard in image\n",
      "Couldn't find chessboard in image\n",
      "Couldn't find chessboard in image\n",
      "Couldn't find chessboard in image\n",
      "Couldn't find chessboard in image\n",
      "Couldn't find chessboard in image\n",
      "Couldn't find chessboard in image\n",
      "Couldn't find chessboard in image\n",
      "Couldn't find chessboard in image\n",
      "Couldn't find chessboard in image\n",
      "Couldn't find chessboard in image\n",
      "Couldn't find chessboard in image\n",
      "Couldn't find chessboard in image\n",
      "Couldn't find chessboard in image\n"
     ]
    },
    {
     "name": "stderr",
     "output_type": "stream",
     "text": [
      " 99%|█████████▉| 22578/22732.0 [15:15<00:01, 133.35it/s]"
     ]
    },
    {
     "name": "stdout",
     "output_type": "stream",
     "text": [
      "Couldn't find chessboard in image\n",
      "Couldn't find chessboard in image\n",
      "Couldn't find chessboard in image\n",
      "Couldn't find chessboard in image\n",
      "Couldn't find chessboard in image\n",
      "Couldn't find chessboard in image\n",
      "Couldn't find chessboard in image\n",
      "Couldn't find chessboard in image\n",
      "Couldn't find chessboard in image\n",
      "Couldn't find chessboard in image\n",
      "Couldn't find chessboard in image\n",
      "Couldn't find chessboard in image\n",
      "Couldn't find chessboard in image\n",
      "Couldn't find chessboard in image\n",
      "Couldn't find chessboard in image\n",
      "Couldn't find chessboard in image\n",
      "Couldn't find chessboard in image\n",
      "Couldn't find chessboard in image\n",
      "Couldn't find chessboard in image\n",
      "Couldn't find chessboard in image\n",
      "Couldn't find chessboard in image\n",
      "Couldn't find chessboard in image\n",
      "Couldn't find chessboard in image\n",
      "Couldn't find chessboard in image\n",
      "Couldn't find chessboard in image\n",
      "Couldn't find chessboard in image\n",
      "Couldn't find chessboard in image\n"
     ]
    },
    {
     "name": "stderr",
     "output_type": "stream",
     "text": [
      " 99%|█████████▉| 22606/22732.0 [15:15<00:00, 131.14it/s]"
     ]
    },
    {
     "name": "stdout",
     "output_type": "stream",
     "text": [
      "Couldn't find chessboard in image\n",
      "Couldn't find chessboard in image\n",
      "Couldn't find chessboard in image\n",
      "Couldn't find chessboard in image\n",
      "Couldn't find chessboard in image\n",
      "Couldn't find chessboard in image\n",
      "Couldn't find chessboard in image\n",
      "Couldn't find chessboard in image\n",
      "Couldn't find chessboard in image\n",
      "Couldn't find chessboard in image\n",
      "Couldn't find chessboard in image\n",
      "Couldn't find chessboard in image\n",
      "Couldn't find chessboard in image\n",
      "Couldn't find chessboard in image\n",
      "Couldn't find chessboard in image\n",
      "Couldn't find chessboard in image\n",
      "Couldn't find chessboard in image\n",
      "Couldn't find chessboard in image\n",
      "Couldn't find chessboard in image\n",
      "Couldn't find chessboard in image\n",
      "Couldn't find chessboard in image\n",
      "Couldn't find chessboard in image\n",
      "Couldn't find chessboard in image\n",
      "Couldn't find chessboard in image\n",
      "Couldn't find chessboard in image\n",
      "Couldn't find chessboard in image\n"
     ]
    },
    {
     "name": "stderr",
     "output_type": "stream",
     "text": [
      "100%|█████████▉| 22634/22732.0 [15:15<00:00, 130.70it/s]"
     ]
    },
    {
     "name": "stdout",
     "output_type": "stream",
     "text": [
      "Couldn't find chessboard in image\n",
      "Couldn't find chessboard in image\n",
      "Couldn't find chessboard in image\n",
      "Couldn't find chessboard in image\n",
      "Couldn't find chessboard in image\n",
      "Couldn't find chessboard in image\n",
      "Couldn't find chessboard in image\n",
      "Couldn't find chessboard in image\n",
      "Couldn't find chessboard in image\n",
      "Couldn't find chessboard in image\n",
      "Couldn't find chessboard in image\n",
      "Couldn't find chessboard in image\n",
      "Couldn't find chessboard in image\n",
      "Couldn't find chessboard in image\n",
      "Couldn't find chessboard in image\n",
      "Couldn't find chessboard in image\n",
      "Couldn't find chessboard in image\n",
      "Couldn't find chessboard in image\n",
      "Couldn't find chessboard in image\n",
      "Couldn't find chessboard in image\n",
      "Couldn't find chessboard in image\n",
      "Couldn't find chessboard in image\n",
      "Couldn't find chessboard in image\n",
      "Couldn't find chessboard in image\n",
      "Couldn't find chessboard in image\n",
      "Couldn't find chessboard in image\n"
     ]
    },
    {
     "name": "stderr",
     "output_type": "stream",
     "text": [
      "100%|█████████▉| 22662/22732.0 [15:15<00:00, 131.86it/s]"
     ]
    },
    {
     "name": "stdout",
     "output_type": "stream",
     "text": [
      "Couldn't find chessboard in image\n",
      "Couldn't find chessboard in image\n",
      "Couldn't find chessboard in image\n",
      "Couldn't find chessboard in image\n",
      "Couldn't find chessboard in image\n",
      "Couldn't find chessboard in image\n",
      "Couldn't find chessboard in image\n",
      "Couldn't find chessboard in image\n",
      "Couldn't find chessboard in image\n",
      "Couldn't find chessboard in image\n",
      "Couldn't find chessboard in image\n",
      "Couldn't find chessboard in image\n",
      "Couldn't find chessboard in image\n",
      "Couldn't find chessboard in image\n",
      "Couldn't find chessboard in image\n",
      "Couldn't find chessboard in image\n",
      "Couldn't find chessboard in image\n",
      "Couldn't find chessboard in image\n",
      "Couldn't find chessboard in image\n",
      "Couldn't find chessboard in image\n",
      "Couldn't find chessboard in image\n",
      "Couldn't find chessboard in image\n",
      "Couldn't find chessboard in image\n",
      "Couldn't find chessboard in image\n",
      "Couldn't find chessboard in image\n",
      "Couldn't find chessboard in image\n",
      "Couldn't find chessboard in image\n",
      "Couldn't find chessboard in image\n"
     ]
    },
    {
     "name": "stderr",
     "output_type": "stream",
     "text": [
      "100%|█████████▉| 22691/22732.0 [15:15<00:00, 136.97it/s]"
     ]
    },
    {
     "name": "stdout",
     "output_type": "stream",
     "text": [
      "Couldn't find chessboard in image\n",
      "Couldn't find chessboard in image\n",
      "Couldn't find chessboard in image\n",
      "Couldn't find chessboard in image\n",
      "Couldn't find chessboard in image\n",
      "Couldn't find chessboard in image\n",
      "Couldn't find chessboard in image\n",
      "Couldn't find chessboard in image\n",
      "Couldn't find chessboard in image\n",
      "Couldn't find chessboard in image\n",
      "Couldn't find chessboard in image\n",
      "Couldn't find chessboard in image\n",
      "Couldn't find chessboard in image\n",
      "Couldn't find chessboard in image\n",
      "Couldn't find chessboard in image\n",
      "Couldn't find chessboard in image\n",
      "Couldn't find chessboard in image\n",
      "Couldn't find chessboard in image\n",
      "Couldn't find chessboard in image\n",
      "Couldn't find chessboard in image\n",
      "Couldn't find chessboard in image\n",
      "Couldn't find chessboard in image\n",
      "Couldn't find chessboard in image\n",
      "Couldn't find chessboard in image\n",
      "Couldn't find chessboard in image\n",
      "Couldn't find chessboard in image\n",
      "Couldn't find chessboard in image\n",
      "Couldn't find chessboard in image\n",
      "Couldn't find chessboard in image\n",
      "Couldn't find chessboard in image\n"
     ]
    },
    {
     "name": "stderr",
     "output_type": "stream",
     "text": [
      "100%|█████████▉| 22731/22732.0 [15:16<00:00, 24.81it/s] "
     ]
    },
    {
     "name": "stdout",
     "output_type": "stream",
     "text": [
      "Couldn't find chessboard in image\n",
      "Couldn't find chessboard in image\n",
      "Couldn't find chessboard in image\n",
      "Couldn't find chessboard in image\n",
      "Couldn't find chessboard in image\n",
      "Couldn't find chessboard in image\n",
      "Couldn't find chessboard in image\n",
      "Couldn't find chessboard in image\n",
      "Couldn't find chessboard in image\n",
      "Couldn't find chessboard in image\n",
      "Couldn't find chessboard in image\n",
      "Couldn't find chessboard in image\n",
      "Couldn't find chessboard in image\n",
      "Couldn't find chessboard in image\n",
      "Couldn't find chessboard in image\n",
      "Couldn't find chessboard in image\n",
      "Couldn't find chessboard in image\n",
      "Couldn't find chessboard in image\n",
      "Couldn't find chessboard in image\n",
      "Couldn't find chessboard in image\n",
      "Couldn't find chessboard in image\n",
      "Couldn't find chessboard in image\n",
      "Couldn't find chessboard in image\n",
      "Couldn't find chessboard in image\n",
      "Couldn't find chessboard in image\n",
      "Couldn't find chessboard in image\n",
      "Couldn't find chessboard in image\n",
      "Couldn't find chessboard in image\n",
      "Couldn't find chessboard in image\n",
      "Couldn't find chessboard in image\n",
      "Couldn't find chessboard in image\n",
      "Couldn't find chessboard in image\n"
     ]
    },
    {
     "name": "stderr",
     "output_type": "stream",
     "text": [
      "\n",
      "2022-06-03 00:06:00.770 | INFO     | label_extract:compress_irl_video:146 - Compressing our output irl video\n"
     ]
    }
   ],
   "source": [
    "for v in label[\"video_name\"].unique():\n",
    "    print(f\"===== RUNNING FOR VIDEO {v} ===== \")\n",
    "\n",
    "    x = label.query(\"video_name == @v and category_id == 0\")[\"x\"].values[0]\n",
    "    y = label.query(\"video_name == @v and category_id == 0\")[\"y\"].values[0]\n",
    "    h = label.query(\"video_name == @v and category_id == 0\")[\"h\"].values[0]\n",
    "    w = label.query(\"video_name == @v and category_id == 0\")[\"w\"].values[0]\n",
    "\n",
    "    x2 = x + w\n",
    "    y2 = y + h\n",
    "\n",
    "    irl_x = label.query(\"video_name == @v and category_id == 1\")[\"x\"].values[0]\n",
    "    irl_y = label.query(\"video_name == @v and category_id == 1\")[\"y\"].values[0]\n",
    "    irl_h = label.query(\"video_name == @v and category_id == 1\")[\"h\"].values[0]\n",
    "    irl_w = label.query(\"video_name == @v and category_id == 1\")[\"w\"].values[0]\n",
    "\n",
    "    if irl_w % 2 == 1:\n",
    "        irl_w += 1\n",
    "    if irl_h % 2 == 1:\n",
    "        irl_h += 1\n",
    "\n",
    "    irl_x2 = irl_x + irl_w\n",
    "    irl_y2 = irl_y + irl_y\n",
    "\n",
    "    vbe = VideoBoardExtractor(\n",
    "        video_fn=f\"../data/CoffeeChess/{v}.mp4\",\n",
    "        at_first_gt_frame=True,\n",
    "        predict_fen=True,\n",
    "        store_gt_boards=False,\n",
    "        store_irl_boards=True,\n",
    "        store_irl_video=True,\n",
    "        save_img_freq=None,\n",
    "        gt_board_loc=[y, y2, x, x2],\n",
    "        irl_board_loc=[irl_y, irl_y2, irl_x, irl_x2],\n",
    "    )\n",
    "    vbe.load_videocap()\n",
    "    vbe.process_video(start_frame=0, stop_frame=-1)\n",
    "    break"
   ]
  },
  {
   "cell_type": "code",
   "execution_count": null,
   "id": "828081d8-0d8a-41fa-b67c-8c893c270066",
   "metadata": {},
   "outputs": [],
   "source": []
  }
 ],
 "metadata": {
  "kernelspec": {
   "display_name": "chessbot",
   "language": "python",
   "name": "chessbot"
  },
  "language_info": {
   "codemirror_mode": {
    "name": "ipython",
    "version": 3
   },
   "file_extension": ".py",
   "mimetype": "text/x-python",
   "name": "python",
   "nbconvert_exporter": "python",
   "pygments_lexer": "ipython3",
   "version": "3.7.11"
  }
 },
 "nbformat": 4,
 "nbformat_minor": 5
}

{
 "cells": [
  {
   "cell_type": "markdown",
   "id": "1b3cf82d-02ec-4f60-a4a6-4333000cc5eb",
   "metadata": {},
   "source": [
    "# Todo:\n",
    "\n",
    "1. Pull the first frame from every video where a IRL board exits."
   ]
  },
  {
   "cell_type": "code",
   "execution_count": 1,
   "id": "eccfc9ba-391d-411a-8e9f-b2029e0f579b",
   "metadata": {},
   "outputs": [],
   "source": [
    "from glob import glob\n",
    "import sys\n",
    "sys.path.append(\"../src/\")\n",
    "from label_extract import VideoBoardExtractor\n",
    "import matplotlib.pylab as plt\n",
    "%matplotlib inline"
   ]
  },
  {
   "cell_type": "code",
   "execution_count": 2,
   "id": "13cfd89a-6ea7-43ac-9f74-0e7eab858674",
   "metadata": {},
   "outputs": [],
   "source": [
    "vids = glob('../data/CoffeeChess/*.mp4')"
   ]
  },
  {
   "cell_type": "code",
   "execution_count": 3,
   "id": "4bdf50d9-6d18-4769-b038-9a6c5efd376a",
   "metadata": {},
   "outputs": [
    {
     "name": "stderr",
     "output_type": "stream",
     "text": [
      "1031it [00:05, 182.65it/s]\n",
      "1008it [00:06, 163.61it/s]\n",
      "1200it [00:06, 199.34it/s]\n",
      "645it [00:03, 186.53it/s]\n",
      "1228it [00:06, 200.55it/s]\n",
      "1007it [00:05, 191.96it/s]\n",
      "1279it [00:06, 198.81it/s]\n",
      "1036it [00:05, 192.11it/s]\n",
      "781it [00:04, 193.03it/s]\n",
      "630it [00:03, 193.41it/s]\n",
      "744it [00:03, 196.96it/s]\n",
      "618it [00:02, 208.55it/s]\n",
      "671it [00:03, 205.15it/s]\n",
      "1133it [00:05, 202.23it/s]\n",
      "825it [00:04, 187.83it/s]\n",
      "1325it [00:06, 198.94it/s]\n",
      "1385it [00:06, 207.88it/s]\n",
      "758it [00:03, 201.93it/s]\n",
      "766it [00:04, 187.23it/s]\n",
      "651it [00:03, 196.24it/s]\n",
      "592it [00:03, 189.47it/s]\n",
      "975it [00:04, 202.06it/s]\n",
      "791it [00:03, 199.26it/s]\n",
      "691it [00:03, 195.70it/s]\n",
      "1029it [00:05, 191.94it/s]\n",
      "692it [00:03, 196.32it/s]\n",
      "938it [00:04, 196.99it/s]\n",
      "1591it [00:07, 205.17it/s]\n",
      "810it [00:04, 200.87it/s]\n",
      "867it [00:04, 174.70it/s]\n",
      "1230it [00:06, 201.76it/s]\n",
      "693it [00:03, 187.08it/s]\n",
      "578it [00:02, 197.32it/s]\n",
      "607it [00:03, 193.04it/s]\n",
      "592it [00:03, 191.88it/s]\n",
      "654it [00:03, 192.45it/s]\n",
      "920it [00:04, 215.11it/s]\n",
      "637it [00:02, 213.98it/s]\n",
      "1145it [00:05, 196.60it/s]\n",
      "578it [00:03, 186.87it/s]\n",
      "872it [00:04, 191.47it/s]\n",
      "1298it [00:06, 188.70it/s]\n",
      "885it [00:04, 208.01it/s]\n",
      "904it [00:04, 201.20it/s]\n",
      "807it [00:03, 210.05it/s]\n",
      "935it [00:04, 201.10it/s]\n",
      "1018it [00:04, 207.54it/s]\n",
      "1080it [00:05, 213.51it/s]\n",
      "1050it [00:05, 193.70it/s]\n",
      "1199it [00:06, 193.41it/s]\n",
      "728it [00:03, 208.19it/s]\n",
      "601it [00:03, 200.00it/s]\n",
      "550it [00:02, 195.57it/s]\n",
      "832it [00:04, 206.35it/s]\n"
     ]
    }
   ],
   "source": [
    "for v in vids:\n",
    "    vbe = VideoBoardExtractor(video_fn=v)\n",
    "    vbe.load_videocap()\n",
    "    vbe.process_video(-1, stop_on_first_board=True)\n",
    "    video_id = v.split('/')[-1].strip('.mp4')\n",
    "    plt.imsave(f'temp/{video_id}_example_frame.png', vbe.this_frame_img)"
   ]
  }
 ],
 "metadata": {
  "kernelspec": {
   "display_name": "chessbot",
   "language": "python",
   "name": "chessbot"
  },
  "language_info": {
   "codemirror_mode": {
    "name": "ipython",
    "version": 3
   },
   "file_extension": ".py",
   "mimetype": "text/x-python",
   "name": "python",
   "nbconvert_exporter": "python",
   "pygments_lexer": "ipython3",
   "version": "3.7.11"
  }
 },
 "nbformat": 4,
 "nbformat_minor": 5
}

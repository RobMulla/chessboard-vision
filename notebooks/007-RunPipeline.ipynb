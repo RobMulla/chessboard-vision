{
 "cells": [
  {
   "cell_type": "markdown",
   "id": "f3b96ab6-71cc-47f9-b577-6670974e526a",
   "metadata": {},
   "source": [
    "# Run the Pipeline On a Video"
   ]
  },
  {
   "cell_type": "code",
   "execution_count": 1,
   "id": "1b59142b-40bd-4c3c-8469-2698b78e735a",
   "metadata": {},
   "outputs": [],
   "source": [
    "%load_ext autoreload\n",
    "%autoreload 2\n",
    "%matplotlib inline\n",
    "%load_ext lab_black"
   ]
  },
  {
   "cell_type": "code",
   "execution_count": 2,
   "id": "ab5d8fe8-0715-4749-86b7-b6da958f09b2",
   "metadata": {},
   "outputs": [],
   "source": [
    "import pandas as pd\n",
    "import numpy as np\n",
    "import sys\n",
    "\n",
    "sys.path.append(\"../src/\")\n",
    "import chess\n",
    "from chess import svg\n",
    "\n",
    "# from video_pull import pull_video\n",
    "from tqdm import tqdm\n",
    "\n",
    "import matplotlib.pylab as plt\n",
    "import cv2\n",
    "from cairosvg import svg2png\n",
    "from utils import get_uci, get_fen_df\n",
    "from viz import plot_frame_results\n",
    "from fens_to_board import fens_to_board"
   ]
  },
  {
   "cell_type": "code",
   "execution_count": 6,
   "id": "1cb5c6f6-4ce1-4d60-ae9b-415bcf6e8c49",
   "metadata": {},
   "outputs": [],
   "source": [
    "# df = pd.read_csv(\"../data/labels/QmmhE0frqcA.csv\")"
   ]
  },
  {
   "cell_type": "code",
   "execution_count": 7,
   "id": "3a07787f-8d65-41f6-8d81-e1bcc9e9704f",
   "metadata": {},
   "outputs": [],
   "source": [
    "# df.tail()"
   ]
  },
  {
   "cell_type": "code",
   "execution_count": 11,
   "id": "4b703814-97c1-4eed-85da-f51fdebb2eea",
   "metadata": {},
   "outputs": [],
   "source": [
    "# def flip_fen(fen):\n",
    "#     fields = fen.split(\" \")\n",
    "#     fields[0] = fields[0][::-1]\n",
    "#     flipped_fen = \" \".join(fields)\n",
    "#     return flipped_fen"
   ]
  },
  {
   "cell_type": "code",
   "execution_count": 9,
   "id": "15fc9e41-ae2a-4224-be18-0d9ee9eefe49",
   "metadata": {},
   "outputs": [],
   "source": [
    "# df[\"fen\"] = df[\"fen\"].apply(flip_fen)"
   ]
  },
  {
   "cell_type": "markdown",
   "id": "c79c4180-33c9-4eda-b4ee-857a407f1c2f",
   "metadata": {},
   "source": [
    "# Create Label Extractor Object"
   ]
  },
  {
   "cell_type": "code",
   "execution_count": 32,
   "id": "672edb0a-e8e2-4353-896a-190f070c43d2",
   "metadata": {},
   "outputs": [
    {
     "name": "stdout",
     "output_type": "stream",
     "text": [
      "\t Loading model '../tensorflow_chessbot/saved_models/frozen_graph.pb'\n",
      "\t Model restored.\n"
     ]
    },
    {
     "name": "stderr",
     "output_type": "stream",
     "text": [
      "16584it [07:56, 34.78it/s]"
     ]
    },
    {
     "name": "stdout",
     "output_type": "stream",
     "text": [
      "Couldn't find chessboard in image\n"
     ]
    },
    {
     "name": "stderr",
     "output_type": "stream",
     "text": [
      "\n"
     ]
    }
   ],
   "source": [
    "from label_extract import VideoBoardExtractor\n",
    "\n",
    "vbe = VideoBoardExtractor(\n",
    "    \"../data/CoffeeChess/QmmhE0frqcA.mp4\",\n",
    "    gt_board_loc=[10, 405, 445, 835],\n",
    "    predict_fen=True,\n",
    "    store_gt_boards=True,\n",
    "    store_masks=True,\n",
    ")\n",
    "\n",
    "vbe.load_videocap()\n",
    "# vbe.process_video(30 * 60 * 1)\n",
    "vbe.process_video(-1)"
   ]
  },
  {
   "cell_type": "code",
   "execution_count": 33,
   "id": "4f8f0f75-69e5-48a3-81a5-fe990bd00344",
   "metadata": {},
   "outputs": [],
   "source": [
    "fen_df = get_fen_df(vbe)"
   ]
  },
  {
   "cell_type": "code",
   "execution_count": null,
   "id": "e9903523-8a44-402a-b40e-779f5c6bbe58",
   "metadata": {},
   "outputs": [],
   "source": [
    "for frame in fen_df[\"frame\"].unique():\n",
    "    plot_frame_results(vbe, frame)\n",
    "    plt.show()"
   ]
  },
  {
   "cell_type": "markdown",
   "id": "cd042e54-3521-4873-a0d1-65c9822c4a2d",
   "metadata": {},
   "source": [
    "# Loop Through FENs and Recreate Game"
   ]
  },
  {
   "cell_type": "code",
   "execution_count": 44,
   "id": "f0fe6706-dda5-4618-8832-c9e471b7d7c9",
   "metadata": {},
   "outputs": [],
   "source": [
    "# fen_df"
   ]
  },
  {
   "cell_type": "code",
   "execution_count": 37,
   "id": "089ef1f9-6ff4-40ec-8e0d-b599244384eb",
   "metadata": {},
   "outputs": [],
   "source": [
    "fen_df = get_fen_df(vbe, 8)"
   ]
  },
  {
   "cell_type": "code",
   "execution_count": 38,
   "id": "33d3b598-eb9b-4152-b528-fe5cf457b41f",
   "metadata": {},
   "outputs": [],
   "source": [
    "fen_df2, board = fens_to_board(fen_df)"
   ]
  },
  {
   "cell_type": "code",
   "execution_count": 45,
   "id": "634acd14-ea3e-4a98-9a70-9010dc711d72",
   "metadata": {},
   "outputs": [],
   "source": [
    "# board.move_stack"
   ]
  },
  {
   "cell_type": "code",
   "execution_count": 213,
   "id": "80c5a253-84bf-4bcb-81c4-5128aa6308ca",
   "metadata": {},
   "outputs": [],
   "source": [
    "last_fen = \"rnbqkbnr/pppppppp/8/8/8/8/PPPPPPPP/RNBQKBNR\"\n",
    "fen_df[\"confirmed_move\"] = False\n",
    "board = chess.Board(last_fen)\n",
    "board.set_castling_fen(\"KQkq\")\n",
    "move_count = 0\n",
    "for i, d in fen_df.iterrows():\n",
    "    fen = d[\"fen\"]\n",
    "    frame = d[\"frame\"]\n",
    "    if last_fen == fen:\n",
    "        continue\n",
    "    new_board = chess.Board(fen)\n",
    "    if move_count % 2 == 0:\n",
    "        who_moved = \"w\"\n",
    "        not_moved = \"b\"\n",
    "    else:\n",
    "        who_moved = \"b\"\n",
    "        not_moved = \"w\"\n",
    "\n",
    "    move = get_uci(board, new_board, who_moved)\n",
    "    try:\n",
    "        # if True:\n",
    "        board.push_san(move)\n",
    "        last_fen = fen\n",
    "        move_count += 1\n",
    "    except Exception as e:\n",
    "        try:\n",
    "            move = get_uci(board, new_board, not_moved)\n",
    "            board.push_san(move)\n",
    "            last_fen = fen\n",
    "            move_count += 1\n",
    "        except:\n",
    "            print(f\"failed move {move_count} with exception {e} frame {frame}\")\n",
    "            print(fen, move)\n",
    "            pass\n",
    "            break\n",
    "    fen_df.loc[i, \"confirmed_move\"] = True\n",
    "    fen_df.loc[i, \"move_uci\"] = move\n",
    "    # break\n",
    "\n",
    "# board1 = chess.Board(fen_df[\"fen\"].values[0])\n",
    "# board2 = chess.Board(fen_df[\"fen\"].values[1])\n",
    "# move = get_uci(board0, board1, \"w\")\n",
    "\n",
    "# move2 = get_uci(board1, board2, \"b\")"
   ]
  },
  {
   "cell_type": "code",
   "execution_count": 230,
   "id": "cbae1923-729a-4b2a-96ea-bc1bc772b018",
   "metadata": {},
   "outputs": [],
   "source": [
    "fen_df2.to_csv(\"../data/labels/{video_id}.csv\", index=False)"
   ]
  }
 ],
 "metadata": {
  "kernelspec": {
   "display_name": "chessbot",
   "language": "python",
   "name": "chessbot"
  },
  "language_info": {
   "codemirror_mode": {
    "name": "ipython",
    "version": 3
   },
   "file_extension": ".py",
   "mimetype": "text/x-python",
   "name": "python",
   "nbconvert_exporter": "python",
   "pygments_lexer": "ipython3",
   "version": "3.7.11"
  }
 },
 "nbformat": 4,
 "nbformat_minor": 5
}

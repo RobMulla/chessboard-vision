{
 "cells": [
  {
   "cell_type": "markdown",
   "id": "2639a547-1672-4b06-98ba-141fd55e42e2",
   "metadata": {},
   "source": [
    "# Download Youtube Video of Chess Gameplay\n",
    "- This was too easy."
   ]
  },
  {
   "cell_type": "code",
   "execution_count": 7,
   "id": "c2ce9945-8d3b-4be1-a51c-4b158043430c",
   "metadata": {},
   "outputs": [],
   "source": [
    "from pytube import YouTube\n",
    "import pytube"
   ]
  },
  {
   "cell_type": "code",
   "execution_count": 6,
   "id": "e4a929ab-1636-4a9f-8388-f758e6d8d8ef",
   "metadata": {},
   "outputs": [],
   "source": [
    "yt = YouTube('http://www.youtube.com/watch?v=jtOekrlROk4') \\\n",
    "    .streams.get_highest_resolution() \\\n",
    "    .download()"
   ]
  }
 ],
 "metadata": {
  "kernelspec": {
   "display_name": "Python 3 (ipykernel)",
   "language": "python",
   "name": "python3"
  },
  "language_info": {
   "codemirror_mode": {
    "name": "ipython",
    "version": 3
   },
   "file_extension": ".py",
   "mimetype": "text/x-python",
   "name": "python",
   "nbconvert_exporter": "python",
   "pygments_lexer": "ipython3",
   "version": "3.8.12"
  }
 },
 "nbformat": 4,
 "nbformat_minor": 5
}
